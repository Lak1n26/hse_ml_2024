{
 "cells": [
  {
   "cell_type": "code",
   "execution_count": null,
   "metadata": {},
   "outputs": [],
   "source": [
    "import pandas as pd\n",
    "import numpy as np\n",
    "import requests as rq\n",
    "import time\n",
    "from bs4 import BeautifulSoup as bs\n",
    "from datetime import datetime, timedelta\n",
    "from IPython.display import clear_output\n",
    "import warnings\n",
    "\n",
    "import re\n",
    "import datetime\n",
    "from tqdm import tqdm\n",
    "from bs4 import BeautifulSoup\n",
    "from selenium import webdriver\n",
    "from dataclasses import dataclass\n",
    "\n",
    "import matplotlib.pyplot as plt\n",
    "import seaborn as sns\n",
    "\n",
    "warnings.filterwarnings(\"ignore\", category=FutureWarning)\n",
    "\n",
    "warnings.filterwarnings(\"ignore\")"
   ]
  },
  {
   "cell_type": "markdown",
   "metadata": {},
   "source": [
    "#  Сбор данных"
   ]
  },
  {
   "cell_type": "markdown",
   "metadata": {},
   "source": [
    "### Парсим с Ленты"
   ]
  },
  {
   "cell_type": "code",
   "execution_count": 108,
   "metadata": {},
   "outputs": [],
   "source": [
    "class lentaRu_parser:\n",
    "    def __init__(self):\n",
    "        pass\n",
    "\n",
    "    def _get_url(self, param_dict: dict) -> str:\n",
    "        \"\"\"\n",
    "        Возвращает URL для запроса json таблицы со статьями\n",
    "\n",
    "        url = 'https://lenta.ru/search/v2/process?'\\\n",
    "        + 'from=0&'\\                       # Смещение\n",
    "        + 'size=1000&'\\                    # Кол-во статей\n",
    "        + 'sort=2&'\\                       # Сортировка по дате (2), по релевантности (1)\n",
    "        + 'title_only=0&'\\                 # Точная фраза в заголовке\n",
    "        + 'domain=1&'\\                     # ??\n",
    "        + 'modified%2Cformat=yyyy-MM-dd&'\\ # Формат даты\n",
    "        + 'type=1&'\\                       # Материалы. Все материалы (0). Новость (1)\n",
    "        + 'bloc=4&'\\                       # Рубрика. Экономика (4). Все рубрики (0)\n",
    "        + 'modified%2Cfrom=2020-01-01&'\\\n",
    "        + 'modified%2Cto=2020-11-01&'\\\n",
    "        + 'query='                         # Поисковой запрос\n",
    "        \"\"\"\n",
    "        hasType = int(param_dict['type']) != 0\n",
    "        hasBloc = int(param_dict['bloc']) != 0\n",
    "\n",
    "        url = 'https://lenta.ru/search/v2/process?'\\\n",
    "        + 'from={}&'.format(param_dict['from'])\\\n",
    "        + 'size={}&'.format(param_dict['size'])\\\n",
    "        + 'sort={}&'.format(param_dict['sort'])\\\n",
    "        + 'title_only={}&'.format(param_dict['title_only'])\\\n",
    "        + 'domain={}&'.format(param_dict['domain'])\\\n",
    "        + 'modified%2Cformat=yyyy-MM-dd&'\\\n",
    "        + 'type={}&'.format(param_dict['type']) * hasType\\\n",
    "        + 'bloc={}&'.format(param_dict['bloc']) * hasBloc\\\n",
    "        + 'modified%2Cfrom={}&'.format(param_dict['dateFrom'])\\\n",
    "        + 'modified%2Cto={}&'.format(param_dict['dateTo'])\\\n",
    "        + 'query={}'.format(param_dict['query'])\n",
    "\n",
    "        return url\n",
    "\n",
    "\n",
    "    def _get_search_table(self, param_dict: dict) -> pd.DataFrame:\n",
    "        \"\"\"\n",
    "        Возвращает pd.DataFrame со списком статей\n",
    "        \"\"\"\n",
    "        url = self._get_url(param_dict)\n",
    "        r = rq.get(url)\n",
    "        search_table = pd.DataFrame(r.json()['matches'])\n",
    "\n",
    "        return search_table\n",
    "\n",
    "\n",
    "    def get_articles(self,\n",
    "                     param_dict,\n",
    "                     time_step = 37,\n",
    "                     save_every = 5,\n",
    "                     save_excel = True) -> pd.DataFrame:\n",
    "        \"\"\"\n",
    "        Функция для скачивания статей интервалами через каждые time_step дней\n",
    "        Делает сохранение таблицы через каждые save_every * time_step дней\n",
    "\n",
    "        param_dict: dict\n",
    "        ### Параметры запроса\n",
    "        ###### project - раздел поиска, например, rbcnews\n",
    "        ###### category - категория поиска, например, TopRbcRu_economics\n",
    "        ###### dateFrom - с даты\n",
    "        ###### dateTo - по дату\n",
    "        ###### offset - смещение поисковой выдачи\n",
    "        ###### limit - лимит статей, максимум 100\n",
    "        ###### query - поисковой запрос (ключевое слово), например, РБК\n",
    "\n",
    "        \"\"\"\n",
    "        param_copy = param_dict.copy()\n",
    "        time_step = timedelta(days=time_step)\n",
    "        dateFrom = datetime.strptime(param_copy['dateFrom'], '%Y-%m-%d')\n",
    "        dateTo = datetime.strptime(param_copy['dateTo'], '%Y-%m-%d')\n",
    "        if dateFrom > dateTo:\n",
    "            raise ValueError('dateFrom should be less than dateTo')\n",
    "\n",
    "        out = pd.DataFrame()\n",
    "        save_counter = 0\n",
    "\n",
    "        while dateFrom <= dateTo:\n",
    "            param_copy['dateTo'] = (dateFrom + time_step).strftime('%Y-%m-%d')\n",
    "            if dateFrom + time_step > dateTo:\n",
    "                param_copy['dateTo'] = dateTo.strftime('%Y-%m-%d')\n",
    "            print('Parsing articles from '\\\n",
    "                  + param_copy['dateFrom'] +  ' to ' + param_copy['dateTo'])\n",
    "            # out = out.append(self._get_search_table(param_copy), ignore_index=True)\n",
    "            out = pd.concat([out, self._get_search_table(param_copy)], axis=0)\n",
    "            dateFrom += time_step + timedelta(days=1)\n",
    "            param_copy['dateFrom'] = dateFrom.strftime('%Y-%m-%d')\n",
    "            save_counter += 1\n",
    "            if save_counter == save_every:\n",
    "                clear_output(wait=True)\n",
    "                out.to_csv(\"/tmp/checkpoint_table.csv\", index=False)\n",
    "                print('Checkpoint saved!')\n",
    "                save_counter = 0\n",
    "            time.sleep(5)\n",
    "\n",
    "        if save_excel:\n",
    "            out.to_csv(\"lenta_{}_{}.csv\".format(\n",
    "                param_dict['dateFrom'],\n",
    "                param_dict['dateTo']), index=False)\n",
    "        print('Finish')\n",
    "\n",
    "        return out"
   ]
  },
  {
   "cell_type": "code",
   "execution_count": 132,
   "metadata": {},
   "outputs": [
    {
     "name": "stdout",
     "output_type": "stream",
     "text": [
      "param_dict: {'query': '', 'from': '0', 'size': '500', 'dateFrom': '2024-10-07', 'dateTo': '2024-12-09', 'sort': '3', 'title_only': '0', 'type': '0', 'bloc': '0', 'domain': '1'}\n"
     ]
    }
   ],
   "source": [
    "# Задаем тут параметры\n",
    "query = ''\n",
    "offset = 0\n",
    "size = 500\n",
    "sort = \"3\"\n",
    "title_only = \"0\"\n",
    "domain = \"1\"\n",
    "material = \"0\"\n",
    "bloc = \"0\" # = topic = тематика новости\n",
    "dateFrom = '2024-10-07'\n",
    "dateTo = \"2024-12-09\"\n",
    "\n",
    "param_dict = {'query'     : query,\n",
    "              'from'      : str(offset),\n",
    "              'size'      : str(size),\n",
    "              'dateFrom'  : dateFrom,\n",
    "              'dateTo'    : dateTo,\n",
    "              'sort'      : sort,\n",
    "              'title_only': title_only,\n",
    "              'type'      : material,\n",
    "              'bloc'      : bloc,\n",
    "              'domain'    : domain}\n",
    "\n",
    "print(\"param_dict:\", param_dict)"
   ]
  },
  {
   "cell_type": "code",
   "execution_count": null,
   "metadata": {},
   "outputs": [
    {
     "name": "stdout",
     "output_type": "stream",
     "text": [
      "Checkpoint saved!\n",
      "Parsing articles from 2024-12-06 to 2024-12-06\n",
      "Parsing articles from 2024-12-07 to 2024-12-07\n",
      "Parsing articles from 2024-12-08 to 2024-12-08\n",
      "Parsing articles from 2024-12-09 to 2024-12-09\n",
      "Finish\n",
      "28074\n"
     ]
    }
   ],
   "source": [
    "parser = lentaRu_parser()\n",
    "\n",
    "tbl = parser.get_articles(param_dict=param_dict,\n",
    "                         time_step = 0,\n",
    "                         save_every = 10,\n",
    "                         save_excel = False)\n",
    "print(len(tbl.index))"
   ]
  },
  {
   "cell_type": "code",
   "execution_count": null,
   "metadata": {},
   "outputs": [],
   "source": [
    "# подключение прерывалось, поэтому делал сохранения (part1, part2, ...)\n",
    "# pd.concat([part1, part2, part3, part4, part5, tbl], axis=0).to_csv('lenta_daily_2024.csv', index=False)"
   ]
  },
  {
   "cell_type": "code",
   "execution_count": 4,
   "metadata": {},
   "outputs": [],
   "source": [
    "data_2023 = pd.read_csv('lenta_daily_2023.csv')\n",
    "data_2024 = pd.read_csv('lenta_daily_2024.csv')\n",
    "tbl = pd.concat([data_2023, data_2024], axis=0)"
   ]
  },
  {
   "cell_type": "code",
   "execution_count": 11,
   "metadata": {},
   "outputs": [
    {
     "data": {
      "text/plain": [
       "(295854, 17)"
      ]
     },
     "execution_count": 11,
     "metadata": {},
     "output_type": "execute_result"
    }
   ],
   "source": [
    "tbl.shape"
   ]
  },
  {
   "cell_type": "markdown",
   "metadata": {},
   "source": [
    "### Новости с РБК"
   ]
  },
  {
   "cell_type": "code",
   "execution_count": 6,
   "metadata": {},
   "outputs": [],
   "source": [
    "class rbc_parser:\n",
    "    def __init__(self):\n",
    "        pass\n",
    "    \n",
    "    \n",
    "    def _get_url(self, param_dict: dict) -> str:\n",
    "        \"\"\"\n",
    "        Возвращает URL для запроса json таблицы со статьями\n",
    "        \"\"\"\n",
    "        url = 'https://www.rbc.ru/search/ajax/?' +\\\n",
    "        'project={0}&'.format(param_dict['project']) +\\\n",
    "        'category={0}&'.format(param_dict['category']) +\\\n",
    "        'dateFrom={0}&'.format(param_dict['dateFrom']) +\\\n",
    "        'dateTo={0}&'.format(param_dict['dateTo']) +\\\n",
    "        'page={0}&'.format(param_dict['page']) +\\\n",
    "        'query={0}&'.format(param_dict['query']) +\\\n",
    "        'material={0}'.format(param_dict['material'])\n",
    "        \n",
    "        # 'offset={0}&'.format(param_dict['offset']) +\\\n",
    "        # 'limit={0}&'.format(param_dict['limit']) +\\\n",
    "        \n",
    "        return url\n",
    "    \n",
    "    \n",
    "    def _get_search_table(self, param_dict: dict,\n",
    "                          include_text: bool = True) -> pd.DataFrame:\n",
    "        \"\"\"\n",
    "        Возвращает pd.DataFrame со списком статей\n",
    "        \n",
    "        include_text: bool\n",
    "        ### Если True, статьи возвращаются с текстами\n",
    "        \"\"\"\n",
    "        url = self._get_url(param_dict)\n",
    "        r = rq.get(url)\n",
    "        search_table = pd.DataFrame(r.json()['items'])\n",
    "        if include_text and not search_table.empty:\n",
    "            get_text = lambda x: self._get_article_data(x['fronturl'])\n",
    "            search_table[['overview', 'text']] = search_table.apply(get_text,\n",
    "                                                                    axis=1).tolist()\n",
    "        \n",
    "        if 'publish_date_t' in search_table.columns:\n",
    "            search_table.sort_values('publish_date_t', ignore_index=True)\n",
    "            \n",
    "        return search_table\n",
    "    \n",
    "    \n",
    "    def _iterable_load_by_page(self, param_dict):\n",
    "        param_copy = param_dict.copy()\n",
    "        results = []\n",
    "        \n",
    "        result = self._get_search_table(param_copy)\n",
    "        results.append(result)\n",
    "        \n",
    "        while not result.empty:\n",
    "            param_copy['page'] = str(int(param_copy['page']) + 1)\n",
    "            result = self._get_search_table(param_copy)\n",
    "            results.append(result)\n",
    "            \n",
    "        results = pd.concat(results, axis=0, ignore_index=True)\n",
    "        \n",
    "        return results\n",
    "    \n",
    "    \n",
    "    def _get_article_data(self, url: str):\n",
    "        \"\"\"\n",
    "        Возвращает описание и текст статьи по ссылке\n",
    "        \"\"\"\n",
    "        r = rq.get(url)\n",
    "        soup = bs(r.text) # features=\"lxml\" чтобы не было warning\n",
    "        div_overview = soup.find('div', {'class': 'article__text__overview'})\n",
    "        if div_overview:\n",
    "            overview = div_overview.text.replace('<br />','\\n').strip()\n",
    "        else:\n",
    "            overview = None\n",
    "        p_text = soup.find_all('p')\n",
    "        if p_text:\n",
    "            text = ' '.join(map(lambda x:\n",
    "                                x.text.replace('<br />','\\n').strip(),\n",
    "                                p_text))\n",
    "        else:\n",
    "            text = None\n",
    "        \n",
    "        return overview, text \n",
    "    \n",
    "    def get_articles(self,\n",
    "                     param_dict,\n",
    "                     time_step = 1,\n",
    "                     save_every = 5,\n",
    "                     save_excel = True) -> pd.DataFrame:\n",
    "        \"\"\"\n",
    "        Функция для скачивания статей интервалами через каждые time_step дней\n",
    "        Делает сохранение таблицы через каждые save_every * time_step дней\n",
    "\n",
    "        param_dict: dict\n",
    "        ### Параметры запроса \n",
    "        ###### project - раздел поиска, например, rbcnews\n",
    "        ###### category - категория поиска, например, TopRbcRu_economics\n",
    "        ###### dateFrom - с даты\n",
    "        ###### dateTo - по дату\n",
    "        ###### query - поисковой запрос (ключевое слово), например, РБК\n",
    "        ###### page - смещение поисковой выдачи (с шагом 20)\n",
    "        \n",
    "        ###### Deprecated:\n",
    "        ###### offset - смещение поисковой выдачи\n",
    "        ###### limit - лимит статей, максимум 100\n",
    "        \"\"\"\n",
    "        param_copy = param_dict.copy()\n",
    "        time_step = timedelta(days=time_step)\n",
    "        dateFrom = datetime.strptime(param_copy['dateFrom'], '%d.%m.%Y')\n",
    "        dateTo = datetime.strptime(param_copy['dateTo'], '%d.%m.%Y')\n",
    "        if dateFrom > dateTo:\n",
    "            raise ValueError('dateFrom should be less than dateTo')\n",
    "        \n",
    "        out = pd.DataFrame()\n",
    "        save_counter = 0\n",
    "\n",
    "        while dateFrom <= dateTo:\n",
    "            param_copy['dateTo'] = (dateFrom + time_step).strftime(\"%d.%m.%Y\")\n",
    "            if dateFrom + time_step > dateTo:\n",
    "                param_copy['dateTo'] = dateTo.strftime(\"%d.%m.%Y\")\n",
    "            print('Parsing articles from ' + param_copy['dateFrom'] +  ' to ' + param_copy['dateTo'])\n",
    "            out = pd.concat([out, self._iterable_load_by_page(param_copy)], axis=0, ignore_index=True)\n",
    "            dateFrom += time_step + timedelta(days=1)\n",
    "            param_copy['dateFrom'] = dateFrom.strftime(\"%d.%m.%Y\")\n",
    "            save_counter += 1\n",
    "            if save_counter == save_every:\n",
    "                clear_output(wait=True)\n",
    "                out.to_csv(\"/tmp/checkpoint_table.csv\", index=False)\n",
    "                print('Checkpoint saved!')\n",
    "                save_counter = 0\n",
    "            time.sleep(5)\n",
    "        if save_excel:\n",
    "            out.to_csv(\"rbc_{}_{}.csv\".format(\n",
    "                param_dict['dateFrom'],\n",
    "                param_dict['dateTo']), index=False)\n",
    "        print('Finish')\n",
    "        \n",
    "        return out"
   ]
  },
  {
   "cell_type": "code",
   "execution_count": null,
   "metadata": {},
   "outputs": [],
   "source": [
    "query = 'РБК'\n",
    "project = \"rbcnews\"\n",
    "category = \"TopRbcRu_economics\"\n",
    "material = \"\"\n",
    "dateFrom = '2023-05-01'\n",
    "dateTo = \"2024-12-11\"\n",
    "page = 0\n",
    "\n",
    "rbk_param_dict = {'query'   : query, \n",
    "                  'project' : project,\n",
    "                  'category': category,\n",
    "                  'dateFrom': datetime.\n",
    "                  strptime(dateFrom, '%Y-%m-%d').\n",
    "                  strftime('%d.%m.%Y'),\n",
    "                  'dateTo'  : datetime.\n",
    "                  strptime(dateTo, '%Y-%m-%d').\n",
    "                  strftime('%d.%m.%Y'),\n",
    "                  'page'   : str(page),\n",
    "                  'material': material}"
   ]
  },
  {
   "cell_type": "code",
   "execution_count": 8,
   "metadata": {},
   "outputs": [
    {
     "name": "stdout",
     "output_type": "stream",
     "text": [
      "Checkpoint saved!\n",
      "Parsing articles from 11.05.2023 to 20.05.2023\n"
     ]
    },
    {
     "ename": "KeyboardInterrupt",
     "evalue": "",
     "output_type": "error",
     "traceback": [
      "\u001b[0;31m---------------------------------------------------------------------------\u001b[0m",
      "\u001b[0;31mKeyboardInterrupt\u001b[0m                         Traceback (most recent call last)",
      "Cell \u001b[0;32mIn[8], line 2\u001b[0m\n\u001b[1;32m      1\u001b[0m parser \u001b[38;5;241m=\u001b[39m rbc_parser()\n\u001b[0;32m----> 2\u001b[0m table \u001b[38;5;241m=\u001b[39m \u001b[43mparser\u001b[49m\u001b[38;5;241;43m.\u001b[39;49m\u001b[43mget_articles\u001b[49m\u001b[43m(\u001b[49m\u001b[43mparam_dict\u001b[49m\u001b[38;5;241;43m=\u001b[39;49m\u001b[43mrbk_param_dict\u001b[49m\u001b[43m,\u001b[49m\n\u001b[1;32m      3\u001b[0m \u001b[43m                             \u001b[49m\u001b[43mtime_step\u001b[49m\u001b[43m \u001b[49m\u001b[38;5;241;43m=\u001b[39;49m\u001b[43m \u001b[49m\u001b[38;5;241;43m9\u001b[39;49m\u001b[43m,\u001b[49m\u001b[43m \u001b[49m\u001b[38;5;66;43;03m# Шаг - 7 дней, можно больше,\u001b[39;49;00m\n\u001b[1;32m      4\u001b[0m \u001b[43m                                            \u001b[49m\u001b[38;5;66;43;03m# но есть риск отсечения статей в неделях, гдестатей больше 100\u001b[39;49;00m\n\u001b[1;32m      5\u001b[0m \u001b[43m                             \u001b[49m\u001b[43msave_every\u001b[49m\u001b[43m \u001b[49m\u001b[38;5;241;43m=\u001b[39;49m\u001b[43m \u001b[49m\u001b[38;5;241;43m1\u001b[39;49m\u001b[43m,\u001b[49m\u001b[43m \u001b[49m\u001b[38;5;66;43;03m# Сохранять чекпойнт каждые 5 шагов\u001b[39;49;00m\n\u001b[1;32m      6\u001b[0m \u001b[43m                             \u001b[49m\u001b[43msave_excel\u001b[49m\u001b[43m \u001b[49m\u001b[38;5;241;43m=\u001b[39;49m\u001b[43m \u001b[49m\u001b[38;5;28;43;01mFalse\u001b[39;49;00m\u001b[43m)\u001b[49m \u001b[38;5;66;03m# Сохранить итоговый файл\u001b[39;00m\n\u001b[1;32m      7\u001b[0m \u001b[38;5;28mprint\u001b[39m(\u001b[38;5;28mlen\u001b[39m(table))\n\u001b[1;32m      8\u001b[0m table\u001b[38;5;241m.\u001b[39mhead()\n",
      "Cell \u001b[0;32mIn[6], line 122\u001b[0m, in \u001b[0;36mrbc_parser.get_articles\u001b[0;34m(self, param_dict, time_step, save_every, save_excel)\u001b[0m\n\u001b[1;32m    120\u001b[0m     param_copy[\u001b[38;5;124m'\u001b[39m\u001b[38;5;124mdateTo\u001b[39m\u001b[38;5;124m'\u001b[39m] \u001b[38;5;241m=\u001b[39m dateTo\u001b[38;5;241m.\u001b[39mstrftime(\u001b[38;5;124m\"\u001b[39m\u001b[38;5;132;01m%d\u001b[39;00m\u001b[38;5;124m.\u001b[39m\u001b[38;5;124m%\u001b[39m\u001b[38;5;124mm.\u001b[39m\u001b[38;5;124m%\u001b[39m\u001b[38;5;124mY\u001b[39m\u001b[38;5;124m\"\u001b[39m)\n\u001b[1;32m    121\u001b[0m \u001b[38;5;28mprint\u001b[39m(\u001b[38;5;124m'\u001b[39m\u001b[38;5;124mParsing articles from \u001b[39m\u001b[38;5;124m'\u001b[39m \u001b[38;5;241m+\u001b[39m param_copy[\u001b[38;5;124m'\u001b[39m\u001b[38;5;124mdateFrom\u001b[39m\u001b[38;5;124m'\u001b[39m] \u001b[38;5;241m+\u001b[39m  \u001b[38;5;124m'\u001b[39m\u001b[38;5;124m to \u001b[39m\u001b[38;5;124m'\u001b[39m \u001b[38;5;241m+\u001b[39m param_copy[\u001b[38;5;124m'\u001b[39m\u001b[38;5;124mdateTo\u001b[39m\u001b[38;5;124m'\u001b[39m])\n\u001b[0;32m--> 122\u001b[0m out \u001b[38;5;241m=\u001b[39m pd\u001b[38;5;241m.\u001b[39mconcat([out, \u001b[38;5;28;43mself\u001b[39;49m\u001b[38;5;241;43m.\u001b[39;49m\u001b[43m_iterable_load_by_page\u001b[49m\u001b[43m(\u001b[49m\u001b[43mparam_copy\u001b[49m\u001b[43m)\u001b[49m], axis\u001b[38;5;241m=\u001b[39m\u001b[38;5;241m0\u001b[39m, ignore_index\u001b[38;5;241m=\u001b[39m\u001b[38;5;28;01mTrue\u001b[39;00m)\n\u001b[1;32m    123\u001b[0m dateFrom \u001b[38;5;241m+\u001b[39m\u001b[38;5;241m=\u001b[39m time_step \u001b[38;5;241m+\u001b[39m timedelta(days\u001b[38;5;241m=\u001b[39m\u001b[38;5;241m1\u001b[39m)\n\u001b[1;32m    124\u001b[0m param_copy[\u001b[38;5;124m'\u001b[39m\u001b[38;5;124mdateFrom\u001b[39m\u001b[38;5;124m'\u001b[39m] \u001b[38;5;241m=\u001b[39m dateFrom\u001b[38;5;241m.\u001b[39mstrftime(\u001b[38;5;124m\"\u001b[39m\u001b[38;5;132;01m%d\u001b[39;00m\u001b[38;5;124m.\u001b[39m\u001b[38;5;124m%\u001b[39m\u001b[38;5;124mm.\u001b[39m\u001b[38;5;124m%\u001b[39m\u001b[38;5;124mY\u001b[39m\u001b[38;5;124m\"\u001b[39m)\n",
      "Cell \u001b[0;32mIn[6], line 56\u001b[0m, in \u001b[0;36mrbc_parser._iterable_load_by_page\u001b[0;34m(self, param_dict)\u001b[0m\n\u001b[1;32m     54\u001b[0m \u001b[38;5;28;01mwhile\u001b[39;00m \u001b[38;5;129;01mnot\u001b[39;00m result\u001b[38;5;241m.\u001b[39mempty:\n\u001b[1;32m     55\u001b[0m     param_copy[\u001b[38;5;124m'\u001b[39m\u001b[38;5;124mpage\u001b[39m\u001b[38;5;124m'\u001b[39m] \u001b[38;5;241m=\u001b[39m \u001b[38;5;28mstr\u001b[39m(\u001b[38;5;28mint\u001b[39m(param_copy[\u001b[38;5;124m'\u001b[39m\u001b[38;5;124mpage\u001b[39m\u001b[38;5;124m'\u001b[39m]) \u001b[38;5;241m+\u001b[39m \u001b[38;5;241m1\u001b[39m)\n\u001b[0;32m---> 56\u001b[0m     result \u001b[38;5;241m=\u001b[39m \u001b[38;5;28;43mself\u001b[39;49m\u001b[38;5;241;43m.\u001b[39;49m\u001b[43m_get_search_table\u001b[49m\u001b[43m(\u001b[49m\u001b[43mparam_copy\u001b[49m\u001b[43m)\u001b[49m\n\u001b[1;32m     57\u001b[0m     results\u001b[38;5;241m.\u001b[39mappend(result)\n\u001b[1;32m     59\u001b[0m results \u001b[38;5;241m=\u001b[39m pd\u001b[38;5;241m.\u001b[39mconcat(results, axis\u001b[38;5;241m=\u001b[39m\u001b[38;5;241m0\u001b[39m, ignore_index\u001b[38;5;241m=\u001b[39m\u001b[38;5;28;01mTrue\u001b[39;00m)\n",
      "Cell \u001b[0;32mIn[6], line 38\u001b[0m, in \u001b[0;36mrbc_parser._get_search_table\u001b[0;34m(self, param_dict, include_text)\u001b[0m\n\u001b[1;32m     36\u001b[0m \u001b[38;5;28;01mif\u001b[39;00m include_text \u001b[38;5;129;01mand\u001b[39;00m \u001b[38;5;129;01mnot\u001b[39;00m search_table\u001b[38;5;241m.\u001b[39mempty:\n\u001b[1;32m     37\u001b[0m     get_text \u001b[38;5;241m=\u001b[39m \u001b[38;5;28;01mlambda\u001b[39;00m x: \u001b[38;5;28mself\u001b[39m\u001b[38;5;241m.\u001b[39m_get_article_data(x[\u001b[38;5;124m'\u001b[39m\u001b[38;5;124mfronturl\u001b[39m\u001b[38;5;124m'\u001b[39m])\n\u001b[0;32m---> 38\u001b[0m     search_table[[\u001b[38;5;124m'\u001b[39m\u001b[38;5;124moverview\u001b[39m\u001b[38;5;124m'\u001b[39m, \u001b[38;5;124m'\u001b[39m\u001b[38;5;124mtext\u001b[39m\u001b[38;5;124m'\u001b[39m]] \u001b[38;5;241m=\u001b[39m \u001b[43msearch_table\u001b[49m\u001b[38;5;241;43m.\u001b[39;49m\u001b[43mapply\u001b[49m\u001b[43m(\u001b[49m\u001b[43mget_text\u001b[49m\u001b[43m,\u001b[49m\n\u001b[1;32m     39\u001b[0m \u001b[43m                                                            \u001b[49m\u001b[43maxis\u001b[49m\u001b[38;5;241;43m=\u001b[39;49m\u001b[38;5;241;43m1\u001b[39;49m\u001b[43m)\u001b[49m\u001b[38;5;241m.\u001b[39mtolist()\n\u001b[1;32m     41\u001b[0m \u001b[38;5;28;01mif\u001b[39;00m \u001b[38;5;124m'\u001b[39m\u001b[38;5;124mpublish_date_t\u001b[39m\u001b[38;5;124m'\u001b[39m \u001b[38;5;129;01min\u001b[39;00m search_table\u001b[38;5;241m.\u001b[39mcolumns:\n\u001b[1;32m     42\u001b[0m     search_table\u001b[38;5;241m.\u001b[39msort_values(\u001b[38;5;124m'\u001b[39m\u001b[38;5;124mpublish_date_t\u001b[39m\u001b[38;5;124m'\u001b[39m, ignore_index\u001b[38;5;241m=\u001b[39m\u001b[38;5;28;01mTrue\u001b[39;00m)\n",
      "File \u001b[0;32m/Library/Frameworks/Python.framework/Versions/3.13/lib/python3.13/site-packages/pandas/core/frame.py:10374\u001b[0m, in \u001b[0;36mDataFrame.apply\u001b[0;34m(self, func, axis, raw, result_type, args, by_row, engine, engine_kwargs, **kwargs)\u001b[0m\n\u001b[1;32m  10360\u001b[0m \u001b[38;5;28;01mfrom\u001b[39;00m \u001b[38;5;21;01mpandas\u001b[39;00m\u001b[38;5;21;01m.\u001b[39;00m\u001b[38;5;21;01mcore\u001b[39;00m\u001b[38;5;21;01m.\u001b[39;00m\u001b[38;5;21;01mapply\u001b[39;00m \u001b[38;5;28;01mimport\u001b[39;00m frame_apply\n\u001b[1;32m  10362\u001b[0m op \u001b[38;5;241m=\u001b[39m frame_apply(\n\u001b[1;32m  10363\u001b[0m     \u001b[38;5;28mself\u001b[39m,\n\u001b[1;32m  10364\u001b[0m     func\u001b[38;5;241m=\u001b[39mfunc,\n\u001b[0;32m   (...)\u001b[0m\n\u001b[1;32m  10372\u001b[0m     kwargs\u001b[38;5;241m=\u001b[39mkwargs,\n\u001b[1;32m  10373\u001b[0m )\n\u001b[0;32m> 10374\u001b[0m \u001b[38;5;28;01mreturn\u001b[39;00m \u001b[43mop\u001b[49m\u001b[38;5;241;43m.\u001b[39;49m\u001b[43mapply\u001b[49m\u001b[43m(\u001b[49m\u001b[43m)\u001b[49m\u001b[38;5;241m.\u001b[39m__finalize__(\u001b[38;5;28mself\u001b[39m, method\u001b[38;5;241m=\u001b[39m\u001b[38;5;124m\"\u001b[39m\u001b[38;5;124mapply\u001b[39m\u001b[38;5;124m\"\u001b[39m)\n",
      "File \u001b[0;32m/Library/Frameworks/Python.framework/Versions/3.13/lib/python3.13/site-packages/pandas/core/apply.py:916\u001b[0m, in \u001b[0;36mFrameApply.apply\u001b[0;34m(self)\u001b[0m\n\u001b[1;32m    913\u001b[0m \u001b[38;5;28;01melif\u001b[39;00m \u001b[38;5;28mself\u001b[39m\u001b[38;5;241m.\u001b[39mraw:\n\u001b[1;32m    914\u001b[0m     \u001b[38;5;28;01mreturn\u001b[39;00m \u001b[38;5;28mself\u001b[39m\u001b[38;5;241m.\u001b[39mapply_raw(engine\u001b[38;5;241m=\u001b[39m\u001b[38;5;28mself\u001b[39m\u001b[38;5;241m.\u001b[39mengine, engine_kwargs\u001b[38;5;241m=\u001b[39m\u001b[38;5;28mself\u001b[39m\u001b[38;5;241m.\u001b[39mengine_kwargs)\n\u001b[0;32m--> 916\u001b[0m \u001b[38;5;28;01mreturn\u001b[39;00m \u001b[38;5;28;43mself\u001b[39;49m\u001b[38;5;241;43m.\u001b[39;49m\u001b[43mapply_standard\u001b[49m\u001b[43m(\u001b[49m\u001b[43m)\u001b[49m\n",
      "File \u001b[0;32m/Library/Frameworks/Python.framework/Versions/3.13/lib/python3.13/site-packages/pandas/core/apply.py:1063\u001b[0m, in \u001b[0;36mFrameApply.apply_standard\u001b[0;34m(self)\u001b[0m\n\u001b[1;32m   1061\u001b[0m \u001b[38;5;28;01mdef\u001b[39;00m \u001b[38;5;21mapply_standard\u001b[39m(\u001b[38;5;28mself\u001b[39m):\n\u001b[1;32m   1062\u001b[0m     \u001b[38;5;28;01mif\u001b[39;00m \u001b[38;5;28mself\u001b[39m\u001b[38;5;241m.\u001b[39mengine \u001b[38;5;241m==\u001b[39m \u001b[38;5;124m\"\u001b[39m\u001b[38;5;124mpython\u001b[39m\u001b[38;5;124m\"\u001b[39m:\n\u001b[0;32m-> 1063\u001b[0m         results, res_index \u001b[38;5;241m=\u001b[39m \u001b[38;5;28;43mself\u001b[39;49m\u001b[38;5;241;43m.\u001b[39;49m\u001b[43mapply_series_generator\u001b[49m\u001b[43m(\u001b[49m\u001b[43m)\u001b[49m\n\u001b[1;32m   1064\u001b[0m     \u001b[38;5;28;01melse\u001b[39;00m:\n\u001b[1;32m   1065\u001b[0m         results, res_index \u001b[38;5;241m=\u001b[39m \u001b[38;5;28mself\u001b[39m\u001b[38;5;241m.\u001b[39mapply_series_numba()\n",
      "File \u001b[0;32m/Library/Frameworks/Python.framework/Versions/3.13/lib/python3.13/site-packages/pandas/core/apply.py:1081\u001b[0m, in \u001b[0;36mFrameApply.apply_series_generator\u001b[0;34m(self)\u001b[0m\n\u001b[1;32m   1078\u001b[0m \u001b[38;5;28;01mwith\u001b[39;00m option_context(\u001b[38;5;124m\"\u001b[39m\u001b[38;5;124mmode.chained_assignment\u001b[39m\u001b[38;5;124m\"\u001b[39m, \u001b[38;5;28;01mNone\u001b[39;00m):\n\u001b[1;32m   1079\u001b[0m     \u001b[38;5;28;01mfor\u001b[39;00m i, v \u001b[38;5;129;01min\u001b[39;00m \u001b[38;5;28menumerate\u001b[39m(series_gen):\n\u001b[1;32m   1080\u001b[0m         \u001b[38;5;66;03m# ignore SettingWithCopy here in case the user mutates\u001b[39;00m\n\u001b[0;32m-> 1081\u001b[0m         results[i] \u001b[38;5;241m=\u001b[39m \u001b[38;5;28;43mself\u001b[39;49m\u001b[38;5;241;43m.\u001b[39;49m\u001b[43mfunc\u001b[49m\u001b[43m(\u001b[49m\u001b[43mv\u001b[49m\u001b[43m,\u001b[49m\u001b[43m \u001b[49m\u001b[38;5;241;43m*\u001b[39;49m\u001b[38;5;28;43mself\u001b[39;49m\u001b[38;5;241;43m.\u001b[39;49m\u001b[43margs\u001b[49m\u001b[43m,\u001b[49m\u001b[43m \u001b[49m\u001b[38;5;241;43m*\u001b[39;49m\u001b[38;5;241;43m*\u001b[39;49m\u001b[38;5;28;43mself\u001b[39;49m\u001b[38;5;241;43m.\u001b[39;49m\u001b[43mkwargs\u001b[49m\u001b[43m)\u001b[49m\n\u001b[1;32m   1082\u001b[0m         \u001b[38;5;28;01mif\u001b[39;00m \u001b[38;5;28misinstance\u001b[39m(results[i], ABCSeries):\n\u001b[1;32m   1083\u001b[0m             \u001b[38;5;66;03m# If we have a view on v, we need to make a copy because\u001b[39;00m\n\u001b[1;32m   1084\u001b[0m             \u001b[38;5;66;03m#  series_generator will swap out the underlying data\u001b[39;00m\n\u001b[1;32m   1085\u001b[0m             results[i] \u001b[38;5;241m=\u001b[39m results[i]\u001b[38;5;241m.\u001b[39mcopy(deep\u001b[38;5;241m=\u001b[39m\u001b[38;5;28;01mFalse\u001b[39;00m)\n",
      "Cell \u001b[0;32mIn[6], line 37\u001b[0m, in \u001b[0;36mrbc_parser._get_search_table.<locals>.<lambda>\u001b[0;34m(x)\u001b[0m\n\u001b[1;32m     35\u001b[0m search_table \u001b[38;5;241m=\u001b[39m pd\u001b[38;5;241m.\u001b[39mDataFrame(r\u001b[38;5;241m.\u001b[39mjson()[\u001b[38;5;124m'\u001b[39m\u001b[38;5;124mitems\u001b[39m\u001b[38;5;124m'\u001b[39m])\n\u001b[1;32m     36\u001b[0m \u001b[38;5;28;01mif\u001b[39;00m include_text \u001b[38;5;129;01mand\u001b[39;00m \u001b[38;5;129;01mnot\u001b[39;00m search_table\u001b[38;5;241m.\u001b[39mempty:\n\u001b[0;32m---> 37\u001b[0m     get_text \u001b[38;5;241m=\u001b[39m \u001b[38;5;28;01mlambda\u001b[39;00m x: \u001b[38;5;28;43mself\u001b[39;49m\u001b[38;5;241;43m.\u001b[39;49m\u001b[43m_get_article_data\u001b[49m\u001b[43m(\u001b[49m\u001b[43mx\u001b[49m\u001b[43m[\u001b[49m\u001b[38;5;124;43m'\u001b[39;49m\u001b[38;5;124;43mfronturl\u001b[39;49m\u001b[38;5;124;43m'\u001b[39;49m\u001b[43m]\u001b[49m\u001b[43m)\u001b[49m\n\u001b[1;32m     38\u001b[0m     search_table[[\u001b[38;5;124m'\u001b[39m\u001b[38;5;124moverview\u001b[39m\u001b[38;5;124m'\u001b[39m, \u001b[38;5;124m'\u001b[39m\u001b[38;5;124mtext\u001b[39m\u001b[38;5;124m'\u001b[39m]] \u001b[38;5;241m=\u001b[39m search_table\u001b[38;5;241m.\u001b[39mapply(get_text,\n\u001b[1;32m     39\u001b[0m                                                             axis\u001b[38;5;241m=\u001b[39m\u001b[38;5;241m1\u001b[39m)\u001b[38;5;241m.\u001b[39mtolist()\n\u001b[1;32m     41\u001b[0m \u001b[38;5;28;01mif\u001b[39;00m \u001b[38;5;124m'\u001b[39m\u001b[38;5;124mpublish_date_t\u001b[39m\u001b[38;5;124m'\u001b[39m \u001b[38;5;129;01min\u001b[39;00m search_table\u001b[38;5;241m.\u001b[39mcolumns:\n",
      "Cell \u001b[0;32mIn[6], line 68\u001b[0m, in \u001b[0;36mrbc_parser._get_article_data\u001b[0;34m(self, url)\u001b[0m\n\u001b[1;32m     64\u001b[0m \u001b[38;5;28;01mdef\u001b[39;00m \u001b[38;5;21m_get_article_data\u001b[39m(\u001b[38;5;28mself\u001b[39m, url: \u001b[38;5;28mstr\u001b[39m):\n\u001b[1;32m     65\u001b[0m \u001b[38;5;250m    \u001b[39m\u001b[38;5;124;03m\"\"\"\u001b[39;00m\n\u001b[1;32m     66\u001b[0m \u001b[38;5;124;03m    Возвращает описание и текст статьи по ссылке\u001b[39;00m\n\u001b[1;32m     67\u001b[0m \u001b[38;5;124;03m    \"\"\"\u001b[39;00m\n\u001b[0;32m---> 68\u001b[0m     r \u001b[38;5;241m=\u001b[39m \u001b[43mrq\u001b[49m\u001b[38;5;241;43m.\u001b[39;49m\u001b[43mget\u001b[49m\u001b[43m(\u001b[49m\u001b[43murl\u001b[49m\u001b[43m)\u001b[49m\n\u001b[1;32m     69\u001b[0m     soup \u001b[38;5;241m=\u001b[39m bs(r\u001b[38;5;241m.\u001b[39mtext) \u001b[38;5;66;03m# features=\"lxml\" чтобы не было warning\u001b[39;00m\n\u001b[1;32m     70\u001b[0m     div_overview \u001b[38;5;241m=\u001b[39m soup\u001b[38;5;241m.\u001b[39mfind(\u001b[38;5;124m'\u001b[39m\u001b[38;5;124mdiv\u001b[39m\u001b[38;5;124m'\u001b[39m, {\u001b[38;5;124m'\u001b[39m\u001b[38;5;124mclass\u001b[39m\u001b[38;5;124m'\u001b[39m: \u001b[38;5;124m'\u001b[39m\u001b[38;5;124marticle__text__overview\u001b[39m\u001b[38;5;124m'\u001b[39m})\n",
      "File \u001b[0;32m/Library/Frameworks/Python.framework/Versions/3.13/lib/python3.13/site-packages/requests/api.py:73\u001b[0m, in \u001b[0;36mget\u001b[0;34m(url, params, **kwargs)\u001b[0m\n\u001b[1;32m     62\u001b[0m \u001b[38;5;28;01mdef\u001b[39;00m \u001b[38;5;21mget\u001b[39m(url, params\u001b[38;5;241m=\u001b[39m\u001b[38;5;28;01mNone\u001b[39;00m, \u001b[38;5;241m*\u001b[39m\u001b[38;5;241m*\u001b[39mkwargs):\n\u001b[1;32m     63\u001b[0m \u001b[38;5;250m    \u001b[39m\u001b[38;5;124mr\u001b[39m\u001b[38;5;124;03m\"\"\"Sends a GET request.\u001b[39;00m\n\u001b[1;32m     64\u001b[0m \n\u001b[1;32m     65\u001b[0m \u001b[38;5;124;03m    :param url: URL for the new :class:`Request` object.\u001b[39;00m\n\u001b[0;32m   (...)\u001b[0m\n\u001b[1;32m     70\u001b[0m \u001b[38;5;124;03m    :rtype: requests.Response\u001b[39;00m\n\u001b[1;32m     71\u001b[0m \u001b[38;5;124;03m    \"\"\"\u001b[39;00m\n\u001b[0;32m---> 73\u001b[0m     \u001b[38;5;28;01mreturn\u001b[39;00m \u001b[43mrequest\u001b[49m\u001b[43m(\u001b[49m\u001b[38;5;124;43m\"\u001b[39;49m\u001b[38;5;124;43mget\u001b[39;49m\u001b[38;5;124;43m\"\u001b[39;49m\u001b[43m,\u001b[49m\u001b[43m \u001b[49m\u001b[43murl\u001b[49m\u001b[43m,\u001b[49m\u001b[43m \u001b[49m\u001b[43mparams\u001b[49m\u001b[38;5;241;43m=\u001b[39;49m\u001b[43mparams\u001b[49m\u001b[43m,\u001b[49m\u001b[43m \u001b[49m\u001b[38;5;241;43m*\u001b[39;49m\u001b[38;5;241;43m*\u001b[39;49m\u001b[43mkwargs\u001b[49m\u001b[43m)\u001b[49m\n",
      "File \u001b[0;32m/Library/Frameworks/Python.framework/Versions/3.13/lib/python3.13/site-packages/requests/api.py:59\u001b[0m, in \u001b[0;36mrequest\u001b[0;34m(method, url, **kwargs)\u001b[0m\n\u001b[1;32m     55\u001b[0m \u001b[38;5;66;03m# By using the 'with' statement we are sure the session is closed, thus we\u001b[39;00m\n\u001b[1;32m     56\u001b[0m \u001b[38;5;66;03m# avoid leaving sockets open which can trigger a ResourceWarning in some\u001b[39;00m\n\u001b[1;32m     57\u001b[0m \u001b[38;5;66;03m# cases, and look like a memory leak in others.\u001b[39;00m\n\u001b[1;32m     58\u001b[0m \u001b[38;5;28;01mwith\u001b[39;00m sessions\u001b[38;5;241m.\u001b[39mSession() \u001b[38;5;28;01mas\u001b[39;00m session:\n\u001b[0;32m---> 59\u001b[0m     \u001b[38;5;28;01mreturn\u001b[39;00m \u001b[43msession\u001b[49m\u001b[38;5;241;43m.\u001b[39;49m\u001b[43mrequest\u001b[49m\u001b[43m(\u001b[49m\u001b[43mmethod\u001b[49m\u001b[38;5;241;43m=\u001b[39;49m\u001b[43mmethod\u001b[49m\u001b[43m,\u001b[49m\u001b[43m \u001b[49m\u001b[43murl\u001b[49m\u001b[38;5;241;43m=\u001b[39;49m\u001b[43murl\u001b[49m\u001b[43m,\u001b[49m\u001b[43m \u001b[49m\u001b[38;5;241;43m*\u001b[39;49m\u001b[38;5;241;43m*\u001b[39;49m\u001b[43mkwargs\u001b[49m\u001b[43m)\u001b[49m\n",
      "File \u001b[0;32m/Library/Frameworks/Python.framework/Versions/3.13/lib/python3.13/site-packages/requests/sessions.py:589\u001b[0m, in \u001b[0;36mSession.request\u001b[0;34m(self, method, url, params, data, headers, cookies, files, auth, timeout, allow_redirects, proxies, hooks, stream, verify, cert, json)\u001b[0m\n\u001b[1;32m    584\u001b[0m send_kwargs \u001b[38;5;241m=\u001b[39m {\n\u001b[1;32m    585\u001b[0m     \u001b[38;5;124m\"\u001b[39m\u001b[38;5;124mtimeout\u001b[39m\u001b[38;5;124m\"\u001b[39m: timeout,\n\u001b[1;32m    586\u001b[0m     \u001b[38;5;124m\"\u001b[39m\u001b[38;5;124mallow_redirects\u001b[39m\u001b[38;5;124m\"\u001b[39m: allow_redirects,\n\u001b[1;32m    587\u001b[0m }\n\u001b[1;32m    588\u001b[0m send_kwargs\u001b[38;5;241m.\u001b[39mupdate(settings)\n\u001b[0;32m--> 589\u001b[0m resp \u001b[38;5;241m=\u001b[39m \u001b[38;5;28;43mself\u001b[39;49m\u001b[38;5;241;43m.\u001b[39;49m\u001b[43msend\u001b[49m\u001b[43m(\u001b[49m\u001b[43mprep\u001b[49m\u001b[43m,\u001b[49m\u001b[43m \u001b[49m\u001b[38;5;241;43m*\u001b[39;49m\u001b[38;5;241;43m*\u001b[39;49m\u001b[43msend_kwargs\u001b[49m\u001b[43m)\u001b[49m\n\u001b[1;32m    591\u001b[0m \u001b[38;5;28;01mreturn\u001b[39;00m resp\n",
      "File \u001b[0;32m/Library/Frameworks/Python.framework/Versions/3.13/lib/python3.13/site-packages/requests/sessions.py:703\u001b[0m, in \u001b[0;36mSession.send\u001b[0;34m(self, request, **kwargs)\u001b[0m\n\u001b[1;32m    700\u001b[0m start \u001b[38;5;241m=\u001b[39m preferred_clock()\n\u001b[1;32m    702\u001b[0m \u001b[38;5;66;03m# Send the request\u001b[39;00m\n\u001b[0;32m--> 703\u001b[0m r \u001b[38;5;241m=\u001b[39m \u001b[43madapter\u001b[49m\u001b[38;5;241;43m.\u001b[39;49m\u001b[43msend\u001b[49m\u001b[43m(\u001b[49m\u001b[43mrequest\u001b[49m\u001b[43m,\u001b[49m\u001b[43m \u001b[49m\u001b[38;5;241;43m*\u001b[39;49m\u001b[38;5;241;43m*\u001b[39;49m\u001b[43mkwargs\u001b[49m\u001b[43m)\u001b[49m\n\u001b[1;32m    705\u001b[0m \u001b[38;5;66;03m# Total elapsed time of the request (approximately)\u001b[39;00m\n\u001b[1;32m    706\u001b[0m elapsed \u001b[38;5;241m=\u001b[39m preferred_clock() \u001b[38;5;241m-\u001b[39m start\n",
      "File \u001b[0;32m/Library/Frameworks/Python.framework/Versions/3.13/lib/python3.13/site-packages/requests/adapters.py:667\u001b[0m, in \u001b[0;36mHTTPAdapter.send\u001b[0;34m(self, request, stream, timeout, verify, cert, proxies)\u001b[0m\n\u001b[1;32m    664\u001b[0m     timeout \u001b[38;5;241m=\u001b[39m TimeoutSauce(connect\u001b[38;5;241m=\u001b[39mtimeout, read\u001b[38;5;241m=\u001b[39mtimeout)\n\u001b[1;32m    666\u001b[0m \u001b[38;5;28;01mtry\u001b[39;00m:\n\u001b[0;32m--> 667\u001b[0m     resp \u001b[38;5;241m=\u001b[39m \u001b[43mconn\u001b[49m\u001b[38;5;241;43m.\u001b[39;49m\u001b[43murlopen\u001b[49m\u001b[43m(\u001b[49m\n\u001b[1;32m    668\u001b[0m \u001b[43m        \u001b[49m\u001b[43mmethod\u001b[49m\u001b[38;5;241;43m=\u001b[39;49m\u001b[43mrequest\u001b[49m\u001b[38;5;241;43m.\u001b[39;49m\u001b[43mmethod\u001b[49m\u001b[43m,\u001b[49m\n\u001b[1;32m    669\u001b[0m \u001b[43m        \u001b[49m\u001b[43murl\u001b[49m\u001b[38;5;241;43m=\u001b[39;49m\u001b[43murl\u001b[49m\u001b[43m,\u001b[49m\n\u001b[1;32m    670\u001b[0m \u001b[43m        \u001b[49m\u001b[43mbody\u001b[49m\u001b[38;5;241;43m=\u001b[39;49m\u001b[43mrequest\u001b[49m\u001b[38;5;241;43m.\u001b[39;49m\u001b[43mbody\u001b[49m\u001b[43m,\u001b[49m\n\u001b[1;32m    671\u001b[0m \u001b[43m        \u001b[49m\u001b[43mheaders\u001b[49m\u001b[38;5;241;43m=\u001b[39;49m\u001b[43mrequest\u001b[49m\u001b[38;5;241;43m.\u001b[39;49m\u001b[43mheaders\u001b[49m\u001b[43m,\u001b[49m\n\u001b[1;32m    672\u001b[0m \u001b[43m        \u001b[49m\u001b[43mredirect\u001b[49m\u001b[38;5;241;43m=\u001b[39;49m\u001b[38;5;28;43;01mFalse\u001b[39;49;00m\u001b[43m,\u001b[49m\n\u001b[1;32m    673\u001b[0m \u001b[43m        \u001b[49m\u001b[43massert_same_host\u001b[49m\u001b[38;5;241;43m=\u001b[39;49m\u001b[38;5;28;43;01mFalse\u001b[39;49;00m\u001b[43m,\u001b[49m\n\u001b[1;32m    674\u001b[0m \u001b[43m        \u001b[49m\u001b[43mpreload_content\u001b[49m\u001b[38;5;241;43m=\u001b[39;49m\u001b[38;5;28;43;01mFalse\u001b[39;49;00m\u001b[43m,\u001b[49m\n\u001b[1;32m    675\u001b[0m \u001b[43m        \u001b[49m\u001b[43mdecode_content\u001b[49m\u001b[38;5;241;43m=\u001b[39;49m\u001b[38;5;28;43;01mFalse\u001b[39;49;00m\u001b[43m,\u001b[49m\n\u001b[1;32m    676\u001b[0m \u001b[43m        \u001b[49m\u001b[43mretries\u001b[49m\u001b[38;5;241;43m=\u001b[39;49m\u001b[38;5;28;43mself\u001b[39;49m\u001b[38;5;241;43m.\u001b[39;49m\u001b[43mmax_retries\u001b[49m\u001b[43m,\u001b[49m\n\u001b[1;32m    677\u001b[0m \u001b[43m        \u001b[49m\u001b[43mtimeout\u001b[49m\u001b[38;5;241;43m=\u001b[39;49m\u001b[43mtimeout\u001b[49m\u001b[43m,\u001b[49m\n\u001b[1;32m    678\u001b[0m \u001b[43m        \u001b[49m\u001b[43mchunked\u001b[49m\u001b[38;5;241;43m=\u001b[39;49m\u001b[43mchunked\u001b[49m\u001b[43m,\u001b[49m\n\u001b[1;32m    679\u001b[0m \u001b[43m    \u001b[49m\u001b[43m)\u001b[49m\n\u001b[1;32m    681\u001b[0m \u001b[38;5;28;01mexcept\u001b[39;00m (ProtocolError, \u001b[38;5;167;01mOSError\u001b[39;00m) \u001b[38;5;28;01mas\u001b[39;00m err:\n\u001b[1;32m    682\u001b[0m     \u001b[38;5;28;01mraise\u001b[39;00m \u001b[38;5;167;01mConnectionError\u001b[39;00m(err, request\u001b[38;5;241m=\u001b[39mrequest)\n",
      "File \u001b[0;32m/Library/Frameworks/Python.framework/Versions/3.13/lib/python3.13/site-packages/urllib3/connectionpool.py:789\u001b[0m, in \u001b[0;36mHTTPConnectionPool.urlopen\u001b[0;34m(self, method, url, body, headers, retries, redirect, assert_same_host, timeout, pool_timeout, release_conn, chunked, body_pos, preload_content, decode_content, **response_kw)\u001b[0m\n\u001b[1;32m    786\u001b[0m response_conn \u001b[38;5;241m=\u001b[39m conn \u001b[38;5;28;01mif\u001b[39;00m \u001b[38;5;129;01mnot\u001b[39;00m release_conn \u001b[38;5;28;01melse\u001b[39;00m \u001b[38;5;28;01mNone\u001b[39;00m\n\u001b[1;32m    788\u001b[0m \u001b[38;5;66;03m# Make the request on the HTTPConnection object\u001b[39;00m\n\u001b[0;32m--> 789\u001b[0m response \u001b[38;5;241m=\u001b[39m \u001b[38;5;28;43mself\u001b[39;49m\u001b[38;5;241;43m.\u001b[39;49m\u001b[43m_make_request\u001b[49m\u001b[43m(\u001b[49m\n\u001b[1;32m    790\u001b[0m \u001b[43m    \u001b[49m\u001b[43mconn\u001b[49m\u001b[43m,\u001b[49m\n\u001b[1;32m    791\u001b[0m \u001b[43m    \u001b[49m\u001b[43mmethod\u001b[49m\u001b[43m,\u001b[49m\n\u001b[1;32m    792\u001b[0m \u001b[43m    \u001b[49m\u001b[43murl\u001b[49m\u001b[43m,\u001b[49m\n\u001b[1;32m    793\u001b[0m \u001b[43m    \u001b[49m\u001b[43mtimeout\u001b[49m\u001b[38;5;241;43m=\u001b[39;49m\u001b[43mtimeout_obj\u001b[49m\u001b[43m,\u001b[49m\n\u001b[1;32m    794\u001b[0m \u001b[43m    \u001b[49m\u001b[43mbody\u001b[49m\u001b[38;5;241;43m=\u001b[39;49m\u001b[43mbody\u001b[49m\u001b[43m,\u001b[49m\n\u001b[1;32m    795\u001b[0m \u001b[43m    \u001b[49m\u001b[43mheaders\u001b[49m\u001b[38;5;241;43m=\u001b[39;49m\u001b[43mheaders\u001b[49m\u001b[43m,\u001b[49m\n\u001b[1;32m    796\u001b[0m \u001b[43m    \u001b[49m\u001b[43mchunked\u001b[49m\u001b[38;5;241;43m=\u001b[39;49m\u001b[43mchunked\u001b[49m\u001b[43m,\u001b[49m\n\u001b[1;32m    797\u001b[0m \u001b[43m    \u001b[49m\u001b[43mretries\u001b[49m\u001b[38;5;241;43m=\u001b[39;49m\u001b[43mretries\u001b[49m\u001b[43m,\u001b[49m\n\u001b[1;32m    798\u001b[0m \u001b[43m    \u001b[49m\u001b[43mresponse_conn\u001b[49m\u001b[38;5;241;43m=\u001b[39;49m\u001b[43mresponse_conn\u001b[49m\u001b[43m,\u001b[49m\n\u001b[1;32m    799\u001b[0m \u001b[43m    \u001b[49m\u001b[43mpreload_content\u001b[49m\u001b[38;5;241;43m=\u001b[39;49m\u001b[43mpreload_content\u001b[49m\u001b[43m,\u001b[49m\n\u001b[1;32m    800\u001b[0m \u001b[43m    \u001b[49m\u001b[43mdecode_content\u001b[49m\u001b[38;5;241;43m=\u001b[39;49m\u001b[43mdecode_content\u001b[49m\u001b[43m,\u001b[49m\n\u001b[1;32m    801\u001b[0m \u001b[43m    \u001b[49m\u001b[38;5;241;43m*\u001b[39;49m\u001b[38;5;241;43m*\u001b[39;49m\u001b[43mresponse_kw\u001b[49m\u001b[43m,\u001b[49m\n\u001b[1;32m    802\u001b[0m \u001b[43m\u001b[49m\u001b[43m)\u001b[49m\n\u001b[1;32m    804\u001b[0m \u001b[38;5;66;03m# Everything went great!\u001b[39;00m\n\u001b[1;32m    805\u001b[0m clean_exit \u001b[38;5;241m=\u001b[39m \u001b[38;5;28;01mTrue\u001b[39;00m\n",
      "File \u001b[0;32m/Library/Frameworks/Python.framework/Versions/3.13/lib/python3.13/site-packages/urllib3/connectionpool.py:536\u001b[0m, in \u001b[0;36mHTTPConnectionPool._make_request\u001b[0;34m(self, conn, method, url, body, headers, retries, timeout, chunked, response_conn, preload_content, decode_content, enforce_content_length)\u001b[0m\n\u001b[1;32m    534\u001b[0m \u001b[38;5;66;03m# Receive the response from the server\u001b[39;00m\n\u001b[1;32m    535\u001b[0m \u001b[38;5;28;01mtry\u001b[39;00m:\n\u001b[0;32m--> 536\u001b[0m     response \u001b[38;5;241m=\u001b[39m \u001b[43mconn\u001b[49m\u001b[38;5;241;43m.\u001b[39;49m\u001b[43mgetresponse\u001b[49m\u001b[43m(\u001b[49m\u001b[43m)\u001b[49m\n\u001b[1;32m    537\u001b[0m \u001b[38;5;28;01mexcept\u001b[39;00m (BaseSSLError, \u001b[38;5;167;01mOSError\u001b[39;00m) \u001b[38;5;28;01mas\u001b[39;00m e:\n\u001b[1;32m    538\u001b[0m     \u001b[38;5;28mself\u001b[39m\u001b[38;5;241m.\u001b[39m_raise_timeout(err\u001b[38;5;241m=\u001b[39me, url\u001b[38;5;241m=\u001b[39murl, timeout_value\u001b[38;5;241m=\u001b[39mread_timeout)\n",
      "File \u001b[0;32m/Library/Frameworks/Python.framework/Versions/3.13/lib/python3.13/site-packages/urllib3/connection.py:507\u001b[0m, in \u001b[0;36mHTTPConnection.getresponse\u001b[0;34m(self)\u001b[0m\n\u001b[1;32m    504\u001b[0m \u001b[38;5;28;01mfrom\u001b[39;00m \u001b[38;5;21;01m.\u001b[39;00m\u001b[38;5;21;01mresponse\u001b[39;00m \u001b[38;5;28;01mimport\u001b[39;00m HTTPResponse\n\u001b[1;32m    506\u001b[0m \u001b[38;5;66;03m# Get the response from http.client.HTTPConnection\u001b[39;00m\n\u001b[0;32m--> 507\u001b[0m httplib_response \u001b[38;5;241m=\u001b[39m \u001b[38;5;28;43msuper\u001b[39;49m\u001b[43m(\u001b[49m\u001b[43m)\u001b[49m\u001b[38;5;241;43m.\u001b[39;49m\u001b[43mgetresponse\u001b[49m\u001b[43m(\u001b[49m\u001b[43m)\u001b[49m\n\u001b[1;32m    509\u001b[0m \u001b[38;5;28;01mtry\u001b[39;00m:\n\u001b[1;32m    510\u001b[0m     assert_header_parsing(httplib_response\u001b[38;5;241m.\u001b[39mmsg)\n",
      "File \u001b[0;32m/Library/Frameworks/Python.framework/Versions/3.13/lib/python3.13/http/client.py:1428\u001b[0m, in \u001b[0;36mHTTPConnection.getresponse\u001b[0;34m(self)\u001b[0m\n\u001b[1;32m   1426\u001b[0m \u001b[38;5;28;01mtry\u001b[39;00m:\n\u001b[1;32m   1427\u001b[0m     \u001b[38;5;28;01mtry\u001b[39;00m:\n\u001b[0;32m-> 1428\u001b[0m         \u001b[43mresponse\u001b[49m\u001b[38;5;241;43m.\u001b[39;49m\u001b[43mbegin\u001b[49m\u001b[43m(\u001b[49m\u001b[43m)\u001b[49m\n\u001b[1;32m   1429\u001b[0m     \u001b[38;5;28;01mexcept\u001b[39;00m \u001b[38;5;167;01mConnectionError\u001b[39;00m:\n\u001b[1;32m   1430\u001b[0m         \u001b[38;5;28mself\u001b[39m\u001b[38;5;241m.\u001b[39mclose()\n",
      "File \u001b[0;32m/Library/Frameworks/Python.framework/Versions/3.13/lib/python3.13/http/client.py:331\u001b[0m, in \u001b[0;36mHTTPResponse.begin\u001b[0;34m(self)\u001b[0m\n\u001b[1;32m    329\u001b[0m \u001b[38;5;66;03m# read until we get a non-100 response\u001b[39;00m\n\u001b[1;32m    330\u001b[0m \u001b[38;5;28;01mwhile\u001b[39;00m \u001b[38;5;28;01mTrue\u001b[39;00m:\n\u001b[0;32m--> 331\u001b[0m     version, status, reason \u001b[38;5;241m=\u001b[39m \u001b[38;5;28;43mself\u001b[39;49m\u001b[38;5;241;43m.\u001b[39;49m\u001b[43m_read_status\u001b[49m\u001b[43m(\u001b[49m\u001b[43m)\u001b[49m\n\u001b[1;32m    332\u001b[0m     \u001b[38;5;28;01mif\u001b[39;00m status \u001b[38;5;241m!=\u001b[39m CONTINUE:\n\u001b[1;32m    333\u001b[0m         \u001b[38;5;28;01mbreak\u001b[39;00m\n",
      "File \u001b[0;32m/Library/Frameworks/Python.framework/Versions/3.13/lib/python3.13/http/client.py:292\u001b[0m, in \u001b[0;36mHTTPResponse._read_status\u001b[0;34m(self)\u001b[0m\n\u001b[1;32m    291\u001b[0m \u001b[38;5;28;01mdef\u001b[39;00m \u001b[38;5;21m_read_status\u001b[39m(\u001b[38;5;28mself\u001b[39m):\n\u001b[0;32m--> 292\u001b[0m     line \u001b[38;5;241m=\u001b[39m \u001b[38;5;28mstr\u001b[39m(\u001b[38;5;28;43mself\u001b[39;49m\u001b[38;5;241;43m.\u001b[39;49m\u001b[43mfp\u001b[49m\u001b[38;5;241;43m.\u001b[39;49m\u001b[43mreadline\u001b[49m\u001b[43m(\u001b[49m\u001b[43m_MAXLINE\u001b[49m\u001b[43m \u001b[49m\u001b[38;5;241;43m+\u001b[39;49m\u001b[43m \u001b[49m\u001b[38;5;241;43m1\u001b[39;49m\u001b[43m)\u001b[49m, \u001b[38;5;124m\"\u001b[39m\u001b[38;5;124miso-8859-1\u001b[39m\u001b[38;5;124m\"\u001b[39m)\n\u001b[1;32m    293\u001b[0m     \u001b[38;5;28;01mif\u001b[39;00m \u001b[38;5;28mlen\u001b[39m(line) \u001b[38;5;241m>\u001b[39m _MAXLINE:\n\u001b[1;32m    294\u001b[0m         \u001b[38;5;28;01mraise\u001b[39;00m LineTooLong(\u001b[38;5;124m\"\u001b[39m\u001b[38;5;124mstatus line\u001b[39m\u001b[38;5;124m\"\u001b[39m)\n",
      "File \u001b[0;32m/Library/Frameworks/Python.framework/Versions/3.13/lib/python3.13/socket.py:719\u001b[0m, in \u001b[0;36mSocketIO.readinto\u001b[0;34m(self, b)\u001b[0m\n\u001b[1;32m    717\u001b[0m     \u001b[38;5;28;01mraise\u001b[39;00m \u001b[38;5;167;01mOSError\u001b[39;00m(\u001b[38;5;124m\"\u001b[39m\u001b[38;5;124mcannot read from timed out object\u001b[39m\u001b[38;5;124m\"\u001b[39m)\n\u001b[1;32m    718\u001b[0m \u001b[38;5;28;01mtry\u001b[39;00m:\n\u001b[0;32m--> 719\u001b[0m     \u001b[38;5;28;01mreturn\u001b[39;00m \u001b[38;5;28;43mself\u001b[39;49m\u001b[38;5;241;43m.\u001b[39;49m\u001b[43m_sock\u001b[49m\u001b[38;5;241;43m.\u001b[39;49m\u001b[43mrecv_into\u001b[49m\u001b[43m(\u001b[49m\u001b[43mb\u001b[49m\u001b[43m)\u001b[49m\n\u001b[1;32m    720\u001b[0m \u001b[38;5;28;01mexcept\u001b[39;00m timeout:\n\u001b[1;32m    721\u001b[0m     \u001b[38;5;28mself\u001b[39m\u001b[38;5;241m.\u001b[39m_timeout_occurred \u001b[38;5;241m=\u001b[39m \u001b[38;5;28;01mTrue\u001b[39;00m\n",
      "File \u001b[0;32m/Library/Frameworks/Python.framework/Versions/3.13/lib/python3.13/ssl.py:1304\u001b[0m, in \u001b[0;36mSSLSocket.recv_into\u001b[0;34m(self, buffer, nbytes, flags)\u001b[0m\n\u001b[1;32m   1300\u001b[0m     \u001b[38;5;28;01mif\u001b[39;00m flags \u001b[38;5;241m!=\u001b[39m \u001b[38;5;241m0\u001b[39m:\n\u001b[1;32m   1301\u001b[0m         \u001b[38;5;28;01mraise\u001b[39;00m \u001b[38;5;167;01mValueError\u001b[39;00m(\n\u001b[1;32m   1302\u001b[0m           \u001b[38;5;124m\"\u001b[39m\u001b[38;5;124mnon-zero flags not allowed in calls to recv_into() on \u001b[39m\u001b[38;5;132;01m%s\u001b[39;00m\u001b[38;5;124m\"\u001b[39m \u001b[38;5;241m%\u001b[39m\n\u001b[1;32m   1303\u001b[0m           \u001b[38;5;28mself\u001b[39m\u001b[38;5;241m.\u001b[39m\u001b[38;5;18m__class__\u001b[39m)\n\u001b[0;32m-> 1304\u001b[0m     \u001b[38;5;28;01mreturn\u001b[39;00m \u001b[38;5;28;43mself\u001b[39;49m\u001b[38;5;241;43m.\u001b[39;49m\u001b[43mread\u001b[49m\u001b[43m(\u001b[49m\u001b[43mnbytes\u001b[49m\u001b[43m,\u001b[49m\u001b[43m \u001b[49m\u001b[43mbuffer\u001b[49m\u001b[43m)\u001b[49m\n\u001b[1;32m   1305\u001b[0m \u001b[38;5;28;01melse\u001b[39;00m:\n\u001b[1;32m   1306\u001b[0m     \u001b[38;5;28;01mreturn\u001b[39;00m \u001b[38;5;28msuper\u001b[39m()\u001b[38;5;241m.\u001b[39mrecv_into(buffer, nbytes, flags)\n",
      "File \u001b[0;32m/Library/Frameworks/Python.framework/Versions/3.13/lib/python3.13/ssl.py:1138\u001b[0m, in \u001b[0;36mSSLSocket.read\u001b[0;34m(self, len, buffer)\u001b[0m\n\u001b[1;32m   1136\u001b[0m \u001b[38;5;28;01mtry\u001b[39;00m:\n\u001b[1;32m   1137\u001b[0m     \u001b[38;5;28;01mif\u001b[39;00m buffer \u001b[38;5;129;01mis\u001b[39;00m \u001b[38;5;129;01mnot\u001b[39;00m \u001b[38;5;28;01mNone\u001b[39;00m:\n\u001b[0;32m-> 1138\u001b[0m         \u001b[38;5;28;01mreturn\u001b[39;00m \u001b[38;5;28;43mself\u001b[39;49m\u001b[38;5;241;43m.\u001b[39;49m\u001b[43m_sslobj\u001b[49m\u001b[38;5;241;43m.\u001b[39;49m\u001b[43mread\u001b[49m\u001b[43m(\u001b[49m\u001b[38;5;28;43mlen\u001b[39;49m\u001b[43m,\u001b[49m\u001b[43m \u001b[49m\u001b[43mbuffer\u001b[49m\u001b[43m)\u001b[49m\n\u001b[1;32m   1139\u001b[0m     \u001b[38;5;28;01melse\u001b[39;00m:\n\u001b[1;32m   1140\u001b[0m         \u001b[38;5;28;01mreturn\u001b[39;00m \u001b[38;5;28mself\u001b[39m\u001b[38;5;241m.\u001b[39m_sslobj\u001b[38;5;241m.\u001b[39mread(\u001b[38;5;28mlen\u001b[39m)\n",
      "\u001b[0;31mKeyboardInterrupt\u001b[0m: "
     ]
    }
   ],
   "source": [
    "parser = rbc_parser()\n",
    "table = parser.get_articles(param_dict=rbk_param_dict,\n",
    "                             time_step = 9, # Шаг - 7 дней, можно больше,\n",
    "                                            # но есть риск отсечения статей в неделях, гдестатей больше 100\n",
    "                             save_every = 1, # Сохранять чекпойнт каждые 5 шагов\n",
    "                             save_excel = False) # Сохранить итоговый файл\n",
    "print(len(table))\n",
    "table.head()"
   ]
  },
  {
   "cell_type": "code",
   "execution_count": null,
   "metadata": {},
   "outputs": [],
   "source": [
    "# pd.concat([part1, part2, part3, part4, part5, part6], axis=0).to_csv('rbk_part1.csv', index=False)"
   ]
  },
  {
   "cell_type": "markdown",
   "metadata": {},
   "source": [
    "### Новости с РИА"
   ]
  },
  {
   "cell_type": "markdown",
   "metadata": {},
   "source": [
    "`Среди тестовых топиков пока отсутствует \"Строительство\". Спарсим эти новости с \"РИА\".`"
   ]
  },
  {
   "cell_type": "code",
   "execution_count": null,
   "metadata": {},
   "outputs": [],
   "source": [
    "SLEEP = 2\n",
    "DEPTH = 2_000\n",
    "BASE_URL = \"https://ria.ru/\"\n",
    "TOPICS = [\"tag_thematic_category_Stroitelstvo\"]"
   ]
  },
  {
   "cell_type": "code",
   "execution_count": 24,
   "metadata": {},
   "outputs": [],
   "source": [
    "@dataclass\n",
    "class Article:\n",
    "    id: str = None\n",
    "    url: str = None\n",
    "    title: str = None\n",
    "    subtitle: str = None\n",
    "    content: str = None\n",
    "    datetime: str = None"
   ]
  },
  {
   "cell_type": "code",
   "execution_count": 90,
   "metadata": {},
   "outputs": [],
   "source": [
    "# set webdriver params\n",
    "chrome_options = webdriver.ChromeOptions()\n",
    "chrome_options.add_argument(\"--blink-settings=imagesEnabled=false\")\n",
    "chrome_options.add_argument(\"headless\")\n",
    "chrome_options.add_argument(\"no-sandbox\")\n",
    "chrome_options.add_argument(\"disable-dev-shm-usage\")\n",
    "driver = webdriver.Chrome(options=chrome_options)"
   ]
  },
  {
   "cell_type": "code",
   "execution_count": 26,
   "metadata": {},
   "outputs": [],
   "source": [
    "def get_pages():\n",
    "\n",
    "    \"\"\"Load and scroll pages\"\"\"\n",
    "\n",
    "    items, topics_order = [], []\n",
    "\n",
    "    for topic in tqdm(TOPICS):\n",
    "        try:\n",
    "            old_size = len(items)\n",
    "            # URL = BASE_URL + topic\n",
    "            URL = 'https://ria.ru/tag_thematic_category_Stroitelstvo/'\n",
    "            driver.get(URL)\n",
    "            time.sleep(SLEEP)\n",
    "\n",
    "            # push to list 20 next articles\n",
    "            driver.execute_script(\n",
    "                \"document.getElementsByClassName('list-more')[0].click()\"\n",
    "            )\n",
    "            time.sleep(1)\n",
    "\n",
    "            # scroll page to automatically load more articles\n",
    "            for i in tqdm(range(DEPTH), leave=False):\n",
    "                try:\n",
    "                    driver.execute_script(\n",
    "                        f\"window.scrollTo(0, document.body.scrollHeight - 1200)\"\n",
    "                    )\n",
    "                    time.sleep(1)\n",
    "                except:\n",
    "                    pass\n",
    "\n",
    "            # find all pages\n",
    "            html = driver.page_source\n",
    "            soup = BeautifulSoup(html, \"html.parser\")\n",
    "            scope = soup.find(\n",
    "                \"div\", {\"class\": \"list\", \"itemtype\": \"http://schema.org/ItemList\"}\n",
    "            )\n",
    "            items += scope.find_all(\"div\", {\"class\": \"list-item\"})\n",
    "\n",
    "            # number of pages can not be multiple of deepth*20\n",
    "            # that's why we count topics_order dynamically\n",
    "            new_size = len(items)\n",
    "            if new_size > old_size:\n",
    "                topics_order.extend([topic] * (new_size - old_size))\n",
    "        except:\n",
    "            pass\n",
    "\n",
    "    return items, topics_order"
   ]
  },
  {
   "cell_type": "code",
   "execution_count": 57,
   "metadata": {},
   "outputs": [],
   "source": [
    "def parse_page(page):\n",
    "    \"\"\"Extract from page desired fields\"\"\"\n",
    "\n",
    "    # Create article data class object\n",
    "    article = Article()\n",
    "\n",
    "    # article url\n",
    "    article.url = page.find(\"a\", {\"class\": \"list-item__image\"})[\"href\"]\n",
    "\n",
    "    # article id\n",
    "    s = re.findall(r\"\\d+.html\", article.url)[0]\n",
    "    article.id = s[: s.find(\".\")]\n",
    "\n",
    "    # load page\n",
    "    driver.get(article.url)\n",
    "    time.sleep(SLEEP)\n",
    "    html = driver.page_source\n",
    "    # print(html)\n",
    "\n",
    "    # article source\n",
    "    source = article.url[8 : article.url.find(\".\")]\n",
    "\n",
    "    # article object\n",
    "    soup = BeautifulSoup(html, \"html.parser\")\n",
    "    obj = soup.find(\n",
    "        \"div\",\n",
    "        {\n",
    "            \"class\": lambda x: x and (x.find(f\"article m-article m-{source}\") > -1),\n",
    "            \"data-article-id\": article.id,\n",
    "        },\n",
    "    )\n",
    "    # print('obj1:')\n",
    "    # print(obj)\n",
    "    if not obj:\n",
    "        obj = soup.find(\n",
    "            \"div\",\n",
    "            {\n",
    "                \"class\": lambda x: x and (x.find(f\"article m-video m-{source}\") > -1),\n",
    "                \"data-article-id\": article.id,\n",
    "            },\n",
    "        )\n",
    "    # print('obj2:')\n",
    "    # print(obj)\n",
    "    # process article title\n",
    "    # title = obj.find(\"div\", {\"class\": \"article__title\"})\n",
    "    # title_2 = obj.find(\"h1\", {\"class\": \"article__title\"})\n",
    "\n",
    "    # if title:\n",
    "        # article.title = title.text\n",
    "    # else:\n",
    "        # article.title = title_2.text if title_2 else \"\"\n",
    "\n",
    "    # article subtitle\n",
    "    # subtitle = obj.find(\"h1\", {\"class\": \"article__second-title\"})\n",
    "    # article.subtitle = subtitle.text if subtitle else \"\"\n",
    "\n",
    "    # article content\n",
    "    article.content = obj.find(\n",
    "        \"div\", {\"class\": \"article__body js-mediator-article mia-analytics\"}\n",
    "    ).text\n",
    "    return article.content\n",
    "\n",
    "    # article datetime\n",
    "    # article.datetime = obj.find(\"div\", {\"class\": \"article__info-date\"}).find(\"a\").text\n",
    "\n",
    "    # article number of views\n",
    "    # article.views = int(obj.find('span', {'class': 'statistic__item m-views'}).text)\n",
    "\n",
    "    return article"
   ]
  },
  {
   "cell_type": "code",
   "execution_count": 28,
   "metadata": {},
   "outputs": [
    {
     "name": "stderr",
     "output_type": "stream",
     "text": [
      "100%|██████████| 1/1 [35:38<00:00, 2138.96s/it]\n"
     ]
    }
   ],
   "source": [
    "# get pages and topics\n",
    "pages, topics_order = get_pages()"
   ]
  },
  {
   "cell_type": "code",
   "execution_count": 29,
   "metadata": {},
   "outputs": [
    {
     "data": {
      "text/plain": [
       "7160"
      ]
     },
     "execution_count": 29,
     "metadata": {},
     "output_type": "execute_result"
    }
   ],
   "source": [
    "len(pages)"
   ]
  },
  {
   "cell_type": "code",
   "execution_count": 32,
   "metadata": {},
   "outputs": [],
   "source": [
    "with open(\"ria_pages.txt\", \"w\", encoding=\"utf-8\") as f:\n",
    "    for page in pages:\n",
    "        f.write(\"%s\\n\" % page)"
   ]
  },
  {
   "cell_type": "code",
   "execution_count": 107,
   "metadata": {},
   "outputs": [],
   "source": [
    "from selenium.common.exceptions import WebDriverException"
   ]
  },
  {
   "cell_type": "code",
   "execution_count": null,
   "metadata": {},
   "outputs": [
    {
     "name": "stderr",
     "output_type": "stream",
     "text": [
      " 94%|█████████▎| 6706/7160 [04:57<38:53,  5.14s/it] "
     ]
    },
    {
     "name": "stdout",
     "output_type": "stream",
     "text": [
      "6705 was skipped!\n"
     ]
    },
    {
     "name": "stderr",
     "output_type": "stream",
     "text": [
      " 95%|█████████▌| 6806/7160 [19:55<43:44,  7.41s/it]  "
     ]
    },
    {
     "name": "stdout",
     "output_type": "stream",
     "text": [
      "6805 was skipped!\n"
     ]
    },
    {
     "name": "stderr",
     "output_type": "stream",
     "text": [
      "100%|██████████| 7160/7160 [1:10:36<00:00,  1.69it/s]\n"
     ]
    }
   ],
   "source": [
    "data, topics_order_fixed = [], []\n",
    "\n",
    "for num, page in enumerate(tqdm(pages)):\n",
    "    try:\n",
    "        data.append(parse_page(page))\n",
    "        topics_order_fixed.append(topics_order[num])\n",
    "        time.sleep(3)\n",
    "    except AttributeError:\n",
    "        print(f'{num} was skipped!')\n",
    "        pass\n",
    "    except WebDriverException:\n",
    "        driver = webdriver.Chrome(options=chrome_options)\n",
    "        data.append(parse_page(page))\n",
    "        topics_order_fixed.append(topics_order[num])\n",
    "        time.sleep(3)\n",
    "            \n",
    "# driver.close()"
   ]
  },
  {
   "cell_type": "code",
   "execution_count": 2,
   "metadata": {},
   "outputs": [],
   "source": [
    "df = pd.DataFrame(data, columns=['text'])\n",
    "df.to_csv('ria_stroyka1.csv',index=False)"
   ]
  },
  {
   "cell_type": "code",
   "execution_count": 28,
   "metadata": {},
   "outputs": [],
   "source": [
    "# собираю все источники в единый датафрейм и сохраняю его\n",
    "lenta1 = pd.read_csv('lenta_daily_2023.csv')\n",
    "lenta2 = pd.read_csv('lenta_daily_2024.csv')\n",
    "rbk = pd.read_csv('rbk_part1.csv')\n",
    "ria = pd.read_csv('ria_stroyka1.csv')"
   ]
  },
  {
   "cell_type": "code",
   "execution_count": 29,
   "metadata": {},
   "outputs": [],
   "source": [
    "# укажем верные номера тематик для новостей Ленты\n",
    "lenta1 = lenta1[lenta1.bloc.isin([1, 37, 3, 4, 5, 8, 48, 87])]\n",
    "lenta2 = lenta2[lenta2.bloc.isin([1, 37, 3, 4, 5, 8, 48, 87])]\n",
    "\n",
    "# Найдем соответствие между кодом блока, его названием и кодом в соревновании:\n",
    "\n",
    "# * 1 - Россия - 0\n",
    "# * 37 - Силовые структуры - 2\n",
    "# * 3 - Бывший СССР - 3\n",
    "# * 4 - Экономика - 1\n",
    "# * 5 - Наука и техника - 8\n",
    "# * 8 - Спорт - 4\n",
    "# * 48 - Туризм - 7\n",
    "# * 87 - Здоровье - 5\n",
    "\n",
    "\n",
    "TagsMap = {\n",
    "    1 : 0, \n",
    "    3 : 3, \n",
    "    4 : 1, \n",
    "    5 : 8, \n",
    "    8 : 4, \n",
    "    37 : 2, \n",
    "    48 : 7, \n",
    "    87 : 5\n",
    "}\n",
    "\n",
    "lenta1['topic'] = lenta1['bloc'].map(TagsMap)\n",
    "lenta2['topic'] = lenta2['bloc'].map(TagsMap)\n",
    "lenta1 = lenta1[['text', 'topic']].reset_index(drop=True)\n",
    "lenta2 = lenta2[['text', 'topic']].reset_index(drop=True)"
   ]
  },
  {
   "cell_type": "code",
   "execution_count": 30,
   "metadata": {},
   "outputs": [],
   "source": [
    "# укажем верные номера тематик для новостей РБК\n",
    "rbk = rbk[rbk.category.isin(['Общество', 'Экономика'])]\n",
    "TagsMap2 = {\n",
    "    'Общество' : 0, \n",
    "    'Экономика' : 1\n",
    "}\n",
    "\n",
    "rbk['topic'] = rbk['category'].map(TagsMap2)\n",
    "rbk = rbk[['text', 'topic']].reset_index(drop=True)"
   ]
  },
  {
   "cell_type": "code",
   "execution_count": 31,
   "metadata": {},
   "outputs": [],
   "source": [
    "# укажем верные номера тематик для новостей РИА\n",
    "ria['topic'] = 6"
   ]
  },
  {
   "cell_type": "code",
   "execution_count": 39,
   "metadata": {},
   "outputs": [],
   "source": [
    "full_df = pd.concat([lenta1, lenta2, rbk, ria], axis=0).reset_index(drop=True)\n",
    "full_df.to_csv('DATA.csv', index=False)"
   ]
  },
  {
   "cell_type": "code",
   "execution_count": null,
   "metadata": {},
   "outputs": [
    {
     "data": {
      "text/plain": [
       "(203089, 2)"
      ]
     },
     "execution_count": 116,
     "metadata": {},
     "output_type": "execute_result"
    }
   ],
   "source": [
    "pd.read_csv('DATA.csv').shape"
   ]
  },
  {
   "cell_type": "markdown",
   "metadata": {},
   "source": [
    "`По итогам сбора данных собрали датасет, который содержит более 200 тысяч статей по 9 тематикам.`\n",
    "\n",
    "`Но прежде чем переходить к токенизации и обучению моделей предобработаем эти данные.`"
   ]
  },
  {
   "cell_type": "markdown",
   "metadata": {},
   "source": [
    "# Предобработка данных"
   ]
  },
  {
   "cell_type": "code",
   "execution_count": 42,
   "metadata": {},
   "outputs": [],
   "source": [
    "# удаляем полные дубликаты\n",
    "full_df = full_df.drop_duplicates()"
   ]
  },
  {
   "cell_type": "code",
   "execution_count": null,
   "metadata": {},
   "outputs": [
    {
     "data": {
      "text/plain": [
       "count    198403.000000\n",
       "mean       1327.188883\n",
       "std        1266.014358\n",
       "min           1.000000\n",
       "25%         869.000000\n",
       "50%        1067.000000\n",
       "75%        1404.000000\n",
       "max       52185.000000\n",
       "Name: text, dtype: float64"
      ]
     },
     "execution_count": 57,
     "metadata": {},
     "output_type": "execute_result"
    }
   ],
   "source": [
    "# статистики длины текстов\n",
    "full_df.text.str.len().describe()"
   ]
  },
  {
   "cell_type": "markdown",
   "metadata": {},
   "source": [
    "`Видим, что есть текст длиной 1 символ :)))))`"
   ]
  },
  {
   "cell_type": "code",
   "execution_count": null,
   "metadata": {},
   "outputs": [
    {
     "name": "stdout",
     "output_type": "stream",
     "text": [
      "Нижняя граница (2.5 персентиль) = 626.0\n",
      "Верхняя граница (97.5 персентиль) = 3317.0\n"
     ]
    }
   ],
   "source": [
    "# оставлю 95% доверительный интервал для длин текстов\n",
    "lower = full_df.text.str.len().quantile(0.025)\n",
    "higher = full_df.text.str.len().quantile(0.975)\n",
    "print(f'Нижняя граница (2.5 персентиль) = {lower}')\n",
    "print(f'Верхняя граница (97.5 персентиль) = {higher}')\n",
    "full_df = full_df[(full_df.text.str.len() >= lower) & (full_df.text.str.len() <= higher)]"
   ]
  },
  {
   "cell_type": "code",
   "execution_count": 96,
   "metadata": {},
   "outputs": [
    {
     "data": {
      "text/plain": [
       "195606    МОСКВА, 11 дек - РИА Недвижимость. Воронежский...\n",
       "195607    БИШКЕК, 11 дек - РИА Новости. Строительство кр...\n",
       "195608    МОСКВА, 10 дек - РИА Недвижимость. Продажи нов...\n",
       "195609    МОСКВА, 10 дек - РИА Недвижимость. Прогнозируе...\n",
       "195610    МОСКВА, 10 дек – РИА Недвижимость. Девелопер S...\n",
       "Name: text, dtype: object"
      ]
     },
     "execution_count": 96,
     "metadata": {},
     "output_type": "execute_result"
    }
   ],
   "source": [
    "# в тематике Строительство в начале каждого текста встречается название сайти, город, дата, например:\n",
    "full_df[full_df.topic == 6].head()['text']"
   ]
  },
  {
   "cell_type": "code",
   "execution_count": 101,
   "metadata": {},
   "outputs": [],
   "source": [
    "# уберем эти предложения из начала\n",
    "full_df.loc[full_df.topic == 6, 'text'] = full_df[full_df.topic == 6].text.str.split('.').str[1:].str.join('.')"
   ]
  },
  {
   "cell_type": "code",
   "execution_count": 104,
   "metadata": {},
   "outputs": [
    {
     "data": {
      "text/html": [
       "<div>\n",
       "<style scoped>\n",
       "    .dataframe tbody tr th:only-of-type {\n",
       "        vertical-align: middle;\n",
       "    }\n",
       "\n",
       "    .dataframe tbody tr th {\n",
       "        vertical-align: top;\n",
       "    }\n",
       "\n",
       "    .dataframe thead th {\n",
       "        text-align: right;\n",
       "    }\n",
       "</style>\n",
       "<table border=\"1\" class=\"dataframe\">\n",
       "  <thead>\n",
       "    <tr style=\"text-align: right;\">\n",
       "      <th></th>\n",
       "      <th>text</th>\n",
       "      <th>topic</th>\n",
       "    </tr>\n",
       "  </thead>\n",
       "  <tbody>\n",
       "    <tr>\n",
       "      <th>195606</th>\n",
       "      <td>Воронежский девелопер \"Развитие\" приобрел уча...</td>\n",
       "      <td>6</td>\n",
       "    </tr>\n",
       "    <tr>\n",
       "      <th>195607</th>\n",
       "      <td>Строительство крупнейшей в СНГ горнолыжной ба...</td>\n",
       "      <td>6</td>\n",
       "    </tr>\n",
       "    <tr>\n",
       "      <th>195608</th>\n",
       "      <td>Продажи новостроек массового сегмента Москвы ...</td>\n",
       "      <td>6</td>\n",
       "    </tr>\n",
       "    <tr>\n",
       "      <th>195609</th>\n",
       "      <td>Прогнозируемый объем ввода коммерческой недви...</td>\n",
       "      <td>6</td>\n",
       "    </tr>\n",
       "    <tr>\n",
       "      <th>195610</th>\n",
       "      <td>Девелопер Sminex, выкупивший в октябре этого ...</td>\n",
       "      <td>6</td>\n",
       "    </tr>\n",
       "  </tbody>\n",
       "</table>\n",
       "</div>"
      ],
      "text/plain": [
       "                                                     text  topic\n",
       "195606   Воронежский девелопер \"Развитие\" приобрел уча...      6\n",
       "195607   Строительство крупнейшей в СНГ горнолыжной ба...      6\n",
       "195608   Продажи новостроек массового сегмента Москвы ...      6\n",
       "195609   Прогнозируемый объем ввода коммерческой недви...      6\n",
       "195610   Девелопер Sminex, выкупивший в октябре этого ...      6"
      ]
     },
     "execution_count": 104,
     "metadata": {},
     "output_type": "execute_result"
    }
   ],
   "source": [
    "# как теперь выглядит, уже лучше :)\n",
    "full_df[full_df.topic == 6].head()"
   ]
  },
  {
   "cell_type": "code",
   "execution_count": 105,
   "metadata": {},
   "outputs": [],
   "source": [
    "# Посмотрим распределение по тематикам\n",
    "TopicNames = {\n",
    "    0: 'Россия',\n",
    "    1: 'Экономика',\n",
    "    2: 'Силовые структуры',\n",
    "    3: 'Бывший СССР',\n",
    "    4: 'Спорт',\n",
    "    5: 'Здоровье',\n",
    "    6: 'Строительство',\n",
    "    7: 'Туризм',\n",
    "    8: 'Наука и техника'\n",
    "}\n",
    "\n",
    "full_df['topic_name'] = full_df['topic'].apply(lambda x: TopicNames[x])"
   ]
  },
  {
   "cell_type": "code",
   "execution_count": 110,
   "metadata": {},
   "outputs": [
    {
     "data": {
      "image/png": "[encoded data removed]",
      "text/plain": [
       "<Figure size 640x480 with 1 Axes>"
      ]
     },
     "metadata": {},
     "output_type": "display_data"
    }
   ],
   "source": [
    "sns.barplot(full_df.topic_name.value_counts())\n",
    "plt.xticks(rotation=90)\n",
    "plt.title('Количество статей по тематикам')\n",
    "plt.xlabel('Название тематики')\n",
    "plt.ylabel('Кол-во статей')\n",
    "plt.show()"
   ]
  },
  {
   "cell_type": "code",
   "execution_count": null,
   "metadata": {},
   "outputs": [
    {
     "data": {
      "image/png": "[encoded data removed]",
      "text/plain": [
       "<Figure size 640x480 with 1 Axes>"
      ]
     },
     "metadata": {},
     "output_type": "display_data"
    }
   ],
   "source": [
    "# средняя длина текстов по тематикам \n",
    "full_df['text_len'] = full_df['text'].str.len()\n",
    "sns.barplot(full_df.groupby('topic_name').text_len.mean().sort_values(ascending=False))\n",
    "plt.xticks(rotation=90)\n",
    "plt.title('Средняя длина текстов по тематикам')\n",
    "plt.xlabel('Название тематики')\n",
    "plt.ylabel('Символов')\n",
    "plt.show()"
   ]
  },
  {
   "cell_type": "markdown",
   "metadata": {},
   "source": [
    "`Видим, что в датасете преобладают статьи про Россию и бывший СССР. При этом наидлинейшие тексты у экономики и здоровья. Наиболее короткие - у новостей спорта.`"
   ]
  },
  {
   "cell_type": "markdown",
   "metadata": {},
   "source": [
    "`Мы предобработали датасет, удалив дубликаты и аномальные тексты. По итогам данного этапа в датасете осталось 188 тыс текстов по 9 тематикам. Теперь можно переходить ко второй части.`"
   ]
  },
  {
   "cell_type": "code",
   "execution_count": 115,
   "metadata": {},
   "outputs": [],
   "source": [
    "full_df.to_csv('CLEAR_DATA.csv', index=False)"
   ]
  }
 ],
 "metadata": {
  "kernelspec": {
   "display_name": "Python 3",
   "language": "python",
   "name": "python3"
  },
  "language_info": {
   "codemirror_mode": {
    "name": "ipython",
    "version": 3
   },
   "file_extension": ".py",
   "mimetype": "text/x-python",
   "name": "python",
   "nbconvert_exporter": "python",
   "pygments_lexer": "ipython3",
   "version": "3.13.0"
  }
 },
 "nbformat": 4,
 "nbformat_minor": 2
}
