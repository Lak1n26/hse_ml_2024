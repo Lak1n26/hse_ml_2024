{
 "cells": [
  {
   "cell_type": "code",
   "execution_count": 1,
   "metadata": {},
   "outputs": [],
   "source": [
    "from catboost import CatBoostClassifier\n",
    "import pandas as pd\n",
    "import numpy as np \n",
    "import seaborn as sns\n",
    "import matplotlib.pyplot as plt\n",
    "import os\n",
    "import time\n",
    "from tqdm import tqdm\n",
    "from sklearn.model_selection import GridSearchCV, train_test_split\n",
    "from sklearn.preprocessing import OneHotEncoder, StandardScaler\n",
    "from sklearn.metrics import roc_auc_score\n",
    "from scipy import stats\n",
    "import lightgbm as lgb\n",
    "from autogluon.tabular import TabularDataset, TabularPredictor\n",
    "\n",
    "import warnings\n",
    "warnings.filterwarnings('ignore')"
   ]
  },
  {
   "cell_type": "code",
   "execution_count": 2,
   "metadata": {},
   "outputs": [],
   "source": [
    "# реализую два класса, чтобы каждый раз не запускать 100500 ячеек: \n",
    "# DATA_GETTER будет загружать данные и делать feature_engineering для создания экстра признаков\n",
    "# после я буду добавлять признаки \"аномальности\", полученные либо с помощью методов поиска аномалий, либо с помощью кластеризации\n",
    "# LightGBMpipe будет на новых данных обучать модель LightGBM с помощью кросс-валидации, оценивать ее качество\n",
    "\n",
    "class DATA_GETTER:\n",
    "    def __init__(self, ):\n",
    "        INPUT_DIR = '.'\n",
    "        train_transaction = pd.read_csv(os.path.join(INPUT_DIR, 'train_transaction.csv'))\n",
    "        train_identity = pd.read_csv(os.path.join(INPUT_DIR, 'train_identity.csv'))\n",
    "        test_transaction = pd.read_csv(os.path.join(INPUT_DIR, 'test_transaction.csv'))\n",
    "        test_identity = pd.read_csv(os.path.join(INPUT_DIR, 'test_identity.csv'))\n",
    "        self.sample_submission = pd.read_csv(os.path.join(INPUT_DIR, 'sample_submission.csv'))\n",
    "        self.df_train = train_transaction.merge(train_identity, how='left', on='TransactionID')\n",
    "        self.df_test = test_transaction.merge(test_identity, how='left', on='TransactionID')\n",
    "        self.feature_engineering()\n",
    "\n",
    "    def feature_engineering(self):\n",
    "        # обработаем признаки с доменами\n",
    "        for col in ['P_emaildomain', 'R_emaildomain']:\n",
    "            self.df_train[col + '_suffix'] = self.df_train[col].map(lambda x: str(x).split('.')[-1])\n",
    "            self.df_test[col + '_suffix'] = self.df_test[col].map(lambda x: str(x).split('.')[-1])\n",
    "\n",
    "        self.df_train['same_emaildomain'] = (self.df_train['P_emaildomain'] == self.df_train['R_emaildomain']).astype('uint8')\n",
    "        self.df_test['same_emaildomain'] = (self.df_test['P_emaildomain'] == self.df_test['R_emaildomain']).astype('uint8')\n",
    "\n",
    "        # скомбинируем признаки, которые входят в топ-50 по важности признаков в бейзлайне\n",
    "        pairs = [('card3', 'card5')]\n",
    "        for col1, col2 in pairs:\n",
    "            new_col_name = col1 + '_' + col2\n",
    "            self.df_train[new_col_name] = self.df_train[col1].astype(str) + '_' + self.df_train[col2].astype(str)\n",
    "            self.df_test[new_col_name] = self.df_test[col1].astype(str) + '_' + self.df_test[col2].astype(str)\n",
    "\n",
    "        # мета-признаки - исходя из частоты встречаемости в выборке\n",
    "        for col in ['card1', 'card2']:#, 'card3', 'card4', 'card5', 'card6', 'addr1', 'addr2', 'DeviceType', 'DeviceInfo']:\n",
    "            card_freq = self.df_train[col].value_counts().to_dict()\n",
    "            self.df_train['{}_cnt'.format(col)] = self.df_train[col].map(card_freq)\n",
    "            self.df_test['{}_cnt'.format(col)] = self.df_test[col].map(card_freq)\n",
    "\n",
    "        # используем агрегированние\n",
    "        for col in ['card1', 'card2', 'card3', 'card4', 'card5', 'card6', 'addr1', 'addr2', 'DeviceType', 'DeviceInfo']:\n",
    "            for agg_type in ['mean', 'median', 'min', 'max']:\n",
    "                agg_col_name = 'TransactionAmt_{}_{}'.format(col, agg_type)\n",
    "                card_agg = self.df_train.groupby(col)['TransactionAmt'].agg([agg_type]).rename({agg_type: agg_col_name}, axis=1)\n",
    "                self.df_train = self.df_train.merge(card_agg, how='left', on=col)\n",
    "                self.df_test = self.df_test.merge(card_agg, how='left', on=col)\n",
    "       \n",
    "\n",
    "        # прологарифируем смещенный признак TransactionAmt\n",
    "        self.df_train['TransactionAmt_log'] = np.log1p(self.df_train['TransactionAmt'])\n",
    "        self.df_test['TransactionAmt_log'] = np.log1p(self.df_test['TransactionAmt'])\n",
    "\n",
    "        # достанем признак \"Центы\"\n",
    "        self.df_train['TransactionAmt_Cents'] = np.modf(self.df_train['TransactionAmt'])[0] * 100\n",
    "        self.df_test['TransactionAmt_Cents'] = np.modf(self.df_test['TransactionAmt'])[0] * 100\n",
    "\n",
    "        # удалим изначальный признак\n",
    "        self.df_train.drop('TransactionAmt', axis=1, inplace=True)\n",
    "        self.df_test.drop('TransactionAmt', axis=1, inplace=True)\n",
    "\n",
    "        # заполним пропуски в категориальных признаках значением \"unseen_category\", а в вещественных - \"-1\"\n",
    "        for col in tqdm(self.df_train.columns.drop('isFraud')):\n",
    "            if self.df_train[col].dtype == 'O':\n",
    "                self.df_train[col] = self.df_train[col].fillna('unseen_category')\n",
    "                self.df_test[col] = self.df_test[col].fillna('unseen_category')\n",
    "                self.df_train[col] = self.df_train[col].astype('category')\n",
    "                self.df_test[col] = self.df_test[col].astype('category')\n",
    "            else:\n",
    "                median = np.median(self.df_train[col].dropna())\n",
    "                self.df_train[col] = self.df_train[col].fillna(median)\n",
    "                self.df_test[col] = self.df_test[col].fillna(median)\n",
    "                # self.df_train[col] = self.df_train[col].fillna(-1)\n",
    "                # self.df_test[col] = self.df_test[col].fillna(-1)\n",
    "\n",
    "\n",
    "    \n",
    "class LightGBMpipe:\n",
    "    def __init__(self, df_train, df_test, model_params=None):\n",
    "        params = {\n",
    "            'objective': 'binary',\n",
    "            'boosting_type': 'gbdt',\n",
    "            'metric': 'auc',\n",
    "            'n_jobs': -1,\n",
    "            'n_estimators': 2000,\n",
    "            'seed': 13,\n",
    "            'early_stopping_rounds': 200,\n",
    "            'verbosity': -1\n",
    "        }\n",
    "        if model_params is None:\n",
    "            self.params = params\n",
    "        else:\n",
    "            self.params = model_params\n",
    "\n",
    "        self.scores = []\n",
    "        self.feature_importances = pd.DataFrame()\n",
    "        self.feature_importances['feature'] = df_train.drop(columns=['isFraud', 'TransactionID', 'TransactionDT']).columns\n",
    "        self.test_preds = []\n",
    "\n",
    "        # выделяем фолды\n",
    "        month_length = 3600 * 24 * 30\n",
    "        fold0_idx = df_train[df_train['TransactionDT'] < df_train['TransactionDT'].min() + month_length].index\n",
    "        fold1_idx = df_train[(df_train['TransactionDT'].min() + month_length <= df_train['TransactionDT']) & (df_train['TransactionDT'] < df_train['TransactionDT'].min() + 2 * month_length)].index\n",
    "        fold2_idx = df_train[(df_train['TransactionDT'].min() + 2 * month_length <= df_train['TransactionDT']) & (df_train['TransactionDT'] < df_train['TransactionDT'].min() + 3 * month_length)].index\n",
    "        fold3_idx = df_train[df_train['TransactionDT'].min() + 3 * month_length <= df_train['TransactionDT']].index\n",
    "        self.folds_idx = [fold0_idx, fold1_idx, fold2_idx, fold3_idx]\n",
    "\n",
    "        # выделяем идентификационный и временной признаки и удаляем полные дубликаты\n",
    "        self.df_train = df_train.drop(columns=['TransactionID', 'TransactionDT'])\n",
    "        self.df_test = df_test.drop(columns=['TransactionID', 'TransactionDT'])\n",
    "\n",
    "    def fit(self):\n",
    "        for i in tqdm(range(len(self.folds_idx))):\n",
    "            X_train = self.df_train.drop(index=self.folds_idx[i], errors='ignore')\n",
    "            y_train = X_train['isFraud'].values\n",
    "            X_val = self.df_train.iloc[self.folds_idx[i]]\n",
    "            y_val = X_val['isFraud'].values\n",
    "            X_train = X_train.drop('isFraud', axis=1)\n",
    "            X_val = X_val.drop('isFraud', axis=1)\n",
    "\n",
    "            lgb_train = lgb.Dataset(X_train, y_train)\n",
    "            lgb_eval = lgb.Dataset(X_val, y_val, reference=lgb_train)\n",
    "            lgb_model = lgb.train(self.params, lgb_train, valid_sets=lgb_eval)\n",
    "\n",
    "            self.feature_importances['fold_{}'.format(i)] = lgb_model.feature_importance()\n",
    "\n",
    "            y_pred = lgb_model.predict(X_val)\n",
    "            score_fold = roc_auc_score(y_val, y_pred)\n",
    "            self.scores.append(score_fold)\n",
    "            y_test_pred = lgb_model.predict(self.df_test)\n",
    "            self.test_preds.append(y_test_pred)\n",
    "\n",
    "        for i in range(len(self.scores)):\n",
    "            print('Fold {}, AUC-ROC: {:.5f}'.format(i, self.scores[i]))\n",
    "        print('CV AUC-ROC: {:.5f}'.format(np.mean(self.scores)))\n",
    "        \n",
    "        fold_cols = [col for col in self.feature_importances.columns if col.startswith('fold_')]\n",
    "        self.feature_importances['average'] = self.feature_importances[fold_cols].mean(axis=1)\n",
    "        return np.mean(self.scores)\n",
    "    \n",
    "    def plot_feature_importances(self):    \n",
    "        plt.figure(figsize=(15, 15))\n",
    "        sns.barplot(data=self.feature_importances.sort_values(by='average', ascending=False).head(50), x='average', y='feature', palette=\"BuGn_r\")\n",
    "        plt.title('Top feature importances')\n",
    "        plt.show()\n",
    "\n",
    "    def save_predict(self, name='test_try'):\n",
    "        # сохраняем сабмишн\n",
    "        final_pred = np.average(self.test_preds, axis=0)\n",
    "        sub = pd.DataFrame({'TransactionID': sample_submission['TransactionID'], 'isFraud': final_pred})\n",
    "        sub.to_csv('submissions/' + name + '.csv', index=False)"
   ]
  },
  {
   "cell_type": "code",
   "execution_count": 3,
   "metadata": {},
   "outputs": [
    {
     "name": "stderr",
     "output_type": "stream",
     "text": [
      "100%|██████████| 480/480 [00:02<00:00, 177.00it/s]\n"
     ]
    }
   ],
   "source": [
    "data_getter = DATA_GETTER()\n",
    "df_train, df_test, sample_submission = data_getter.df_train, data_getter.df_test, data_getter.sample_submission"
   ]
  },
  {
   "cell_type": "code",
   "execution_count": 19,
   "metadata": {},
   "outputs": [],
   "source": [
    "# df_train['V_sum'] = 0\n",
    "# df_test['V_sum'] = 0\n",
    "# for col in df_train.columns[df_train.columns.str.startswith('V')].to_list():\n",
    "#     df_train['V_sum'] += df_train[col]\n",
    "#     df_test['V_sum'] += df_test[col]"
   ]
  },
  {
   "cell_type": "code",
   "execution_count": null,
   "metadata": {},
   "outputs": [
    {
     "name": "stderr",
     "output_type": "stream",
     "text": [
      "100%|██████████| 7/7 [00:00<00:00, 92.52it/s]\n"
     ]
    }
   ],
   "source": [
    "# boxplot\n",
    "# num_cols = ['TransactionAmt_log', 'card1', 'card2', 'card3', 'card5', 'dist1', 'dist2']\n",
    "# df_train['sum_is_outlier'] = 0\n",
    "# df_test['sum_is_outlier'] = 0\n",
    "# for col in tqdm(num_cols):\n",
    "#     Q1 = df_train[col].quantile(0.25)\n",
    "#     Q3 = df_train[col].quantile(0.75)\n",
    "#     IQR = Q3 - Q1\n",
    "#     df_train[col+'_is_outlier'] = np.where(((df_train[col] < (Q1 - 1.5 * IQR)) | (df_train[col] > (Q3 + 1.5 * IQR))), 1, 0)\n",
    "#     df_test[col+'_is_outlier'] = np.where(((df_test[col] < (Q1 - 1.5 * IQR)) | (df_test[col] > (Q3 + 1.5 * IQR))), 1, 0)\n",
    "    \n",
    "#     df_train['sum_is_outlier'] += df_train[col+'_is_outlier']\n",
    "#     df_test['sum_is_outlier'] += df_test[col+'_is_outlier']\n",
    "\n",
    "# drop_cols = [col+'_is_outlier' for col in num_cols]\n",
    "# df_train = df_train.drop(columns=drop_cols)\n",
    "# df_test = df_test.drop(columns=drop_cols)"
   ]
  },
  {
   "cell_type": "code",
   "execution_count": 47,
   "metadata": {},
   "outputs": [
    {
     "name": "stderr",
     "output_type": "stream",
     "text": [
      "100%|██████████| 4/4 [00:55<00:00, 13.89s/it]"
     ]
    },
    {
     "name": "stdout",
     "output_type": "stream",
     "text": [
      "Fold 0, AUC-ROC: 0.90806\n",
      "Fold 1, AUC-ROC: 0.93027\n",
      "Fold 2, AUC-ROC: 0.93335\n",
      "Fold 3, AUC-ROC: 0.91207\n",
      "CV AUC-ROC: 0.92094\n"
     ]
    },
    {
     "name": "stderr",
     "output_type": "stream",
     "text": [
      "\n"
     ]
    },
    {
     "data": {
      "text/plain": [
       "0.9209357484181417"
      ]
     },
     "execution_count": 47,
     "metadata": {},
     "output_type": "execute_result"
    }
   ],
   "source": [
    "pipe = LightGBMpipe(df_train=df_train, df_test=df_test)\n",
    "pipe.fit()"
   ]
  },
  {
   "cell_type": "code",
   "execution_count": 40,
   "metadata": {},
   "outputs": [],
   "source": [
    "pipe.save_predict('default2')"
   ]
  },
  {
   "cell_type": "code",
   "execution_count": 233,
   "metadata": {},
   "outputs": [],
   "source": [
    "# X, y = df_train.drop(columns=['isFraud']), df_train['isFraud']\n",
    "# num_cols = [col for col in X.columns if X[col].dtype in ('int64', 'float64')]\n",
    "# cat_cols = [col for col in X.columns if X[col].dtype in ('O', 'category')]\n",
    "# ohe = OneHotEncoder(sparse_output=False, handle_unknown='ignore')\n",
    "# cat_data = pd.DataFrame(ohe.fit_transform(X[cat_cols]), columns=ohe.get_feature_names_out()).reset_index(drop=True)\n",
    "# scaler = StandardScaler()\n",
    "# num_data = pd.DataFrame(scaler.fit_transform(X[num_cols]), columns=num_cols).reset_index(drop=True)\n",
    "# X = pd.concat([cat_data, num_data], axis=1)"
   ]
  },
  {
   "cell_type": "code",
   "execution_count": 234,
   "metadata": {},
   "outputs": [],
   "source": [
    "# num_data_test = pd.DataFrame(scaler.transform(df_test[num_cols]), columns=num_cols).reset_index(drop=True)\n",
    "# cat_data_test = pd.DataFrame(ohe.transform(df_test[cat_cols]), columns=ohe.get_feature_names_out()).reset_index(drop=True)\n",
    "# X_test = pd.concat([cat_data_test, num_data_test], axis=1)"
   ]
  },
  {
   "cell_type": "code",
   "execution_count": null,
   "metadata": {},
   "outputs": [],
   "source": [
    "# pipe.save_predict(name='median filling nan')  # 0.92142\n",
    "# pipe.save_predict(name='M_SUM indicator')  # 0.91974\n",
    "# pipe.save_predict(name='2200 iters')  # 0.9\n",
    "# pipe.save_predict(name='MORE_boxplot_features')  # 0.91890\n",
    "# pipe.save_predict(name='only_zeros')  # 0.5\n",
    "# pipe.save_predict(name='original lightgbm')  # 0.92142\n",
    "# pipe.save_predict(name='top100_features')  # 0.9"
   ]
  },
  {
   "cell_type": "code",
   "execution_count": null,
   "metadata": {},
   "outputs": [],
   "source": []
  },
  {
   "cell_type": "code",
   "execution_count": null,
   "metadata": {},
   "outputs": [],
   "source": [
    "from imblearn.pipeline import make_pipeline\n",
    "from imblearn.under_sampling import RandomUnderSampler\n",
    "\n",
    "pipeline = make_pipeline(\n",
    "    RandomUnderSampler(),  # Сначала применяем андерсэмплинг\n",
    "    SMOTE()                # Затем применяем SMOTE\n",
    ")\n",
    "\n",
    "X_resampled, y_resampled = pipeline.fit_resample(X, y)"
   ]
  },
  {
   "cell_type": "code",
   "execution_count": null,
   "metadata": {},
   "outputs": [],
   "source": []
  },
  {
   "cell_type": "code",
   "execution_count": null,
   "metadata": {},
   "outputs": [],
   "source": []
  },
  {
   "cell_type": "code",
   "execution_count": 49,
   "metadata": {},
   "outputs": [],
   "source": [
    "def objective_lightgbm(trial):\n",
    "    learning_rate = trial.suggest_float(\"learning_rate\", 1e-3, 0.3, log=True)\n",
    "    feature_fraction = trial.suggest_float(\"feature_fraction\", 0.4, 1, log=True)\n",
    "    n_estimators = trial.suggest_int(\"n_estimators\", 800, 4000)\n",
    "    max_depth = trial.suggest_int(\"max_depth\", 3, 17)\n",
    "    lambda_l1 = trial.suggest_float('lambda_l1', 0, 100)\n",
    "    lambda_l2 = trial.suggest_float('lambda_l2', 0, 100)\n",
    "    num_boost_round = trial.suggest_int('num_boost_round', 0, 100)\n",
    "\n",
    "    params = {\n",
    "        'objective': 'binary',\n",
    "            'boosting_type': 'gbdt',\n",
    "            'metric': 'auc',\n",
    "            'n_jobs': -1,\n",
    "            'learning_rate': learning_rate,\n",
    "            'n_estimators': n_estimators,\n",
    "            'seed': 13,\n",
    "            'early_stopping_rounds': 200,\n",
    "            'verbosity': -1,\n",
    "            'max_depth': max_depth,\n",
    "            'feature_fraction': feature_fraction,\n",
    "            'lambda_l1': lambda_l1,\n",
    "            'lambda_l2': lambda_l2,\n",
    "            'num_boost_round': num_boost_round\n",
    "    }\n",
    "\n",
    "    pipe = LightGBMpipe(df_train=df_train, df_test=df_test, model_params=params)\n",
    "    roc_auc = pipe.fit()\n",
    "    return roc_auc"
   ]
  },
  {
   "cell_type": "code",
   "execution_count": 52,
   "metadata": {},
   "outputs": [
    {
     "name": "stderr",
     "output_type": "stream",
     "text": [
      "[I 2025-03-12 19:38:16,450] A new study created in memory with name: no-name-d86fdce2-5bc3-4ace-a131-f0774b3ac81a\n",
      "100%|██████████| 4/4 [00:54<00:00, 13.71s/it]\n",
      "[I 2025-03-12 19:39:12,447] Trial 0 finished with value: 0.9035454489210216 and parameters: {'learning_rate': 0.044298005520585104, 'feature_fraction': 0.849859453506555, 'n_estimators': 3165, 'max_depth': 12, 'lambda_l1': 53.08590676844063, 'lambda_l2': 37.74387489151353, 'num_boost_round': 50}. Best is trial 0 with value: 0.9035454489210216.\n"
     ]
    },
    {
     "name": "stdout",
     "output_type": "stream",
     "text": [
      "Fold 0, AUC-ROC: 0.88752\n",
      "Fold 1, AUC-ROC: 0.91138\n",
      "Fold 2, AUC-ROC: 0.91590\n",
      "Fold 3, AUC-ROC: 0.89938\n",
      "CV AUC-ROC: 0.90355\n"
     ]
    },
    {
     "name": "stderr",
     "output_type": "stream",
     "text": [
      "100%|██████████| 4/4 [00:47<00:00, 11.88s/it]\n",
      "[I 2025-03-12 19:40:00,928] Trial 1 finished with value: 0.8998220293801467 and parameters: {'learning_rate': 0.06248154125047334, 'feature_fraction': 0.6225542544961791, 'n_estimators': 2612, 'max_depth': 10, 'lambda_l1': 65.31640422619253, 'lambda_l2': 69.58588678272558, 'num_boost_round': 73}. Best is trial 0 with value: 0.9035454489210216.\n"
     ]
    },
    {
     "name": "stdout",
     "output_type": "stream",
     "text": [
      "Fold 0, AUC-ROC: 0.88324\n",
      "Fold 1, AUC-ROC: 0.90664\n",
      "Fold 2, AUC-ROC: 0.91202\n",
      "Fold 3, AUC-ROC: 0.89738\n",
      "CV AUC-ROC: 0.89982\n"
     ]
    },
    {
     "name": "stderr",
     "output_type": "stream",
     "text": [
      "100%|██████████| 4/4 [01:54<00:00, 28.54s/it]\n",
      "[I 2025-03-12 19:41:56,140] Trial 2 finished with value: 0.8970901362885227 and parameters: {'learning_rate': 0.01604875350300337, 'feature_fraction': 0.5467262603110135, 'n_estimators': 3648, 'max_depth': 9, 'lambda_l1': 82.36967898545723, 'lambda_l2': 10.209527718154842, 'num_boost_round': 37}. Best is trial 0 with value: 0.9035454489210216.\n"
     ]
    },
    {
     "name": "stdout",
     "output_type": "stream",
     "text": [
      "Fold 0, AUC-ROC: 0.88203\n",
      "Fold 1, AUC-ROC: 0.90194\n",
      "Fold 2, AUC-ROC: 0.90940\n",
      "Fold 3, AUC-ROC: 0.89500\n",
      "CV AUC-ROC: 0.89709\n"
     ]
    },
    {
     "name": "stderr",
     "output_type": "stream",
     "text": [
      "100%|██████████| 4/4 [02:47<00:00, 41.84s/it]\n",
      "[I 2025-03-12 19:44:44,526] Trial 3 finished with value: 0.9024627268943147 and parameters: {'learning_rate': 0.010715841636537575, 'feature_fraction': 0.7716611426669283, 'n_estimators': 1842, 'max_depth': 8, 'lambda_l1': 42.827973305773256, 'lambda_l2': 91.87609752968852, 'num_boost_round': 98}. Best is trial 0 with value: 0.9035454489210216.\n"
     ]
    },
    {
     "name": "stdout",
     "output_type": "stream",
     "text": [
      "Fold 0, AUC-ROC: 0.88723\n",
      "Fold 1, AUC-ROC: 0.90997\n",
      "Fold 2, AUC-ROC: 0.91460\n",
      "Fold 3, AUC-ROC: 0.89805\n",
      "CV AUC-ROC: 0.90246\n"
     ]
    },
    {
     "name": "stderr",
     "output_type": "stream",
     "text": [
      "100%|██████████| 4/4 [00:48<00:00, 12.03s/it]\n",
      "[I 2025-03-12 19:45:33,704] Trial 4 finished with value: 0.9030431995030517 and parameters: {'learning_rate': 0.10985042826778911, 'feature_fraction': 0.4331096588382638, 'n_estimators': 816, 'max_depth': 13, 'lambda_l1': 53.10970038194481, 'lambda_l2': 57.569506704550946, 'num_boost_round': 26}. Best is trial 0 with value: 0.9035454489210216.\n"
     ]
    },
    {
     "name": "stdout",
     "output_type": "stream",
     "text": [
      "Fold 0, AUC-ROC: 0.88843\n",
      "Fold 1, AUC-ROC: 0.90899\n",
      "Fold 2, AUC-ROC: 0.91472\n",
      "Fold 3, AUC-ROC: 0.90004\n",
      "CV AUC-ROC: 0.90304\n"
     ]
    },
    {
     "name": "stderr",
     "output_type": "stream",
     "text": [
      "100%|██████████| 4/4 [02:59<00:00, 44.94s/it]\n",
      "[I 2025-03-12 19:48:34,521] Trial 5 finished with value: 0.8750070791347124 and parameters: {'learning_rate': 0.0013574141739564466, 'feature_fraction': 0.4336612007765421, 'n_estimators': 1557, 'max_depth': 10, 'lambda_l1': 21.02774932228656, 'lambda_l2': 28.011918825055847, 'num_boost_round': 98}. Best is trial 0 with value: 0.9035454489210216.\n"
     ]
    },
    {
     "name": "stdout",
     "output_type": "stream",
     "text": [
      "Fold 0, AUC-ROC: 0.85414\n",
      "Fold 1, AUC-ROC: 0.88066\n",
      "Fold 2, AUC-ROC: 0.88881\n",
      "Fold 3, AUC-ROC: 0.87641\n",
      "CV AUC-ROC: 0.87501\n"
     ]
    },
    {
     "name": "stderr",
     "output_type": "stream",
     "text": [
      "100%|██████████| 4/4 [05:46<00:00, 86.56s/it]\n",
      "[I 2025-03-12 19:54:21,814] Trial 6 finished with value: 0.889857030880166 and parameters: {'learning_rate': 0.0014144086593819083, 'feature_fraction': 0.8604748845773886, 'n_estimators': 3759, 'max_depth': 14, 'lambda_l1': 42.29992004110261, 'lambda_l2': 22.374191008346887, 'num_boost_round': 50}. Best is trial 0 with value: 0.9035454489210216.\n"
     ]
    },
    {
     "name": "stdout",
     "output_type": "stream",
     "text": [
      "Fold 0, AUC-ROC: 0.87194\n",
      "Fold 1, AUC-ROC: 0.89369\n",
      "Fold 2, AUC-ROC: 0.90397\n",
      "Fold 3, AUC-ROC: 0.88983\n",
      "CV AUC-ROC: 0.88986\n"
     ]
    },
    {
     "name": "stderr",
     "output_type": "stream",
     "text": [
      "100%|██████████| 4/4 [04:14<00:00, 63.61s/it]\n",
      "[I 2025-03-12 19:58:37,184] Trial 7 finished with value: 0.8943773352569793 and parameters: {'learning_rate': 0.004793498129218758, 'feature_fraction': 0.8750377002998991, 'n_estimators': 3178, 'max_depth': 15, 'lambda_l1': 99.9232121262416, 'lambda_l2': 75.8498092146646, 'num_boost_round': 92}. Best is trial 0 with value: 0.9035454489210216.\n"
     ]
    },
    {
     "name": "stdout",
     "output_type": "stream",
     "text": [
      "Fold 0, AUC-ROC: 0.87771\n",
      "Fold 1, AUC-ROC: 0.90105\n",
      "Fold 2, AUC-ROC: 0.90603\n",
      "Fold 3, AUC-ROC: 0.89272\n",
      "CV AUC-ROC: 0.89438\n"
     ]
    },
    {
     "name": "stderr",
     "output_type": "stream",
     "text": [
      "100%|██████████| 4/4 [00:24<00:00,  6.08s/it]\n",
      "[I 2025-03-12 19:59:02,400] Trial 8 finished with value: 0.896345811388153 and parameters: {'learning_rate': 0.12102916536170967, 'feature_fraction': 0.8614783212553727, 'n_estimators': 1869, 'max_depth': 6, 'lambda_l1': 80.88956017452969, 'lambda_l2': 2.1298693210641595, 'num_boost_round': 65}. Best is trial 0 with value: 0.9035454489210216.\n"
     ]
    },
    {
     "name": "stdout",
     "output_type": "stream",
     "text": [
      "Fold 0, AUC-ROC: 0.87851\n",
      "Fold 1, AUC-ROC: 0.90392\n",
      "Fold 2, AUC-ROC: 0.90836\n",
      "Fold 3, AUC-ROC: 0.89460\n",
      "CV AUC-ROC: 0.89635\n"
     ]
    },
    {
     "name": "stderr",
     "output_type": "stream",
     "text": [
      "100%|██████████| 4/4 [05:05<00:00, 76.41s/it]\n",
      "[I 2025-03-12 20:04:08,925] Trial 9 finished with value: 0.8816863011549956 and parameters: {'learning_rate': 0.0011748453012878069, 'feature_fraction': 0.9128523015196566, 'n_estimators': 3677, 'max_depth': 8, 'lambda_l1': 90.9903513942639, 'lambda_l2': 72.58720466336428, 'num_boost_round': 75}. Best is trial 0 with value: 0.9035454489210216.\n"
     ]
    },
    {
     "name": "stdout",
     "output_type": "stream",
     "text": [
      "Fold 0, AUC-ROC: 0.86464\n",
      "Fold 1, AUC-ROC: 0.88448\n",
      "Fold 2, AUC-ROC: 0.89526\n",
      "Fold 3, AUC-ROC: 0.88237\n",
      "CV AUC-ROC: 0.88169\n"
     ]
    },
    {
     "name": "stderr",
     "output_type": "stream",
     "text": [
      "100%|██████████| 4/4 [01:39<00:00, 24.99s/it]\n",
      "[I 2025-03-12 20:05:49,921] Trial 10 finished with value: 0.9043777258045856 and parameters: {'learning_rate': 0.043946265574006424, 'feature_fraction': 0.7104606884020473, 'n_estimators': 2806, 'max_depth': 3, 'lambda_l1': 3.5926599285421545, 'lambda_l2': 39.751824437690466, 'num_boost_round': 4}. Best is trial 10 with value: 0.9043777258045856.\n"
     ]
    },
    {
     "name": "stdout",
     "output_type": "stream",
     "text": [
      "Fold 0, AUC-ROC: 0.89348\n",
      "Fold 1, AUC-ROC: 0.91287\n",
      "Fold 2, AUC-ROC: 0.91273\n",
      "Fold 3, AUC-ROC: 0.89843\n",
      "CV AUC-ROC: 0.90438\n"
     ]
    },
    {
     "name": "stderr",
     "output_type": "stream",
     "text": [
      "100%|██████████| 4/4 [01:45<00:00, 26.40s/it]\n",
      "[I 2025-03-12 20:07:36,579] Trial 11 finished with value: 0.9046583687924699 and parameters: {'learning_rate': 0.04175328038926226, 'feature_fraction': 0.6880266957244863, 'n_estimators': 2828, 'max_depth': 3, 'lambda_l1': 7.559880095737839, 'lambda_l2': 41.53172506661852, 'num_boost_round': 0}. Best is trial 11 with value: 0.9046583687924699.\n"
     ]
    },
    {
     "name": "stdout",
     "output_type": "stream",
     "text": [
      "Fold 0, AUC-ROC: 0.89329\n",
      "Fold 1, AUC-ROC: 0.91342\n",
      "Fold 2, AUC-ROC: 0.91320\n",
      "Fold 3, AUC-ROC: 0.89873\n",
      "CV AUC-ROC: 0.90466\n"
     ]
    },
    {
     "name": "stderr",
     "output_type": "stream",
     "text": [
      "100%|██████████| 4/4 [01:44<00:00, 26.11s/it]\n",
      "[I 2025-03-12 20:09:22,064] Trial 12 finished with value: 0.9016309190136373 and parameters: {'learning_rate': 0.036053003267767135, 'feature_fraction': 0.6895666312831578, 'n_estimators': 2624, 'max_depth': 3, 'lambda_l1': 1.3396904639488838, 'lambda_l2': 44.28039777317982, 'num_boost_round': 1}. Best is trial 11 with value: 0.9046583687924699.\n"
     ]
    },
    {
     "name": "stdout",
     "output_type": "stream",
     "text": [
      "Fold 0, AUC-ROC: 0.89095\n",
      "Fold 1, AUC-ROC: 0.90758\n",
      "Fold 2, AUC-ROC: 0.90999\n",
      "Fold 3, AUC-ROC: 0.89800\n",
      "CV AUC-ROC: 0.90163\n"
     ]
    },
    {
     "name": "stderr",
     "output_type": "stream",
     "text": [
      "100%|██████████| 4/4 [01:36<00:00, 24.01s/it]\n",
      "[I 2025-03-12 20:10:59,128] Trial 13 finished with value: 0.9065809727353031 and parameters: {'learning_rate': 0.20339898445743881, 'feature_fraction': 0.5786194514870634, 'n_estimators': 2991, 'max_depth': 3, 'lambda_l1': 0.8176544631692262, 'lambda_l2': 54.656832419960125, 'num_boost_round': 0}. Best is trial 13 with value: 0.9065809727353031.\n"
     ]
    },
    {
     "name": "stdout",
     "output_type": "stream",
     "text": [
      "Fold 0, AUC-ROC: 0.89285\n",
      "Fold 1, AUC-ROC: 0.91998\n",
      "Fold 2, AUC-ROC: 0.91765\n",
      "Fold 3, AUC-ROC: 0.89584\n",
      "CV AUC-ROC: 0.90658\n"
     ]
    },
    {
     "name": "stderr",
     "output_type": "stream",
     "text": [
      "100%|██████████| 4/4 [00:54<00:00, 13.72s/it]\n",
      "[I 2025-03-12 20:11:55,033] Trial 14 finished with value: 0.9098350510741348 and parameters: {'learning_rate': 0.29344658332555934, 'feature_fraction': 0.5368791130859063, 'n_estimators': 2231, 'max_depth': 5, 'lambda_l1': 20.490636583276196, 'lambda_l2': 56.64513620084115, 'num_boost_round': 17}. Best is trial 14 with value: 0.9098350510741348.\n"
     ]
    },
    {
     "name": "stdout",
     "output_type": "stream",
     "text": [
      "Fold 0, AUC-ROC: 0.89365\n",
      "Fold 1, AUC-ROC: 0.92373\n",
      "Fold 2, AUC-ROC: 0.92132\n",
      "Fold 3, AUC-ROC: 0.90065\n",
      "CV AUC-ROC: 0.90984\n"
     ]
    },
    {
     "name": "stderr",
     "output_type": "stream",
     "text": [
      "100%|██████████| 4/4 [00:50<00:00, 12.62s/it]\n",
      "[I 2025-03-12 20:12:46,467] Trial 15 finished with value: 0.9108984461318098 and parameters: {'learning_rate': 0.27490733452444144, 'feature_fraction': 0.518450652959054, 'n_estimators': 2156, 'max_depth': 6, 'lambda_l1': 23.545120459078785, 'lambda_l2': 56.205362713849375, 'num_boost_round': 19}. Best is trial 15 with value: 0.9108984461318098.\n"
     ]
    },
    {
     "name": "stdout",
     "output_type": "stream",
     "text": [
      "Fold 0, AUC-ROC: 0.89708\n",
      "Fold 1, AUC-ROC: 0.92382\n",
      "Fold 2, AUC-ROC: 0.92333\n",
      "Fold 3, AUC-ROC: 0.89936\n",
      "CV AUC-ROC: 0.91090\n"
     ]
    },
    {
     "name": "stderr",
     "output_type": "stream",
     "text": [
      "100%|██████████| 4/4 [00:56<00:00, 14.14s/it]\n",
      "[I 2025-03-12 20:13:43,957] Trial 16 finished with value: 0.9089580607293692 and parameters: {'learning_rate': 0.2508784663877097, 'feature_fraction': 0.5159922487141682, 'n_estimators': 2126, 'max_depth': 6, 'lambda_l1': 23.732896555740222, 'lambda_l2': 99.12331111600956, 'num_boost_round': 20}. Best is trial 15 with value: 0.9108984461318098.\n"
     ]
    },
    {
     "name": "stdout",
     "output_type": "stream",
     "text": [
      "Fold 0, AUC-ROC: 0.89448\n",
      "Fold 1, AUC-ROC: 0.92257\n",
      "Fold 2, AUC-ROC: 0.92181\n",
      "Fold 3, AUC-ROC: 0.89698\n",
      "CV AUC-ROC: 0.90896\n"
     ]
    },
    {
     "name": "stderr",
     "output_type": "stream",
     "text": [
      "100%|██████████| 4/4 [00:47<00:00, 11.78s/it]\n",
      "[I 2025-03-12 20:14:32,147] Trial 17 finished with value: 0.9086966421135232 and parameters: {'learning_rate': 0.28980506489368846, 'feature_fraction': 0.4914678889200788, 'n_estimators': 1249, 'max_depth': 6, 'lambda_l1': 26.828614438802603, 'lambda_l2': 61.43786389943958, 'num_boost_round': 18}. Best is trial 15 with value: 0.9108984461318098.\n"
     ]
    },
    {
     "name": "stdout",
     "output_type": "stream",
     "text": [
      "Fold 0, AUC-ROC: 0.89417\n",
      "Fold 1, AUC-ROC: 0.92078\n",
      "Fold 2, AUC-ROC: 0.92201\n",
      "Fold 3, AUC-ROC: 0.89783\n",
      "CV AUC-ROC: 0.90870\n"
     ]
    },
    {
     "name": "stderr",
     "output_type": "stream",
     "text": [
      "100%|██████████| 4/4 [01:04<00:00, 16.13s/it]\n",
      "[I 2025-03-12 20:15:37,604] Trial 18 finished with value: 0.9059155488585628 and parameters: {'learning_rate': 0.12112684053147858, 'feature_fraction': 0.476072798231058, 'n_estimators': 2250, 'max_depth': 5, 'lambda_l1': 33.0449331814989, 'lambda_l2': 85.91180859701404, 'num_boost_round': 35}. Best is trial 15 with value: 0.9108984461318098.\n"
     ]
    },
    {
     "name": "stdout",
     "output_type": "stream",
     "text": [
      "Fold 0, AUC-ROC: 0.89260\n",
      "Fold 1, AUC-ROC: 0.91588\n",
      "Fold 2, AUC-ROC: 0.91628\n",
      "Fold 3, AUC-ROC: 0.89891\n",
      "CV AUC-ROC: 0.90592\n"
     ]
    },
    {
     "name": "stderr",
     "output_type": "stream",
     "text": [
      "100%|██████████| 4/4 [02:56<00:00, 44.03s/it]\n",
      "[I 2025-03-12 20:18:34,669] Trial 19 finished with value: 0.9005555381729998 and parameters: {'learning_rate': 0.007578602826778227, 'feature_fraction': 0.40328635650790584, 'n_estimators': 1429, 'max_depth': 17, 'lambda_l1': 16.219326859005808, 'lambda_l2': 63.70564497281623, 'num_boost_round': 12}. Best is trial 15 with value: 0.9108984461318098.\n"
     ]
    },
    {
     "name": "stdout",
     "output_type": "stream",
     "text": [
      "Fold 0, AUC-ROC: 0.88472\n",
      "Fold 1, AUC-ROC: 0.90649\n",
      "Fold 2, AUC-ROC: 0.91239\n",
      "Fold 3, AUC-ROC: 0.89862\n",
      "CV AUC-ROC: 0.90056\n"
     ]
    },
    {
     "name": "stderr",
     "output_type": "stream",
     "text": [
      "100%|██████████| 4/4 [01:01<00:00, 15.46s/it]\n",
      "[I 2025-03-12 20:19:37,562] Trial 20 finished with value: 0.9061586068820057 and parameters: {'learning_rate': 0.08287421798524779, 'feature_fraction': 0.5885618706931073, 'n_estimators': 2026, 'max_depth': 5, 'lambda_l1': 35.26328378140157, 'lambda_l2': 49.71830751460263, 'num_boost_round': 38}. Best is trial 15 with value: 0.9108984461318098.\n"
     ]
    },
    {
     "name": "stdout",
     "output_type": "stream",
     "text": [
      "Fold 0, AUC-ROC: 0.89242\n",
      "Fold 1, AUC-ROC: 0.91571\n",
      "Fold 2, AUC-ROC: 0.91749\n",
      "Fold 3, AUC-ROC: 0.89902\n",
      "CV AUC-ROC: 0.90616\n"
     ]
    },
    {
     "name": "stderr",
     "output_type": "stream",
     "text": [
      "100%|██████████| 4/4 [01:23<00:00, 20.75s/it]\n",
      "[I 2025-03-12 20:21:01,524] Trial 21 finished with value: 0.9140936536042175 and parameters: {'learning_rate': 0.23632731053791414, 'feature_fraction': 0.5173273982169742, 'n_estimators': 2290, 'max_depth': 7, 'lambda_l1': 13.626353259656225, 'lambda_l2': 96.06779166507974, 'num_boost_round': 24}. Best is trial 21 with value: 0.9140936536042175.\n"
     ]
    },
    {
     "name": "stdout",
     "output_type": "stream",
     "text": [
      "Fold 0, AUC-ROC: 0.89874\n",
      "Fold 1, AUC-ROC: 0.92932\n",
      "Fold 2, AUC-ROC: 0.92841\n",
      "Fold 3, AUC-ROC: 0.89990\n",
      "CV AUC-ROC: 0.91409\n"
     ]
    },
    {
     "name": "stderr",
     "output_type": "stream",
     "text": [
      "100%|██████████| 4/4 [01:27<00:00, 21.98s/it]\n",
      "[I 2025-03-12 20:22:30,385] Trial 22 finished with value: 0.914271053503673 and parameters: {'learning_rate': 0.18592609765263768, 'feature_fraction': 0.5334275926594765, 'n_estimators': 2329, 'max_depth': 7, 'lambda_l1': 13.459570920781594, 'lambda_l2': 85.32580426966905, 'num_boost_round': 25}. Best is trial 22 with value: 0.914271053503673.\n"
     ]
    },
    {
     "name": "stdout",
     "output_type": "stream",
     "text": [
      "Fold 0, AUC-ROC: 0.90045\n",
      "Fold 1, AUC-ROC: 0.92789\n",
      "Fold 2, AUC-ROC: 0.92588\n",
      "Fold 3, AUC-ROC: 0.90286\n",
      "CV AUC-ROC: 0.91427\n"
     ]
    },
    {
     "name": "stderr",
     "output_type": "stream",
     "text": [
      "100%|██████████| 4/4 [01:41<00:00, 25.35s/it]\n",
      "[I 2025-03-12 20:24:12,726] Trial 23 finished with value: 0.9148369783960667 and parameters: {'learning_rate': 0.15494092233437537, 'feature_fraction': 0.47047747934715184, 'n_estimators': 2349, 'max_depth': 8, 'lambda_l1': 13.800749660313642, 'lambda_l2': 82.26621706748266, 'num_boost_round': 29}. Best is trial 23 with value: 0.9148369783960667.\n"
     ]
    },
    {
     "name": "stdout",
     "output_type": "stream",
     "text": [
      "Fold 0, AUC-ROC: 0.89902\n",
      "Fold 1, AUC-ROC: 0.92765\n",
      "Fold 2, AUC-ROC: 0.92682\n",
      "Fold 3, AUC-ROC: 0.90585\n",
      "CV AUC-ROC: 0.91484\n"
     ]
    },
    {
     "name": "stderr",
     "output_type": "stream",
     "text": [
      "100%|██████████| 4/4 [01:56<00:00, 29.17s/it]\n",
      "[I 2025-03-12 20:26:10,399] Trial 24 finished with value: 0.9156747399323824 and parameters: {'learning_rate': 0.15144670303636953, 'feature_fraction': 0.4620310927435084, 'n_estimators': 2488, 'max_depth': 8, 'lambda_l1': 11.855579504626968, 'lambda_l2': 82.86306548669013, 'num_boost_round': 29}. Best is trial 24 with value: 0.9156747399323824.\n"
     ]
    },
    {
     "name": "stdout",
     "output_type": "stream",
     "text": [
      "Fold 0, AUC-ROC: 0.90146\n",
      "Fold 1, AUC-ROC: 0.92985\n",
      "Fold 2, AUC-ROC: 0.92731\n",
      "Fold 3, AUC-ROC: 0.90408\n",
      "CV AUC-ROC: 0.91567\n"
     ]
    },
    {
     "name": "stderr",
     "output_type": "stream",
     "text": [
      "100%|██████████| 4/4 [02:10<00:00, 32.54s/it]\n",
      "[I 2025-03-12 20:28:21,533] Trial 25 finished with value: 0.9159186970074862 and parameters: {'learning_rate': 0.1374234534057063, 'feature_fraction': 0.46863059500692317, 'n_estimators': 2469, 'max_depth': 9, 'lambda_l1': 10.414140238945858, 'lambda_l2': 81.26037213476904, 'num_boost_round': 31}. Best is trial 25 with value: 0.9159186970074862.\n"
     ]
    },
    {
     "name": "stdout",
     "output_type": "stream",
     "text": [
      "Fold 0, AUC-ROC: 0.90060\n",
      "Fold 1, AUC-ROC: 0.92921\n",
      "Fold 2, AUC-ROC: 0.92659\n",
      "Fold 3, AUC-ROC: 0.90728\n",
      "CV AUC-ROC: 0.91592\n"
     ]
    },
    {
     "name": "stderr",
     "output_type": "stream",
     "text": [
      "100%|██████████| 4/4 [05:05<00:00, 76.28s/it]\n",
      "[I 2025-03-12 20:33:27,587] Trial 26 finished with value: 0.9162880345573406 and parameters: {'learning_rate': 0.021693834312974503, 'feature_fraction': 0.45478755983982155, 'n_estimators': 2566, 'max_depth': 11, 'lambda_l1': 10.363369661077993, 'lambda_l2': 80.68852358857565, 'num_boost_round': 33}. Best is trial 26 with value: 0.9162880345573406.\n"
     ]
    },
    {
     "name": "stdout",
     "output_type": "stream",
     "text": [
      "Fold 0, AUC-ROC: 0.90185\n",
      "Fold 1, AUC-ROC: 0.92846\n",
      "Fold 2, AUC-ROC: 0.92737\n",
      "Fold 3, AUC-ROC: 0.90747\n",
      "CV AUC-ROC: 0.91629\n"
     ]
    },
    {
     "name": "stderr",
     "output_type": "stream",
     "text": [
      "100%|██████████| 4/4 [05:46<00:00, 86.58s/it]\n",
      "[I 2025-03-12 20:39:14,920] Trial 27 finished with value: 0.918563142062454 and parameters: {'learning_rate': 0.028929322141155876, 'feature_fraction': 0.4349753071026329, 'n_estimators': 3442, 'max_depth': 11, 'lambda_l1': 7.59331131276656, 'lambda_l2': 74.89512478601094, 'num_boost_round': 46}. Best is trial 27 with value: 0.918563142062454.\n"
     ]
    },
    {
     "name": "stdout",
     "output_type": "stream",
     "text": [
      "Fold 0, AUC-ROC: 0.90380\n",
      "Fold 1, AUC-ROC: 0.93165\n",
      "Fold 2, AUC-ROC: 0.93090\n",
      "Fold 3, AUC-ROC: 0.90791\n",
      "CV AUC-ROC: 0.91856\n"
     ]
    },
    {
     "name": "stderr",
     "output_type": "stream",
     "text": [
      "100%|██████████| 4/4 [06:29<00:00, 97.44s/it]\n",
      "[I 2025-03-12 20:45:45,616] Trial 28 finished with value: 0.9180974999618714 and parameters: {'learning_rate': 0.022791137327819115, 'feature_fraction': 0.41148795980616937, 'n_estimators': 3438, 'max_depth': 11, 'lambda_l1': 7.10350735998768, 'lambda_l2': 76.76546345950206, 'num_boost_round': 44}. Best is trial 27 with value: 0.918563142062454.\n"
     ]
    },
    {
     "name": "stdout",
     "output_type": "stream",
     "text": [
      "Fold 0, AUC-ROC: 0.90296\n",
      "Fold 1, AUC-ROC: 0.93035\n",
      "Fold 2, AUC-ROC: 0.92981\n",
      "Fold 3, AUC-ROC: 0.90927\n",
      "CV AUC-ROC: 0.91810\n"
     ]
    },
    {
     "name": "stderr",
     "output_type": "stream",
     "text": [
      "100%|██████████| 4/4 [01:53<00:00, 28.48s/it]\n",
      "[I 2025-03-12 20:47:40,486] Trial 29 finished with value: 0.9029034375758682 and parameters: {'learning_rate': 0.027256829152439682, 'feature_fraction': 0.40257130390476625, 'n_estimators': 3389, 'max_depth': 12, 'lambda_l1': 55.48024732857473, 'lambda_l2': 67.51501536763844, 'num_boost_round': 58}. Best is trial 27 with value: 0.918563142062454.\n"
     ]
    },
    {
     "name": "stdout",
     "output_type": "stream",
     "text": [
      "Fold 0, AUC-ROC: 0.88687\n",
      "Fold 1, AUC-ROC: 0.91035\n",
      "Fold 2, AUC-ROC: 0.91497\n",
      "Fold 3, AUC-ROC: 0.89941\n",
      "CV AUC-ROC: 0.90290\n"
     ]
    },
    {
     "name": "stderr",
     "output_type": "stream",
     "text": [
      "100%|██████████| 4/4 [02:15<00:00, 33.93s/it]\n",
      "[I 2025-03-12 20:49:57,207] Trial 30 finished with value: 0.9099125893297109 and parameters: {'learning_rate': 0.024017352488046022, 'feature_fraction': 0.9910496885322957, 'n_estimators': 3398, 'max_depth': 11, 'lambda_l1': 31.751007025401922, 'lambda_l2': 76.37287793491888, 'num_boost_round': 45}. Best is trial 27 with value: 0.918563142062454.\n"
     ]
    },
    {
     "name": "stdout",
     "output_type": "stream",
     "text": [
      "Fold 0, AUC-ROC: 0.89366\n",
      "Fold 1, AUC-ROC: 0.92095\n",
      "Fold 2, AUC-ROC: 0.92230\n",
      "Fold 3, AUC-ROC: 0.90274\n",
      "CV AUC-ROC: 0.90991\n"
     ]
    },
    {
     "name": "stderr",
     "output_type": "stream",
     "text": [
      "100%|██████████| 4/4 [07:25<00:00, 111.26s/it]\n",
      "[I 2025-03-12 20:57:23,242] Trial 31 finished with value: 0.9167716257450162 and parameters: {'learning_rate': 0.016815861250978052, 'feature_fraction': 0.42936436335717404, 'n_estimators': 3961, 'max_depth': 11, 'lambda_l1': 7.354952399337179, 'lambda_l2': 93.00925897205474, 'num_boost_round': 43}. Best is trial 27 with value: 0.918563142062454.\n"
     ]
    },
    {
     "name": "stdout",
     "output_type": "stream",
     "text": [
      "Fold 0, AUC-ROC: 0.90279\n",
      "Fold 1, AUC-ROC: 0.92872\n",
      "Fold 2, AUC-ROC: 0.92875\n",
      "Fold 3, AUC-ROC: 0.90682\n",
      "CV AUC-ROC: 0.91677\n"
     ]
    },
    {
     "name": "stderr",
     "output_type": "stream",
     "text": [
      "100%|██████████| 4/4 [07:36<00:00, 114.11s/it]\n",
      "[I 2025-03-12 21:05:00,615] Trial 32 finished with value: 0.9166571082076841 and parameters: {'learning_rate': 0.015757506486419607, 'feature_fraction': 0.43142324237956853, 'n_estimators': 3886, 'max_depth': 11, 'lambda_l1': 6.503172626847684, 'lambda_l2': 92.0408464976597, 'num_boost_round': 43}. Best is trial 27 with value: 0.918563142062454.\n"
     ]
    },
    {
     "name": "stdout",
     "output_type": "stream",
     "text": [
      "Fold 0, AUC-ROC: 0.90194\n",
      "Fold 1, AUC-ROC: 0.92880\n",
      "Fold 2, AUC-ROC: 0.92807\n",
      "Fold 3, AUC-ROC: 0.90782\n",
      "CV AUC-ROC: 0.91666\n"
     ]
    },
    {
     "name": "stderr",
     "output_type": "stream",
     "text": [
      "100%|██████████| 4/4 [07:59<00:00, 119.80s/it]\n",
      "[I 2025-03-12 21:13:00,888] Trial 33 finished with value: 0.9149709378090206 and parameters: {'learning_rate': 0.011119045992444782, 'feature_fraction': 0.4374282887591173, 'n_estimators': 3981, 'max_depth': 12, 'lambda_l1': 7.1517252891425205, 'lambda_l2': 91.49535001242349, 'num_boost_round': 44}. Best is trial 27 with value: 0.918563142062454.\n"
     ]
    },
    {
     "name": "stdout",
     "output_type": "stream",
     "text": [
      "Fold 0, AUC-ROC: 0.90079\n",
      "Fold 1, AUC-ROC: 0.92599\n",
      "Fold 2, AUC-ROC: 0.92620\n",
      "Fold 3, AUC-ROC: 0.90692\n",
      "CV AUC-ROC: 0.91497\n"
     ]
    },
    {
     "name": "stderr",
     "output_type": "stream",
     "text": [
      "100%|██████████| 4/4 [02:57<00:00, 44.49s/it]\n",
      "[I 2025-03-12 21:15:59,902] Trial 34 finished with value: 0.9011064921970344 and parameters: {'learning_rate': 0.015733065390124996, 'feature_fraction': 0.4181583390031868, 'n_estimators': 3889, 'max_depth': 11, 'lambda_l1': 61.23865299614661, 'lambda_l2': 91.40664121232409, 'num_boost_round': 59}. Best is trial 27 with value: 0.918563142062454.\n"
     ]
    },
    {
     "name": "stdout",
     "output_type": "stream",
     "text": [
      "Fold 0, AUC-ROC: 0.88602\n",
      "Fold 1, AUC-ROC: 0.90732\n",
      "Fold 2, AUC-ROC: 0.91303\n",
      "Fold 3, AUC-ROC: 0.89806\n",
      "CV AUC-ROC: 0.90111\n"
     ]
    },
    {
     "name": "stderr",
     "output_type": "stream",
     "text": [
      "100%|██████████| 4/4 [06:58<00:00, 104.70s/it]\n",
      "[I 2025-03-12 21:22:59,739] Trial 35 finished with value: 0.9058896702018897 and parameters: {'learning_rate': 0.004593478714670385, 'feature_fraction': 0.4223271230077847, 'n_estimators': 3434, 'max_depth': 13, 'lambda_l1': 0.2537052637686381, 'lambda_l2': 94.00730131099759, 'num_boost_round': 43}. Best is trial 27 with value: 0.918563142062454.\n"
     ]
    },
    {
     "name": "stdout",
     "output_type": "stream",
     "text": [
      "Fold 0, AUC-ROC: 0.89138\n",
      "Fold 1, AUC-ROC: 0.91321\n",
      "Fold 2, AUC-ROC: 0.91749\n",
      "Fold 3, AUC-ROC: 0.90148\n",
      "CV AUC-ROC: 0.90589\n"
     ]
    },
    {
     "name": "stderr",
     "output_type": "stream",
     "text": [
      "100%|██████████| 4/4 [02:19<00:00, 34.84s/it]\n",
      "[I 2025-03-12 21:25:20,049] Trial 36 finished with value: 0.9149225465725557 and parameters: {'learning_rate': 0.06284756917386602, 'feature_fraction': 0.4912919771647109, 'n_estimators': 3555, 'max_depth': 10, 'lambda_l1': 19.308332113531197, 'lambda_l2': 68.23423101662179, 'num_boost_round': 56}. Best is trial 27 with value: 0.918563142062454.\n"
     ]
    },
    {
     "name": "stdout",
     "output_type": "stream",
     "text": [
      "Fold 0, AUC-ROC: 0.90024\n",
      "Fold 1, AUC-ROC: 0.92735\n",
      "Fold 2, AUC-ROC: 0.92800\n",
      "Fold 3, AUC-ROC: 0.90410\n",
      "CV AUC-ROC: 0.91492\n"
     ]
    },
    {
     "name": "stderr",
     "output_type": "stream",
     "text": [
      "100%|██████████| 4/4 [04:42<00:00, 70.69s/it]\n",
      "[I 2025-03-12 21:30:03,871] Trial 37 finished with value: 0.9065119879131016 and parameters: {'learning_rate': 0.01265209996652456, 'feature_fraction': 0.4430771876825634, 'n_estimators': 3224, 'max_depth': 13, 'lambda_l1': 41.74855585517766, 'lambda_l2': 87.42020243907947, 'num_boost_round': 67}. Best is trial 27 with value: 0.918563142062454.\n"
     ]
    },
    {
     "name": "stdout",
     "output_type": "stream",
     "text": [
      "Fold 0, AUC-ROC: 0.89075\n",
      "Fold 1, AUC-ROC: 0.91534\n",
      "Fold 2, AUC-ROC: 0.91820\n",
      "Fold 3, AUC-ROC: 0.90176\n",
      "CV AUC-ROC: 0.90651\n"
     ]
    },
    {
     "name": "stderr",
     "output_type": "stream",
     "text": [
      "100%|██████████| 4/4 [07:23<00:00, 110.77s/it]\n",
      "[I 2025-03-12 21:37:28,018] Trial 38 finished with value: 0.9065954582275785 and parameters: {'learning_rate': 0.00597517461670152, 'feature_fraction': 0.40008856517804203, 'n_estimators': 3784, 'max_depth': 15, 'lambda_l1': 28.530364025899352, 'lambda_l2': 78.43103460232231, 'num_boost_round': 50}. Best is trial 27 with value: 0.918563142062454.\n"
     ]
    },
    {
     "name": "stdout",
     "output_type": "stream",
     "text": [
      "Fold 0, AUC-ROC: 0.89178\n",
      "Fold 1, AUC-ROC: 0.91450\n",
      "Fold 2, AUC-ROC: 0.91764\n",
      "Fold 3, AUC-ROC: 0.90247\n",
      "CV AUC-ROC: 0.90660\n"
     ]
    },
    {
     "name": "stderr",
     "output_type": "stream",
     "text": [
      "100%|██████████| 4/4 [07:41<00:00, 115.31s/it]\n",
      "[I 2025-03-12 21:45:10,325] Trial 39 finished with value: 0.8980058688595529 and parameters: {'learning_rate': 0.002567607434525558, 'feature_fraction': 0.4210608386166052, 'n_estimators': 3958, 'max_depth': 10, 'lambda_l1': 5.079692823665379, 'lambda_l2': 98.93600321924568, 'num_boost_round': 39}. Best is trial 27 with value: 0.918563142062454.\n"
     ]
    },
    {
     "name": "stdout",
     "output_type": "stream",
     "text": [
      "Fold 0, AUC-ROC: 0.88239\n",
      "Fold 1, AUC-ROC: 0.90333\n",
      "Fold 2, AUC-ROC: 0.91028\n",
      "Fold 3, AUC-ROC: 0.89602\n",
      "CV AUC-ROC: 0.89801\n"
     ]
    },
    {
     "name": "stderr",
     "output_type": "stream",
     "text": [
      "100%|██████████| 4/4 [01:26<00:00, 21.61s/it]\n",
      "[I 2025-03-12 21:46:37,695] Trial 40 finished with value: 0.8982755888815828 and parameters: {'learning_rate': 0.03193795299734237, 'feature_fraction': 0.49130238486354444, 'n_estimators': 3575, 'max_depth': 14, 'lambda_l1': 75.52595307385805, 'lambda_l2': 72.42655474820387, 'num_boost_round': 51}. Best is trial 27 with value: 0.918563142062454.\n"
     ]
    },
    {
     "name": "stdout",
     "output_type": "stream",
     "text": [
      "Fold 0, AUC-ROC: 0.88325\n",
      "Fold 1, AUC-ROC: 0.90450\n",
      "Fold 2, AUC-ROC: 0.90978\n",
      "Fold 3, AUC-ROC: 0.89558\n",
      "CV AUC-ROC: 0.89828\n"
     ]
    },
    {
     "name": "stderr",
     "output_type": "stream",
     "text": [
      "100%|██████████| 4/4 [07:14<00:00, 108.70s/it]\n",
      "[I 2025-03-12 21:53:53,493] Trial 41 finished with value: 0.9173974678818679 and parameters: {'learning_rate': 0.02060404925238738, 'feature_fraction': 0.4492373346508854, 'n_estimators': 3803, 'max_depth': 11, 'lambda_l1': 7.630918511241424, 'lambda_l2': 89.91795928021082, 'num_boost_round': 34}. Best is trial 27 with value: 0.918563142062454.\n"
     ]
    },
    {
     "name": "stdout",
     "output_type": "stream",
     "text": [
      "Fold 0, AUC-ROC: 0.90271\n",
      "Fold 1, AUC-ROC: 0.93018\n",
      "Fold 2, AUC-ROC: 0.92951\n",
      "Fold 3, AUC-ROC: 0.90718\n",
      "CV AUC-ROC: 0.91740\n"
     ]
    },
    {
     "name": "stderr",
     "output_type": "stream",
     "text": [
      "100%|██████████| 4/4 [07:05<00:00, 106.46s/it]\n",
      "[I 2025-03-12 22:01:00,367] Trial 42 finished with value: 0.916202793055118 and parameters: {'learning_rate': 0.01921372637537052, 'feature_fraction': 0.4475765990705527, 'n_estimators': 3770, 'max_depth': 9, 'lambda_l1': 17.111847573088212, 'lambda_l2': 89.80637061128341, 'num_boost_round': 41}. Best is trial 27 with value: 0.918563142062454.\n"
     ]
    },
    {
     "name": "stdout",
     "output_type": "stream",
     "text": [
      "Fold 0, AUC-ROC: 0.90126\n",
      "Fold 1, AUC-ROC: 0.92874\n",
      "Fold 2, AUC-ROC: 0.92814\n",
      "Fold 3, AUC-ROC: 0.90667\n",
      "CV AUC-ROC: 0.91620\n"
     ]
    },
    {
     "name": "stderr",
     "output_type": "stream",
     "text": [
      "100%|██████████| 4/4 [06:03<00:00, 90.86s/it]\n",
      "[I 2025-03-12 22:07:04,757] Trial 43 finished with value: 0.9155594118560824 and parameters: {'learning_rate': 0.014728200741353524, 'feature_fraction': 0.42411365048145666, 'n_estimators': 3068, 'max_depth': 12, 'lambda_l1': 6.363657203521087, 'lambda_l2': 73.1406295233715, 'num_boost_round': 48}. Best is trial 27 with value: 0.918563142062454.\n"
     ]
    },
    {
     "name": "stdout",
     "output_type": "stream",
     "text": [
      "Fold 0, AUC-ROC: 0.90113\n",
      "Fold 1, AUC-ROC: 0.92630\n",
      "Fold 2, AUC-ROC: 0.92752\n",
      "Fold 3, AUC-ROC: 0.90728\n",
      "CV AUC-ROC: 0.91556\n"
     ]
    },
    {
     "name": "stderr",
     "output_type": "stream",
     "text": [
      "100%|██████████| 4/4 [04:46<00:00, 71.65s/it]\n",
      "[I 2025-03-12 22:11:52,379] Trial 44 finished with value: 0.913597823115488 and parameters: {'learning_rate': 0.008019607643064837, 'feature_fraction': 0.8028325995463937, 'n_estimators': 3277, 'max_depth': 11, 'lambda_l1': 6.390001929313386, 'lambda_l2': 23.090380846784097, 'num_boost_round': 53}. Best is trial 27 with value: 0.918563142062454.\n"
     ]
    },
    {
     "name": "stdout",
     "output_type": "stream",
     "text": [
      "Fold 0, AUC-ROC: 0.89993\n",
      "Fold 1, AUC-ROC: 0.92368\n",
      "Fold 2, AUC-ROC: 0.92405\n",
      "Fold 3, AUC-ROC: 0.90673\n",
      "CV AUC-ROC: 0.91360\n"
     ]
    },
    {
     "name": "stderr",
     "output_type": "stream",
     "text": [
      "100%|██████████| 4/4 [01:08<00:00, 17.14s/it]\n",
      "[I 2025-03-12 22:13:01,962] Trial 45 finished with value: 0.9048076592762399 and parameters: {'learning_rate': 0.0569927100354877, 'feature_fraction': 0.44100828418839855, 'n_estimators': 3670, 'max_depth': 10, 'lambda_l1': 47.78808631067863, 'lambda_l2': 32.32138421469771, 'num_boost_round': 62}. Best is trial 27 with value: 0.918563142062454.\n"
     ]
    },
    {
     "name": "stdout",
     "output_type": "stream",
     "text": [
      "Fold 0, AUC-ROC: 0.89023\n",
      "Fold 1, AUC-ROC: 0.91222\n",
      "Fold 2, AUC-ROC: 0.91618\n",
      "Fold 3, AUC-ROC: 0.90059\n",
      "CV AUC-ROC: 0.90481\n"
     ]
    },
    {
     "name": "stderr",
     "output_type": "stream",
     "text": [
      "100%|██████████| 4/4 [04:50<00:00, 72.60s/it]\n",
      "[I 2025-03-12 22:17:53,294] Trial 46 finished with value: 0.9157492229814571 and parameters: {'learning_rate': 0.029263413827216225, 'feature_fraction': 0.4159539770003591, 'n_estimators': 3855, 'max_depth': 13, 'lambda_l1': 18.258219585028584, 'lambda_l2': 95.09760727482487, 'num_boost_round': 72}. Best is trial 27 with value: 0.918563142062454.\n"
     ]
    },
    {
     "name": "stdout",
     "output_type": "stream",
     "text": [
      "Fold 0, AUC-ROC: 0.90066\n",
      "Fold 1, AUC-ROC: 0.92767\n",
      "Fold 2, AUC-ROC: 0.92823\n",
      "Fold 3, AUC-ROC: 0.90644\n",
      "CV AUC-ROC: 0.91575\n"
     ]
    },
    {
     "name": "stderr",
     "output_type": "stream",
     "text": [
      "100%|██████████| 4/4 [06:06<00:00, 91.53s/it]\n",
      "[I 2025-03-12 22:24:00,370] Trial 47 finished with value: 0.9114272656009216 and parameters: {'learning_rate': 0.008764445061108557, 'feature_fraction': 0.6458291282371094, 'n_estimators': 3512, 'max_depth': 11, 'lambda_l1': 9.34539394810622, 'lambda_l2': 85.464605506781, 'num_boost_round': 46}. Best is trial 27 with value: 0.918563142062454.\n"
     ]
    },
    {
     "name": "stdout",
     "output_type": "stream",
     "text": [
      "Fold 0, AUC-ROC: 0.89711\n",
      "Fold 1, AUC-ROC: 0.92196\n",
      "Fold 2, AUC-ROC: 0.92251\n",
      "Fold 3, AUC-ROC: 0.90413\n",
      "CV AUC-ROC: 0.91143\n"
     ]
    },
    {
     "name": "stderr",
     "output_type": "stream",
     "text": [
      "100%|██████████| 4/4 [06:26<00:00, 96.69s/it]\n",
      "[I 2025-03-12 22:30:28,079] Trial 48 finished with value: 0.9165655985270855 and parameters: {'learning_rate': 0.019290669918211153, 'feature_fraction': 0.5649427483216709, 'n_estimators': 3715, 'max_depth': 9, 'lambda_l1': 2.7802677671770324, 'lambda_l2': 89.12259086040667, 'num_boost_round': 37}. Best is trial 27 with value: 0.918563142062454.\n"
     ]
    },
    {
     "name": "stdout",
     "output_type": "stream",
     "text": [
      "Fold 0, AUC-ROC: 0.90223\n",
      "Fold 1, AUC-ROC: 0.92893\n",
      "Fold 2, AUC-ROC: 0.92825\n",
      "Fold 3, AUC-ROC: 0.90686\n",
      "CV AUC-ROC: 0.91657\n"
     ]
    },
    {
     "name": "stderr",
     "output_type": "stream",
     "text": [
      "100%|██████████| 4/4 [02:26<00:00, 36.68s/it]\n",
      "[I 2025-03-12 22:32:55,870] Trial 49 finished with value: 0.9131570973378156 and parameters: {'learning_rate': 0.050952711980486606, 'feature_fraction': 0.48480988098168515, 'n_estimators': 3302, 'max_depth': 14, 'lambda_l1': 23.528096622782336, 'lambda_l2': 99.87680352116624, 'num_boost_round': 54}. Best is trial 27 with value: 0.918563142062454.\n"
     ]
    },
    {
     "name": "stdout",
     "output_type": "stream",
     "text": [
      "Fold 0, AUC-ROC: 0.89788\n",
      "Fold 1, AUC-ROC: 0.92512\n",
      "Fold 2, AUC-ROC: 0.92470\n",
      "Fold 3, AUC-ROC: 0.90492\n",
      "CV AUC-ROC: 0.91316\n"
     ]
    },
    {
     "name": "stderr",
     "output_type": "stream",
     "text": [
      "100%|██████████| 4/4 [01:28<00:00, 22.05s/it]\n",
      "[I 2025-03-12 22:34:25,091] Trial 50 finished with value: 0.8991880769171965 and parameters: {'learning_rate': 0.03486408071232415, 'feature_fraction': 0.4538204634374598, 'n_estimators': 2924, 'max_depth': 12, 'lambda_l1': 70.77675203136391, 'lambda_l2': 76.00852853448191, 'num_boost_round': 85}. Best is trial 27 with value: 0.918563142062454.\n"
     ]
    },
    {
     "name": "stdout",
     "output_type": "stream",
     "text": [
      "Fold 0, AUC-ROC: 0.88393\n",
      "Fold 1, AUC-ROC: 0.90517\n",
      "Fold 2, AUC-ROC: 0.91133\n",
      "Fold 3, AUC-ROC: 0.89632\n",
      "CV AUC-ROC: 0.89919\n"
     ]
    },
    {
     "name": "stderr",
     "output_type": "stream",
     "text": [
      "100%|██████████| 4/4 [27:18<00:00, 409.73s/it]\n",
      "[I 2025-03-12 23:01:45,037] Trial 51 finished with value: 0.9162576696097546 and parameters: {'learning_rate': 0.01805496076759758, 'feature_fraction': 0.5553368053834987, 'n_estimators': 3680, 'max_depth': 9, 'lambda_l1': 3.3533420782193466, 'lambda_l2': 89.92679127717064, 'num_boost_round': 36}. Best is trial 27 with value: 0.918563142062454.\n"
     ]
    },
    {
     "name": "stdout",
     "output_type": "stream",
     "text": [
      "Fold 0, AUC-ROC: 0.90149\n",
      "Fold 1, AUC-ROC: 0.92865\n",
      "Fold 2, AUC-ROC: 0.92771\n",
      "Fold 3, AUC-ROC: 0.90717\n",
      "CV AUC-ROC: 0.91626\n"
     ]
    },
    {
     "name": "stderr",
     "output_type": "stream",
     "text": [
      "100%|██████████| 4/4 [16:33<00:00, 248.45s/it]\n",
      "[I 2025-03-12 23:18:19,853] Trial 52 finished with value: 0.9157257791319479 and parameters: {'learning_rate': 0.013412901941251002, 'feature_fraction': 0.43136733992134574, 'n_estimators': 4000, 'max_depth': 10, 'lambda_l1': 0.5009731882409154, 'lambda_l2': 95.08548895940913, 'num_boost_round': 39}. Best is trial 27 with value: 0.918563142062454.\n"
     ]
    },
    {
     "name": "stdout",
     "output_type": "stream",
     "text": [
      "Fold 0, AUC-ROC: 0.90151\n",
      "Fold 1, AUC-ROC: 0.92691\n",
      "Fold 2, AUC-ROC: 0.92658\n",
      "Fold 3, AUC-ROC: 0.90790\n",
      "CV AUC-ROC: 0.91573\n"
     ]
    },
    {
     "name": "stderr",
     "output_type": "stream",
     "text": [
      "100%|██████████| 4/4 [05:17<00:00, 79.40s/it]\n",
      "[I 2025-03-12 23:23:38,467] Trial 53 finished with value: 0.9165413431426139 and parameters: {'learning_rate': 0.022038010795147816, 'feature_fraction': 0.607486234809708, 'n_estimators': 3715, 'max_depth': 9, 'lambda_l1': 3.284912493497721, 'lambda_l2': 88.7402413796711, 'num_boost_round': 33}. Best is trial 27 with value: 0.918563142062454.\n"
     ]
    },
    {
     "name": "stdout",
     "output_type": "stream",
     "text": [
      "Fold 0, AUC-ROC: 0.90157\n",
      "Fold 1, AUC-ROC: 0.93037\n",
      "Fold 2, AUC-ROC: 0.92878\n",
      "Fold 3, AUC-ROC: 0.90544\n",
      "CV AUC-ROC: 0.91654\n"
     ]
    },
    {
     "name": "stderr",
     "output_type": "stream",
     "text": [
      "100%|██████████| 4/4 [05:37<00:00, 84.25s/it]\n",
      "[I 2025-03-12 23:29:16,473] Trial 54 finished with value: 0.9125259180126559 and parameters: {'learning_rate': 0.009520286470055926, 'feature_fraction': 0.7419547997471472, 'n_estimators': 3559, 'max_depth': 12, 'lambda_l1': 8.69689477530613, 'lambda_l2': 78.16464599401934, 'num_boost_round': 41}. Best is trial 27 with value: 0.918563142062454.\n"
     ]
    },
    {
     "name": "stdout",
     "output_type": "stream",
     "text": [
      "Fold 0, AUC-ROC: 0.89808\n",
      "Fold 1, AUC-ROC: 0.92387\n",
      "Fold 2, AUC-ROC: 0.92415\n",
      "Fold 3, AUC-ROC: 0.90401\n",
      "CV AUC-ROC: 0.91253\n"
     ]
    },
    {
     "name": "stderr",
     "output_type": "stream",
     "text": [
      "100%|██████████| 4/4 [07:43<00:00, 115.98s/it]\n",
      "[I 2025-03-12 23:37:01,438] Trial 55 finished with value: 0.9168828258379197 and parameters: {'learning_rate': 0.017583082269777464, 'feature_fraction': 0.5029103021257764, 'n_estimators': 3845, 'max_depth': 11, 'lambda_l1': 15.086763180575627, 'lambda_l2': 64.23902410244455, 'num_boost_round': 48}. Best is trial 27 with value: 0.918563142062454.\n"
     ]
    },
    {
     "name": "stdout",
     "output_type": "stream",
     "text": [
      "Fold 0, AUC-ROC: 0.90100\n",
      "Fold 1, AUC-ROC: 0.92966\n",
      "Fold 2, AUC-ROC: 0.92953\n",
      "Fold 3, AUC-ROC: 0.90734\n",
      "CV AUC-ROC: 0.91688\n"
     ]
    },
    {
     "name": "stderr",
     "output_type": "stream",
     "text": [
      "100%|██████████| 4/4 [04:25<00:00, 66.35s/it]\n",
      "[I 2025-03-12 23:41:27,853] Trial 56 finished with value: 0.9174811525473402 and parameters: {'learning_rate': 0.044918144727418396, 'feature_fraction': 0.5065381250017879, 'n_estimators': 3838, 'max_depth': 11, 'lambda_l1': 13.542553881010818, 'lambda_l2': 62.42720910107438, 'num_boost_round': 47}. Best is trial 27 with value: 0.918563142062454.\n"
     ]
    },
    {
     "name": "stdout",
     "output_type": "stream",
     "text": [
      "Fold 0, AUC-ROC: 0.90198\n",
      "Fold 1, AUC-ROC: 0.93016\n",
      "Fold 2, AUC-ROC: 0.93071\n",
      "Fold 3, AUC-ROC: 0.90707\n",
      "CV AUC-ROC: 0.91748\n"
     ]
    },
    {
     "name": "stderr",
     "output_type": "stream",
     "text": [
      "100%|██████████| 4/4 [02:23<00:00, 35.96s/it]\n",
      "[I 2025-03-12 23:43:52,617] Trial 57 finished with value: 0.916722668448144 and parameters: {'learning_rate': 0.08080691589405826, 'feature_fraction': 0.4995186369236533, 'n_estimators': 3101, 'max_depth': 10, 'lambda_l1': 15.27324131603439, 'lambda_l2': 62.37175569399307, 'num_boost_round': 47}. Best is trial 27 with value: 0.918563142062454.\n"
     ]
    },
    {
     "name": "stdout",
     "output_type": "stream",
     "text": [
      "Fold 0, AUC-ROC: 0.90124\n",
      "Fold 1, AUC-ROC: 0.92987\n",
      "Fold 2, AUC-ROC: 0.92873\n",
      "Fold 3, AUC-ROC: 0.90705\n",
      "CV AUC-ROC: 0.91672\n"
     ]
    },
    {
     "name": "stderr",
     "output_type": "stream",
     "text": [
      "100%|██████████| 4/4 [02:47<00:00, 41.93s/it]\n",
      "[I 2025-03-12 23:46:41,301] Trial 58 finished with value: 0.9143893936377029 and parameters: {'learning_rate': 0.041095460148168866, 'feature_fraction': 0.5055804941827751, 'n_estimators': 3832, 'max_depth': 13, 'lambda_l1': 22.406351670673512, 'lambda_l2': 51.044553440548015, 'num_boost_round': 62}. Best is trial 27 with value: 0.918563142062454.\n"
     ]
    },
    {
     "name": "stdout",
     "output_type": "stream",
     "text": [
      "Fold 0, AUC-ROC: 0.89794\n",
      "Fold 1, AUC-ROC: 0.92658\n",
      "Fold 2, AUC-ROC: 0.92717\n",
      "Fold 3, AUC-ROC: 0.90586\n",
      "CV AUC-ROC: 0.91439\n"
     ]
    },
    {
     "name": "stderr",
     "output_type": "stream",
     "text": [
      "100%|██████████| 4/4 [01:54<00:00, 28.71s/it]\n",
      "[I 2025-03-12 23:48:37,094] Trial 59 finished with value: 0.9076112037609759 and parameters: {'learning_rate': 0.026225041040817996, 'feature_fraction': 0.4792619506781737, 'n_estimators': 892, 'max_depth': 12, 'lambda_l1': 26.112507495726355, 'lambda_l2': 65.15314922195937, 'num_boost_round': 49}. Best is trial 27 with value: 0.918563142062454.\n"
     ]
    },
    {
     "name": "stdout",
     "output_type": "stream",
     "text": [
      "Fold 0, AUC-ROC: 0.89243\n",
      "Fold 1, AUC-ROC: 0.91704\n",
      "Fold 2, AUC-ROC: 0.91830\n",
      "Fold 3, AUC-ROC: 0.90268\n",
      "CV AUC-ROC: 0.90761\n"
     ]
    },
    {
     "name": "stderr",
     "output_type": "stream",
     "text": [
      "100%|██████████| 4/4 [03:07<00:00, 46.85s/it]\n",
      "[I 2025-03-12 23:51:45,507] Trial 60 finished with value: 0.9181150604971837 and parameters: {'learning_rate': 0.07016501644134662, 'feature_fraction': 0.5333726196541456, 'n_estimators': 3486, 'max_depth': 10, 'lambda_l1': 12.015366917899904, 'lambda_l2': 59.98399858036044, 'num_boost_round': 12}. Best is trial 27 with value: 0.918563142062454.\n"
     ]
    },
    {
     "name": "stdout",
     "output_type": "stream",
     "text": [
      "Fold 0, AUC-ROC: 0.90277\n",
      "Fold 1, AUC-ROC: 0.93138\n",
      "Fold 2, AUC-ROC: 0.92972\n",
      "Fold 3, AUC-ROC: 0.90858\n",
      "CV AUC-ROC: 0.91812\n"
     ]
    },
    {
     "name": "stderr",
     "output_type": "stream",
     "text": [
      "100%|██████████| 4/4 [03:00<00:00, 45.10s/it]\n",
      "[I 2025-03-12 23:54:46,864] Trial 61 finished with value: 0.9182902940078176 and parameters: {'learning_rate': 0.07815596376783282, 'feature_fraction': 0.5294367021678149, 'n_estimators': 3443, 'max_depth': 10, 'lambda_l1': 11.510094989563761, 'lambda_l2': 60.44393220679782, 'num_boost_round': 7}. Best is trial 27 with value: 0.918563142062454.\n"
     ]
    },
    {
     "name": "stdout",
     "output_type": "stream",
     "text": [
      "Fold 0, AUC-ROC: 0.90286\n",
      "Fold 1, AUC-ROC: 0.93269\n",
      "Fold 2, AUC-ROC: 0.93096\n",
      "Fold 3, AUC-ROC: 0.90666\n",
      "CV AUC-ROC: 0.91829\n"
     ]
    },
    {
     "name": "stderr",
     "output_type": "stream",
     "text": [
      "100%|██████████| 4/4 [02:51<00:00, 42.95s/it]\n",
      "[I 2025-03-12 23:57:39,707] Trial 62 finished with value: 0.9171619453602462 and parameters: {'learning_rate': 0.07187356822158579, 'feature_fraction': 0.5359506142754973, 'n_estimators': 3482, 'max_depth': 10, 'lambda_l1': 12.439160206366264, 'lambda_l2': 58.69374282403958, 'num_boost_round': 11}. Best is trial 27 with value: 0.918563142062454.\n"
     ]
    },
    {
     "name": "stdout",
     "output_type": "stream",
     "text": [
      "Fold 0, AUC-ROC: 0.90089\n",
      "Fold 1, AUC-ROC: 0.93120\n",
      "Fold 2, AUC-ROC: 0.92898\n",
      "Fold 3, AUC-ROC: 0.90758\n",
      "CV AUC-ROC: 0.91716\n"
     ]
    },
    {
     "name": "stderr",
     "output_type": "stream",
     "text": [
      "100%|██████████| 4/4 [02:21<00:00, 35.44s/it]\n",
      "[I 2025-03-13 00:00:02,482] Trial 63 finished with value: 0.9179018629680309 and parameters: {'learning_rate': 0.09012356836491223, 'feature_fraction': 0.5380441114270665, 'n_estimators': 2757, 'max_depth': 10, 'lambda_l1': 11.914722286177668, 'lambda_l2': 59.38362185624897, 'num_boost_round': 13}. Best is trial 27 with value: 0.918563142062454.\n"
     ]
    },
    {
     "name": "stdout",
     "output_type": "stream",
     "text": [
      "Fold 0, AUC-ROC: 0.90394\n",
      "Fold 1, AUC-ROC: 0.93184\n",
      "Fold 2, AUC-ROC: 0.93056\n",
      "Fold 3, AUC-ROC: 0.90527\n",
      "CV AUC-ROC: 0.91790\n"
     ]
    },
    {
     "name": "stderr",
     "output_type": "stream",
     "text": [
      "100%|██████████| 4/4 [02:13<00:00, 33.39s/it]\n",
      "[I 2025-03-13 00:02:17,085] Trial 64 finished with value: 0.9147844420435612 and parameters: {'learning_rate': 0.04964820435684977, 'feature_fraction': 0.5797485900501412, 'n_estimators': 2664, 'max_depth': 8, 'lambda_l1': 19.893487923071184, 'lambda_l2': 52.04261978733729, 'num_boost_round': 7}. Best is trial 27 with value: 0.918563142062454.\n"
     ]
    },
    {
     "name": "stdout",
     "output_type": "stream",
     "text": [
      "Fold 0, AUC-ROC: 0.89964\n",
      "Fold 1, AUC-ROC: 0.92764\n",
      "Fold 2, AUC-ROC: 0.92637\n",
      "Fold 3, AUC-ROC: 0.90549\n",
      "CV AUC-ROC: 0.91478\n"
     ]
    },
    {
     "name": "stderr",
     "output_type": "stream",
     "text": [
      "100%|██████████| 4/4 [00:37<00:00,  9.35s/it]\n",
      "[I 2025-03-13 00:02:55,404] Trial 65 finished with value: 0.8938155955386766 and parameters: {'learning_rate': 0.10399704396058339, 'feature_fraction': 0.521315463238409, 'n_estimators': 3330, 'max_depth': 10, 'lambda_l1': 98.5137016192048, 'lambda_l2': 43.8508180454771, 'num_boost_round': 11}. Best is trial 27 with value: 0.918563142062454.\n"
     ]
    },
    {
     "name": "stdout",
     "output_type": "stream",
     "text": [
      "Fold 0, AUC-ROC: 0.87800\n",
      "Fold 1, AUC-ROC: 0.89852\n",
      "Fold 2, AUC-ROC: 0.90585\n",
      "Fold 3, AUC-ROC: 0.89289\n",
      "CV AUC-ROC: 0.89382\n"
     ]
    },
    {
     "name": "stderr",
     "output_type": "stream",
     "text": [
      "100%|██████████| 4/4 [01:35<00:00, 23.82s/it]\n",
      "[I 2025-03-13 00:04:31,707] Trial 66 finished with value: 0.9175336711939315 and parameters: {'learning_rate': 0.09781958163866893, 'feature_fraction': 0.6490946952679102, 'n_estimators': 3119, 'max_depth': 9, 'lambda_l1': 10.964354948092227, 'lambda_l2': 47.518574301050116, 'num_boost_round': 7}. Best is trial 27 with value: 0.918563142062454.\n"
     ]
    },
    {
     "name": "stdout",
     "output_type": "stream",
     "text": [
      "Fold 0, AUC-ROC: 0.90192\n",
      "Fold 1, AUC-ROC: 0.93105\n",
      "Fold 2, AUC-ROC: 0.93192\n",
      "Fold 3, AUC-ROC: 0.90524\n",
      "CV AUC-ROC: 0.91753\n"
     ]
    },
    {
     "name": "stderr",
     "output_type": "stream",
     "text": [
      "100%|██████████| 4/4 [01:39<00:00, 24.89s/it]\n",
      "[I 2025-03-13 00:06:12,323] Trial 67 finished with value: 0.9161949403528947 and parameters: {'learning_rate': 0.0979380879812632, 'feature_fraction': 0.6341360104149948, 'n_estimators': 2768, 'max_depth': 7, 'lambda_l1': 11.813523543022372, 'lambda_l2': 46.181261784688964, 'num_boost_round': 4}. Best is trial 27 with value: 0.918563142062454.\n"
     ]
    },
    {
     "name": "stdout",
     "output_type": "stream",
     "text": [
      "Fold 0, AUC-ROC: 0.90157\n",
      "Fold 1, AUC-ROC: 0.93057\n",
      "Fold 2, AUC-ROC: 0.92835\n",
      "Fold 3, AUC-ROC: 0.90430\n",
      "CV AUC-ROC: 0.91619\n"
     ]
    },
    {
     "name": "stderr",
     "output_type": "stream",
     "text": [
      "100%|██████████| 4/4 [00:58<00:00, 14.63s/it]\n",
      "[I 2025-03-13 00:07:11,823] Trial 68 finished with value: 0.9080544780930556 and parameters: {'learning_rate': 0.08718229476829621, 'feature_fraction': 0.5475628204821373, 'n_estimators': 2945, 'max_depth': 9, 'lambda_l1': 36.92973371804073, 'lambda_l2': 37.102898683388936, 'num_boost_round': 15}. Best is trial 27 with value: 0.918563142062454.\n"
     ]
    },
    {
     "name": "stdout",
     "output_type": "stream",
     "text": [
      "Fold 0, AUC-ROC: 0.89226\n",
      "Fold 1, AUC-ROC: 0.91789\n",
      "Fold 2, AUC-ROC: 0.91961\n",
      "Fold 3, AUC-ROC: 0.90246\n",
      "CV AUC-ROC: 0.90805\n"
     ]
    },
    {
     "name": "stderr",
     "output_type": "stream",
     "text": [
      "100%|██████████| 4/4 [01:38<00:00, 24.65s/it]\n",
      "[I 2025-03-13 00:08:51,359] Trial 69 finished with value: 0.9165692366957019 and parameters: {'learning_rate': 0.06971169440957152, 'feature_fraction': 0.66209137018291, 'n_estimators': 3150, 'max_depth': 9, 'lambda_l1': 16.532387239380235, 'lambda_l2': 59.73835419816278, 'num_boost_round': 23}. Best is trial 27 with value: 0.918563142062454.\n"
     ]
    },
    {
     "name": "stdout",
     "output_type": "stream",
     "text": [
      "Fold 0, AUC-ROC: 0.90075\n",
      "Fold 1, AUC-ROC: 0.93047\n",
      "Fold 2, AUC-ROC: 0.92866\n",
      "Fold 3, AUC-ROC: 0.90639\n",
      "CV AUC-ROC: 0.91657\n"
     ]
    },
    {
     "name": "stderr",
     "output_type": "stream",
     "text": [
      "100%|██████████| 4/4 [01:49<00:00, 27.44s/it]\n",
      "[I 2025-03-13 00:10:42,052] Trial 70 finished with value: 0.9167496513099804 and parameters: {'learning_rate': 0.12480109590083693, 'feature_fraction': 0.5648653509286362, 'n_estimators': 2864, 'max_depth': 8, 'lambda_l1': 11.541290449706299, 'lambda_l2': 55.6580284134391, 'num_boost_round': 7}. Best is trial 27 with value: 0.918563142062454.\n"
     ]
    },
    {
     "name": "stdout",
     "output_type": "stream",
     "text": [
      "Fold 0, AUC-ROC: 0.90124\n",
      "Fold 1, AUC-ROC: 0.93036\n",
      "Fold 2, AUC-ROC: 0.92852\n",
      "Fold 3, AUC-ROC: 0.90687\n",
      "CV AUC-ROC: 0.91675\n"
     ]
    },
    {
     "name": "stderr",
     "output_type": "stream",
     "text": [
      "100%|██████████| 4/4 [03:26<00:00, 51.74s/it]\n",
      "[I 2025-03-13 00:14:09,948] Trial 71 finished with value: 0.9187624472544931 and parameters: {'learning_rate': 0.04187206727910642, 'feature_fraction': 0.6036136739901616, 'n_estimators': 3403, 'max_depth': 11, 'lambda_l1': 9.812406067481477, 'lambda_l2': 53.814870424258565, 'num_boost_round': 15}. Best is trial 71 with value: 0.9187624472544931.\n"
     ]
    },
    {
     "name": "stdout",
     "output_type": "stream",
     "text": [
      "Fold 0, AUC-ROC: 0.90267\n",
      "Fold 1, AUC-ROC: 0.93346\n",
      "Fold 2, AUC-ROC: 0.93161\n",
      "Fold 3, AUC-ROC: 0.90731\n",
      "CV AUC-ROC: 0.91876\n"
     ]
    },
    {
     "name": "stderr",
     "output_type": "stream",
     "text": [
      "100%|██████████| 4/4 [02:30<00:00, 37.57s/it]\n",
      "[I 2025-03-13 00:16:41,239] Trial 72 finished with value: 0.9148686762415776 and parameters: {'learning_rate': 0.03769808487462877, 'feature_fraction': 0.6177701459790225, 'n_estimators': 3188, 'max_depth': 10, 'lambda_l1': 20.461022925753916, 'lambda_l2': 46.86904542126194, 'num_boost_round': 15}. Best is trial 71 with value: 0.9187624472544931.\n"
     ]
    },
    {
     "name": "stdout",
     "output_type": "stream",
     "text": [
      "Fold 0, AUC-ROC: 0.89969\n",
      "Fold 1, AUC-ROC: 0.92799\n",
      "Fold 2, AUC-ROC: 0.92635\n",
      "Fold 3, AUC-ROC: 0.90545\n",
      "CV AUC-ROC: 0.91487\n"
     ]
    },
    {
     "name": "stderr",
     "output_type": "stream",
     "text": [
      "100%|██████████| 4/4 [03:25<00:00, 51.48s/it]\n",
      "[I 2025-03-13 00:20:08,224] Trial 73 finished with value: 0.9175670310874748 and parameters: {'learning_rate': 0.04711364146794205, 'feature_fraction': 0.6062115923522886, 'n_estimators': 3365, 'max_depth': 11, 'lambda_l1': 13.911928657231417, 'lambda_l2': 71.5628963009136, 'num_boost_round': 21}. Best is trial 71 with value: 0.9187624472544931.\n"
     ]
    },
    {
     "name": "stdout",
     "output_type": "stream",
     "text": [
      "Fold 0, AUC-ROC: 0.90064\n",
      "Fold 1, AUC-ROC: 0.93191\n",
      "Fold 2, AUC-ROC: 0.93003\n",
      "Fold 3, AUC-ROC: 0.90768\n",
      "CV AUC-ROC: 0.91757\n"
     ]
    },
    {
     "name": "stderr",
     "output_type": "stream",
     "text": [
      "100%|██████████| 4/4 [03:40<00:00, 55.00s/it]\n",
      "[I 2025-03-13 00:23:49,214] Trial 74 finished with value: 0.9185173663074204 and parameters: {'learning_rate': 0.05726500620519773, 'feature_fraction': 0.5943105306612422, 'n_estimators': 3066, 'max_depth': 10, 'lambda_l1': 9.706455160948801, 'lambda_l2': 71.28692285677407, 'num_boost_round': 22}. Best is trial 71 with value: 0.9187624472544931.\n"
     ]
    },
    {
     "name": "stdout",
     "output_type": "stream",
     "text": [
      "Fold 0, AUC-ROC: 0.90228\n",
      "Fold 1, AUC-ROC: 0.93233\n",
      "Fold 2, AUC-ROC: 0.93137\n",
      "Fold 3, AUC-ROC: 0.90809\n",
      "CV AUC-ROC: 0.91852\n"
     ]
    },
    {
     "name": "stderr",
     "output_type": "stream",
     "text": [
      "100%|██████████| 4/4 [03:12<00:00, 48.08s/it]\n",
      "[I 2025-03-13 00:27:02,579] Trial 75 finished with value: 0.9181208985400083 and parameters: {'learning_rate': 0.05825824507692598, 'feature_fraction': 0.597583057747153, 'n_estimators': 3046, 'max_depth': 12, 'lambda_l1': 4.4617510798779545, 'lambda_l2': 70.9061078415248, 'num_boost_round': 21}. Best is trial 71 with value: 0.9187624472544931.\n"
     ]
    },
    {
     "name": "stdout",
     "output_type": "stream",
     "text": [
      "Fold 0, AUC-ROC: 0.90169\n",
      "Fold 1, AUC-ROC: 0.93214\n",
      "Fold 2, AUC-ROC: 0.93183\n",
      "Fold 3, AUC-ROC: 0.90683\n",
      "CV AUC-ROC: 0.91812\n"
     ]
    },
    {
     "name": "stderr",
     "output_type": "stream",
     "text": [
      "100%|██████████| 4/4 [03:19<00:00, 49.93s/it]\n",
      "[I 2025-03-13 00:30:23,364] Trial 76 finished with value: 0.9187962487409208 and parameters: {'learning_rate': 0.058649491580012945, 'feature_fraction': 0.5772784382499496, 'n_estimators': 3034, 'max_depth': 12, 'lambda_l1': 2.7527405953117405, 'lambda_l2': 67.0575529906102, 'num_boost_round': 15}. Best is trial 76 with value: 0.9187962487409208.\n"
     ]
    },
    {
     "name": "stdout",
     "output_type": "stream",
     "text": [
      "Fold 0, AUC-ROC: 0.90295\n",
      "Fold 1, AUC-ROC: 0.93202\n",
      "Fold 2, AUC-ROC: 0.93055\n",
      "Fold 3, AUC-ROC: 0.90967\n",
      "CV AUC-ROC: 0.91880\n"
     ]
    },
    {
     "name": "stderr",
     "output_type": "stream",
     "text": [
      "100%|██████████| 4/4 [02:42<00:00, 40.56s/it]\n",
      "[I 2025-03-13 00:33:06,653] Trial 77 finished with value: 0.9176677046181448 and parameters: {'learning_rate': 0.06048571646794976, 'feature_fraction': 0.6776160428453468, 'n_estimators': 3059, 'max_depth': 12, 'lambda_l1': 4.683046432630457, 'lambda_l2': 69.46084100863993, 'num_boost_round': 28}. Best is trial 76 with value: 0.9187962487409208.\n"
     ]
    },
    {
     "name": "stdout",
     "output_type": "stream",
     "text": [
      "Fold 0, AUC-ROC: 0.90154\n",
      "Fold 1, AUC-ROC: 0.93165\n",
      "Fold 2, AUC-ROC: 0.93065\n",
      "Fold 3, AUC-ROC: 0.90683\n",
      "CV AUC-ROC: 0.91767\n"
     ]
    },
    {
     "name": "stderr",
     "output_type": "stream",
     "text": [
      "100%|██████████| 4/4 [03:08<00:00, 47.23s/it]\n",
      "[I 2025-03-13 00:36:16,611] Trial 78 finished with value: 0.9177325619234484 and parameters: {'learning_rate': 0.05536261346563996, 'feature_fraction': 0.5956526840861183, 'n_estimators': 3241, 'max_depth': 14, 'lambda_l1': 0.16757871802344493, 'lambda_l2': 67.30445784240858, 'num_boost_round': 18}. Best is trial 76 with value: 0.9187962487409208.\n"
     ]
    },
    {
     "name": "stdout",
     "output_type": "stream",
     "text": [
      "Fold 0, AUC-ROC: 0.90193\n",
      "Fold 1, AUC-ROC: 0.93105\n",
      "Fold 2, AUC-ROC: 0.93002\n",
      "Fold 3, AUC-ROC: 0.90794\n",
      "CV AUC-ROC: 0.91773\n"
     ]
    },
    {
     "name": "stderr",
     "output_type": "stream",
     "text": [
      "100%|██████████| 4/4 [02:50<00:00, 42.50s/it]\n",
      "[I 2025-03-13 00:39:07,554] Trial 79 finished with value: 0.918559967406086 and parameters: {'learning_rate': 0.07028908318349396, 'feature_fraction': 0.5741082801080017, 'n_estimators': 3467, 'max_depth': 12, 'lambda_l1': 4.715383480244358, 'lambda_l2': 53.80882645996236, 'num_boost_round': 22}. Best is trial 76 with value: 0.9187962487409208.\n"
     ]
    },
    {
     "name": "stdout",
     "output_type": "stream",
     "text": [
      "Fold 0, AUC-ROC: 0.90134\n",
      "Fold 1, AUC-ROC: 0.93344\n",
      "Fold 2, AUC-ROC: 0.93106\n",
      "Fold 3, AUC-ROC: 0.90839\n",
      "CV AUC-ROC: 0.91856\n"
     ]
    },
    {
     "name": "stderr",
     "output_type": "stream",
     "text": [
      "100%|██████████| 4/4 [02:28<00:00, 37.08s/it]\n",
      "[I 2025-03-13 00:41:36,772] Trial 80 finished with value: 0.918519735783971 and parameters: {'learning_rate': 0.07238305423909618, 'feature_fraction': 0.5700393147865884, 'n_estimators': 3007, 'max_depth': 12, 'lambda_l1': 8.648977826508922, 'lambda_l2': 53.57636772936289, 'num_boost_round': 26}. Best is trial 76 with value: 0.9187962487409208.\n"
     ]
    },
    {
     "name": "stdout",
     "output_type": "stream",
     "text": [
      "Fold 0, AUC-ROC: 0.90198\n",
      "Fold 1, AUC-ROC: 0.93348\n",
      "Fold 2, AUC-ROC: 0.93237\n",
      "Fold 3, AUC-ROC: 0.90626\n",
      "CV AUC-ROC: 0.91852\n"
     ]
    },
    {
     "name": "stderr",
     "output_type": "stream",
     "text": [
      "100%|██████████| 4/4 [02:35<00:00, 38.83s/it]\n",
      "[I 2025-03-13 00:44:13,040] Trial 81 finished with value: 0.9182084198717733 and parameters: {'learning_rate': 0.07174735658484183, 'feature_fraction': 0.5753487382042567, 'n_estimators': 3620, 'max_depth': 12, 'lambda_l1': 4.297344368629649, 'lambda_l2': 53.46722683094258, 'num_boost_round': 21}. Best is trial 76 with value: 0.9187962487409208.\n"
     ]
    },
    {
     "name": "stdout",
     "output_type": "stream",
     "text": [
      "Fold 0, AUC-ROC: 0.90395\n",
      "Fold 1, AUC-ROC: 0.93236\n",
      "Fold 2, AUC-ROC: 0.93061\n",
      "Fold 3, AUC-ROC: 0.90592\n",
      "CV AUC-ROC: 0.91821\n"
     ]
    },
    {
     "name": "stderr",
     "output_type": "stream",
     "text": [
      "100%|██████████| 4/4 [02:29<00:00, 37.38s/it]\n",
      "[I 2025-03-13 00:46:43,738] Trial 82 finished with value: 0.9185413991291278 and parameters: {'learning_rate': 0.07504828041394614, 'feature_fraction': 0.583817110418649, 'n_estimators': 2989, 'max_depth': 13, 'lambda_l1': 3.3937895629416595, 'lambda_l2': 53.57337174098478, 'num_boost_round': 22}. Best is trial 76 with value: 0.9187962487409208.\n"
     ]
    },
    {
     "name": "stdout",
     "output_type": "stream",
     "text": [
      "Fold 0, AUC-ROC: 0.90042\n",
      "Fold 1, AUC-ROC: 0.93341\n",
      "Fold 2, AUC-ROC: 0.93075\n",
      "Fold 3, AUC-ROC: 0.90958\n",
      "CV AUC-ROC: 0.91854\n"
     ]
    },
    {
     "name": "stderr",
     "output_type": "stream",
     "text": [
      "100%|██████████| 4/4 [02:22<00:00, 35.73s/it]\n",
      "[I 2025-03-13 00:49:07,728] Trial 83 finished with value: 0.9181393179544247 and parameters: {'learning_rate': 0.07809501108711522, 'feature_fraction': 0.6241785854456955, 'n_estimators': 3399, 'max_depth': 13, 'lambda_l1': 2.4212855455437508, 'lambda_l2': 52.35550715650247, 'num_boost_round': 26}. Best is trial 76 with value: 0.9187962487409208.\n"
     ]
    },
    {
     "name": "stdout",
     "output_type": "stream",
     "text": [
      "Fold 0, AUC-ROC: 0.90320\n",
      "Fold 1, AUC-ROC: 0.93117\n",
      "Fold 2, AUC-ROC: 0.92962\n",
      "Fold 3, AUC-ROC: 0.90857\n",
      "CV AUC-ROC: 0.91814\n"
     ]
    },
    {
     "name": "stderr",
     "output_type": "stream",
     "text": [
      "100%|██████████| 4/4 [02:06<00:00, 31.52s/it]\n",
      "[I 2025-03-13 00:51:14,724] Trial 84 finished with value: 0.9180218843426347 and parameters: {'learning_rate': 0.10975597370423648, 'feature_fraction': 0.580121851766886, 'n_estimators': 3609, 'max_depth': 15, 'lambda_l1': 9.09532402104037, 'lambda_l2': 53.743414760518874, 'num_boost_round': 23}. Best is trial 76 with value: 0.9187962487409208.\n"
     ]
    },
    {
     "name": "stdout",
     "output_type": "stream",
     "text": [
      "Fold 0, AUC-ROC: 0.90273\n",
      "Fold 1, AUC-ROC: 0.93165\n",
      "Fold 2, AUC-ROC: 0.93082\n",
      "Fold 3, AUC-ROC: 0.90689\n",
      "CV AUC-ROC: 0.91802\n"
     ]
    },
    {
     "name": "stderr",
     "output_type": "stream",
     "text": [
      "100%|██████████| 4/4 [01:38<00:00, 24.71s/it]\n",
      "[I 2025-03-13 00:52:54,573] Trial 85 finished with value: 0.9179250364473648 and parameters: {'learning_rate': 0.16725101648462112, 'feature_fraction': 0.5631284125131615, 'n_estimators': 2947, 'max_depth': 13, 'lambda_l1': 5.2529859475430145, 'lambda_l2': 55.571711548729546, 'num_boost_round': 16}. Best is trial 76 with value: 0.9187962487409208.\n"
     ]
    },
    {
     "name": "stdout",
     "output_type": "stream",
     "text": [
      "Fold 0, AUC-ROC: 0.90559\n",
      "Fold 1, AUC-ROC: 0.93132\n",
      "Fold 2, AUC-ROC: 0.92942\n",
      "Fold 3, AUC-ROC: 0.90537\n",
      "CV AUC-ROC: 0.91793\n"
     ]
    },
    {
     "name": "stderr",
     "output_type": "stream",
     "text": [
      "100%|██████████| 4/4 [04:35<00:00, 68.87s/it]\n",
      "[I 2025-03-13 00:57:31,093] Trial 86 finished with value: 0.9189128650134016 and parameters: {'learning_rate': 0.03853480230383642, 'feature_fraction': 0.5739898122853804, 'n_estimators': 2685, 'max_depth': 13, 'lambda_l1': 9.157158658371301, 'lambda_l2': 48.525708227147554, 'num_boost_round': 19}. Best is trial 86 with value: 0.9189128650134016.\n"
     ]
    },
    {
     "name": "stdout",
     "output_type": "stream",
     "text": [
      "Fold 0, AUC-ROC: 0.90297\n",
      "Fold 1, AUC-ROC: 0.93238\n",
      "Fold 2, AUC-ROC: 0.93092\n",
      "Fold 3, AUC-ROC: 0.90939\n",
      "CV AUC-ROC: 0.91891\n"
     ]
    },
    {
     "name": "stderr",
     "output_type": "stream",
     "text": [
      "100%|██████████| 4/4 [04:03<00:00, 60.79s/it]\n",
      "[I 2025-03-13 01:01:35,223] Trial 87 finished with value: 0.9187291903587276 and parameters: {'learning_rate': 0.03209536265440146, 'feature_fraction': 0.587518850738007, 'n_estimators': 2668, 'max_depth': 14, 'lambda_l1': 8.661031795738733, 'lambda_l2': 49.360421601578246, 'num_boost_round': 27}. Best is trial 86 with value: 0.9189128650134016.\n"
     ]
    },
    {
     "name": "stdout",
     "output_type": "stream",
     "text": [
      "Fold 0, AUC-ROC: 0.90261\n",
      "Fold 1, AUC-ROC: 0.93217\n",
      "Fold 2, AUC-ROC: 0.93165\n",
      "Fold 3, AUC-ROC: 0.90848\n",
      "CV AUC-ROC: 0.91873\n"
     ]
    },
    {
     "name": "stderr",
     "output_type": "stream",
     "text": [
      "100%|██████████| 4/4 [04:29<00:00, 67.27s/it]\n",
      "[I 2025-03-13 01:06:05,238] Trial 88 finished with value: 0.919118467786287 and parameters: {'learning_rate': 0.031340915717975135, 'feature_fraction': 0.5508118763445964, 'n_estimators': 2698, 'max_depth': 15, 'lambda_l1': 7.916134132866485, 'lambda_l2': 41.68146929320817, 'num_boost_round': 29}. Best is trial 88 with value: 0.919118467786287.\n"
     ]
    },
    {
     "name": "stdout",
     "output_type": "stream",
     "text": [
      "Fold 0, AUC-ROC: 0.90277\n",
      "Fold 1, AUC-ROC: 0.93320\n",
      "Fold 2, AUC-ROC: 0.93115\n",
      "Fold 3, AUC-ROC: 0.90935\n",
      "CV AUC-ROC: 0.91912\n"
     ]
    },
    {
     "name": "stderr",
     "output_type": "stream",
     "text": [
      "100%|██████████| 4/4 [03:54<00:00, 58.70s/it]\n",
      "[I 2025-03-13 01:10:01,188] Trial 89 finished with value: 0.918515081666104 and parameters: {'learning_rate': 0.0316459472307101, 'feature_fraction': 0.6129304392036907, 'n_estimators': 2656, 'max_depth': 14, 'lambda_l1': 2.0047641522574926, 'lambda_l2': 39.38410846100048, 'num_boost_round': 26}. Best is trial 88 with value: 0.919118467786287.\n"
     ]
    },
    {
     "name": "stdout",
     "output_type": "stream",
     "text": [
      "Fold 0, AUC-ROC: 0.90318\n",
      "Fold 1, AUC-ROC: 0.93197\n",
      "Fold 2, AUC-ROC: 0.93006\n",
      "Fold 3, AUC-ROC: 0.90885\n",
      "CV AUC-ROC: 0.91852\n"
     ]
    },
    {
     "name": "stderr",
     "output_type": "stream",
     "text": [
      "100%|██████████| 4/4 [04:05<00:00, 61.35s/it]\n",
      "[I 2025-03-13 01:14:07,590] Trial 90 finished with value: 0.9188641261605526 and parameters: {'learning_rate': 0.03757163127685836, 'feature_fraction': 0.5488659299339856, 'n_estimators': 2449, 'max_depth': 15, 'lambda_l1': 8.27065530666444, 'lambda_l2': 48.65222570417798, 'num_boost_round': 19}. Best is trial 88 with value: 0.919118467786287.\n"
     ]
    },
    {
     "name": "stdout",
     "output_type": "stream",
     "text": [
      "Fold 0, AUC-ROC: 0.90185\n",
      "Fold 1, AUC-ROC: 0.93296\n",
      "Fold 2, AUC-ROC: 0.93120\n",
      "Fold 3, AUC-ROC: 0.90945\n",
      "CV AUC-ROC: 0.91886\n"
     ]
    },
    {
     "name": "stderr",
     "output_type": "stream",
     "text": [
      "100%|██████████| 4/4 [03:59<00:00, 59.83s/it]\n",
      "[I 2025-03-13 01:18:07,968] Trial 91 finished with value: 0.9191389989238989 and parameters: {'learning_rate': 0.037920316044216876, 'feature_fraction': 0.545234445174927, 'n_estimators': 2451, 'max_depth': 16, 'lambda_l1': 7.650102332610042, 'lambda_l2': 42.666384951181065, 'num_boost_round': 31}. Best is trial 91 with value: 0.9191389989238989.\n"
     ]
    },
    {
     "name": "stdout",
     "output_type": "stream",
     "text": [
      "Fold 0, AUC-ROC: 0.90465\n",
      "Fold 1, AUC-ROC: 0.93280\n",
      "Fold 2, AUC-ROC: 0.93084\n",
      "Fold 3, AUC-ROC: 0.90827\n",
      "CV AUC-ROC: 0.91914\n"
     ]
    },
    {
     "name": "stderr",
     "output_type": "stream",
     "text": [
      "100%|██████████| 4/4 [04:01<00:00, 60.45s/it]\n",
      "[I 2025-03-13 01:22:10,790] Trial 92 finished with value: 0.9190969969666882 and parameters: {'learning_rate': 0.03843574960419787, 'feature_fraction': 0.5506713034954067, 'n_estimators': 2460, 'max_depth': 16, 'lambda_l1': 6.777406578759644, 'lambda_l2': 42.62309447209821, 'num_boost_round': 32}. Best is trial 91 with value: 0.9191389989238989.\n"
     ]
    },
    {
     "name": "stdout",
     "output_type": "stream",
     "text": [
      "Fold 0, AUC-ROC: 0.90355\n",
      "Fold 1, AUC-ROC: 0.93229\n",
      "Fold 2, AUC-ROC: 0.93127\n",
      "Fold 3, AUC-ROC: 0.90928\n",
      "CV AUC-ROC: 0.91910\n"
     ]
    },
    {
     "name": "stderr",
     "output_type": "stream",
     "text": [
      "100%|██████████| 4/4 [03:18<00:00, 49.54s/it]\n",
      "[I 2025-03-13 01:25:29,992] Trial 93 finished with value: 0.9174930300308994 and parameters: {'learning_rate': 0.03968987678513642, 'feature_fraction': 0.5521537434111754, 'n_estimators': 2466, 'max_depth': 16, 'lambda_l1': 17.187686220778332, 'lambda_l2': 34.29737672025612, 'num_boost_round': 17}. Best is trial 91 with value: 0.9191389989238989.\n"
     ]
    },
    {
     "name": "stdout",
     "output_type": "stream",
     "text": [
      "Fold 0, AUC-ROC: 0.90167\n",
      "Fold 1, AUC-ROC: 0.93009\n",
      "Fold 2, AUC-ROC: 0.93002\n",
      "Fold 3, AUC-ROC: 0.90819\n",
      "CV AUC-ROC: 0.91749\n"
     ]
    },
    {
     "name": "stderr",
     "output_type": "stream",
     "text": [
      "100%|██████████| 4/4 [04:25<00:00, 66.49s/it]\n",
      "[I 2025-03-13 01:29:56,944] Trial 94 finished with value: 0.917856737052837 and parameters: {'learning_rate': 0.025367211522749514, 'feature_fraction': 0.551956020821518, 'n_estimators': 2558, 'max_depth': 16, 'lambda_l1': 5.9903257005745925, 'lambda_l2': 43.225841951593935, 'num_boost_round': 31}. Best is trial 91 with value: 0.9191389989238989.\n"
     ]
    },
    {
     "name": "stdout",
     "output_type": "stream",
     "text": [
      "Fold 0, AUC-ROC: 0.90200\n",
      "Fold 1, AUC-ROC: 0.93225\n",
      "Fold 2, AUC-ROC: 0.92943\n",
      "Fold 3, AUC-ROC: 0.90776\n",
      "CV AUC-ROC: 0.91786\n"
     ]
    },
    {
     "name": "stderr",
     "output_type": "stream",
     "text": [
      "100%|██████████| 4/4 [03:32<00:00, 53.06s/it]\n",
      "[I 2025-03-13 01:33:30,161] Trial 95 finished with value: 0.918080809028833 and parameters: {'learning_rate': 0.031783805637954576, 'feature_fraction': 0.6275305151259087, 'n_estimators': 2184, 'max_depth': 17, 'lambda_l1': 7.142459756039701, 'lambda_l2': 48.80231715885238, 'num_boost_round': 31}. Best is trial 91 with value: 0.9191389989238989.\n"
     ]
    },
    {
     "name": "stdout",
     "output_type": "stream",
     "text": [
      "Fold 0, AUC-ROC: 0.90180\n",
      "Fold 1, AUC-ROC: 0.93167\n",
      "Fold 2, AUC-ROC: 0.93040\n",
      "Fold 3, AUC-ROC: 0.90845\n",
      "CV AUC-ROC: 0.91808\n"
     ]
    },
    {
     "name": "stderr",
     "output_type": "stream",
     "text": [
      "100%|██████████| 4/4 [04:39<00:00, 69.80s/it]\n",
      "[I 2025-03-13 01:38:10,428] Trial 96 finished with value: 0.9191515707117471 and parameters: {'learning_rate': 0.028477547948926454, 'feature_fraction': 0.521231570347733, 'n_estimators': 2398, 'max_depth': 16, 'lambda_l1': 1.4207670000424648, 'lambda_l2': 30.53038255277652, 'num_boost_round': 28}. Best is trial 96 with value: 0.9191515707117471.\n"
     ]
    },
    {
     "name": "stdout",
     "output_type": "stream",
     "text": [
      "Fold 0, AUC-ROC: 0.90321\n",
      "Fold 1, AUC-ROC: 0.93194\n",
      "Fold 2, AUC-ROC: 0.93066\n",
      "Fold 3, AUC-ROC: 0.91079\n",
      "CV AUC-ROC: 0.91915\n"
     ]
    },
    {
     "name": "stderr",
     "output_type": "stream",
     "text": [
      "100%|██████████| 4/4 [04:10<00:00, 62.68s/it]\n",
      "[I 2025-03-13 01:42:22,192] Trial 97 finished with value: 0.9197663889485601 and parameters: {'learning_rate': 0.03457098114217959, 'feature_fraction': 0.5207543820105205, 'n_estimators': 2439, 'max_depth': 16, 'lambda_l1': 0.34005487501404374, 'lambda_l2': 26.912998927745384, 'num_boost_round': 29}. Best is trial 97 with value: 0.9197663889485601.\n"
     ]
    },
    {
     "name": "stdout",
     "output_type": "stream",
     "text": [
      "Fold 0, AUC-ROC: 0.90582\n",
      "Fold 1, AUC-ROC: 0.93252\n",
      "Fold 2, AUC-ROC: 0.93019\n",
      "Fold 3, AUC-ROC: 0.91053\n",
      "CV AUC-ROC: 0.91977\n"
     ]
    },
    {
     "name": "stderr",
     "output_type": "stream",
     "text": [
      "100%|██████████| 4/4 [03:51<00:00, 57.95s/it]\n",
      "[I 2025-03-13 01:46:14,938] Trial 98 finished with value: 0.9190656078340877 and parameters: {'learning_rate': 0.034598053228859886, 'feature_fraction': 0.514039592504675, 'n_estimators': 1961, 'max_depth': 16, 'lambda_l1': 0.3769455118328082, 'lambda_l2': 26.400096001506235, 'num_boost_round': 28}. Best is trial 97 with value: 0.9197663889485601.\n"
     ]
    },
    {
     "name": "stdout",
     "output_type": "stream",
     "text": [
      "Fold 0, AUC-ROC: 0.90572\n",
      "Fold 1, AUC-ROC: 0.93090\n",
      "Fold 2, AUC-ROC: 0.92912\n",
      "Fold 3, AUC-ROC: 0.91052\n",
      "CV AUC-ROC: 0.91907\n"
     ]
    },
    {
     "name": "stderr",
     "output_type": "stream",
     "text": [
      "100%|██████████| 4/4 [03:55<00:00, 58.97s/it]\n",
      "[I 2025-03-13 01:50:11,738] Trial 99 finished with value: 0.9198475489392727 and parameters: {'learning_rate': 0.036229562581381325, 'feature_fraction': 0.5457460496266013, 'n_estimators': 2335, 'max_depth': 16, 'lambda_l1': 1.5025990894902597, 'lambda_l2': 24.93256175132971, 'num_boost_round': 19}. Best is trial 99 with value: 0.9198475489392727.\n"
     ]
    },
    {
     "name": "stdout",
     "output_type": "stream",
     "text": [
      "Fold 0, AUC-ROC: 0.90539\n",
      "Fold 1, AUC-ROC: 0.93284\n",
      "Fold 2, AUC-ROC: 0.93126\n",
      "Fold 3, AUC-ROC: 0.90990\n",
      "CV AUC-ROC: 0.91985\n"
     ]
    },
    {
     "name": "stderr",
     "output_type": "stream",
     "text": [
      "100%|██████████| 4/4 [03:29<00:00, 52.31s/it]\n",
      "[I 2025-03-13 01:53:41,999] Trial 100 finished with value: 0.9207178699382008 and parameters: {'learning_rate': 0.03488070953974898, 'feature_fraction': 0.5446793739364496, 'n_estimators': 1982, 'max_depth': 16, 'lambda_l1': 0.8060468619306942, 'lambda_l2': 15.584919249117327, 'num_boost_round': 29}. Best is trial 100 with value: 0.9207178699382008.\n"
     ]
    },
    {
     "name": "stdout",
     "output_type": "stream",
     "text": [
      "Fold 0, AUC-ROC: 0.90641\n",
      "Fold 1, AUC-ROC: 0.93262\n",
      "Fold 2, AUC-ROC: 0.93140\n",
      "Fold 3, AUC-ROC: 0.91245\n",
      "CV AUC-ROC: 0.92072\n"
     ]
    },
    {
     "name": "stderr",
     "output_type": "stream",
     "text": [
      "100%|██████████| 4/4 [03:20<00:00, 50.11s/it]\n",
      "[I 2025-03-13 01:57:03,435] Trial 101 finished with value: 0.921127859202483 and parameters: {'learning_rate': 0.03570391276400474, 'feature_fraction': 0.5227288371585946, 'n_estimators': 1940, 'max_depth': 16, 'lambda_l1': 0.7352471321882215, 'lambda_l2': 9.158604897298357, 'num_boost_round': 31}. Best is trial 101 with value: 0.921127859202483.\n"
     ]
    },
    {
     "name": "stdout",
     "output_type": "stream",
     "text": [
      "Fold 0, AUC-ROC: 0.90918\n",
      "Fold 1, AUC-ROC: 0.93263\n",
      "Fold 2, AUC-ROC: 0.93194\n",
      "Fold 3, AUC-ROC: 0.91076\n",
      "CV AUC-ROC: 0.92113\n"
     ]
    },
    {
     "name": "stderr",
     "output_type": "stream",
     "text": [
      "100%|██████████| 4/4 [03:27<00:00, 51.95s/it]\n",
      "[I 2025-03-13 02:00:32,262] Trial 102 finished with value: 0.9208115620503784 and parameters: {'learning_rate': 0.0355138238718129, 'feature_fraction': 0.5206334253829018, 'n_estimators': 2025, 'max_depth': 16, 'lambda_l1': 0.3227340228318373, 'lambda_l2': 12.268777001230522, 'num_boost_round': 30}. Best is trial 101 with value: 0.921127859202483.\n"
     ]
    },
    {
     "name": "stdout",
     "output_type": "stream",
     "text": [
      "Fold 0, AUC-ROC: 0.90764\n",
      "Fold 1, AUC-ROC: 0.93146\n",
      "Fold 2, AUC-ROC: 0.93223\n",
      "Fold 3, AUC-ROC: 0.91193\n",
      "CV AUC-ROC: 0.92081\n"
     ]
    },
    {
     "name": "stderr",
     "output_type": "stream",
     "text": [
      "100%|██████████| 4/4 [03:40<00:00, 55.02s/it]\n",
      "[I 2025-03-13 02:04:13,439] Trial 103 finished with value: 0.919922667786766 and parameters: {'learning_rate': 0.02379890836000334, 'feature_fraction': 0.5198310862834603, 'n_estimators': 1881, 'max_depth': 16, 'lambda_l1': 0.3045840810307201, 'lambda_l2': 11.26667075176331, 'num_boost_round': 30}. Best is trial 101 with value: 0.921127859202483.\n"
     ]
    },
    {
     "name": "stdout",
     "output_type": "stream",
     "text": [
      "Fold 0, AUC-ROC: 0.90693\n",
      "Fold 1, AUC-ROC: 0.93007\n",
      "Fold 2, AUC-ROC: 0.92984\n",
      "Fold 3, AUC-ROC: 0.91286\n",
      "CV AUC-ROC: 0.91992\n"
     ]
    },
    {
     "name": "stderr",
     "output_type": "stream",
     "text": [
      "100%|██████████| 4/4 [03:26<00:00, 51.70s/it]\n",
      "[I 2025-03-13 02:07:41,284] Trial 104 finished with value: 0.9209541184245903 and parameters: {'learning_rate': 0.027818940931460215, 'feature_fraction': 0.5146079343884209, 'n_estimators': 1856, 'max_depth': 16, 'lambda_l1': 0.22750739739083287, 'lambda_l2': 8.95837894269976, 'num_boost_round': 30}. Best is trial 101 with value: 0.921127859202483.\n"
     ]
    },
    {
     "name": "stdout",
     "output_type": "stream",
     "text": [
      "Fold 0, AUC-ROC: 0.90872\n",
      "Fold 1, AUC-ROC: 0.93126\n",
      "Fold 2, AUC-ROC: 0.93205\n",
      "Fold 3, AUC-ROC: 0.91179\n",
      "CV AUC-ROC: 0.92095\n"
     ]
    },
    {
     "name": "stderr",
     "output_type": "stream",
     "text": [
      "100%|██████████| 4/4 [03:11<00:00, 47.97s/it]\n",
      "[I 2025-03-13 02:10:54,077] Trial 105 finished with value: 0.9207732683552132 and parameters: {'learning_rate': 0.02870095386731441, 'feature_fraction': 0.5248824725274813, 'n_estimators': 1706, 'max_depth': 17, 'lambda_l1': 1.7012740890619655, 'lambda_l2': 7.388650660752413, 'num_boost_round': 34}. Best is trial 101 with value: 0.921127859202483.\n"
     ]
    },
    {
     "name": "stdout",
     "output_type": "stream",
     "text": [
      "Fold 0, AUC-ROC: 0.90680\n",
      "Fold 1, AUC-ROC: 0.93229\n",
      "Fold 2, AUC-ROC: 0.93257\n",
      "Fold 3, AUC-ROC: 0.91144\n",
      "CV AUC-ROC: 0.92077\n"
     ]
    },
    {
     "name": "stderr",
     "output_type": "stream",
     "text": [
      "100%|██████████| 4/4 [03:19<00:00, 50.00s/it]\n",
      "[I 2025-03-13 02:14:15,052] Trial 106 finished with value: 0.9203926153353327 and parameters: {'learning_rate': 0.02771283238806294, 'feature_fraction': 0.5262592991984304, 'n_estimators': 1702, 'max_depth': 17, 'lambda_l1': 1.9624228478896963, 'lambda_l2': 12.27628447416124, 'num_boost_round': 36}. Best is trial 101 with value: 0.921127859202483.\n"
     ]
    },
    {
     "name": "stdout",
     "output_type": "stream",
     "text": [
      "Fold 0, AUC-ROC: 0.90696\n",
      "Fold 1, AUC-ROC: 0.93239\n",
      "Fold 2, AUC-ROC: 0.93021\n",
      "Fold 3, AUC-ROC: 0.91200\n",
      "CV AUC-ROC: 0.92039\n"
     ]
    },
    {
     "name": "stderr",
     "output_type": "stream",
     "text": [
      "100%|██████████| 4/4 [03:19<00:00, 49.95s/it]\n",
      "[I 2025-03-13 02:17:35,795] Trial 107 finished with value: 0.9191577688901784 and parameters: {'learning_rate': 0.02382757103607783, 'feature_fraction': 0.5222098858132725, 'n_estimators': 1716, 'max_depth': 17, 'lambda_l1': 1.2862438806670555, 'lambda_l2': 12.789761641332776, 'num_boost_round': 35}. Best is trial 101 with value: 0.921127859202483.\n"
     ]
    },
    {
     "name": "stdout",
     "output_type": "stream",
     "text": [
      "Fold 0, AUC-ROC: 0.90653\n",
      "Fold 1, AUC-ROC: 0.93049\n",
      "Fold 2, AUC-ROC: 0.92912\n",
      "Fold 3, AUC-ROC: 0.91049\n",
      "CV AUC-ROC: 0.91916\n"
     ]
    },
    {
     "name": "stderr",
     "output_type": "stream",
     "text": [
      "100%|██████████| 4/4 [03:24<00:00, 51.13s/it]\n",
      "[I 2025-03-13 02:21:01,348] Trial 108 finished with value: 0.9196032520497123 and parameters: {'learning_rate': 0.024779214782041346, 'feature_fraction': 0.5224524466806622, 'n_estimators': 1733, 'max_depth': 17, 'lambda_l1': 1.3380248824073995, 'lambda_l2': 12.42379290054049, 'num_boost_round': 35}. Best is trial 101 with value: 0.921127859202483.\n"
     ]
    },
    {
     "name": "stdout",
     "output_type": "stream",
     "text": [
      "Fold 0, AUC-ROC: 0.90598\n",
      "Fold 1, AUC-ROC: 0.93073\n",
      "Fold 2, AUC-ROC: 0.93007\n",
      "Fold 3, AUC-ROC: 0.91164\n",
      "CV AUC-ROC: 0.91960\n"
     ]
    },
    {
     "name": "stderr",
     "output_type": "stream",
     "text": [
      "100%|██████████| 4/4 [03:24<00:00, 51.02s/it]\n",
      "[I 2025-03-13 02:24:26,486] Trial 109 finished with value: 0.9188837424567244 and parameters: {'learning_rate': 0.023675552244960024, 'feature_fraction': 0.49607448403485604, 'n_estimators': 1700, 'max_depth': 17, 'lambda_l1': 0.48982292047809706, 'lambda_l2': 13.991303601543354, 'num_boost_round': 36}. Best is trial 101 with value: 0.921127859202483.\n"
     ]
    },
    {
     "name": "stdout",
     "output_type": "stream",
     "text": [
      "Fold 0, AUC-ROC: 0.90584\n",
      "Fold 1, AUC-ROC: 0.92969\n",
      "Fold 2, AUC-ROC: 0.92924\n",
      "Fold 3, AUC-ROC: 0.91077\n",
      "CV AUC-ROC: 0.91888\n"
     ]
    },
    {
     "name": "stderr",
     "output_type": "stream",
     "text": [
      "100%|██████████| 4/4 [03:20<00:00, 50.05s/it]\n",
      "[I 2025-03-13 02:27:47,712] Trial 110 finished with value: 0.918722230902535 and parameters: {'learning_rate': 0.020564304637353308, 'feature_fraction': 0.5286525771405164, 'n_estimators': 1741, 'max_depth': 17, 'lambda_l1': 2.01119090830943, 'lambda_l2': 7.913838421412697, 'num_boost_round': 39}. Best is trial 101 with value: 0.921127859202483.\n"
     ]
    },
    {
     "name": "stdout",
     "output_type": "stream",
     "text": [
      "Fold 0, AUC-ROC: 0.90626\n",
      "Fold 1, AUC-ROC: 0.92914\n",
      "Fold 2, AUC-ROC: 0.92940\n",
      "Fold 3, AUC-ROC: 0.91008\n",
      "CV AUC-ROC: 0.91872\n"
     ]
    },
    {
     "name": "stderr",
     "output_type": "stream",
     "text": [
      "100%|██████████| 4/4 [03:03<00:00, 45.87s/it]\n",
      "[I 2025-03-13 02:30:52,177] Trial 111 finished with value: 0.9190309727122243 and parameters: {'learning_rate': 0.027428140676354545, 'feature_fraction': 0.51493569433622, 'n_estimators': 1524, 'max_depth': 17, 'lambda_l1': 1.8003393247941304, 'lambda_l2': 15.466169405727388, 'num_boost_round': 34}. Best is trial 101 with value: 0.921127859202483.\n"
     ]
    },
    {
     "name": "stdout",
     "output_type": "stream",
     "text": [
      "Fold 0, AUC-ROC: 0.90521\n",
      "Fold 1, AUC-ROC: 0.93000\n",
      "Fold 2, AUC-ROC: 0.92925\n",
      "Fold 3, AUC-ROC: 0.91167\n",
      "CV AUC-ROC: 0.91903\n"
     ]
    },
    {
     "name": "stderr",
     "output_type": "stream",
     "text": [
      "100%|██████████| 4/4 [03:39<00:00, 54.80s/it]\n",
      "[I 2025-03-13 02:34:32,393] Trial 112 finished with value: 0.9227424043811819 and parameters: {'learning_rate': 0.02824490731247701, 'feature_fraction': 0.5205879217574012, 'n_estimators': 2081, 'max_depth': 16, 'lambda_l1': 0.2835802207768293, 'lambda_l2': 1.725451798047935, 'num_boost_round': 35}. Best is trial 112 with value: 0.9227424043811819.\n"
     ]
    },
    {
     "name": "stdout",
     "output_type": "stream",
     "text": [
      "Fold 0, AUC-ROC: 0.91054\n",
      "Fold 1, AUC-ROC: 0.93346\n",
      "Fold 2, AUC-ROC: 0.93262\n",
      "Fold 3, AUC-ROC: 0.91435\n",
      "CV AUC-ROC: 0.92274\n"
     ]
    },
    {
     "name": "stderr",
     "output_type": "stream",
     "text": [
      "100%|██████████| 4/4 [03:40<00:00, 55.13s/it]\n",
      "[I 2025-03-13 02:38:13,958] Trial 113 finished with value: 0.9230789063530939 and parameters: {'learning_rate': 0.024680806214140923, 'feature_fraction': 0.48492241080086584, 'n_estimators': 1997, 'max_depth': 17, 'lambda_l1': 0.2366565536808889, 'lambda_l2': 1.3971876081011168, 'num_boost_round': 34}. Best is trial 113 with value: 0.9230789063530939.\n"
     ]
    },
    {
     "name": "stdout",
     "output_type": "stream",
     "text": [
      "Fold 0, AUC-ROC: 0.91104\n",
      "Fold 1, AUC-ROC: 0.93264\n",
      "Fold 2, AUC-ROC: 0.93434\n",
      "Fold 3, AUC-ROC: 0.91429\n",
      "CV AUC-ROC: 0.92308\n"
     ]
    },
    {
     "name": "stderr",
     "output_type": "stream",
     "text": [
      "100%|██████████| 4/4 [03:24<00:00, 51.21s/it]\n",
      "[I 2025-03-13 02:41:39,748] Trial 114 finished with value: 0.9229056158978968 and parameters: {'learning_rate': 0.02640003838014379, 'feature_fraction': 0.46738374588719017, 'n_estimators': 2045, 'max_depth': 16, 'lambda_l1': 0.003893071646581564, 'lambda_l2': 0.6414570991306117, 'num_boost_round': 41}. Best is trial 113 with value: 0.9230789063530939.\n"
     ]
    },
    {
     "name": "stdout",
     "output_type": "stream",
     "text": [
      "Fold 0, AUC-ROC: 0.91225\n",
      "Fold 1, AUC-ROC: 0.93262\n",
      "Fold 2, AUC-ROC: 0.93364\n",
      "Fold 3, AUC-ROC: 0.91312\n",
      "CV AUC-ROC: 0.92291\n"
     ]
    },
    {
     "name": "stderr",
     "output_type": "stream",
     "text": [
      "100%|██████████| 4/4 [03:53<00:00, 58.33s/it]\n",
      "[I 2025-03-13 02:45:34,037] Trial 115 finished with value: 0.9222580893099839 and parameters: {'learning_rate': 0.01984744980000834, 'feature_fraction': 0.46297425107540047, 'n_estimators': 2044, 'max_depth': 16, 'lambda_l1': 4.164121614729275, 'lambda_l2': 0.9168944545044653, 'num_boost_round': 41}. Best is trial 113 with value: 0.9230789063530939.\n"
     ]
    },
    {
     "name": "stdout",
     "output_type": "stream",
     "text": [
      "Fold 0, AUC-ROC: 0.90886\n",
      "Fold 1, AUC-ROC: 0.93342\n",
      "Fold 2, AUC-ROC: 0.93385\n",
      "Fold 3, AUC-ROC: 0.91291\n",
      "CV AUC-ROC: 0.92226\n"
     ]
    },
    {
     "name": "stderr",
     "output_type": "stream",
     "text": [
      "100%|██████████| 4/4 [03:57<00:00, 59.38s/it]\n",
      "[I 2025-03-13 02:49:32,597] Trial 116 finished with value: 0.9223847820664413 and parameters: {'learning_rate': 0.020494056931091863, 'feature_fraction': 0.47151374793160417, 'n_estimators': 2074, 'max_depth': 15, 'lambda_l1': 4.571228574497243, 'lambda_l2': 0.5556885212051181, 'num_boost_round': 42}. Best is trial 113 with value: 0.9230789063530939.\n"
     ]
    },
    {
     "name": "stdout",
     "output_type": "stream",
     "text": [
      "Fold 0, AUC-ROC: 0.90881\n",
      "Fold 1, AUC-ROC: 0.93297\n",
      "Fold 2, AUC-ROC: 0.93370\n",
      "Fold 3, AUC-ROC: 0.91406\n",
      "CV AUC-ROC: 0.92238\n"
     ]
    },
    {
     "name": "stderr",
     "output_type": "stream",
     "text": [
      "100%|██████████| 4/4 [03:56<00:00, 59.02s/it]\n",
      "[I 2025-03-13 02:53:29,702] Trial 117 finished with value: 0.9203373056066683 and parameters: {'learning_rate': 0.015216519761976813, 'feature_fraction': 0.4676681399552022, 'n_estimators': 2045, 'max_depth': 15, 'lambda_l1': 4.550577791354754, 'lambda_l2': 0.5935983197145905, 'num_boost_round': 38}. Best is trial 113 with value: 0.9230789063530939.\n"
     ]
    },
    {
     "name": "stdout",
     "output_type": "stream",
     "text": [
      "Fold 0, AUC-ROC: 0.90708\n",
      "Fold 1, AUC-ROC: 0.93012\n",
      "Fold 2, AUC-ROC: 0.93136\n",
      "Fold 3, AUC-ROC: 0.91279\n",
      "CV AUC-ROC: 0.92034\n"
     ]
    },
    {
     "name": "stderr",
     "output_type": "stream",
     "text": [
      "100%|██████████| 4/4 [04:03<00:00, 60.76s/it]\n",
      "[I 2025-03-13 02:57:33,689] Trial 118 finished with value: 0.9191164260856342 and parameters: {'learning_rate': 0.011988483179827382, 'feature_fraction': 0.4652685568924855, 'n_estimators': 2076, 'max_depth': 15, 'lambda_l1': 4.671196092822865, 'lambda_l2': 0.026586366873914358, 'num_boost_round': 41}. Best is trial 113 with value: 0.9230789063530939.\n"
     ]
    },
    {
     "name": "stdout",
     "output_type": "stream",
     "text": [
      "Fold 0, AUC-ROC: 0.90504\n",
      "Fold 1, AUC-ROC: 0.92872\n",
      "Fold 2, AUC-ROC: 0.93073\n",
      "Fold 3, AUC-ROC: 0.91198\n",
      "CV AUC-ROC: 0.91912\n"
     ]
    },
    {
     "name": "stderr",
     "output_type": "stream",
     "text": [
      "100%|██████████| 4/4 [03:53<00:00, 58.47s/it]\n",
      "[I 2025-03-13 03:01:28,596] Trial 119 finished with value: 0.9180929988844211 and parameters: {'learning_rate': 0.014912755040421138, 'feature_fraction': 0.4778592684953578, 'n_estimators': 1972, 'max_depth': 17, 'lambda_l1': 3.9883553049994664, 'lambda_l2': 5.378473112088233, 'num_boost_round': 38}. Best is trial 113 with value: 0.9230789063530939.\n"
     ]
    },
    {
     "name": "stdout",
     "output_type": "stream",
     "text": [
      "Fold 0, AUC-ROC: 0.90517\n",
      "Fold 1, AUC-ROC: 0.92837\n",
      "Fold 2, AUC-ROC: 0.92877\n",
      "Fold 3, AUC-ROC: 0.91006\n",
      "CV AUC-ROC: 0.91809\n"
     ]
    },
    {
     "name": "stderr",
     "output_type": "stream",
     "text": [
      "100%|██████████| 4/4 [03:38<00:00, 54.67s/it]\n",
      "[I 2025-03-13 03:05:08,219] Trial 120 finished with value: 0.9197883440908203 and parameters: {'learning_rate': 0.01849200468723654, 'feature_fraction': 0.45883572156533564, 'n_estimators': 1867, 'max_depth': 15, 'lambda_l1': 5.58326168977565, 'lambda_l2': 3.9279541221512337, 'num_boost_round': 41}. Best is trial 113 with value: 0.9230789063530939.\n"
     ]
    },
    {
     "name": "stdout",
     "output_type": "stream",
     "text": [
      "Fold 0, AUC-ROC: 0.90720\n",
      "Fold 1, AUC-ROC: 0.93000\n",
      "Fold 2, AUC-ROC: 0.93052\n",
      "Fold 3, AUC-ROC: 0.91143\n",
      "CV AUC-ROC: 0.91979\n"
     ]
    },
    {
     "name": "stderr",
     "output_type": "stream",
     "text": [
      "100%|██████████| 4/4 [04:00<00:00, 60.22s/it]\n",
      "[I 2025-03-13 03:09:10,123] Trial 121 finished with value: 0.9149339290308153 and parameters: {'learning_rate': 0.013353169932840572, 'feature_fraction': 0.4863176925782727, 'n_estimators': 1948, 'max_depth': 16, 'lambda_l1': 3.2526901069429304, 'lambda_l2': 17.850363049003818, 'num_boost_round': 33}. Best is trial 113 with value: 0.9230789063530939.\n"
     ]
    },
    {
     "name": "stdout",
     "output_type": "stream",
     "text": [
      "Fold 0, AUC-ROC: 0.90180\n",
      "Fold 1, AUC-ROC: 0.92461\n",
      "Fold 2, AUC-ROC: 0.92576\n",
      "Fold 3, AUC-ROC: 0.90757\n",
      "CV AUC-ROC: 0.91493\n"
     ]
    },
    {
     "name": "stderr",
     "output_type": "stream",
     "text": [
      "100%|██████████| 4/4 [03:59<00:00, 59.87s/it]\n",
      "[I 2025-03-13 03:13:10,638] Trial 122 finished with value: 0.920177172642101 and parameters: {'learning_rate': 0.02118622952739745, 'feature_fraction': 0.4757013573173119, 'n_estimators': 2036, 'max_depth': 16, 'lambda_l1': 3.332331519742805, 'lambda_l2': 8.89523669944976, 'num_boost_round': 38}. Best is trial 113 with value: 0.9230789063530939.\n"
     ]
    },
    {
     "name": "stdout",
     "output_type": "stream",
     "text": [
      "Fold 0, AUC-ROC: 0.90660\n",
      "Fold 1, AUC-ROC: 0.93058\n",
      "Fold 2, AUC-ROC: 0.93091\n",
      "Fold 3, AUC-ROC: 0.91261\n",
      "CV AUC-ROC: 0.92018\n"
     ]
    },
    {
     "name": "stderr",
     "output_type": "stream",
     "text": [
      "100%|██████████| 4/4 [04:05<00:00, 61.28s/it]\n",
      "[I 2025-03-13 03:17:16,678] Trial 123 finished with value: 0.9200809947637755 and parameters: {'learning_rate': 0.020920858896266183, 'feature_fraction': 0.4704232858382424, 'n_estimators': 2106, 'max_depth': 17, 'lambda_l1': 5.94059522173958, 'lambda_l2': 7.112624374402366, 'num_boost_round': 37}. Best is trial 113 with value: 0.9230789063530939.\n"
     ]
    },
    {
     "name": "stdout",
     "output_type": "stream",
     "text": [
      "Fold 0, AUC-ROC: 0.90560\n",
      "Fold 1, AUC-ROC: 0.93223\n",
      "Fold 2, AUC-ROC: 0.93090\n",
      "Fold 3, AUC-ROC: 0.91159\n",
      "CV AUC-ROC: 0.92008\n"
     ]
    },
    {
     "name": "stderr",
     "output_type": "stream",
     "text": [
      "100%|██████████| 4/4 [03:22<00:00, 50.62s/it]\n",
      "[I 2025-03-13 03:20:40,088] Trial 124 finished with value: 0.9230504542117988 and parameters: {'learning_rate': 0.02865534136879282, 'feature_fraction': 0.48422007634280256, 'n_estimators': 1793, 'max_depth': 15, 'lambda_l1': 3.1767724655571703, 'lambda_l2': 1.57815116507797, 'num_boost_round': 44}. Best is trial 113 with value: 0.9230789063530939.\n"
     ]
    },
    {
     "name": "stdout",
     "output_type": "stream",
     "text": [
      "Fold 0, AUC-ROC: 0.90899\n",
      "Fold 1, AUC-ROC: 0.93496\n",
      "Fold 2, AUC-ROC: 0.93472\n",
      "Fold 3, AUC-ROC: 0.91353\n",
      "CV AUC-ROC: 0.92305\n"
     ]
    },
    {
     "name": "stderr",
     "output_type": "stream",
     "text": [
      "100%|██████████| 4/4 [04:16<00:00, 64.21s/it]\n",
      "[I 2025-03-13 03:24:57,964] Trial 125 finished with value: 0.9212763428826358 and parameters: {'learning_rate': 0.01675636388316103, 'feature_fraction': 0.5060354601752833, 'n_estimators': 2202, 'max_depth': 15, 'lambda_l1': 3.514498004493202, 'lambda_l2': 2.144683619272545, 'num_boost_round': 42}. Best is trial 113 with value: 0.9230789063530939.\n"
     ]
    },
    {
     "name": "stdout",
     "output_type": "stream",
     "text": [
      "Fold 0, AUC-ROC: 0.90778\n",
      "Fold 1, AUC-ROC: 0.93251\n",
      "Fold 2, AUC-ROC: 0.93174\n",
      "Fold 3, AUC-ROC: 0.91307\n",
      "CV AUC-ROC: 0.92128\n"
     ]
    },
    {
     "name": "stderr",
     "output_type": "stream",
     "text": [
      "100%|██████████| 4/4 [03:16<00:00, 49.12s/it]\n",
      "[I 2025-03-13 03:28:15,500] Trial 126 finished with value: 0.9187565300630697 and parameters: {'learning_rate': 0.01686706292555873, 'feature_fraction': 0.506608212839393, 'n_estimators': 1644, 'max_depth': 15, 'lambda_l1': 3.2834061260833187, 'lambda_l2': 3.2538232129492686, 'num_boost_round': 45}. Best is trial 113 with value: 0.9230789063530939.\n"
     ]
    },
    {
     "name": "stdout",
     "output_type": "stream",
     "text": [
      "Fold 0, AUC-ROC: 0.90603\n",
      "Fold 1, AUC-ROC: 0.92848\n",
      "Fold 2, AUC-ROC: 0.92908\n",
      "Fold 3, AUC-ROC: 0.91144\n",
      "CV AUC-ROC: 0.91876\n"
     ]
    },
    {
     "name": "stderr",
     "output_type": "stream",
     "text": [
      "100%|██████████| 4/4 [04:05<00:00, 61.34s/it]\n",
      "[I 2025-03-13 03:32:21,903] Trial 127 finished with value: 0.9216776508370441 and parameters: {'learning_rate': 0.0269138806688548, 'feature_fraction': 0.49146227536547116, 'n_estimators': 2221, 'max_depth': 17, 'lambda_l1': 0.15964635889822665, 'lambda_l2': 5.859828587241065, 'num_boost_round': 41}. Best is trial 113 with value: 0.9230789063530939.\n"
     ]
    },
    {
     "name": "stdout",
     "output_type": "stream",
     "text": [
      "Fold 0, AUC-ROC: 0.91021\n",
      "Fold 1, AUC-ROC: 0.93200\n",
      "Fold 2, AUC-ROC: 0.93241\n",
      "Fold 3, AUC-ROC: 0.91209\n",
      "CV AUC-ROC: 0.92168\n"
     ]
    },
    {
     "name": "stderr",
     "output_type": "stream",
     "text": [
      "100%|██████████| 4/4 [01:35<00:00, 23.86s/it]\n",
      "[I 2025-03-13 03:33:58,312] Trial 128 finished with value: 0.9022839429276193 and parameters: {'learning_rate': 0.029013583965602437, 'feature_fraction': 0.4860745646312915, 'n_estimators': 2242, 'max_depth': 16, 'lambda_l1': 58.35769594462527, 'lambda_l2': 5.766495125907182, 'num_boost_round': 43}. Best is trial 113 with value: 0.9230789063530939.\n"
     ]
    },
    {
     "name": "stdout",
     "output_type": "stream",
     "text": [
      "Fold 0, AUC-ROC: 0.88629\n",
      "Fold 1, AUC-ROC: 0.90856\n",
      "Fold 2, AUC-ROC: 0.91453\n",
      "Fold 3, AUC-ROC: 0.89975\n",
      "CV AUC-ROC: 0.90228\n"
     ]
    },
    {
     "name": "stderr",
     "output_type": "stream",
     "text": [
      "100%|██████████| 4/4 [03:27<00:00, 51.76s/it]\n",
      "[I 2025-03-13 03:37:26,349] Trial 129 finished with value: 0.9200525021253361 and parameters: {'learning_rate': 0.019499569194264866, 'feature_fraction': 0.49049262033638114, 'n_estimators': 1809, 'max_depth': 15, 'lambda_l1': 0.049890061860721424, 'lambda_l2': 1.7867725080547068, 'num_boost_round': 42}. Best is trial 113 with value: 0.9230789063530939.\n"
     ]
    },
    {
     "name": "stdout",
     "output_type": "stream",
     "text": [
      "Fold 0, AUC-ROC: 0.90898\n",
      "Fold 1, AUC-ROC: 0.92800\n",
      "Fold 2, AUC-ROC: 0.93092\n",
      "Fold 3, AUC-ROC: 0.91231\n",
      "CV AUC-ROC: 0.92005\n"
     ]
    },
    {
     "name": "stderr",
     "output_type": "stream",
     "text": [
      "100%|██████████| 4/4 [03:12<00:00, 48.12s/it]\n",
      "[I 2025-03-13 03:40:39,823] Trial 130 finished with value: 0.9222087691404426 and parameters: {'learning_rate': 0.046790019908343305, 'feature_fraction': 0.5017262993960836, 'n_estimators': 2167, 'max_depth': 17, 'lambda_l1': 6.051966711380577, 'lambda_l2': 9.453504494821589, 'num_boost_round': 52}. Best is trial 113 with value: 0.9230789063530939.\n"
     ]
    },
    {
     "name": "stdout",
     "output_type": "stream",
     "text": [
      "Fold 0, AUC-ROC: 0.90646\n",
      "Fold 1, AUC-ROC: 0.93556\n",
      "Fold 2, AUC-ROC: 0.93352\n",
      "Fold 3, AUC-ROC: 0.91330\n",
      "CV AUC-ROC: 0.92221\n"
     ]
    },
    {
     "name": "stderr",
     "output_type": "stream",
     "text": [
      "100%|██████████| 4/4 [01:12<00:00, 18.13s/it]\n",
      "[I 2025-03-13 03:41:53,352] Trial 131 finished with value: 0.9044998922683787 and parameters: {'learning_rate': 0.04918266989202212, 'feature_fraction': 0.49738251753266943, 'n_estimators': 2155, 'max_depth': 17, 'lambda_l1': 50.56030280903239, 'lambda_l2': 9.649701464720868, 'num_boost_round': 52}. Best is trial 113 with value: 0.9230789063530939.\n"
     ]
    },
    {
     "name": "stdout",
     "output_type": "stream",
     "text": [
      "Fold 0, AUC-ROC: 0.88899\n",
      "Fold 1, AUC-ROC: 0.91133\n",
      "Fold 2, AUC-ROC: 0.91596\n",
      "Fold 3, AUC-ROC: 0.90171\n",
      "CV AUC-ROC: 0.90450\n"
     ]
    },
    {
     "name": "stderr",
     "output_type": "stream",
     "text": [
      "100%|██████████| 4/4 [03:27<00:00, 51.87s/it]\n",
      "[I 2025-03-13 03:45:21,874] Trial 132 finished with value: 0.9225728199931684 and parameters: {'learning_rate': 0.043576490716584634, 'feature_fraction': 0.4807066807066733, 'n_estimators': 2196, 'max_depth': 16, 'lambda_l1': 5.731764596523743, 'lambda_l2': 3.372629873598944, 'num_boost_round': 55}. Best is trial 113 with value: 0.9230789063530939.\n"
     ]
    },
    {
     "name": "stdout",
     "output_type": "stream",
     "text": [
      "Fold 0, AUC-ROC: 0.90745\n",
      "Fold 1, AUC-ROC: 0.93568\n",
      "Fold 2, AUC-ROC: 0.93421\n",
      "Fold 3, AUC-ROC: 0.91295\n",
      "CV AUC-ROC: 0.92257\n"
     ]
    },
    {
     "name": "stderr",
     "output_type": "stream",
     "text": [
      "100%|██████████| 4/4 [00:58<00:00, 14.56s/it]\n",
      "[I 2025-03-13 03:46:21,178] Trial 133 finished with value: 0.8961832539009187 and parameters: {'learning_rate': 0.0449509205948718, 'feature_fraction': 0.45233328044735943, 'n_estimators': 2218, 'max_depth': 17, 'lambda_l1': 86.55485567189189, 'lambda_l2': 4.6249919020653145, 'num_boost_round': 58}. Best is trial 113 with value: 0.9230789063530939.\n"
     ]
    },
    {
     "name": "stdout",
     "output_type": "stream",
     "text": [
      "Fold 0, AUC-ROC: 0.88002\n",
      "Fold 1, AUC-ROC: 0.90108\n",
      "Fold 2, AUC-ROC: 0.90816\n",
      "Fold 3, AUC-ROC: 0.89547\n",
      "CV AUC-ROC: 0.89618\n"
     ]
    },
    {
     "name": "stderr",
     "output_type": "stream",
     "text": [
      "100%|██████████| 4/4 [03:47<00:00, 56.78s/it]\n",
      "[I 2025-03-13 03:50:09,224] Trial 134 finished with value: 0.9221499878010077 and parameters: {'learning_rate': 0.02769408238638908, 'feature_fraction': 0.5066690019167899, 'n_estimators': 2290, 'max_depth': 16, 'lambda_l1': 5.919204550708455, 'lambda_l2': 2.366844830311162, 'num_boost_round': 50}. Best is trial 113 with value: 0.9230789063530939.\n"
     ]
    },
    {
     "name": "stdout",
     "output_type": "stream",
     "text": [
      "Fold 0, AUC-ROC: 0.90647\n",
      "Fold 1, AUC-ROC: 0.93489\n",
      "Fold 2, AUC-ROC: 0.93424\n",
      "Fold 3, AUC-ROC: 0.91300\n",
      "CV AUC-ROC: 0.92215\n"
     ]
    },
    {
     "name": "stderr",
     "output_type": "stream",
     "text": [
      "100%|██████████| 4/4 [04:08<00:00, 62.02s/it]\n",
      "[I 2025-03-13 03:54:18,320] Trial 135 finished with value: 0.9224531633787134 and parameters: {'learning_rate': 0.025839407649698498, 'feature_fraction': 0.5063295965646754, 'n_estimators': 2289, 'max_depth': 16, 'lambda_l1': 6.089466456595932, 'lambda_l2': 2.251169979363381, 'num_boost_round': 55}. Best is trial 113 with value: 0.9230789063530939.\n"
     ]
    },
    {
     "name": "stdout",
     "output_type": "stream",
     "text": [
      "Fold 0, AUC-ROC: 0.90699\n",
      "Fold 1, AUC-ROC: 0.93573\n",
      "Fold 2, AUC-ROC: 0.93469\n",
      "Fold 3, AUC-ROC: 0.91241\n",
      "CV AUC-ROC: 0.92245\n"
     ]
    },
    {
     "name": "stderr",
     "output_type": "stream",
     "text": [
      "100%|██████████| 4/4 [04:23<00:00, 65.75s/it]\n",
      "[I 2025-03-13 03:58:42,376] Trial 136 finished with value: 0.9207977336818546 and parameters: {'learning_rate': 0.017315024583215412, 'feature_fraction': 0.4803876552646138, 'n_estimators': 2280, 'max_depth': 15, 'lambda_l1': 5.950389901491372, 'lambda_l2': 1.7131712274636033, 'num_boost_round': 56}. Best is trial 113 with value: 0.9230789063530939.\n"
     ]
    },
    {
     "name": "stdout",
     "output_type": "stream",
     "text": [
      "Fold 0, AUC-ROC: 0.90659\n",
      "Fold 1, AUC-ROC: 0.93246\n",
      "Fold 2, AUC-ROC: 0.93213\n",
      "Fold 3, AUC-ROC: 0.91201\n",
      "CV AUC-ROC: 0.92080\n"
     ]
    },
    {
     "name": "stderr",
     "output_type": "stream",
     "text": [
      "100%|██████████| 4/4 [03:48<00:00, 57.06s/it]\n",
      "[I 2025-03-13 04:02:31,609] Trial 137 finished with value: 0.9205797959679795 and parameters: {'learning_rate': 0.026012563624815882, 'feature_fraction': 0.5061683603631888, 'n_estimators': 2133, 'max_depth': 16, 'lambda_l1': 10.772400221171381, 'lambda_l2': 2.1977722274594775, 'num_boost_round': 54}. Best is trial 113 with value: 0.9230789063530939.\n"
     ]
    },
    {
     "name": "stdout",
     "output_type": "stream",
     "text": [
      "Fold 0, AUC-ROC: 0.90394\n",
      "Fold 1, AUC-ROC: 0.93299\n",
      "Fold 2, AUC-ROC: 0.93363\n",
      "Fold 3, AUC-ROC: 0.91175\n",
      "CV AUC-ROC: 0.92058\n"
     ]
    },
    {
     "name": "stderr",
     "output_type": "stream",
     "text": [
      "100%|██████████| 4/4 [03:34<00:00, 53.58s/it]\n",
      "[I 2025-03-13 04:06:06,878] Trial 138 finished with value: 0.9196195033062523 and parameters: {'learning_rate': 0.02280867607295753, 'feature_fraction': 0.46091137475181043, 'n_estimators': 1820, 'max_depth': 15, 'lambda_l1': 6.215267213760718, 'lambda_l2': 6.126763066245764, 'num_boost_round': 49}. Best is trial 113 with value: 0.9230789063530939.\n"
     ]
    },
    {
     "name": "stdout",
     "output_type": "stream",
     "text": [
      "Fold 0, AUC-ROC: 0.90518\n",
      "Fold 1, AUC-ROC: 0.93104\n",
      "Fold 2, AUC-ROC: 0.93104\n",
      "Fold 3, AUC-ROC: 0.91121\n",
      "CV AUC-ROC: 0.91962\n"
     ]
    },
    {
     "name": "stderr",
     "output_type": "stream",
     "text": [
      "100%|██████████| 4/4 [04:25<00:00, 66.30s/it]\n",
      "[I 2025-03-13 04:10:33,003] Trial 139 finished with value: 0.9220134290520611 and parameters: {'learning_rate': 0.02192705557234849, 'feature_fraction': 0.4952614082932576, 'n_estimators': 2296, 'max_depth': 16, 'lambda_l1': 4.015318258730943, 'lambda_l2': 3.7056594115183454, 'num_boost_round': 50}. Best is trial 113 with value: 0.9230789063530939.\n"
     ]
    },
    {
     "name": "stdout",
     "output_type": "stream",
     "text": [
      "Fold 0, AUC-ROC: 0.90822\n",
      "Fold 1, AUC-ROC: 0.93320\n",
      "Fold 2, AUC-ROC: 0.93340\n",
      "Fold 3, AUC-ROC: 0.91323\n",
      "CV AUC-ROC: 0.92201\n"
     ]
    },
    {
     "name": "stderr",
     "output_type": "stream",
     "text": [
      "100%|██████████| 4/4 [04:38<00:00, 69.71s/it]\n",
      "[I 2025-03-13 04:15:12,775] Trial 140 finished with value: 0.914991582081954 and parameters: {'learning_rate': 0.010309055998703506, 'feature_fraction': 0.44534046093588936, 'n_estimators': 2363, 'max_depth': 16, 'lambda_l1': 14.128276911640366, 'lambda_l2': 3.5878668570136956, 'num_boost_round': 50}. Best is trial 113 with value: 0.9230789063530939.\n"
     ]
    },
    {
     "name": "stdout",
     "output_type": "stream",
     "text": [
      "Fold 0, AUC-ROC: 0.90127\n",
      "Fold 1, AUC-ROC: 0.92451\n",
      "Fold 2, AUC-ROC: 0.92602\n",
      "Fold 3, AUC-ROC: 0.90816\n",
      "CV AUC-ROC: 0.91499\n"
     ]
    },
    {
     "name": "stderr",
     "output_type": "stream",
     "text": [
      "100%|██████████| 4/4 [04:13<00:00, 63.26s/it]\n",
      "[I 2025-03-13 04:19:26,736] Trial 141 finished with value: 0.9238650388145805 and parameters: {'learning_rate': 0.02202706869077779, 'feature_fraction': 0.4738581275102695, 'n_estimators': 2287, 'max_depth': 16, 'lambda_l1': 4.434673435319842, 'lambda_l2': 0.22356115836840806, 'num_boost_round': 46}. Best is trial 141 with value: 0.9238650388145805.\n"
     ]
    },
    {
     "name": "stdout",
     "output_type": "stream",
     "text": [
      "Fold 0, AUC-ROC: 0.90886\n",
      "Fold 1, AUC-ROC: 0.93592\n",
      "Fold 2, AUC-ROC: 0.93529\n",
      "Fold 3, AUC-ROC: 0.91539\n",
      "CV AUC-ROC: 0.92387\n"
     ]
    },
    {
     "name": "stderr",
     "output_type": "stream",
     "text": [
      "100%|██████████| 4/4 [04:11<00:00, 62.88s/it]\n",
      "[I 2025-03-13 04:23:39,190] Trial 142 finished with value: 0.9229107895226312 and parameters: {'learning_rate': 0.019859526802287357, 'feature_fraction': 0.4743455321948725, 'n_estimators': 2195, 'max_depth': 15, 'lambda_l1': 4.010362244561513, 'lambda_l2': 0.76354179601534, 'num_boost_round': 45}. Best is trial 141 with value: 0.9238650388145805.\n"
     ]
    },
    {
     "name": "stdout",
     "output_type": "stream",
     "text": [
      "Fold 0, AUC-ROC: 0.90910\n",
      "Fold 1, AUC-ROC: 0.93263\n",
      "Fold 2, AUC-ROC: 0.93430\n",
      "Fold 3, AUC-ROC: 0.91561\n",
      "CV AUC-ROC: 0.92291\n"
     ]
    },
    {
     "name": "stderr",
     "output_type": "stream",
     "text": [
      "100%|██████████| 4/4 [04:17<00:00, 64.35s/it]\n",
      "[I 2025-03-13 04:27:57,674] Trial 143 finished with value: 0.9224523064719727 and parameters: {'learning_rate': 0.019017846107681372, 'feature_fraction': 0.47651530736561876, 'n_estimators': 2297, 'max_depth': 14, 'lambda_l1': 4.303077397893015, 'lambda_l2': 0.6078855308849385, 'num_boost_round': 45}. Best is trial 141 with value: 0.9238650388145805.\n"
     ]
    },
    {
     "name": "stdout",
     "output_type": "stream",
     "text": [
      "Fold 0, AUC-ROC: 0.90940\n",
      "Fold 1, AUC-ROC: 0.93330\n",
      "Fold 2, AUC-ROC: 0.93416\n",
      "Fold 3, AUC-ROC: 0.91295\n",
      "CV AUC-ROC: 0.92245\n"
     ]
    },
    {
     "name": "stderr",
     "output_type": "stream",
     "text": [
      "100%|██████████| 4/4 [04:17<00:00, 64.49s/it]\n",
      "[I 2025-03-13 04:32:16,635] Trial 144 finished with value: 0.9206563459734097 and parameters: {'learning_rate': 0.022013261223653977, 'feature_fraction': 0.4725852716272001, 'n_estimators': 2247, 'max_depth': 14, 'lambda_l1': 9.91186366163295, 'lambda_l2': 3.9249594955265885, 'num_boost_round': 46}. Best is trial 141 with value: 0.9238650388145805.\n"
     ]
    },
    {
     "name": "stdout",
     "output_type": "stream",
     "text": [
      "Fold 0, AUC-ROC: 0.90607\n",
      "Fold 1, AUC-ROC: 0.93272\n",
      "Fold 2, AUC-ROC: 0.93272\n",
      "Fold 3, AUC-ROC: 0.91112\n",
      "CV AUC-ROC: 0.92066\n"
     ]
    },
    {
     "name": "stderr",
     "output_type": "stream",
     "text": [
      "100%|██████████| 4/4 [04:25<00:00, 66.29s/it]\n",
      "[I 2025-03-13 04:36:42,799] Trial 145 finished with value: 0.922147152791117 and parameters: {'learning_rate': 0.018577250676649552, 'feature_fraction': 0.49358663668095387, 'n_estimators': 2302, 'max_depth': 17, 'lambda_l1': 6.975360641778314, 'lambda_l2': 0.14324031661810044, 'num_boost_round': 51}. Best is trial 141 with value: 0.9238650388145805.\n"
     ]
    },
    {
     "name": "stdout",
     "output_type": "stream",
     "text": [
      "Fold 0, AUC-ROC: 0.90776\n",
      "Fold 1, AUC-ROC: 0.93253\n",
      "Fold 2, AUC-ROC: 0.93433\n",
      "Fold 3, AUC-ROC: 0.91396\n",
      "CV AUC-ROC: 0.92215\n"
     ]
    },
    {
     "name": "stderr",
     "output_type": "stream",
     "text": [
      "100%|██████████| 4/4 [04:23<00:00, 65.93s/it]\n",
      "[I 2025-03-13 04:41:07,605] Trial 146 finished with value: 0.9217012243430269 and parameters: {'learning_rate': 0.018755689286858876, 'feature_fraction': 0.458327713349587, 'n_estimators': 2319, 'max_depth': 15, 'lambda_l1': 7.11073475235466, 'lambda_l2': 0.2736433656983583, 'num_boost_round': 52}. Best is trial 141 with value: 0.9238650388145805.\n"
     ]
    },
    {
     "name": "stdout",
     "output_type": "stream",
     "text": [
      "Fold 0, AUC-ROC: 0.90799\n",
      "Fold 1, AUC-ROC: 0.93278\n",
      "Fold 2, AUC-ROC: 0.93367\n",
      "Fold 3, AUC-ROC: 0.91236\n",
      "CV AUC-ROC: 0.92170\n"
     ]
    },
    {
     "name": "stderr",
     "output_type": "stream",
     "text": [
      "100%|██████████| 4/4 [04:48<00:00, 72.12s/it]\n",
      "[I 2025-03-13 04:45:57,136] Trial 147 finished with value: 0.9238323022184255 and parameters: {'learning_rate': 0.02114315469724888, 'feature_fraction': 0.48186237677909366, 'n_estimators': 2554, 'max_depth': 16, 'lambda_l1': 5.063023084900173, 'lambda_l2': 0.05293765396522776, 'num_boost_round': 55}. Best is trial 141 with value: 0.9238650388145805.\n"
     ]
    },
    {
     "name": "stdout",
     "output_type": "stream",
     "text": [
      "Fold 0, AUC-ROC: 0.90896\n",
      "Fold 1, AUC-ROC: 0.93540\n",
      "Fold 2, AUC-ROC: 0.93548\n",
      "Fold 3, AUC-ROC: 0.91549\n",
      "CV AUC-ROC: 0.92383\n"
     ]
    },
    {
     "name": "stderr",
     "output_type": "stream",
     "text": [
      "100%|██████████| 4/4 [04:58<00:00, 74.51s/it]\n",
      "[I 2025-03-13 04:50:56,098] Trial 148 finished with value: 0.9194634222808864 and parameters: {'learning_rate': 0.013642324580899059, 'feature_fraction': 0.4759878968314952, 'n_estimators': 2555, 'max_depth': 15, 'lambda_l1': 8.263843044845864, 'lambda_l2': 2.0878114291958862, 'num_boost_round': 55}. Best is trial 141 with value: 0.9238650388145805.\n"
     ]
    },
    {
     "name": "stdout",
     "output_type": "stream",
     "text": [
      "Fold 0, AUC-ROC: 0.90540\n",
      "Fold 1, AUC-ROC: 0.93035\n",
      "Fold 2, AUC-ROC: 0.93118\n",
      "Fold 3, AUC-ROC: 0.91093\n",
      "CV AUC-ROC: 0.91946\n"
     ]
    },
    {
     "name": "stderr",
     "output_type": "stream",
     "text": [
      "100%|██████████| 4/4 [04:02<00:00, 60.70s/it]\n",
      "[I 2025-03-13 04:54:59,839] Trial 149 finished with value: 0.9210829673241738 and parameters: {'learning_rate': 0.015636097061108422, 'feature_fraction': 0.46606050176826674, 'n_estimators': 2096, 'max_depth': 14, 'lambda_l1': 5.952383620008009, 'lambda_l2': 0.11538361006165802, 'num_boost_round': 60}. Best is trial 141 with value: 0.9238650388145805.\n"
     ]
    },
    {
     "name": "stdout",
     "output_type": "stream",
     "text": [
      "Fold 0, AUC-ROC: 0.90670\n",
      "Fold 1, AUC-ROC: 0.93146\n",
      "Fold 2, AUC-ROC: 0.93274\n",
      "Fold 3, AUC-ROC: 0.91343\n",
      "CV AUC-ROC: 0.92108\n"
     ]
    },
    {
     "name": "stderr",
     "output_type": "stream",
     "text": [
      "100%|██████████| 4/4 [04:11<00:00, 62.87s/it]\n",
      "[I 2025-03-13 04:59:12,365] Trial 150 finished with value: 0.9190645784318576 and parameters: {'learning_rate': 0.019695514037856323, 'feature_fraction': 0.4850775508610261, 'n_estimators': 2150, 'max_depth': 17, 'lambda_l1': 10.47713437744522, 'lambda_l2': 5.191231744038962, 'num_boost_round': 47}. Best is trial 141 with value: 0.9238650388145805.\n"
     ]
    },
    {
     "name": "stdout",
     "output_type": "stream",
     "text": [
      "Fold 0, AUC-ROC: 0.90471\n",
      "Fold 1, AUC-ROC: 0.93018\n",
      "Fold 2, AUC-ROC: 0.93115\n",
      "Fold 3, AUC-ROC: 0.91022\n",
      "CV AUC-ROC: 0.91906\n"
     ]
    },
    {
     "name": "stderr",
     "output_type": "stream",
     "text": [
      "100%|██████████| 4/4 [04:25<00:00, 66.29s/it]\n",
      "[I 2025-03-13 05:03:38,624] Trial 151 finished with value: 0.9222090828457687 and parameters: {'learning_rate': 0.021450397907418654, 'feature_fraction': 0.49249209443531144, 'n_estimators': 2302, 'max_depth': 16, 'lambda_l1': 4.635885933055064, 'lambda_l2': 3.5307688773866843, 'num_boost_round': 51}. Best is trial 141 with value: 0.9238650388145805.\n"
     ]
    },
    {
     "name": "stdout",
     "output_type": "stream",
     "text": [
      "Fold 0, AUC-ROC: 0.90912\n",
      "Fold 1, AUC-ROC: 0.93308\n",
      "Fold 2, AUC-ROC: 0.93346\n",
      "Fold 3, AUC-ROC: 0.91318\n",
      "CV AUC-ROC: 0.92221\n"
     ]
    },
    {
     "name": "stderr",
     "output_type": "stream",
     "text": [
      "100%|██████████| 4/4 [04:26<00:00, 66.70s/it]\n",
      "[I 2025-03-13 05:08:06,360] Trial 152 finished with value: 0.9230950089335253 and parameters: {'learning_rate': 0.019007807027099057, 'feature_fraction': 0.48142716324534596, 'n_estimators': 2322, 'max_depth': 16, 'lambda_l1': 5.151674397498629, 'lambda_l2': 0.13872324562605032, 'num_boost_round': 45}. Best is trial 141 with value: 0.9238650388145805.\n"
     ]
    },
    {
     "name": "stdout",
     "output_type": "stream",
     "text": [
      "Fold 0, AUC-ROC: 0.90923\n",
      "Fold 1, AUC-ROC: 0.93357\n",
      "Fold 2, AUC-ROC: 0.93499\n",
      "Fold 3, AUC-ROC: 0.91458\n",
      "CV AUC-ROC: 0.92310\n"
     ]
    },
    {
     "name": "stderr",
     "output_type": "stream",
     "text": [
      "100%|██████████| 4/4 [04:26<00:00, 66.75s/it]\n",
      "[I 2025-03-13 05:12:34,450] Trial 153 finished with value: 0.9227673591348907 and parameters: {'learning_rate': 0.024136094569920948, 'feature_fraction': 0.48188973829245435, 'n_estimators': 2400, 'max_depth': 16, 'lambda_l1': 4.702878357070991, 'lambda_l2': 2.806963791617001, 'num_boost_round': 45}. Best is trial 141 with value: 0.9238650388145805.\n"
     ]
    },
    {
     "name": "stdout",
     "output_type": "stream",
     "text": [
      "Fold 0, AUC-ROC: 0.90901\n",
      "Fold 1, AUC-ROC: 0.93440\n",
      "Fold 2, AUC-ROC: 0.93427\n",
      "Fold 3, AUC-ROC: 0.91339\n",
      "CV AUC-ROC: 0.92277\n"
     ]
    },
    {
     "name": "stderr",
     "output_type": "stream",
     "text": [
      "100%|██████████| 4/4 [04:27<00:00, 66.84s/it]\n",
      "[I 2025-03-13 05:17:02,738] Trial 154 finished with value: 0.9215850710952851 and parameters: {'learning_rate': 0.02311821492011398, 'feature_fraction': 0.4502686920708357, 'n_estimators': 2389, 'max_depth': 16, 'lambda_l1': 3.930494367496243, 'lambda_l2': 7.160548649464162, 'num_boost_round': 44}. Best is trial 141 with value: 0.9238650388145805.\n"
     ]
    },
    {
     "name": "stdout",
     "output_type": "stream",
     "text": [
      "Fold 0, AUC-ROC: 0.90739\n",
      "Fold 1, AUC-ROC: 0.93325\n",
      "Fold 2, AUC-ROC: 0.93276\n",
      "Fold 3, AUC-ROC: 0.91293\n",
      "CV AUC-ROC: 0.92159\n"
     ]
    },
    {
     "name": "stderr",
     "output_type": "stream",
     "text": [
      "100%|██████████| 4/4 [01:37<00:00, 24.44s/it]\n",
      "[I 2025-03-13 05:18:41,421] Trial 155 finished with value: 0.9007651016311535 and parameters: {'learning_rate': 0.024828275220979718, 'feature_fraction': 0.4799085744593158, 'n_estimators': 2174, 'max_depth': 16, 'lambda_l1': 65.60414396425094, 'lambda_l2': 4.284193570191645, 'num_boost_round': 57}. Best is trial 141 with value: 0.9238650388145805.\n"
     ]
    },
    {
     "name": "stdout",
     "output_type": "stream",
     "text": [
      "Fold 0, AUC-ROC: 0.88573\n",
      "Fold 1, AUC-ROC: 0.90636\n",
      "Fold 2, AUC-ROC: 0.91260\n",
      "Fold 3, AUC-ROC: 0.89837\n",
      "CV AUC-ROC: 0.90077\n"
     ]
    },
    {
     "name": "stderr",
     "output_type": "stream",
     "text": [
      "100%|██████████| 4/4 [04:44<00:00, 71.09s/it]\n",
      "[I 2025-03-13 05:23:26,729] Trial 156 finished with value: 0.9217668282701981 and parameters: {'learning_rate': 0.02079345006969507, 'feature_fraction': 0.4399674054682586, 'n_estimators': 2538, 'max_depth': 16, 'lambda_l1': 8.902209529846452, 'lambda_l2': 2.150519303244796, 'num_boost_round': 45}. Best is trial 141 with value: 0.9238650388145805.\n"
     ]
    },
    {
     "name": "stdout",
     "output_type": "stream",
     "text": [
      "Fold 0, AUC-ROC: 0.90688\n",
      "Fold 1, AUC-ROC: 0.93363\n",
      "Fold 2, AUC-ROC: 0.93398\n",
      "Fold 3, AUC-ROC: 0.91258\n",
      "CV AUC-ROC: 0.92177\n"
     ]
    },
    {
     "name": "stderr",
     "output_type": "stream",
     "text": [
      "100%|██████████| 4/4 [03:58<00:00, 59.68s/it]\n",
      "[I 2025-03-13 05:27:26,506] Trial 157 finished with value: 0.9216959634020951 and parameters: {'learning_rate': 0.017701383019140347, 'feature_fraction': 0.46948821758251397, 'n_estimators': 2072, 'max_depth': 15, 'lambda_l1': 4.9193884421814005, 'lambda_l2': 0.004636690873157434, 'num_boost_round': 61}. Best is trial 141 with value: 0.9238650388145805.\n"
     ]
    },
    {
     "name": "stdout",
     "output_type": "stream",
     "text": [
      "Fold 0, AUC-ROC: 0.90873\n",
      "Fold 1, AUC-ROC: 0.93220\n",
      "Fold 2, AUC-ROC: 0.93296\n",
      "Fold 3, AUC-ROC: 0.91290\n",
      "CV AUC-ROC: 0.92170\n"
     ]
    },
    {
     "name": "stderr",
     "output_type": "stream",
     "text": [
      "100%|██████████| 4/4 [04:44<00:00, 71.15s/it]\n",
      "[I 2025-03-13 05:32:12,189] Trial 158 finished with value: 0.8898690328414611 and parameters: {'learning_rate': 0.0017062742525658541, 'feature_fraction': 0.4609250372257831, 'n_estimators': 2359, 'max_depth': 16, 'lambda_l1': 12.39765300193543, 'lambda_l2': 6.234718451491025, 'num_boost_round': 66}. Best is trial 141 with value: 0.9238650388145805.\n"
     ]
    },
    {
     "name": "stdout",
     "output_type": "stream",
     "text": [
      "Fold 0, AUC-ROC: 0.86999\n",
      "Fold 1, AUC-ROC: 0.89490\n",
      "Fold 2, AUC-ROC: 0.90451\n",
      "Fold 3, AUC-ROC: 0.89008\n",
      "CV AUC-ROC: 0.88987\n"
     ]
    },
    {
     "name": "stderr",
     "output_type": "stream",
     "text": [
      "100%|██████████| 4/4 [03:43<00:00, 55.89s/it]\n",
      "[I 2025-03-13 05:35:56,798] Trial 159 finished with value: 0.923068583090032 and parameters: {'learning_rate': 0.031127163709906314, 'feature_fraction': 0.4816323766718128, 'n_estimators': 2016, 'max_depth': 15, 'lambda_l1': 3.1038007296288472, 'lambda_l2': 2.83973104517771, 'num_boost_round': 48}. Best is trial 141 with value: 0.9238650388145805.\n"
     ]
    },
    {
     "name": "stdout",
     "output_type": "stream",
     "text": [
      "Fold 0, AUC-ROC: 0.90938\n",
      "Fold 1, AUC-ROC: 0.93555\n",
      "Fold 2, AUC-ROC: 0.93485\n",
      "Fold 3, AUC-ROC: 0.91249\n",
      "CV AUC-ROC: 0.92307\n"
     ]
    },
    {
     "name": "stderr",
     "output_type": "stream",
     "text": [
      "100%|██████████| 4/4 [01:45<00:00, 26.36s/it]\n",
      "[I 2025-03-13 05:37:43,286] Trial 160 finished with value: 0.9065741842295132 and parameters: {'learning_rate': 0.030478078158718554, 'feature_fraction': 0.4821789618819618, 'n_estimators': 1896, 'max_depth': 15, 'lambda_l1': 44.841144516315524, 'lambda_l2': 3.4177573782771757, 'num_boost_round': 48}. Best is trial 141 with value: 0.9238650388145805.\n"
     ]
    },
    {
     "name": "stdout",
     "output_type": "stream",
     "text": [
      "Fold 0, AUC-ROC: 0.89074\n",
      "Fold 1, AUC-ROC: 0.91471\n",
      "Fold 2, AUC-ROC: 0.91824\n",
      "Fold 3, AUC-ROC: 0.90260\n",
      "CV AUC-ROC: 0.90657\n"
     ]
    },
    {
     "name": "stderr",
     "output_type": "stream",
     "text": [
      "100%|██████████| 4/4 [03:49<00:00, 57.26s/it]\n",
      "[I 2025-03-13 05:41:33,407] Trial 161 finished with value: 0.9231104511333565 and parameters: {'learning_rate': 0.02490165193024275, 'feature_fraction': 0.4724490939011635, 'n_estimators': 2023, 'max_depth': 15, 'lambda_l1': 3.1554635995956377, 'lambda_l2': 1.7484717947487325, 'num_boost_round': 45}. Best is trial 141 with value: 0.9238650388145805.\n"
     ]
    },
    {
     "name": "stdout",
     "output_type": "stream",
     "text": [
      "Fold 0, AUC-ROC: 0.90968\n",
      "Fold 1, AUC-ROC: 0.93470\n",
      "Fold 2, AUC-ROC: 0.93429\n",
      "Fold 3, AUC-ROC: 0.91376\n",
      "CV AUC-ROC: 0.92311\n"
     ]
    },
    {
     "name": "stderr",
     "output_type": "stream",
     "text": [
      "100%|██████████| 4/4 [03:46<00:00, 56.53s/it]\n",
      "[I 2025-03-13 05:45:20,415] Trial 162 finished with value: 0.9231395502841244 and parameters: {'learning_rate': 0.025241088574004412, 'feature_fraction': 0.47262157880740235, 'n_estimators': 1992, 'max_depth': 15, 'lambda_l1': 2.4095710471407283, 'lambda_l2': 2.0350558846451574, 'num_boost_round': 46}. Best is trial 141 with value: 0.9238650388145805.\n"
     ]
    },
    {
     "name": "stdout",
     "output_type": "stream",
     "text": [
      "Fold 0, AUC-ROC: 0.91020\n",
      "Fold 1, AUC-ROC: 0.93490\n",
      "Fold 2, AUC-ROC: 0.93397\n",
      "Fold 3, AUC-ROC: 0.91349\n",
      "CV AUC-ROC: 0.92314\n"
     ]
    },
    {
     "name": "stderr",
     "output_type": "stream",
     "text": [
      "100%|██████████| 4/4 [03:54<00:00, 58.62s/it]\n",
      "[I 2025-03-13 05:49:15,943] Trial 163 finished with value: 0.9231987854169735 and parameters: {'learning_rate': 0.024514390816739007, 'feature_fraction': 0.4539914786367878, 'n_estimators': 2013, 'max_depth': 15, 'lambda_l1': 2.75768590779436, 'lambda_l2': 2.0445434915187737, 'num_boost_round': 44}. Best is trial 141 with value: 0.9238650388145805.\n"
     ]
    },
    {
     "name": "stdout",
     "output_type": "stream",
     "text": [
      "Fold 0, AUC-ROC: 0.90989\n",
      "Fold 1, AUC-ROC: 0.93411\n",
      "Fold 2, AUC-ROC: 0.93415\n",
      "Fold 3, AUC-ROC: 0.91465\n",
      "CV AUC-ROC: 0.92320\n"
     ]
    },
    {
     "name": "stderr",
     "output_type": "stream",
     "text": [
      "100%|██████████| 4/4 [36:06<00:00, 541.58s/it]\n",
      "[I 2025-03-13 06:25:23,249] Trial 164 finished with value: 0.9214344560467571 and parameters: {'learning_rate': 0.025068893189631104, 'feature_fraction': 0.4544140406492871, 'n_estimators': 2008, 'max_depth': 14, 'lambda_l1': 2.8505777778779002, 'lambda_l2': 5.270278863384357, 'num_boost_round': 45}. Best is trial 141 with value: 0.9238650388145805.\n"
     ]
    },
    {
     "name": "stdout",
     "output_type": "stream",
     "text": [
      "Fold 0, AUC-ROC: 0.90822\n",
      "Fold 1, AUC-ROC: 0.93308\n",
      "Fold 2, AUC-ROC: 0.93235\n",
      "Fold 3, AUC-ROC: 0.91209\n",
      "CV AUC-ROC: 0.92143\n"
     ]
    },
    {
     "name": "stderr",
     "output_type": "stream",
     "text": [
      "100%|██████████| 4/4 [31:14<00:00, 468.56s/it] \n",
      "[I 2025-03-13 06:56:38,396] Trial 165 finished with value: 0.9104582304620293 and parameters: {'learning_rate': 0.031428408004508114, 'feature_fraction': 0.4728560462402415, 'n_estimators': 1907, 'max_depth': 4, 'lambda_l1': 3.381697363596633, 'lambda_l2': 2.170339176692327, 'num_boost_round': 47}. Best is trial 141 with value: 0.9238650388145805.\n"
     ]
    },
    {
     "name": "stdout",
     "output_type": "stream",
     "text": [
      "Fold 0, AUC-ROC: 0.90103\n",
      "Fold 1, AUC-ROC: 0.91901\n",
      "Fold 2, AUC-ROC: 0.91815\n",
      "Fold 3, AUC-ROC: 0.90365\n",
      "CV AUC-ROC: 0.91046\n"
     ]
    },
    {
     "name": "stderr",
     "output_type": "stream",
     "text": [
      "100%|██████████| 4/4 [04:35<00:00, 68.92s/it]\n",
      "[I 2025-03-13 07:01:15,301] Trial 166 finished with value: 0.920400960690566 and parameters: {'learning_rate': 0.024017079274638434, 'feature_fraction': 0.484102445763909, 'n_estimators': 2003, 'max_depth': 14, 'lambda_l1': 8.038896183539107, 'lambda_l2': 7.198599685416369, 'num_boost_round': 44}. Best is trial 141 with value: 0.9238650388145805.\n"
     ]
    },
    {
     "name": "stdout",
     "output_type": "stream",
     "text": [
      "Fold 0, AUC-ROC: 0.90567\n",
      "Fold 1, AUC-ROC: 0.93271\n",
      "Fold 2, AUC-ROC: 0.93233\n",
      "Fold 3, AUC-ROC: 0.91089\n",
      "CV AUC-ROC: 0.92040\n"
     ]
    },
    {
     "name": "stderr",
     "output_type": "stream",
     "text": [
      "100%|██████████| 4/4 [54:01<00:00, 810.36s/it] \n",
      "[I 2025-03-13 07:55:21,494] Trial 167 finished with value: 0.9235599824999516 and parameters: {'learning_rate': 0.029312795056190583, 'feature_fraction': 0.46936802409166994, 'n_estimators': 2075, 'max_depth': 15, 'lambda_l1': 2.984083397103644, 'lambda_l2': 1.8719228629770328, 'num_boost_round': 40}. Best is trial 141 with value: 0.9238650388145805.\n"
     ]
    },
    {
     "name": "stdout",
     "output_type": "stream",
     "text": [
      "Fold 0, AUC-ROC: 0.90991\n",
      "Fold 1, AUC-ROC: 0.93563\n",
      "Fold 2, AUC-ROC: 0.93479\n",
      "Fold 3, AUC-ROC: 0.91391\n",
      "CV AUC-ROC: 0.92356\n"
     ]
    },
    {
     "name": "stderr",
     "output_type": "stream",
     "text": [
      "100%|██████████| 4/4 [50:01<00:00, 750.41s/it]\n",
      "[I 2025-03-13 08:45:24,119] Trial 168 finished with value: 0.9224492196106433 and parameters: {'learning_rate': 0.03117665186210894, 'feature_fraction': 0.4397907380437847, 'n_estimators': 2111, 'max_depth': 15, 'lambda_l1': 2.5691728263964566, 'lambda_l2': 4.0767743980415405, 'num_boost_round': 40}. Best is trial 141 with value: 0.9238650388145805.\n"
     ]
    },
    {
     "name": "stdout",
     "output_type": "stream",
     "text": [
      "Fold 0, AUC-ROC: 0.90701\n",
      "Fold 1, AUC-ROC: 0.93448\n",
      "Fold 2, AUC-ROC: 0.93453\n",
      "Fold 3, AUC-ROC: 0.91378\n",
      "CV AUC-ROC: 0.92245\n"
     ]
    },
    {
     "name": "stderr",
     "output_type": "stream",
     "text": [
      "100%|██████████| 4/4 [12:02<00:00, 180.62s/it]\n",
      "[I 2025-03-13 08:57:27,547] Trial 169 finished with value: 0.9226883624929099 and parameters: {'learning_rate': 0.026337922426121818, 'feature_fraction': 0.44950614836841807, 'n_estimators': 1934, 'max_depth': 15, 'lambda_l1': 2.461148376117111, 'lambda_l2': 2.6592021600126383, 'num_boost_round': 46}. Best is trial 141 with value: 0.9238650388145805.\n"
     ]
    },
    {
     "name": "stdout",
     "output_type": "stream",
     "text": [
      "Fold 0, AUC-ROC: 0.90918\n",
      "Fold 1, AUC-ROC: 0.93400\n",
      "Fold 2, AUC-ROC: 0.93445\n",
      "Fold 3, AUC-ROC: 0.91312\n",
      "CV AUC-ROC: 0.92269\n"
     ]
    },
    {
     "name": "stderr",
     "output_type": "stream",
     "text": [
      "100%|██████████| 4/4 [20:13<00:00, 303.27s/it]\n",
      "[I 2025-03-13 09:17:41,555] Trial 170 finished with value: 0.9216607718086463 and parameters: {'learning_rate': 0.025892476971803167, 'feature_fraction': 0.42917987504739963, 'n_estimators': 1937, 'max_depth': 15, 'lambda_l1': 2.4072334908590607, 'lambda_l2': 5.124414395863893, 'num_boost_round': 48}. Best is trial 141 with value: 0.9238650388145805.\n"
     ]
    },
    {
     "name": "stdout",
     "output_type": "stream",
     "text": [
      "Fold 0, AUC-ROC: 0.90777\n",
      "Fold 1, AUC-ROC: 0.93298\n",
      "Fold 2, AUC-ROC: 0.93311\n",
      "Fold 3, AUC-ROC: 0.91279\n",
      "CV AUC-ROC: 0.92166\n"
     ]
    },
    {
     "name": "stderr",
     "output_type": "stream",
     "text": [
      "100%|██████████| 4/4 [36:35<00:00, 548.87s/it] \n",
      "[I 2025-03-13 09:54:18,081] Trial 171 finished with value: 0.9232399119873129 and parameters: {'learning_rate': 0.029865671605301063, 'feature_fraction': 0.45876438401491565, 'n_estimators': 1999, 'max_depth': 15, 'lambda_l1': 2.1160102027537544, 'lambda_l2': 2.312963867872169, 'num_boost_round': 46}. Best is trial 141 with value: 0.9238650388145805.\n"
     ]
    },
    {
     "name": "stdout",
     "output_type": "stream",
     "text": [
      "Fold 0, AUC-ROC: 0.91051\n",
      "Fold 1, AUC-ROC: 0.93570\n",
      "Fold 2, AUC-ROC: 0.93413\n",
      "Fold 3, AUC-ROC: 0.91261\n",
      "CV AUC-ROC: 0.92324\n"
     ]
    },
    {
     "name": "stderr",
     "output_type": "stream",
     "text": [
      "100%|██████████| 4/4 [04:20<00:00, 65.22s/it]\n",
      "[I 2025-03-13 09:58:39,831] Trial 172 finished with value: 0.9221569197185838 and parameters: {'learning_rate': 0.03179089192149904, 'feature_fraction': 0.4464111740778999, 'n_estimators': 1792, 'max_depth': 15, 'lambda_l1': 2.101838801266443, 'lambda_l2': 7.487222054180349, 'num_boost_round': 54}. Best is trial 141 with value: 0.9238650388145805.\n"
     ]
    },
    {
     "name": "stdout",
     "output_type": "stream",
     "text": [
      "Fold 0, AUC-ROC: 0.90786\n",
      "Fold 1, AUC-ROC: 0.93422\n",
      "Fold 2, AUC-ROC: 0.93308\n",
      "Fold 3, AUC-ROC: 0.91347\n",
      "CV AUC-ROC: 0.92216\n"
     ]
    },
    {
     "name": "stderr",
     "output_type": "stream",
     "text": [
      "100%|██████████| 4/4 [23:02<00:00, 345.52s/it]\n",
      "[I 2025-03-13 10:21:42,934] Trial 173 finished with value: 0.92260160068158 and parameters: {'learning_rate': 0.029063390336272112, 'feature_fraction': 0.463536034266198, 'n_estimators': 1997, 'max_depth': 15, 'lambda_l1': 7.244873841348465, 'lambda_l2': 2.554268790665269, 'num_boost_round': 43}. Best is trial 141 with value: 0.9238650388145805.\n"
     ]
    },
    {
     "name": "stdout",
     "output_type": "stream",
     "text": [
      "Fold 0, AUC-ROC: 0.90798\n",
      "Fold 1, AUC-ROC: 0.93515\n",
      "Fold 2, AUC-ROC: 0.93311\n",
      "Fold 3, AUC-ROC: 0.91416\n",
      "CV AUC-ROC: 0.92260\n"
     ]
    },
    {
     "name": "stderr",
     "output_type": "stream",
     "text": [
      "100%|██████████| 4/4 [03:39<00:00, 54.85s/it]\n",
      "[I 2025-03-13 10:25:23,345] Trial 174 finished with value: 0.9228730657989166 and parameters: {'learning_rate': 0.029058116700230414, 'feature_fraction': 0.457703508556936, 'n_estimators': 1992, 'max_depth': 15, 'lambda_l1': 2.3440345570930665, 'lambda_l2': 2.994838749441336, 'num_boost_round': 44}. Best is trial 141 with value: 0.9238650388145805.\n"
     ]
    },
    {
     "name": "stdout",
     "output_type": "stream",
     "text": [
      "Fold 0, AUC-ROC: 0.90959\n",
      "Fold 1, AUC-ROC: 0.93480\n",
      "Fold 2, AUC-ROC: 0.93476\n",
      "Fold 3, AUC-ROC: 0.91234\n",
      "CV AUC-ROC: 0.92287\n"
     ]
    },
    {
     "name": "stderr",
     "output_type": "stream",
     "text": [
      "100%|██████████| 4/4 [03:25<00:00, 51.39s/it]\n",
      "[I 2025-03-13 10:28:49,923] Trial 175 finished with value: 0.9233603454788442 and parameters: {'learning_rate': 0.0331604095478786, 'feature_fraction': 0.4547955861599266, 'n_estimators': 1986, 'max_depth': 15, 'lambda_l1': 2.5275969684832513, 'lambda_l2': 2.173489877058544, 'num_boost_round': 43}. Best is trial 141 with value: 0.9238650388145805.\n"
     ]
    },
    {
     "name": "stdout",
     "output_type": "stream",
     "text": [
      "Fold 0, AUC-ROC: 0.90946\n",
      "Fold 1, AUC-ROC: 0.93550\n",
      "Fold 2, AUC-ROC: 0.93566\n",
      "Fold 3, AUC-ROC: 0.91282\n",
      "CV AUC-ROC: 0.92336\n"
     ]
    },
    {
     "name": "stderr",
     "output_type": "stream",
     "text": [
      "100%|██████████| 4/4 [03:32<00:00, 53.08s/it]\n",
      "[I 2025-03-13 10:32:23,284] Trial 176 finished with value: 0.9223127655879886 and parameters: {'learning_rate': 0.03330476700212097, 'feature_fraction': 0.45592485030614244, 'n_estimators': 1934, 'max_depth': 14, 'lambda_l1': 2.826380384520792, 'lambda_l2': 5.257184010563136, 'num_boost_round': 46}. Best is trial 141 with value: 0.9238650388145805.\n"
     ]
    },
    {
     "name": "stdout",
     "output_type": "stream",
     "text": [
      "Fold 0, AUC-ROC: 0.90778\n",
      "Fold 1, AUC-ROC: 0.93487\n",
      "Fold 2, AUC-ROC: 0.93301\n",
      "Fold 3, AUC-ROC: 0.91360\n",
      "CV AUC-ROC: 0.92231\n"
     ]
    },
    {
     "name": "stderr",
     "output_type": "stream",
     "text": [
      "100%|██████████| 4/4 [03:23<00:00, 50.80s/it]\n",
      "[I 2025-03-13 10:35:47,521] Trial 177 finished with value: 0.9213598629149932 and parameters: {'learning_rate': 0.029714098550329814, 'feature_fraction': 0.4485441204853899, 'n_estimators': 1847, 'max_depth': 15, 'lambda_l1': 0.032683010543895996, 'lambda_l2': 10.424671936927268, 'num_boost_round': 39}. Best is trial 141 with value: 0.9238650388145805.\n"
     ]
    },
    {
     "name": "stdout",
     "output_type": "stream",
     "text": [
      "Fold 0, AUC-ROC: 0.90952\n",
      "Fold 1, AUC-ROC: 0.93198\n",
      "Fold 2, AUC-ROC: 0.93157\n",
      "Fold 3, AUC-ROC: 0.91237\n",
      "CV AUC-ROC: 0.92136\n"
     ]
    },
    {
     "name": "stderr",
     "output_type": "stream",
     "text": [
      "100%|██████████| 4/4 [03:46<00:00, 56.70s/it]\n",
      "[I 2025-03-13 10:39:35,407] Trial 178 finished with value: 0.923983733203134 and parameters: {'learning_rate': 0.02256378910608335, 'feature_fraction': 0.4320334041838215, 'n_estimators': 2058, 'max_depth': 15, 'lambda_l1': 2.8932563506488256, 'lambda_l2': 0.04010647083511708, 'num_boost_round': 43}. Best is trial 178 with value: 0.923983733203134.\n"
     ]
    },
    {
     "name": "stdout",
     "output_type": "stream",
     "text": [
      "Fold 0, AUC-ROC: 0.90963\n",
      "Fold 1, AUC-ROC: 0.93496\n",
      "Fold 2, AUC-ROC: 0.93532\n",
      "Fold 3, AUC-ROC: 0.91603\n",
      "CV AUC-ROC: 0.92398\n"
     ]
    },
    {
     "name": "stderr",
     "output_type": "stream",
     "text": [
      "100%|██████████| 4/4 [03:45<00:00, 56.37s/it]\n",
      "[I 2025-03-13 10:43:21,854] Trial 179 finished with value: 0.9230342695099263 and parameters: {'learning_rate': 0.022950357737136468, 'feature_fraction': 0.4369009427800093, 'n_estimators': 2094, 'max_depth': 14, 'lambda_l1': 2.2114022203867814, 'lambda_l2': 1.4305343332834242, 'num_boost_round': 43}. Best is trial 178 with value: 0.923983733203134.\n"
     ]
    },
    {
     "name": "stdout",
     "output_type": "stream",
     "text": [
      "Fold 0, AUC-ROC: 0.90975\n",
      "Fold 1, AUC-ROC: 0.93422\n",
      "Fold 2, AUC-ROC: 0.93476\n",
      "Fold 3, AUC-ROC: 0.91340\n",
      "CV AUC-ROC: 0.92303\n"
     ]
    },
    {
     "name": "stderr",
     "output_type": "stream",
     "text": [
      "100%|██████████| 4/4 [03:31<00:00, 52.76s/it]\n",
      "[I 2025-03-13 10:46:53,912] Trial 180 finished with value: 0.9233185326845422 and parameters: {'learning_rate': 0.022979088921616132, 'feature_fraction': 0.43353662314762764, 'n_estimators': 2034, 'max_depth': 14, 'lambda_l1': 2.4606528617739127, 'lambda_l2': 0.10240899837965034, 'num_boost_round': 43}. Best is trial 178 with value: 0.923983733203134.\n"
     ]
    },
    {
     "name": "stdout",
     "output_type": "stream",
     "text": [
      "Fold 0, AUC-ROC: 0.90999\n",
      "Fold 1, AUC-ROC: 0.93435\n",
      "Fold 2, AUC-ROC: 0.93621\n",
      "Fold 3, AUC-ROC: 0.91273\n",
      "CV AUC-ROC: 0.92332\n"
     ]
    },
    {
     "name": "stderr",
     "output_type": "stream",
     "text": [
      "100%|██████████| 4/4 [03:35<00:00, 53.86s/it]\n",
      "[I 2025-03-13 10:50:30,344] Trial 181 finished with value: 0.92409412291494 and parameters: {'learning_rate': 0.022921791048797262, 'feature_fraction': 0.4135400145849685, 'n_estimators': 1982, 'max_depth': 14, 'lambda_l1': 2.507017271952411, 'lambda_l2': 0.01376000328613225, 'num_boost_round': 43}. Best is trial 181 with value: 0.92409412291494.\n"
     ]
    },
    {
     "name": "stdout",
     "output_type": "stream",
     "text": [
      "Fold 0, AUC-ROC: 0.90955\n",
      "Fold 1, AUC-ROC: 0.93503\n",
      "Fold 2, AUC-ROC: 0.93596\n",
      "Fold 3, AUC-ROC: 0.91584\n",
      "CV AUC-ROC: 0.92409\n"
     ]
    },
    {
     "name": "stderr",
     "output_type": "stream",
     "text": [
      "100%|██████████| 4/4 [03:42<00:00, 55.59s/it]\n",
      "[I 2025-03-13 10:54:13,748] Trial 182 finished with value: 0.9230874823768812 and parameters: {'learning_rate': 0.022574033247259213, 'feature_fraction': 0.42391642777012845, 'n_estimators': 2016, 'max_depth': 14, 'lambda_l1': 2.5434465907103094, 'lambda_l2': 0.8274805495329589, 'num_boost_round': 43}. Best is trial 181 with value: 0.92409412291494.\n"
     ]
    },
    {
     "name": "stdout",
     "output_type": "stream",
     "text": [
      "Fold 0, AUC-ROC: 0.91009\n",
      "Fold 1, AUC-ROC: 0.93255\n",
      "Fold 2, AUC-ROC: 0.93447\n",
      "Fold 3, AUC-ROC: 0.91524\n",
      "CV AUC-ROC: 0.92309\n"
     ]
    },
    {
     "name": "stderr",
     "output_type": "stream",
     "text": [
      "100%|██████████| 4/4 [03:31<00:00, 52.78s/it]\n",
      "[I 2025-03-13 10:57:45,870] Trial 183 finished with value: 0.9238833241251099 and parameters: {'learning_rate': 0.022648433858604964, 'feature_fraction': 0.42106165557752573, 'n_estimators': 2042, 'max_depth': 14, 'lambda_l1': 2.3694512207670875, 'lambda_l2': 0.03367577457556781, 'num_boost_round': 40}. Best is trial 181 with value: 0.92409412291494.\n"
     ]
    },
    {
     "name": "stdout",
     "output_type": "stream",
     "text": [
      "Fold 0, AUC-ROC: 0.90985\n",
      "Fold 1, AUC-ROC: 0.93516\n",
      "Fold 2, AUC-ROC: 0.93582\n",
      "Fold 3, AUC-ROC: 0.91471\n",
      "CV AUC-ROC: 0.92388\n"
     ]
    },
    {
     "name": "stderr",
     "output_type": "stream",
     "text": [
      "100%|██████████| 4/4 [03:47<00:00, 56.78s/it]\n",
      "[I 2025-03-13 11:01:34,039] Trial 184 finished with value: 0.9237263503986262 and parameters: {'learning_rate': 0.02265947192891985, 'feature_fraction': 0.4075770318476149, 'n_estimators': 2112, 'max_depth': 14, 'lambda_l1': 2.23045958881388, 'lambda_l2': 0.5169651146562368, 'num_boost_round': 43}. Best is trial 181 with value: 0.92409412291494.\n"
     ]
    },
    {
     "name": "stdout",
     "output_type": "stream",
     "text": [
      "Fold 0, AUC-ROC: 0.90966\n",
      "Fold 1, AUC-ROC: 0.93422\n",
      "Fold 2, AUC-ROC: 0.93589\n",
      "Fold 3, AUC-ROC: 0.91514\n",
      "CV AUC-ROC: 0.92373\n"
     ]
    },
    {
     "name": "stderr",
     "output_type": "stream",
     "text": [
      "100%|██████████| 4/4 [03:42<00:00, 55.70s/it]\n",
      "[I 2025-03-13 11:05:17,867] Trial 185 finished with value: 0.923951343212581 and parameters: {'learning_rate': 0.022625420803633944, 'feature_fraction': 0.40804689915437364, 'n_estimators': 2105, 'max_depth': 14, 'lambda_l1': 2.2399428210181833, 'lambda_l2': 0.0851624952767395, 'num_boost_round': 43}. Best is trial 181 with value: 0.92409412291494.\n"
     ]
    },
    {
     "name": "stdout",
     "output_type": "stream",
     "text": [
      "Fold 0, AUC-ROC: 0.90991\n",
      "Fold 1, AUC-ROC: 0.93357\n",
      "Fold 2, AUC-ROC: 0.93686\n",
      "Fold 3, AUC-ROC: 0.91546\n",
      "CV AUC-ROC: 0.92395\n"
     ]
    },
    {
     "name": "stderr",
     "output_type": "stream",
     "text": [
      "100%|██████████| 4/4 [03:38<00:00, 54.59s/it]\n",
      "[I 2025-03-13 11:08:57,258] Trial 186 finished with value: 0.9217769825878956 and parameters: {'learning_rate': 0.02196672035962878, 'feature_fraction': 0.4106145275853737, 'n_estimators': 2017, 'max_depth': 14, 'lambda_l1': 7.814995330667365, 'lambda_l2': 0.40491434819901895, 'num_boost_round': 40}. Best is trial 181 with value: 0.92409412291494.\n"
     ]
    },
    {
     "name": "stdout",
     "output_type": "stream",
     "text": [
      "Fold 0, AUC-ROC: 0.90772\n",
      "Fold 1, AUC-ROC: 0.93272\n",
      "Fold 2, AUC-ROC: 0.93424\n",
      "Fold 3, AUC-ROC: 0.91243\n",
      "CV AUC-ROC: 0.92178\n"
     ]
    },
    {
     "name": "stderr",
     "output_type": "stream",
     "text": [
      "100%|██████████| 4/4 [03:22<00:00, 50.55s/it]\n",
      "[I 2025-03-13 11:12:20,636] Trial 187 finished with value: 0.9182904134337453 and parameters: {'learning_rate': 0.01642082000565822, 'feature_fraction': 0.40651912130739015, 'n_estimators': 1775, 'max_depth': 14, 'lambda_l1': 3.108755619329476, 'lambda_l2': 5.186341811951065, 'num_boost_round': 48}. Best is trial 181 with value: 0.92409412291494.\n"
     ]
    },
    {
     "name": "stdout",
     "output_type": "stream",
     "text": [
      "Fold 0, AUC-ROC: 0.90548\n",
      "Fold 1, AUC-ROC: 0.92699\n",
      "Fold 2, AUC-ROC: 0.92964\n",
      "Fold 3, AUC-ROC: 0.91104\n",
      "CV AUC-ROC: 0.91829\n"
     ]
    },
    {
     "name": "stderr",
     "output_type": "stream",
     "text": [
      "100%|██████████| 4/4 [03:32<00:00, 53.24s/it]\n",
      "[I 2025-03-13 11:15:54,533] Trial 188 finished with value: 0.9203888538324065 and parameters: {'learning_rate': 0.022874294354270342, 'feature_fraction': 0.42094364924564404, 'n_estimators': 1885, 'max_depth': 14, 'lambda_l1': 5.669964808829315, 'lambda_l2': 6.593219473896401, 'num_boost_round': 43}. Best is trial 181 with value: 0.92409412291494.\n"
     ]
    },
    {
     "name": "stdout",
     "output_type": "stream",
     "text": [
      "Fold 0, AUC-ROC: 0.90701\n",
      "Fold 1, AUC-ROC: 0.93126\n",
      "Fold 2, AUC-ROC: 0.93142\n",
      "Fold 3, AUC-ROC: 0.91186\n",
      "CV AUC-ROC: 0.92039\n"
     ]
    },
    {
     "name": "stderr",
     "output_type": "stream",
     "text": [
      "100%|██████████| 4/4 [03:30<00:00, 52.59s/it]\n",
      "[I 2025-03-13 11:19:25,867] Trial 189 finished with value: 0.9237972358058714 and parameters: {'learning_rate': 0.024544585492220324, 'feature_fraction': 0.41938862496632323, 'n_estimators': 2125, 'max_depth': 13, 'lambda_l1': 1.947252373726025, 'lambda_l2': 0.1615568354574442, 'num_boost_round': 39}. Best is trial 181 with value: 0.92409412291494.\n"
     ]
    },
    {
     "name": "stdout",
     "output_type": "stream",
     "text": [
      "Fold 0, AUC-ROC: 0.90879\n",
      "Fold 1, AUC-ROC: 0.93547\n",
      "Fold 2, AUC-ROC: 0.93656\n",
      "Fold 3, AUC-ROC: 0.91437\n",
      "CV AUC-ROC: 0.92380\n"
     ]
    },
    {
     "name": "stderr",
     "output_type": "stream",
     "text": [
      "100%|██████████| 4/4 [03:55<00:00, 58.97s/it]\n",
      "[I 2025-03-13 11:23:22,706] Trial 190 finished with value: 0.9204985096683034 and parameters: {'learning_rate': 0.017478668861451732, 'feature_fraction': 0.4161320204679324, 'n_estimators': 2119, 'max_depth': 13, 'lambda_l1': 2.169068504813647, 'lambda_l2': 4.187077064760371, 'num_boost_round': 39}. Best is trial 181 with value: 0.92409412291494.\n"
     ]
    },
    {
     "name": "stdout",
     "output_type": "stream",
     "text": [
      "Fold 0, AUC-ROC: 0.90779\n",
      "Fold 1, AUC-ROC: 0.93060\n",
      "Fold 2, AUC-ROC: 0.93127\n",
      "Fold 3, AUC-ROC: 0.91234\n",
      "CV AUC-ROC: 0.92050\n"
     ]
    },
    {
     "name": "stderr",
     "output_type": "stream",
     "text": [
      "100%|██████████| 4/4 [03:34<00:00, 53.59s/it]\n",
      "[I 2025-03-13 11:26:58,014] Trial 191 finished with value: 0.9234735385222933 and parameters: {'learning_rate': 0.02392549302344423, 'feature_fraction': 0.40326581626729396, 'n_estimators': 1973, 'max_depth': 14, 'lambda_l1': 2.311989573756717, 'lambda_l2': 0.400275093894739, 'num_boost_round': 40}. Best is trial 181 with value: 0.92409412291494.\n"
     ]
    },
    {
     "name": "stdout",
     "output_type": "stream",
     "text": [
      "Fold 0, AUC-ROC: 0.90936\n",
      "Fold 1, AUC-ROC: 0.93390\n",
      "Fold 2, AUC-ROC: 0.93506\n",
      "Fold 3, AUC-ROC: 0.91557\n",
      "CV AUC-ROC: 0.92347\n"
     ]
    },
    {
     "name": "stderr",
     "output_type": "stream",
     "text": [
      "100%|██████████| 4/4 [03:26<00:00, 51.73s/it]\n",
      "[I 2025-03-13 11:30:25,837] Trial 192 finished with value: 0.9237408997539742 and parameters: {'learning_rate': 0.024017599987217093, 'feature_fraction': 0.401217926231752, 'n_estimators': 1988, 'max_depth': 14, 'lambda_l1': 2.2524235257961256, 'lambda_l2': 0.10809277380616888, 'num_boost_round': 40}. Best is trial 181 with value: 0.92409412291494.\n"
     ]
    },
    {
     "name": "stdout",
     "output_type": "stream",
     "text": [
      "Fold 0, AUC-ROC: 0.90971\n",
      "Fold 1, AUC-ROC: 0.93458\n",
      "Fold 2, AUC-ROC: 0.93663\n",
      "Fold 3, AUC-ROC: 0.91404\n",
      "CV AUC-ROC: 0.92374\n"
     ]
    },
    {
     "name": "stderr",
     "output_type": "stream",
     "text": [
      "100%|██████████| 4/4 [03:33<00:00, 53.33s/it]\n",
      "[I 2025-03-13 11:34:00,056] Trial 193 finished with value: 0.9226409386066223 and parameters: {'learning_rate': 0.02256138284750545, 'feature_fraction': 0.40359206056525226, 'n_estimators': 1948, 'max_depth': 14, 'lambda_l1': 1.6155345702688138, 'lambda_l2': 1.4648333420194635, 'num_boost_round': 37}. Best is trial 181 with value: 0.92409412291494.\n"
     ]
    },
    {
     "name": "stdout",
     "output_type": "stream",
     "text": [
      "Fold 0, AUC-ROC: 0.90968\n",
      "Fold 1, AUC-ROC: 0.93265\n",
      "Fold 2, AUC-ROC: 0.93420\n",
      "Fold 3, AUC-ROC: 0.91403\n",
      "CV AUC-ROC: 0.92264\n"
     ]
    },
    {
     "name": "stderr",
     "output_type": "stream",
     "text": [
      "100%|██████████| 4/4 [03:41<00:00, 55.50s/it]\n",
      "[I 2025-03-13 11:37:43,092] Trial 194 finished with value: 0.9236770406226814 and parameters: {'learning_rate': 0.02520369691049032, 'feature_fraction': 0.4250107973818989, 'n_estimators': 2069, 'max_depth': 13, 'lambda_l1': 4.701147826842844, 'lambda_l2': 0.16182120353254706, 'num_boost_round': 40}. Best is trial 181 with value: 0.92409412291494.\n"
     ]
    },
    {
     "name": "stdout",
     "output_type": "stream",
     "text": [
      "Fold 0, AUC-ROC: 0.90943\n",
      "Fold 1, AUC-ROC: 0.93537\n",
      "Fold 2, AUC-ROC: 0.93527\n",
      "Fold 3, AUC-ROC: 0.91464\n",
      "CV AUC-ROC: 0.92368\n"
     ]
    },
    {
     "name": "stderr",
     "output_type": "stream",
     "text": [
      "100%|██████████| 4/4 [03:54<00:00, 58.61s/it]\n",
      "[I 2025-03-13 11:41:38,450] Trial 195 finished with value: 0.9222673276957325 and parameters: {'learning_rate': 0.020941672528548883, 'feature_fraction': 0.42444684952378736, 'n_estimators': 2111, 'max_depth': 13, 'lambda_l1': 5.729966194520378, 'lambda_l2': 0.3429918880246172, 'num_boost_round': 40}. Best is trial 181 with value: 0.92409412291494.\n"
     ]
    },
    {
     "name": "stdout",
     "output_type": "stream",
     "text": [
      "Fold 0, AUC-ROC: 0.90780\n",
      "Fold 1, AUC-ROC: 0.93297\n",
      "Fold 2, AUC-ROC: 0.93437\n",
      "Fold 3, AUC-ROC: 0.91393\n",
      "CV AUC-ROC: 0.92227\n"
     ]
    },
    {
     "name": "stderr",
     "output_type": "stream",
     "text": [
      "100%|██████████| 4/4 [03:45<00:00, 56.35s/it]\n",
      "[I 2025-03-13 11:45:24,857] Trial 196 finished with value: 0.9229002569123521 and parameters: {'learning_rate': 0.025481720663170133, 'feature_fraction': 0.4117986037452304, 'n_estimators': 2064, 'max_depth': 14, 'lambda_l1': 6.963041709549811, 'lambda_l2': 0.06260530349080837, 'num_boost_round': 42}. Best is trial 181 with value: 0.92409412291494.\n"
     ]
    },
    {
     "name": "stdout",
     "output_type": "stream",
     "text": [
      "Fold 0, AUC-ROC: 0.90736\n",
      "Fold 1, AUC-ROC: 0.93452\n",
      "Fold 2, AUC-ROC: 0.93555\n",
      "Fold 3, AUC-ROC: 0.91417\n",
      "CV AUC-ROC: 0.92290\n"
     ]
    },
    {
     "name": "stderr",
     "output_type": "stream",
     "text": [
      "100%|██████████| 4/4 [04:11<00:00, 62.78s/it]\n",
      "[I 2025-03-13 11:49:37,039] Trial 197 finished with value: 0.9205838594853647 and parameters: {'learning_rate': 0.018784264737215773, 'feature_fraction': 0.42856800478972296, 'n_estimators': 2144, 'max_depth': 13, 'lambda_l1': 4.778257346846216, 'lambda_l2': 4.310528194752218, 'num_boost_round': 39}. Best is trial 181 with value: 0.92409412291494.\n"
     ]
    },
    {
     "name": "stdout",
     "output_type": "stream",
     "text": [
      "Fold 0, AUC-ROC: 0.90675\n",
      "Fold 1, AUC-ROC: 0.93133\n",
      "Fold 2, AUC-ROC: 0.93197\n",
      "Fold 3, AUC-ROC: 0.91228\n",
      "CV AUC-ROC: 0.92058\n"
     ]
    },
    {
     "name": "stderr",
     "output_type": "stream",
     "text": [
      "100%|██████████| 4/4 [03:39<00:00, 54.83s/it]\n",
      "[I 2025-03-13 11:53:17,293] Trial 198 finished with value: 0.9197059882894751 and parameters: {'learning_rate': 0.022286097652408212, 'feature_fraction': 0.40171755318881036, 'n_estimators': 1880, 'max_depth': 14, 'lambda_l1': 8.975182537635332, 'lambda_l2': 4.170480453723456, 'num_boost_round': 42}. Best is trial 181 with value: 0.92409412291494.\n"
     ]
    },
    {
     "name": "stdout",
     "output_type": "stream",
     "text": [
      "Fold 0, AUC-ROC: 0.90532\n",
      "Fold 1, AUC-ROC: 0.93053\n",
      "Fold 2, AUC-ROC: 0.93161\n",
      "Fold 3, AUC-ROC: 0.91137\n",
      "CV AUC-ROC: 0.91971\n"
     ]
    },
    {
     "name": "stderr",
     "output_type": "stream",
     "text": [
      "100%|██████████| 4/4 [03:51<00:00, 57.92s/it]\n",
      "[I 2025-03-13 11:57:10,004] Trial 199 finished with value: 0.9214327486506393 and parameters: {'learning_rate': 0.014660861226664514, 'feature_fraction': 0.4163822283634513, 'n_estimators': 2056, 'max_depth': 14, 'lambda_l1': 0.07673993855391092, 'lambda_l2': 0.04990341219666905, 'num_boost_round': 40}. Best is trial 181 with value: 0.92409412291494.\n"
     ]
    },
    {
     "name": "stdout",
     "output_type": "stream",
     "text": [
      "Fold 0, AUC-ROC: 0.90854\n",
      "Fold 1, AUC-ROC: 0.92882\n",
      "Fold 2, AUC-ROC: 0.93281\n",
      "Fold 3, AUC-ROC: 0.91556\n",
      "CV AUC-ROC: 0.92143\n"
     ]
    },
    {
     "name": "stderr",
     "output_type": "stream",
     "text": [
      "100%|██████████| 4/4 [03:20<00:00, 50.07s/it]\n",
      "[I 2025-03-13 12:00:31,357] Trial 200 finished with value: 0.9129009308288752 and parameters: {'learning_rate': 0.020171889774379087, 'feature_fraction': 0.40866972356429043, 'n_estimators': 1961, 'max_depth': 14, 'lambda_l1': 30.043759912053154, 'lambda_l2': 0.12127836527010771, 'num_boost_round': 93}. Best is trial 181 with value: 0.92409412291494.\n"
     ]
    },
    {
     "name": "stdout",
     "output_type": "stream",
     "text": [
      "Fold 0, AUC-ROC: 0.89714\n",
      "Fold 1, AUC-ROC: 0.92262\n",
      "Fold 2, AUC-ROC: 0.92508\n",
      "Fold 3, AUC-ROC: 0.90677\n",
      "CV AUC-ROC: 0.91290\n"
     ]
    },
    {
     "name": "stderr",
     "output_type": "stream",
     "text": [
      "100%|██████████| 4/4 [03:43<00:00, 55.83s/it]\n",
      "[I 2025-03-13 12:04:15,697] Trial 201 finished with value: 0.9225980589971922 and parameters: {'learning_rate': 0.024637114346097517, 'feature_fraction': 0.42258969640116933, 'n_estimators': 1995, 'max_depth': 13, 'lambda_l1': 1.8860536821480522, 'lambda_l2': 2.4337232860048004, 'num_boost_round': 37}. Best is trial 181 with value: 0.92409412291494.\n"
     ]
    },
    {
     "name": "stdout",
     "output_type": "stream",
     "text": [
      "Fold 0, AUC-ROC: 0.90917\n",
      "Fold 1, AUC-ROC: 0.93330\n",
      "Fold 2, AUC-ROC: 0.93395\n",
      "Fold 3, AUC-ROC: 0.91399\n",
      "CV AUC-ROC: 0.92260\n"
     ]
    },
    {
     "name": "stderr",
     "output_type": "stream",
     "text": [
      "100%|██████████| 4/4 [03:53<00:00, 58.39s/it]\n",
      "[I 2025-03-13 12:08:10,216] Trial 202 finished with value: 0.9238827672930806 and parameters: {'learning_rate': 0.024946300242583597, 'feature_fraction': 0.4326853963591909, 'n_estimators': 2051, 'max_depth': 14, 'lambda_l1': 3.9878672905612467, 'lambda_l2': 0.07016132159505087, 'num_boost_round': 42}. Best is trial 181 with value: 0.92409412291494.\n"
     ]
    },
    {
     "name": "stdout",
     "output_type": "stream",
     "text": [
      "Fold 0, AUC-ROC: 0.90963\n",
      "Fold 1, AUC-ROC: 0.93549\n",
      "Fold 2, AUC-ROC: 0.93602\n",
      "Fold 3, AUC-ROC: 0.91439\n",
      "CV AUC-ROC: 0.92388\n"
     ]
    },
    {
     "name": "stderr",
     "output_type": "stream",
     "text": [
      "100%|██████████| 4/4 [02:09<00:00, 32.31s/it]\n",
      "[I 2025-03-13 12:10:20,449] Trial 203 finished with value: 0.9091910876232934 and parameters: {'learning_rate': 0.02703045004511715, 'feature_fraction': 0.43265828461054234, 'n_estimators': 2136, 'max_depth': 14, 'lambda_l1': 37.714239587921135, 'lambda_l2': 2.9581199202517063, 'num_boost_round': 42}. Best is trial 181 with value: 0.92409412291494.\n"
     ]
    },
    {
     "name": "stdout",
     "output_type": "stream",
     "text": [
      "Fold 0, AUC-ROC: 0.89311\n",
      "Fold 1, AUC-ROC: 0.91856\n",
      "Fold 2, AUC-ROC: 0.92088\n",
      "Fold 3, AUC-ROC: 0.90421\n",
      "CV AUC-ROC: 0.90919\n"
     ]
    },
    {
     "name": "stderr",
     "output_type": "stream",
     "text": [
      "100%|██████████| 4/4 [03:45<00:00, 56.38s/it]\n",
      "[I 2025-03-13 12:14:06,993] Trial 204 finished with value: 0.9233949822263527 and parameters: {'learning_rate': 0.023215906952092906, 'feature_fraction': 0.4149878270863415, 'n_estimators': 2061, 'max_depth': 14, 'lambda_l1': 4.317051033701752, 'lambda_l2': 0.21598315000677837, 'num_boost_round': 43}. Best is trial 181 with value: 0.92409412291494.\n"
     ]
    },
    {
     "name": "stdout",
     "output_type": "stream",
     "text": [
      "Fold 0, AUC-ROC: 0.90915\n",
      "Fold 1, AUC-ROC: 0.93417\n",
      "Fold 2, AUC-ROC: 0.93529\n",
      "Fold 3, AUC-ROC: 0.91497\n",
      "CV AUC-ROC: 0.92339\n"
     ]
    },
    {
     "name": "stderr",
     "output_type": "stream",
     "text": [
      "100%|██████████| 4/4 [03:49<00:00, 57.38s/it]\n",
      "[I 2025-03-13 12:17:57,463] Trial 205 finished with value: 0.9216176449695017 and parameters: {'learning_rate': 0.024954049702839588, 'feature_fraction': 0.40050701329942495, 'n_estimators': 2083, 'max_depth': 14, 'lambda_l1': 4.756023284320116, 'lambda_l2': 6.116067787792588, 'num_boost_round': 46}. Best is trial 181 with value: 0.92409412291494.\n"
     ]
    },
    {
     "name": "stdout",
     "output_type": "stream",
     "text": [
      "Fold 0, AUC-ROC: 0.90788\n",
      "Fold 1, AUC-ROC: 0.93332\n",
      "Fold 2, AUC-ROC: 0.93306\n",
      "Fold 3, AUC-ROC: 0.91221\n",
      "CV AUC-ROC: 0.92162\n"
     ]
    },
    {
     "name": "stderr",
     "output_type": "stream",
     "text": [
      "100%|██████████| 4/4 [04:03<00:00, 60.96s/it]\n",
      "[I 2025-03-13 12:22:02,356] Trial 206 finished with value: 0.9220286428430791 and parameters: {'learning_rate': 0.020663953015584238, 'feature_fraction': 0.41279957206728607, 'n_estimators': 2197, 'max_depth': 14, 'lambda_l1': 7.111066147417251, 'lambda_l2': 0.015646878042096777, 'num_boost_round': 38}. Best is trial 181 with value: 0.92409412291494.\n"
     ]
    },
    {
     "name": "stdout",
     "output_type": "stream",
     "text": [
      "Fold 0, AUC-ROC: 0.90810\n",
      "Fold 1, AUC-ROC: 0.93263\n",
      "Fold 2, AUC-ROC: 0.93443\n",
      "Fold 3, AUC-ROC: 0.91295\n",
      "CV AUC-ROC: 0.92203\n"
     ]
    },
    {
     "name": "stderr",
     "output_type": "stream",
     "text": [
      "100%|██████████| 4/4 [03:32<00:00, 53.19s/it]\n",
      "[I 2025-03-13 12:25:36,174] Trial 207 finished with value: 0.9196795976451593 and parameters: {'learning_rate': 0.019047647371252252, 'feature_fraction': 0.4171601882388759, 'n_estimators': 1889, 'max_depth': 13, 'lambda_l1': 4.0560935792599535, 'lambda_l2': 4.026211230984432, 'num_boost_round': 41}. Best is trial 181 with value: 0.92409412291494.\n"
     ]
    },
    {
     "name": "stdout",
     "output_type": "stream",
     "text": [
      "Fold 0, AUC-ROC: 0.90754\n",
      "Fold 1, AUC-ROC: 0.92980\n",
      "Fold 2, AUC-ROC: 0.93091\n",
      "Fold 3, AUC-ROC: 0.91046\n",
      "CV AUC-ROC: 0.91968\n"
     ]
    },
    {
     "name": "stderr",
     "output_type": "stream",
     "text": [
      "100%|██████████| 4/4 [03:36<00:00, 54.25s/it]\n",
      "[I 2025-03-13 12:29:14,146] Trial 208 finished with value: 0.9232636953761592 and parameters: {'learning_rate': 0.033751759518863174, 'feature_fraction': 0.43502515913756606, 'n_estimators': 2062, 'max_depth': 14, 'lambda_l1': 5.1404704319871835, 'lambda_l2': 2.4113809626560676, 'num_boost_round': 44}. Best is trial 181 with value: 0.92409412291494.\n"
     ]
    },
    {
     "name": "stdout",
     "output_type": "stream",
     "text": [
      "Fold 0, AUC-ROC: 0.90888\n",
      "Fold 1, AUC-ROC: 0.93556\n",
      "Fold 2, AUC-ROC: 0.93527\n",
      "Fold 3, AUC-ROC: 0.91334\n",
      "CV AUC-ROC: 0.92326\n"
     ]
    },
    {
     "name": "stderr",
     "output_type": "stream",
     "text": [
      "100%|██████████| 4/4 [03:38<00:00, 54.59s/it]\n",
      "[I 2025-03-13 12:32:53,417] Trial 209 finished with value: 0.9228049877512402 and parameters: {'learning_rate': 0.03425647033853621, 'feature_fraction': 0.4341678173086306, 'n_estimators': 2061, 'max_depth': 14, 'lambda_l1': 7.025084392825827, 'lambda_l2': 2.493090647638451, 'num_boost_round': 40}. Best is trial 181 with value: 0.92409412291494.\n"
     ]
    },
    {
     "name": "stdout",
     "output_type": "stream",
     "text": [
      "Fold 0, AUC-ROC: 0.90891\n",
      "Fold 1, AUC-ROC: 0.93618\n",
      "Fold 2, AUC-ROC: 0.93410\n",
      "Fold 3, AUC-ROC: 0.91203\n",
      "CV AUC-ROC: 0.92280\n"
     ]
    },
    {
     "name": "stderr",
     "output_type": "stream",
     "text": [
      "100%|██████████| 4/4 [03:35<00:00, 53.87s/it]\n",
      "[I 2025-03-13 12:36:29,860] Trial 210 finished with value: 0.9221838060662124 and parameters: {'learning_rate': 0.026967479851203693, 'feature_fraction': 0.4074364755759649, 'n_estimators': 1948, 'max_depth': 14, 'lambda_l1': 4.179614725999211, 'lambda_l2': 5.2100286613098366, 'num_boost_round': 43}. Best is trial 181 with value: 0.92409412291494.\n"
     ]
    },
    {
     "name": "stdout",
     "output_type": "stream",
     "text": [
      "Fold 0, AUC-ROC: 0.90846\n",
      "Fold 1, AUC-ROC: 0.93348\n",
      "Fold 2, AUC-ROC: 0.93323\n",
      "Fold 3, AUC-ROC: 0.91356\n",
      "CV AUC-ROC: 0.92218\n"
     ]
    },
    {
     "name": "stderr",
     "output_type": "stream",
     "text": [
      "100%|██████████| 4/4 [03:56<00:00, 59.11s/it]\n",
      "[I 2025-03-13 12:40:27,308] Trial 211 finished with value: 0.9235142859297709 and parameters: {'learning_rate': 0.023404870235303476, 'feature_fraction': 0.4267825913060415, 'n_estimators': 2134, 'max_depth': 13, 'lambda_l1': 5.200968948135724, 'lambda_l2': 0.029046930910977042, 'num_boost_round': 47}. Best is trial 181 with value: 0.92409412291494.\n"
     ]
    },
    {
     "name": "stdout",
     "output_type": "stream",
     "text": [
      "Fold 0, AUC-ROC: 0.90936\n",
      "Fold 1, AUC-ROC: 0.93438\n",
      "Fold 2, AUC-ROC: 0.93548\n",
      "Fold 3, AUC-ROC: 0.91484\n",
      "CV AUC-ROC: 0.92351\n"
     ]
    },
    {
     "name": "stderr",
     "output_type": "stream",
     "text": [
      "100%|██████████| 4/4 [03:45<00:00, 56.43s/it]\n",
      "[I 2025-03-13 12:44:14,078] Trial 212 finished with value: 0.9230014316736386 and parameters: {'learning_rate': 0.02320908894702092, 'feature_fraction': 0.42913947590683, 'n_estimators': 2154, 'max_depth': 13, 'lambda_l1': 2.860274138610162, 'lambda_l2': 2.35972477453601, 'num_boost_round': 47}. Best is trial 181 with value: 0.92409412291494.\n"
     ]
    },
    {
     "name": "stdout",
     "output_type": "stream",
     "text": [
      "Fold 0, AUC-ROC: 0.90860\n",
      "Fold 1, AUC-ROC: 0.93410\n",
      "Fold 2, AUC-ROC: 0.93365\n",
      "Fold 3, AUC-ROC: 0.91565\n",
      "CV AUC-ROC: 0.92300\n"
     ]
    },
    {
     "name": "stderr",
     "output_type": "stream",
     "text": [
      "100%|██████████| 4/4 [03:39<00:00, 54.88s/it]\n",
      "[I 2025-03-13 12:47:54,600] Trial 213 finished with value: 0.9234403082124607 and parameters: {'learning_rate': 0.028478460298232096, 'feature_fraction': 0.41901539086437756, 'n_estimators': 2052, 'max_depth': 13, 'lambda_l1': 5.3837803017772945, 'lambda_l2': 0.010100589979028525, 'num_boost_round': 44}. Best is trial 181 with value: 0.92409412291494.\n"
     ]
    },
    {
     "name": "stdout",
     "output_type": "stream",
     "text": [
      "Fold 0, AUC-ROC: 0.90864\n",
      "Fold 1, AUC-ROC: 0.93578\n",
      "Fold 2, AUC-ROC: 0.93487\n",
      "Fold 3, AUC-ROC: 0.91447\n",
      "CV AUC-ROC: 0.92344\n"
     ]
    },
    {
     "name": "stderr",
     "output_type": "stream",
     "text": [
      "100%|██████████| 4/4 [01:17<00:00, 19.33s/it]\n",
      "[I 2025-03-13 12:49:12,973] Trial 214 finished with value: 0.8978528747143066 and parameters: {'learning_rate': 0.029862235652118478, 'feature_fraction': 0.41836640096307465, 'n_estimators': 2119, 'max_depth': 13, 'lambda_l1': 77.63356567115869, 'lambda_l2': 0.17618102964321852, 'num_boost_round': 42}. Best is trial 181 with value: 0.92409412291494.\n"
     ]
    },
    {
     "name": "stdout",
     "output_type": "stream",
     "text": [
      "Fold 0, AUC-ROC: 0.88234\n",
      "Fold 1, AUC-ROC: 0.90253\n",
      "Fold 2, AUC-ROC: 0.90960\n",
      "Fold 3, AUC-ROC: 0.89694\n",
      "CV AUC-ROC: 0.89785\n"
     ]
    },
    {
     "name": "stderr",
     "output_type": "stream",
     "text": [
      "100%|██████████| 4/4 [03:53<00:00, 58.47s/it]\n",
      "[I 2025-03-13 12:53:07,798] Trial 215 finished with value: 0.9222832730203346 and parameters: {'learning_rate': 0.033741030043177314, 'feature_fraction': 0.43910688224571587, 'n_estimators': 2229, 'max_depth': 13, 'lambda_l1': 9.266137949727351, 'lambda_l2': 3.6535337561685153, 'num_boost_round': 38}. Best is trial 181 with value: 0.92409412291494.\n"
     ]
    },
    {
     "name": "stdout",
     "output_type": "stream",
     "text": [
      "Fold 0, AUC-ROC: 0.90668\n",
      "Fold 1, AUC-ROC: 0.93573\n",
      "Fold 2, AUC-ROC: 0.93483\n",
      "Fold 3, AUC-ROC: 0.91189\n",
      "CV AUC-ROC: 0.92228\n"
     ]
    },
    {
     "name": "stderr",
     "output_type": "stream",
     "text": [
      "100%|██████████| 4/4 [03:45<00:00, 56.33s/it]\n",
      "[I 2025-03-13 12:56:54,135] Trial 216 finished with value: 0.9224936080027839 and parameters: {'learning_rate': 0.025523927077914187, 'feature_fraction': 0.42517947231991243, 'n_estimators': 2043, 'max_depth': 13, 'lambda_l1': 5.835147609383576, 'lambda_l2': 2.429409229358634, 'num_boost_round': 44}. Best is trial 181 with value: 0.92409412291494.\n"
     ]
    },
    {
     "name": "stdout",
     "output_type": "stream",
     "text": [
      "Fold 0, AUC-ROC: 0.90854\n",
      "Fold 1, AUC-ROC: 0.93392\n",
      "Fold 2, AUC-ROC: 0.93445\n",
      "Fold 3, AUC-ROC: 0.91307\n",
      "CV AUC-ROC: 0.92249\n"
     ]
    },
    {
     "name": "stderr",
     "output_type": "stream",
     "text": [
      "100%|██████████| 4/4 [03:07<00:00, 47.00s/it]\n",
      "[I 2025-03-13 13:00:03,128] Trial 217 finished with value: 0.9214697430383229 and parameters: {'learning_rate': 0.03947127206460059, 'feature_fraction': 0.41116397107597374, 'n_estimators': 1932, 'max_depth': 14, 'lambda_l1': 1.755549549318294, 'lambda_l2': 7.596269905864631, 'num_boost_round': 40}. Best is trial 181 with value: 0.92409412291494.\n"
     ]
    },
    {
     "name": "stdout",
     "output_type": "stream",
     "text": [
      "Fold 0, AUC-ROC: 0.90671\n",
      "Fold 1, AUC-ROC: 0.93440\n",
      "Fold 2, AUC-ROC: 0.93407\n",
      "Fold 3, AUC-ROC: 0.91069\n",
      "CV AUC-ROC: 0.92147\n"
     ]
    },
    {
     "name": "stderr",
     "output_type": "stream",
     "text": [
      "100%|██████████| 4/4 [03:49<00:00, 57.49s/it]\n",
      "[I 2025-03-13 13:03:54,108] Trial 218 finished with value: 0.9224564023683025 and parameters: {'learning_rate': 0.027777866469976615, 'feature_fraction': 0.417941402499785, 'n_estimators': 2091, 'max_depth': 13, 'lambda_l1': 4.994398009527533, 'lambda_l2': 4.725576161829336, 'num_boost_round': 48}. Best is trial 181 with value: 0.92409412291494.\n"
     ]
    },
    {
     "name": "stdout",
     "output_type": "stream",
     "text": [
      "Fold 0, AUC-ROC: 0.90789\n",
      "Fold 1, AUC-ROC: 0.93445\n",
      "Fold 2, AUC-ROC: 0.93366\n",
      "Fold 3, AUC-ROC: 0.91383\n",
      "CV AUC-ROC: 0.92246\n"
     ]
    },
    {
     "name": "stderr",
     "output_type": "stream",
     "text": [
      "100%|██████████| 4/4 [03:58<00:00, 59.58s/it]\n",
      "[I 2025-03-13 13:07:53,502] Trial 219 finished with value: 0.9216150036278836 and parameters: {'learning_rate': 0.021718906525715877, 'feature_fraction': 0.43107999796057916, 'n_estimators': 2176, 'max_depth': 14, 'lambda_l1': 7.8007922208319735, 'lambda_l2': 0.15218173380177114, 'num_boost_round': 43}. Best is trial 181 with value: 0.92409412291494.\n"
     ]
    },
    {
     "name": "stdout",
     "output_type": "stream",
     "text": [
      "Fold 0, AUC-ROC: 0.90710\n",
      "Fold 1, AUC-ROC: 0.93258\n",
      "Fold 2, AUC-ROC: 0.93364\n",
      "Fold 3, AUC-ROC: 0.91314\n",
      "CV AUC-ROC: 0.92162\n"
     ]
    },
    {
     "name": "stderr",
     "output_type": "stream",
     "text": [
      "100%|██████████| 4/4 [03:30<00:00, 52.69s/it]\n",
      "[I 2025-03-13 13:11:25,276] Trial 220 finished with value: 0.9226617153311452 and parameters: {'learning_rate': 0.030246021160028686, 'feature_fraction': 0.4005887446687517, 'n_estimators': 1973, 'max_depth': 14, 'lambda_l1': 4.71176223603574, 'lambda_l2': 2.3812954076089925, 'num_boost_round': 46}. Best is trial 181 with value: 0.92409412291494.\n"
     ]
    },
    {
     "name": "stdout",
     "output_type": "stream",
     "text": [
      "Fold 0, AUC-ROC: 0.90880\n",
      "Fold 1, AUC-ROC: 0.93484\n",
      "Fold 2, AUC-ROC: 0.93395\n",
      "Fold 3, AUC-ROC: 0.91306\n",
      "CV AUC-ROC: 0.92266\n"
     ]
    },
    {
     "name": "stderr",
     "output_type": "stream",
     "text": [
      "100%|██████████| 4/4 [03:51<00:00, 57.93s/it]\n",
      "[I 2025-03-13 13:15:17,946] Trial 221 finished with value: 0.9229974059433231 and parameters: {'learning_rate': 0.0237467123643064, 'feature_fraction': 0.4085647737038197, 'n_estimators': 2036, 'max_depth': 14, 'lambda_l1': 1.889813632493726, 'lambda_l2': 2.0311870248463384, 'num_boost_round': 44}. Best is trial 181 with value: 0.92409412291494.\n"
     ]
    },
    {
     "name": "stdout",
     "output_type": "stream",
     "text": [
      "Fold 0, AUC-ROC: 0.90976\n",
      "Fold 1, AUC-ROC: 0.93356\n",
      "Fold 2, AUC-ROC: 0.93441\n",
      "Fold 3, AUC-ROC: 0.91426\n",
      "CV AUC-ROC: 0.92300\n"
     ]
    },
    {
     "name": "stderr",
     "output_type": "stream",
     "text": [
      "100%|██████████| 4/4 [03:43<00:00, 55.80s/it]\n",
      "[I 2025-03-13 13:19:02,193] Trial 222 finished with value: 0.9231429939456586 and parameters: {'learning_rate': 0.02645015504813351, 'feature_fraction': 0.43927969583320703, 'n_estimators': 2000, 'max_depth': 15, 'lambda_l1': 3.6111051335609234, 'lambda_l2': 2.3387950347516053, 'num_boost_round': 49}. Best is trial 181 with value: 0.92409412291494.\n"
     ]
    },
    {
     "name": "stdout",
     "output_type": "stream",
     "text": [
      "Fold 0, AUC-ROC: 0.90933\n",
      "Fold 1, AUC-ROC: 0.93442\n",
      "Fold 2, AUC-ROC: 0.93465\n",
      "Fold 3, AUC-ROC: 0.91417\n",
      "CV AUC-ROC: 0.92314\n"
     ]
    },
    {
     "name": "stderr",
     "output_type": "stream",
     "text": [
      "100%|██████████| 4/4 [03:50<00:00, 57.58s/it]\n",
      "[I 2025-03-13 13:22:53,529] Trial 223 finished with value: 0.9221122151222644 and parameters: {'learning_rate': 0.02803981913540172, 'feature_fraction': 0.4408847831019058, 'n_estimators': 2127, 'max_depth': 14, 'lambda_l1': 0.015183987276660815, 'lambda_l2': 4.351874964434418, 'num_boost_round': 49}. Best is trial 181 with value: 0.92409412291494.\n"
     ]
    },
    {
     "name": "stdout",
     "output_type": "stream",
     "text": [
      "Fold 0, AUC-ROC: 0.91032\n",
      "Fold 1, AUC-ROC: 0.93246\n",
      "Fold 2, AUC-ROC: 0.93234\n",
      "Fold 3, AUC-ROC: 0.91332\n",
      "CV AUC-ROC: 0.92211\n"
     ]
    },
    {
     "name": "stderr",
     "output_type": "stream",
     "text": [
      "100%|██████████| 4/4 [03:47<00:00, 56.88s/it]\n",
      "[I 2025-03-13 13:26:42,066] Trial 224 finished with value: 0.9229997620990801 and parameters: {'learning_rate': 0.021617148106576427, 'feature_fraction': 0.424314591008605, 'n_estimators': 1969, 'max_depth': 15, 'lambda_l1': 3.7018061897522303, 'lambda_l2': 0.20973449896365726, 'num_boost_round': 41}. Best is trial 181 with value: 0.92409412291494.\n"
     ]
    },
    {
     "name": "stdout",
     "output_type": "stream",
     "text": [
      "Fold 0, AUC-ROC: 0.90909\n",
      "Fold 1, AUC-ROC: 0.93440\n",
      "Fold 2, AUC-ROC: 0.93460\n",
      "Fold 3, AUC-ROC: 0.91391\n",
      "CV AUC-ROC: 0.92300\n"
     ]
    },
    {
     "name": "stderr",
     "output_type": "stream",
     "text": [
      "100%|██████████| 4/4 [03:52<00:00, 58.10s/it]\n",
      "[I 2025-03-13 13:30:35,429] Trial 225 finished with value: 0.9233835488034354 and parameters: {'learning_rate': 0.03476153259290861, 'feature_fraction': 0.43549295025193907, 'n_estimators': 2074, 'max_depth': 13, 'lambda_l1': 6.188502407093901, 'lambda_l2': 2.0858275872447374, 'num_boost_round': 47}. Best is trial 181 with value: 0.92409412291494.\n"
     ]
    },
    {
     "name": "stdout",
     "output_type": "stream",
     "text": [
      "Fold 0, AUC-ROC: 0.90847\n",
      "Fold 1, AUC-ROC: 0.93541\n",
      "Fold 2, AUC-ROC: 0.93569\n",
      "Fold 3, AUC-ROC: 0.91396\n",
      "CV AUC-ROC: 0.92338\n"
     ]
    },
    {
     "name": "stderr",
     "output_type": "stream",
     "text": [
      "100%|██████████| 4/4 [03:24<00:00, 51.22s/it]\n",
      "[I 2025-03-13 13:34:01,294] Trial 226 finished with value: 0.9219761336929695 and parameters: {'learning_rate': 0.034269726143126435, 'feature_fraction': 0.4311314687920154, 'n_estimators': 2067, 'max_depth': 13, 'lambda_l1': 6.187144399337993, 'lambda_l2': 3.6445818429005383, 'num_boost_round': 49}. Best is trial 181 with value: 0.92409412291494.\n"
     ]
    },
    {
     "name": "stdout",
     "output_type": "stream",
     "text": [
      "Fold 0, AUC-ROC: 0.90775\n",
      "Fold 1, AUC-ROC: 0.93539\n",
      "Fold 2, AUC-ROC: 0.93394\n",
      "Fold 3, AUC-ROC: 0.91081\n",
      "CV AUC-ROC: 0.92198\n"
     ]
    },
    {
     "name": "stderr",
     "output_type": "stream",
     "text": [
      "100%|██████████| 4/4 [03:29<00:00, 52.34s/it]\n",
      "[I 2025-03-13 13:37:31,653] Trial 227 finished with value: 0.9218509958375741 and parameters: {'learning_rate': 0.03931220774245252, 'feature_fraction': 0.4402060233592564, 'n_estimators': 2176, 'max_depth': 13, 'lambda_l1': 9.432021203289624, 'lambda_l2': 0.03835472870639407, 'num_boost_round': 42}. Best is trial 181 with value: 0.92409412291494.\n"
     ]
    },
    {
     "name": "stdout",
     "output_type": "stream",
     "text": [
      "Fold 0, AUC-ROC: 0.90687\n",
      "Fold 1, AUC-ROC: 0.93427\n",
      "Fold 2, AUC-ROC: 0.93428\n",
      "Fold 3, AUC-ROC: 0.91199\n",
      "CV AUC-ROC: 0.92185\n"
     ]
    },
    {
     "name": "stderr",
     "output_type": "stream",
     "text": [
      "100%|██████████| 4/4 [03:33<00:00, 53.34s/it]\n",
      "[I 2025-03-13 13:41:06,056] Trial 228 finished with value: 0.9216258243626678 and parameters: {'learning_rate': 0.03198516540473868, 'feature_fraction': 0.4143285112463541, 'n_estimators': 1858, 'max_depth': 13, 'lambda_l1': 6.773531588172606, 'lambda_l2': 5.702932886323664, 'num_boost_round': 39}. Best is trial 181 with value: 0.92409412291494.\n"
     ]
    },
    {
     "name": "stdout",
     "output_type": "stream",
     "text": [
      "Fold 0, AUC-ROC: 0.90696\n",
      "Fold 1, AUC-ROC: 0.93353\n",
      "Fold 2, AUC-ROC: 0.93346\n",
      "Fold 3, AUC-ROC: 0.91255\n",
      "CV AUC-ROC: 0.92163\n"
     ]
    },
    {
     "name": "stderr",
     "output_type": "stream",
     "text": [
      "100%|██████████| 4/4 [03:54<00:00, 58.63s/it]\n",
      "[I 2025-03-13 13:45:01,561] Trial 229 finished with value: 0.9227047933341465 and parameters: {'learning_rate': 0.027557682954874988, 'feature_fraction': 0.43462593644762326, 'n_estimators': 2095, 'max_depth': 14, 'lambda_l1': 4.616848487017656, 'lambda_l2': 2.4446787038192266, 'num_boost_round': 47}. Best is trial 181 with value: 0.92409412291494.\n"
     ]
    },
    {
     "name": "stdout",
     "output_type": "stream",
     "text": [
      "Fold 0, AUC-ROC: 0.90934\n",
      "Fold 1, AUC-ROC: 0.93516\n",
      "Fold 2, AUC-ROC: 0.93341\n",
      "Fold 3, AUC-ROC: 0.91291\n",
      "CV AUC-ROC: 0.92270\n"
     ]
    },
    {
     "name": "stderr",
     "output_type": "stream",
     "text": [
      "100%|██████████| 4/4 [03:35<00:00, 53.86s/it]\n",
      "[I 2025-03-13 13:48:37,983] Trial 230 finished with value: 0.9242045987831143 and parameters: {'learning_rate': 0.023579894188897367, 'feature_fraction': 0.42045545560685516, 'n_estimators': 2038, 'max_depth': 14, 'lambda_l1': 1.6313631252106395, 'lambda_l2': 0.019101841558486488, 'num_boost_round': 37}. Best is trial 230 with value: 0.9242045987831143.\n"
     ]
    },
    {
     "name": "stdout",
     "output_type": "stream",
     "text": [
      "Fold 0, AUC-ROC: 0.91062\n",
      "Fold 1, AUC-ROC: 0.93529\n",
      "Fold 2, AUC-ROC: 0.93464\n",
      "Fold 3, AUC-ROC: 0.91627\n",
      "CV AUC-ROC: 0.92420\n"
     ]
    },
    {
     "name": "stderr",
     "output_type": "stream",
     "text": [
      "100%|██████████| 4/4 [03:43<00:00, 55.85s/it]\n",
      "[I 2025-03-13 13:52:22,308] Trial 231 finished with value: 0.9225687788469902 and parameters: {'learning_rate': 0.02342164080085268, 'feature_fraction': 0.4194206325612351, 'n_estimators': 2040, 'max_depth': 14, 'lambda_l1': 1.5557024880717045, 'lambda_l2': 2.0933862298721846, 'num_boost_round': 37}. Best is trial 230 with value: 0.9242045987831143.\n"
     ]
    },
    {
     "name": "stdout",
     "output_type": "stream",
     "text": [
      "Fold 0, AUC-ROC: 0.90952\n",
      "Fold 1, AUC-ROC: 0.93397\n",
      "Fold 2, AUC-ROC: 0.93336\n",
      "Fold 3, AUC-ROC: 0.91342\n",
      "CV AUC-ROC: 0.92257\n"
     ]
    },
    {
     "name": "stderr",
     "output_type": "stream",
     "text": [
      "100%|██████████| 4/4 [03:39<00:00, 54.93s/it]\n",
      "[I 2025-03-13 13:56:03,060] Trial 232 finished with value: 0.9226139864733682 and parameters: {'learning_rate': 0.021177339009828752, 'feature_fraction': 0.42665531950453023, 'n_estimators': 1932, 'max_depth': 14, 'lambda_l1': 3.9556695728719484, 'lambda_l2': 0.04704259829404289, 'num_boost_round': 44}. Best is trial 230 with value: 0.9242045987831143.\n"
     ]
    },
    {
     "name": "stdout",
     "output_type": "stream",
     "text": [
      "Fold 0, AUC-ROC: 0.90796\n",
      "Fold 1, AUC-ROC: 0.93384\n",
      "Fold 2, AUC-ROC: 0.93413\n",
      "Fold 3, AUC-ROC: 0.91453\n",
      "CV AUC-ROC: 0.92261\n"
     ]
    },
    {
     "name": "stderr",
     "output_type": "stream",
     "text": [
      "100%|██████████| 4/4 [03:56<00:00, 59.13s/it]\n",
      "[I 2025-03-13 14:00:00,633] Trial 233 finished with value: 0.9233045494941892 and parameters: {'learning_rate': 0.026408480714028248, 'feature_fraction': 0.4077876174547857, 'n_estimators': 2131, 'max_depth': 13, 'lambda_l1': 1.9457560998703456, 'lambda_l2': 1.9995427359492297, 'num_boost_round': 40}. Best is trial 230 with value: 0.9242045987831143.\n"
     ]
    },
    {
     "name": "stdout",
     "output_type": "stream",
     "text": [
      "Fold 0, AUC-ROC: 0.91012\n",
      "Fold 1, AUC-ROC: 0.93444\n",
      "Fold 2, AUC-ROC: 0.93467\n",
      "Fold 3, AUC-ROC: 0.91399\n",
      "CV AUC-ROC: 0.92330\n"
     ]
    },
    {
     "name": "stderr",
     "output_type": "stream",
     "text": [
      "100%|██████████| 4/4 [02:23<00:00, 35.90s/it]\n",
      "[I 2025-03-13 14:02:25,176] Trial 234 finished with value: 0.9193125570547267 and parameters: {'learning_rate': 0.02911319879731332, 'feature_fraction': 0.40687049314000023, 'n_estimators': 1207, 'max_depth': 13, 'lambda_l1': 0.15017601600016217, 'lambda_l2': 3.5792554544617685, 'num_boost_round': 40}. Best is trial 230 with value: 0.9242045987831143.\n"
     ]
    },
    {
     "name": "stdout",
     "output_type": "stream",
     "text": [
      "Fold 0, AUC-ROC: 0.90746\n",
      "Fold 1, AUC-ROC: 0.92942\n",
      "Fold 2, AUC-ROC: 0.92854\n",
      "Fold 3, AUC-ROC: 0.91182\n",
      "CV AUC-ROC: 0.91931\n"
     ]
    },
    {
     "name": "stderr",
     "output_type": "stream",
     "text": [
      "100%|██████████| 4/4 [04:03<00:00, 60.94s/it]\n",
      "[I 2025-03-13 14:06:29,925] Trial 235 finished with value: 0.922919257592794 and parameters: {'learning_rate': 0.023647323724221354, 'feature_fraction': 0.4000553057901341, 'n_estimators': 2231, 'max_depth': 12, 'lambda_l1': 1.7841973183240452, 'lambda_l2': 1.8817789917518046, 'num_boost_round': 36}. Best is trial 230 with value: 0.9242045987831143.\n"
     ]
    },
    {
     "name": "stdout",
     "output_type": "stream",
     "text": [
      "Fold 0, AUC-ROC: 0.90991\n",
      "Fold 1, AUC-ROC: 0.93402\n",
      "Fold 2, AUC-ROC: 0.93446\n",
      "Fold 3, AUC-ROC: 0.91329\n",
      "CV AUC-ROC: 0.92292\n"
     ]
    },
    {
     "name": "stderr",
     "output_type": "stream",
     "text": [
      "100%|██████████| 4/4 [02:53<00:00, 43.49s/it]\n",
      "[I 2025-03-13 14:09:24,864] Trial 236 finished with value: 0.9204915220930203 and parameters: {'learning_rate': 0.01769816346686755, 'feature_fraction': 0.9177090605491915, 'n_estimators': 2140, 'max_depth': 13, 'lambda_l1': 5.8818497507086684, 'lambda_l2': 0.14725332879712805, 'num_boost_round': 42}. Best is trial 230 with value: 0.9242045987831143.\n"
     ]
    },
    {
     "name": "stdout",
     "output_type": "stream",
     "text": [
      "Fold 0, AUC-ROC: 0.90506\n",
      "Fold 1, AUC-ROC: 0.93273\n",
      "Fold 2, AUC-ROC: 0.93294\n",
      "Fold 3, AUC-ROC: 0.91123\n",
      "CV AUC-ROC: 0.92049\n"
     ]
    },
    {
     "name": "stderr",
     "output_type": "stream",
     "text": [
      "100%|██████████| 4/4 [03:24<00:00, 51.17s/it]\n",
      "[I 2025-03-13 14:12:50,499] Trial 237 finished with value: 0.9222621169945598 and parameters: {'learning_rate': 0.03582172155187027, 'feature_fraction': 0.4133267228514972, 'n_estimators': 2077, 'max_depth': 13, 'lambda_l1': 0.043575202137852376, 'lambda_l2': 4.3209863550100405, 'num_boost_round': 39}. Best is trial 230 with value: 0.9242045987831143.\n"
     ]
    },
    {
     "name": "stdout",
     "output_type": "stream",
     "text": [
      "Fold 0, AUC-ROC: 0.91096\n",
      "Fold 1, AUC-ROC: 0.93326\n",
      "Fold 2, AUC-ROC: 0.93214\n",
      "Fold 3, AUC-ROC: 0.91269\n",
      "CV AUC-ROC: 0.92226\n"
     ]
    },
    {
     "name": "stderr",
     "output_type": "stream",
     "text": [
      "100%|██████████| 4/4 [03:57<00:00, 59.29s/it]\n",
      "[I 2025-03-13 14:16:48,633] Trial 238 finished with value: 0.9230923257880362 and parameters: {'learning_rate': 0.019396828204565817, 'feature_fraction': 0.42043991245599355, 'n_estimators': 2144, 'max_depth': 14, 'lambda_l1': 3.0872512722789525, 'lambda_l2': 0.06979189375877327, 'num_boost_round': 36}. Best is trial 230 with value: 0.9242045987831143.\n"
     ]
    },
    {
     "name": "stdout",
     "output_type": "stream",
     "text": [
      "Fold 0, AUC-ROC: 0.90919\n",
      "Fold 1, AUC-ROC: 0.93320\n",
      "Fold 2, AUC-ROC: 0.93455\n",
      "Fold 3, AUC-ROC: 0.91543\n",
      "CV AUC-ROC: 0.92309\n"
     ]
    },
    {
     "name": "stderr",
     "output_type": "stream",
     "text": [
      "100%|██████████| 4/4 [03:25<00:00, 51.44s/it]\n",
      "[I 2025-03-13 14:20:15,407] Trial 239 finished with value: 0.9226548436481218 and parameters: {'learning_rate': 0.031695824860962264, 'feature_fraction': 0.40812737194533266, 'n_estimators': 2052, 'max_depth': 13, 'lambda_l1': 5.966684154836875, 'lambda_l2': 1.962585291428295, 'num_boost_round': 41}. Best is trial 230 with value: 0.9242045987831143.\n"
     ]
    },
    {
     "name": "stdout",
     "output_type": "stream",
     "text": [
      "Fold 0, AUC-ROC: 0.90758\n",
      "Fold 1, AUC-ROC: 0.93457\n",
      "Fold 2, AUC-ROC: 0.93479\n",
      "Fold 3, AUC-ROC: 0.91368\n",
      "CV AUC-ROC: 0.92265\n"
     ]
    },
    {
     "name": "stderr",
     "output_type": "stream",
     "text": [
      "100%|██████████| 4/4 [03:42<00:00, 55.70s/it]\n",
      "[I 2025-03-13 14:23:59,215] Trial 240 finished with value: 0.9216783989800754 and parameters: {'learning_rate': 0.0259930404509671, 'feature_fraction': 0.4219956884493483, 'n_estimators': 1999, 'max_depth': 14, 'lambda_l1': 1.7359187484395546, 'lambda_l2': 6.04689828988922, 'num_boost_round': 44}. Best is trial 230 with value: 0.9242045987831143.\n"
     ]
    },
    {
     "name": "stdout",
     "output_type": "stream",
     "text": [
      "Fold 0, AUC-ROC: 0.90802\n",
      "Fold 1, AUC-ROC: 0.93322\n",
      "Fold 2, AUC-ROC: 0.93253\n",
      "Fold 3, AUC-ROC: 0.91295\n",
      "CV AUC-ROC: 0.92168\n"
     ]
    },
    {
     "name": "stderr",
     "output_type": "stream",
     "text": [
      "100%|██████████| 4/4 [03:43<00:00, 55.92s/it]\n",
      "[I 2025-03-13 14:27:43,967] Trial 241 finished with value: 0.9231196538258813 and parameters: {'learning_rate': 0.02607966642085629, 'feature_fraction': 0.44685782096833637, 'n_estimators': 1993, 'max_depth': 14, 'lambda_l1': 4.2984026698139814, 'lambda_l2': 2.1706964876644657, 'num_boost_round': 46}. Best is trial 230 with value: 0.9242045987831143.\n"
     ]
    },
    {
     "name": "stdout",
     "output_type": "stream",
     "text": [
      "Fold 0, AUC-ROC: 0.90954\n",
      "Fold 1, AUC-ROC: 0.93473\n",
      "Fold 2, AUC-ROC: 0.93439\n",
      "Fold 3, AUC-ROC: 0.91383\n",
      "CV AUC-ROC: 0.92312\n"
     ]
    },
    {
     "name": "stderr",
     "output_type": "stream",
     "text": [
      "100%|██████████| 4/4 [03:55<00:00, 58.89s/it]\n",
      "[I 2025-03-13 14:31:40,562] Trial 242 finished with value: 0.9219790369482523 and parameters: {'learning_rate': 0.0222469064344357, 'feature_fraction': 0.43507982167671194, 'n_estimators': 2077, 'max_depth': 15, 'lambda_l1': 3.477543023163003, 'lambda_l2': 3.82954384689159, 'num_boost_round': 41}. Best is trial 230 with value: 0.9242045987831143.\n"
     ]
    },
    {
     "name": "stdout",
     "output_type": "stream",
     "text": [
      "Fold 0, AUC-ROC: 0.90874\n",
      "Fold 1, AUC-ROC: 0.93313\n",
      "Fold 2, AUC-ROC: 0.93264\n",
      "Fold 3, AUC-ROC: 0.91340\n",
      "CV AUC-ROC: 0.92198\n"
     ]
    },
    {
     "name": "stderr",
     "output_type": "stream",
     "text": [
      "100%|██████████| 4/4 [03:29<00:00, 52.37s/it]\n",
      "[I 2025-03-13 14:35:11,055] Trial 243 finished with value: 0.9243791055145523 and parameters: {'learning_rate': 0.028302997383156236, 'feature_fraction': 0.41520061626400007, 'n_estimators': 1910, 'max_depth': 14, 'lambda_l1': 3.965000680369279, 'lambda_l2': 0.05169416536383464, 'num_boost_round': 43}. Best is trial 243 with value: 0.9243791055145523.\n"
     ]
    },
    {
     "name": "stdout",
     "output_type": "stream",
     "text": [
      "Fold 0, AUC-ROC: 0.90947\n",
      "Fold 1, AUC-ROC: 0.93653\n",
      "Fold 2, AUC-ROC: 0.93562\n",
      "Fold 3, AUC-ROC: 0.91589\n",
      "CV AUC-ROC: 0.92438\n"
     ]
    },
    {
     "name": "stderr",
     "output_type": "stream",
     "text": [
      "100%|██████████| 4/4 [03:29<00:00, 52.46s/it]\n",
      "[I 2025-03-13 14:38:41,918] Trial 244 finished with value: 0.9226067664648114 and parameters: {'learning_rate': 0.02375633205391448, 'feature_fraction': 0.4147972803723588, 'n_estimators': 1877, 'max_depth': 14, 'lambda_l1': 1.9962501421137404, 'lambda_l2': 1.7852098947540165, 'num_boost_round': 43}. Best is trial 243 with value: 0.9243791055145523.\n"
     ]
    },
    {
     "name": "stdout",
     "output_type": "stream",
     "text": [
      "Fold 0, AUC-ROC: 0.90892\n",
      "Fold 1, AUC-ROC: 0.93336\n",
      "Fold 2, AUC-ROC: 0.93356\n",
      "Fold 3, AUC-ROC: 0.91458\n",
      "CV AUC-ROC: 0.92261\n"
     ]
    },
    {
     "name": "stderr",
     "output_type": "stream",
     "text": [
      "100%|██████████| 4/4 [03:40<00:00, 55.04s/it]\n",
      "[I 2025-03-13 14:42:23,171] Trial 245 finished with value: 0.9235515211622768 and parameters: {'learning_rate': 0.028179647100023304, 'feature_fraction': 0.42787272625638506, 'n_estimators': 1928, 'max_depth': 14, 'lambda_l1': 5.394561583601657, 'lambda_l2': 0.08202337220745476, 'num_boost_round': 39}. Best is trial 243 with value: 0.9243791055145523.\n"
     ]
    },
    {
     "name": "stdout",
     "output_type": "stream",
     "text": [
      "Fold 0, AUC-ROC: 0.90968\n",
      "Fold 1, AUC-ROC: 0.93491\n",
      "Fold 2, AUC-ROC: 0.93637\n",
      "Fold 3, AUC-ROC: 0.91325\n",
      "CV AUC-ROC: 0.92355\n"
     ]
    },
    {
     "name": "stderr",
     "output_type": "stream",
     "text": [
      "100%|██████████| 4/4 [03:31<00:00, 52.77s/it]\n",
      "[I 2025-03-13 14:45:55,310] Trial 246 finished with value: 0.9225483104003009 and parameters: {'learning_rate': 0.029699314671992987, 'feature_fraction': 0.425763365440772, 'n_estimators': 1893, 'max_depth': 14, 'lambda_l1': 7.880272704237935, 'lambda_l2': 0.12104337128987797, 'num_boost_round': 38}. Best is trial 243 with value: 0.9243791055145523.\n"
     ]
    },
    {
     "name": "stdout",
     "output_type": "stream",
     "text": [
      "Fold 0, AUC-ROC: 0.90720\n",
      "Fold 1, AUC-ROC: 0.93529\n",
      "Fold 2, AUC-ROC: 0.93415\n",
      "Fold 3, AUC-ROC: 0.91355\n",
      "CV AUC-ROC: 0.92255\n"
     ]
    },
    {
     "name": "stderr",
     "output_type": "stream",
     "text": [
      "100%|██████████| 4/4 [03:30<00:00, 52.68s/it]\n",
      "[I 2025-03-13 14:49:27,106] Trial 247 finished with value: 0.9240365630568763 and parameters: {'learning_rate': 0.033222385708273586, 'feature_fraction': 0.4097810967167658, 'n_estimators': 1935, 'max_depth': 14, 'lambda_l1': 5.643630082754972, 'lambda_l2': 0.053481367496841986, 'num_boost_round': 38}. Best is trial 243 with value: 0.9243791055145523.\n"
     ]
    },
    {
     "name": "stdout",
     "output_type": "stream",
     "text": [
      "Fold 0, AUC-ROC: 0.90956\n",
      "Fold 1, AUC-ROC: 0.93543\n",
      "Fold 2, AUC-ROC: 0.93596\n",
      "Fold 3, AUC-ROC: 0.91520\n",
      "CV AUC-ROC: 0.92404\n"
     ]
    },
    {
     "name": "stderr",
     "output_type": "stream",
     "text": [
      "100%|██████████| 4/4 [02:54<00:00, 43.61s/it]\n",
      "[I 2025-03-13 14:52:22,582] Trial 248 finished with value: 0.9228378769868815 and parameters: {'learning_rate': 0.03545327120720685, 'feature_fraction': 0.41237443332662616, 'n_estimators': 1836, 'max_depth': 14, 'lambda_l1': 5.766416624156851, 'lambda_l2': 0.12420455408985426, 'num_boost_round': 38}. Best is trial 243 with value: 0.9243791055145523.\n"
     ]
    },
    {
     "name": "stdout",
     "output_type": "stream",
     "text": [
      "Fold 0, AUC-ROC: 0.90789\n",
      "Fold 1, AUC-ROC: 0.93439\n",
      "Fold 2, AUC-ROC: 0.93554\n",
      "Fold 3, AUC-ROC: 0.91354\n",
      "CV AUC-ROC: 0.92284\n"
     ]
    },
    {
     "name": "stderr",
     "output_type": "stream",
     "text": [
      "100%|██████████| 4/4 [03:38<00:00, 54.57s/it]\n",
      "[I 2025-03-13 14:56:01,911] Trial 249 finished with value: 0.9199871933527435 and parameters: {'learning_rate': 0.02055984033769319, 'feature_fraction': 0.4064276122976304, 'n_estimators': 1937, 'max_depth': 14, 'lambda_l1': 7.6522214768550665, 'lambda_l2': 3.8882038270889567, 'num_boost_round': 36}. Best is trial 243 with value: 0.9243791055145523.\n"
     ]
    },
    {
     "name": "stdout",
     "output_type": "stream",
     "text": [
      "Fold 0, AUC-ROC: 0.90615\n",
      "Fold 1, AUC-ROC: 0.93163\n",
      "Fold 2, AUC-ROC: 0.93112\n",
      "Fold 3, AUC-ROC: 0.91105\n",
      "CV AUC-ROC: 0.91999\n"
     ]
    },
    {
     "name": "stderr",
     "output_type": "stream",
     "text": [
      "100%|██████████| 4/4 [03:22<00:00, 50.58s/it]\n",
      "[I 2025-03-13 14:59:25,230] Trial 250 finished with value: 0.9230685299565765 and parameters: {'learning_rate': 0.040848440676414, 'feature_fraction': 0.4180406360937146, 'n_estimators': 2219, 'max_depth': 13, 'lambda_l1': 5.2495411356366555, 'lambda_l2': 1.7071947323068826, 'num_boost_round': 39}. Best is trial 243 with value: 0.9243791055145523.\n"
     ]
    },
    {
     "name": "stdout",
     "output_type": "stream",
     "text": [
      "Fold 0, AUC-ROC: 0.90892\n",
      "Fold 1, AUC-ROC: 0.93622\n",
      "Fold 2, AUC-ROC: 0.93421\n",
      "Fold 3, AUC-ROC: 0.91293\n",
      "CV AUC-ROC: 0.92307\n"
     ]
    },
    {
     "name": "stderr",
     "output_type": "stream",
     "text": [
      "100%|██████████| 4/4 [03:37<00:00, 54.50s/it]\n",
      "[I 2025-03-13 15:03:04,256] Trial 251 finished with value: 0.9236855763673912 and parameters: {'learning_rate': 0.03289245930518981, 'feature_fraction': 0.4284994655253731, 'n_estimators': 2105, 'max_depth': 14, 'lambda_l1': 4.829250031029409, 'lambda_l2': 0.0714174526135381, 'num_boost_round': 41}. Best is trial 243 with value: 0.9243791055145523.\n"
     ]
    },
    {
     "name": "stdout",
     "output_type": "stream",
     "text": [
      "Fold 0, AUC-ROC: 0.90927\n",
      "Fold 1, AUC-ROC: 0.93615\n",
      "Fold 2, AUC-ROC: 0.93573\n",
      "Fold 3, AUC-ROC: 0.91358\n",
      "CV AUC-ROC: 0.92369\n"
     ]
    },
    {
     "name": "stderr",
     "output_type": "stream",
     "text": [
      "100%|██████████| 4/4 [03:48<00:00, 57.03s/it]\n",
      "[I 2025-03-13 15:06:53,367] Trial 252 finished with value: 0.9222382633585919 and parameters: {'learning_rate': 0.027313334530865038, 'feature_fraction': 0.4252661550221418, 'n_estimators': 2167, 'max_depth': 13, 'lambda_l1': 9.800332672706983, 'lambda_l2': 0.0720785011739366, 'num_boost_round': 41}. Best is trial 243 with value: 0.9243791055145523.\n"
     ]
    },
    {
     "name": "stdout",
     "output_type": "stream",
     "text": [
      "Fold 0, AUC-ROC: 0.90732\n",
      "Fold 1, AUC-ROC: 0.93494\n",
      "Fold 2, AUC-ROC: 0.93499\n",
      "Fold 3, AUC-ROC: 0.91171\n",
      "CV AUC-ROC: 0.92224\n"
     ]
    },
    {
     "name": "stderr",
     "output_type": "stream",
     "text": [
      "100%|██████████| 4/4 [03:39<00:00, 54.80s/it]\n",
      "[I 2025-03-13 15:10:33,581] Trial 253 finished with value: 0.9198043278555816 and parameters: {'learning_rate': 0.021255005994552836, 'feature_fraction': 0.40737934641279094, 'n_estimators': 1928, 'max_depth': 14, 'lambda_l1': 7.732301107013193, 'lambda_l2': 4.086287263900633, 'num_boost_round': 34}. Best is trial 243 with value: 0.9243791055145523.\n"
     ]
    },
    {
     "name": "stdout",
     "output_type": "stream",
     "text": [
      "Fold 0, AUC-ROC: 0.90545\n",
      "Fold 1, AUC-ROC: 0.93085\n",
      "Fold 2, AUC-ROC: 0.93160\n",
      "Fold 3, AUC-ROC: 0.91132\n",
      "CV AUC-ROC: 0.91980\n"
     ]
    },
    {
     "name": "stderr",
     "output_type": "stream",
     "text": [
      "100%|██████████| 4/4 [03:34<00:00, 53.64s/it]\n",
      "[I 2025-03-13 15:14:09,093] Trial 254 finished with value: 0.9241145023011905 and parameters: {'learning_rate': 0.030395485472424707, 'feature_fraction': 0.4000060285856417, 'n_estimators': 2107, 'max_depth': 13, 'lambda_l1': 4.185889540303941, 'lambda_l2': 0.001897767416826325, 'num_boost_round': 40}. Best is trial 243 with value: 0.9243791055145523.\n"
     ]
    },
    {
     "name": "stdout",
     "output_type": "stream",
     "text": [
      "Fold 0, AUC-ROC: 0.90964\n",
      "Fold 1, AUC-ROC: 0.93559\n",
      "Fold 2, AUC-ROC: 0.93632\n",
      "Fold 3, AUC-ROC: 0.91491\n",
      "CV AUC-ROC: 0.92411\n"
     ]
    },
    {
     "name": "stderr",
     "output_type": "stream",
     "text": [
      "100%|██████████| 4/4 [03:29<00:00, 52.28s/it]\n",
      "[I 2025-03-13 15:17:39,237] Trial 255 finished with value: 0.9239833973873762 and parameters: {'learning_rate': 0.03225770467077648, 'feature_fraction': 0.4010962419598252, 'n_estimators': 2082, 'max_depth': 14, 'lambda_l1': 4.312184282982354, 'lambda_l2': 0.11169745025448935, 'num_boost_round': 37}. Best is trial 243 with value: 0.9243791055145523.\n"
     ]
    },
    {
     "name": "stdout",
     "output_type": "stream",
     "text": [
      "Fold 0, AUC-ROC: 0.90791\n",
      "Fold 1, AUC-ROC: 0.93613\n",
      "Fold 2, AUC-ROC: 0.93601\n",
      "Fold 3, AUC-ROC: 0.91589\n",
      "CV AUC-ROC: 0.92398\n"
     ]
    },
    {
     "name": "stderr",
     "output_type": "stream",
     "text": [
      "100%|██████████| 4/4 [03:36<00:00, 54.19s/it]\n",
      "[I 2025-03-13 15:21:17,045] Trial 256 finished with value: 0.9235102356010054 and parameters: {'learning_rate': 0.03692449467794393, 'feature_fraction': 0.40112007434437685, 'n_estimators': 2110, 'max_depth': 12, 'lambda_l1': 6.85157604370052, 'lambda_l2': 0.21990630035106482, 'num_boost_round': 35}. Best is trial 243 with value: 0.9243791055145523.\n"
     ]
    },
    {
     "name": "stdout",
     "output_type": "stream",
     "text": [
      "Fold 0, AUC-ROC: 0.90842\n",
      "Fold 1, AUC-ROC: 0.93548\n",
      "Fold 2, AUC-ROC: 0.93545\n",
      "Fold 3, AUC-ROC: 0.91468\n",
      "CV AUC-ROC: 0.92351\n"
     ]
    },
    {
     "name": "stderr",
     "output_type": "stream",
     "text": [
      "100%|██████████| 4/4 [03:29<00:00, 52.29s/it]\n",
      "[I 2025-03-13 15:24:47,214] Trial 257 finished with value: 0.9237304489648421 and parameters: {'learning_rate': 0.04158688160869363, 'feature_fraction': 0.40138161540573036, 'n_estimators': 2232, 'max_depth': 12, 'lambda_l1': 6.671763654558167, 'lambda_l2': 0.15189499120652306, 'num_boost_round': 33}. Best is trial 243 with value: 0.9243791055145523.\n"
     ]
    },
    {
     "name": "stdout",
     "output_type": "stream",
     "text": [
      "Fold 0, AUC-ROC: 0.90801\n",
      "Fold 1, AUC-ROC: 0.93630\n",
      "Fold 2, AUC-ROC: 0.93697\n",
      "Fold 3, AUC-ROC: 0.91363\n",
      "CV AUC-ROC: 0.92373\n"
     ]
    },
    {
     "name": "stderr",
     "output_type": "stream",
     "text": [
      "100%|██████████| 4/4 [03:54<00:00, 58.59s/it]\n",
      "[I 2025-03-13 15:28:42,574] Trial 258 finished with value: 0.9216218066204611 and parameters: {'learning_rate': 0.031035498707708845, 'feature_fraction': 0.4002215308355012, 'n_estimators': 2240, 'max_depth': 12, 'lambda_l1': 11.283872812244828, 'lambda_l2': 0.1432535738339809, 'num_boost_round': 33}. Best is trial 243 with value: 0.9243791055145523.\n"
     ]
    },
    {
     "name": "stdout",
     "output_type": "stream",
     "text": [
      "Fold 0, AUC-ROC: 0.90533\n",
      "Fold 1, AUC-ROC: 0.93520\n",
      "Fold 2, AUC-ROC: 0.93418\n",
      "Fold 3, AUC-ROC: 0.91177\n",
      "CV AUC-ROC: 0.92162\n"
     ]
    },
    {
     "name": "stderr",
     "output_type": "stream",
     "text": [
      "100%|██████████| 4/4 [03:31<00:00, 52.79s/it]\n",
      "[I 2025-03-13 15:32:14,679] Trial 259 finished with value: 0.9218270182443651 and parameters: {'learning_rate': 0.038463905548495735, 'feature_fraction': 0.40011334036369733, 'n_estimators': 2203, 'max_depth': 12, 'lambda_l1': 8.312421166698659, 'lambda_l2': 4.04046829867173, 'num_boost_round': 35}. Best is trial 243 with value: 0.9243791055145523.\n"
     ]
    },
    {
     "name": "stdout",
     "output_type": "stream",
     "text": [
      "Fold 0, AUC-ROC: 0.90587\n",
      "Fold 1, AUC-ROC: 0.93459\n",
      "Fold 2, AUC-ROC: 0.93465\n",
      "Fold 3, AUC-ROC: 0.91219\n",
      "CV AUC-ROC: 0.92183\n"
     ]
    },
    {
     "name": "stderr",
     "output_type": "stream",
     "text": [
      "100%|██████████| 4/4 [02:56<00:00, 44.19s/it]\n",
      "[I 2025-03-13 15:35:12,394] Trial 260 finished with value: 0.9241001845757226 and parameters: {'learning_rate': 0.04399323283680568, 'feature_fraction': 0.4122118919524658, 'n_estimators': 2146, 'max_depth': 14, 'lambda_l1': 4.8561702057536715, 'lambda_l2': 0.29775652070897873, 'num_boost_round': 37}. Best is trial 243 with value: 0.9243791055145523.\n"
     ]
    },
    {
     "name": "stdout",
     "output_type": "stream",
     "text": [
      "Fold 0, AUC-ROC: 0.91018\n",
      "Fold 1, AUC-ROC: 0.93591\n",
      "Fold 2, AUC-ROC: 0.93572\n",
      "Fold 3, AUC-ROC: 0.91459\n",
      "CV AUC-ROC: 0.92410\n"
     ]
    },
    {
     "name": "stderr",
     "output_type": "stream",
     "text": [
      "100%|██████████| 4/4 [03:26<00:00, 51.73s/it]\n",
      "[I 2025-03-13 15:38:40,307] Trial 261 finished with value: 0.9226326330210886 and parameters: {'learning_rate': 0.044361797938400775, 'feature_fraction': 0.40709977505286643, 'n_estimators': 2157, 'max_depth': 14, 'lambda_l1': 7.15249842169206, 'lambda_l2': 1.7082549259241397, 'num_boost_round': 36}. Best is trial 243 with value: 0.9243791055145523.\n"
     ]
    },
    {
     "name": "stdout",
     "output_type": "stream",
     "text": [
      "Fold 0, AUC-ROC: 0.90894\n",
      "Fold 1, AUC-ROC: 0.93450\n",
      "Fold 2, AUC-ROC: 0.93503\n",
      "Fold 3, AUC-ROC: 0.91207\n",
      "CV AUC-ROC: 0.92263\n"
     ]
    },
    {
     "name": "stderr",
     "output_type": "stream",
     "text": [
      "100%|██████████| 4/4 [02:42<00:00, 40.55s/it]\n",
      "[I 2025-03-13 15:41:23,500] Trial 262 finished with value: 0.9220945777044298 and parameters: {'learning_rate': 0.049779895062824354, 'feature_fraction': 0.4120008138764367, 'n_estimators': 2248, 'max_depth': 12, 'lambda_l1': 8.998872443307835, 'lambda_l2': 0.11932281898460309, 'num_boost_round': 33}. Best is trial 243 with value: 0.9243791055145523.\n"
     ]
    },
    {
     "name": "stdout",
     "output_type": "stream",
     "text": [
      "Fold 0, AUC-ROC: 0.90653\n",
      "Fold 1, AUC-ROC: 0.93502\n",
      "Fold 2, AUC-ROC: 0.93486\n",
      "Fold 3, AUC-ROC: 0.91196\n",
      "CV AUC-ROC: 0.92209\n"
     ]
    },
    {
     "name": "stderr",
     "output_type": "stream",
     "text": [
      "100%|██████████| 4/4 [03:20<00:00, 50.06s/it]\n",
      "[I 2025-03-13 15:44:44,728] Trial 263 finished with value: 0.923649446318942 and parameters: {'learning_rate': 0.04065252799463337, 'feature_fraction': 0.4012176821489628, 'n_estimators': 2125, 'max_depth': 14, 'lambda_l1': 5.902817485600251, 'lambda_l2': 0.013785283561275286, 'num_boost_round': 37}. Best is trial 243 with value: 0.9243791055145523.\n"
     ]
    },
    {
     "name": "stdout",
     "output_type": "stream",
     "text": [
      "Fold 0, AUC-ROC: 0.90851\n",
      "Fold 1, AUC-ROC: 0.93564\n",
      "Fold 2, AUC-ROC: 0.93656\n",
      "Fold 3, AUC-ROC: 0.91389\n",
      "CV AUC-ROC: 0.92365\n"
     ]
    },
    {
     "name": "stderr",
     "output_type": "stream",
     "text": [
      "100%|██████████| 4/4 [03:53<00:00, 58.49s/it]\n",
      "[I 2025-03-13 15:48:39,665] Trial 264 finished with value: 0.9219320765918276 and parameters: {'learning_rate': 0.04319523697192843, 'feature_fraction': 0.4016526835907161, 'n_estimators': 2126, 'max_depth': 14, 'lambda_l1': 10.355303226475424, 'lambda_l2': 5.561538206376738, 'num_boost_round': 37}. Best is trial 243 with value: 0.9243791055145523.\n"
     ]
    },
    {
     "name": "stdout",
     "output_type": "stream",
     "text": [
      "Fold 0, AUC-ROC: 0.90663\n",
      "Fold 1, AUC-ROC: 0.93486\n",
      "Fold 2, AUC-ROC: 0.93373\n",
      "Fold 3, AUC-ROC: 0.91251\n",
      "CV AUC-ROC: 0.92193\n"
     ]
    },
    {
     "name": "stderr",
     "output_type": "stream",
     "text": [
      "100%|██████████| 4/4 [02:16<00:00, 34.21s/it]\n",
      "[I 2025-03-13 15:50:57,508] Trial 265 finished with value: 0.9215433117782714 and parameters: {'learning_rate': 0.053107058241011966, 'feature_fraction': 0.7160394514029403, 'n_estimators': 2233, 'max_depth': 14, 'lambda_l1': 6.896950403062855, 'lambda_l2': 3.435460003933738, 'num_boost_round': 35}. Best is trial 243 with value: 0.9243791055145523.\n"
     ]
    },
    {
     "name": "stdout",
     "output_type": "stream",
     "text": [
      "Fold 0, AUC-ROC: 0.90513\n",
      "Fold 1, AUC-ROC: 0.93536\n",
      "Fold 2, AUC-ROC: 0.93354\n",
      "Fold 3, AUC-ROC: 0.91215\n",
      "CV AUC-ROC: 0.92154\n"
     ]
    },
    {
     "name": "stderr",
     "output_type": "stream",
     "text": [
      "100%|██████████| 4/4 [01:03<00:00, 15.96s/it]\n",
      "[I 2025-03-13 15:52:02,294] Trial 266 finished with value: 0.8948193506245432 and parameters: {'learning_rate': 0.03871276510585548, 'feature_fraction': 0.40666435005460577, 'n_estimators': 2182, 'max_depth': 14, 'lambda_l1': 96.28032338784037, 'lambda_l2': 1.7878267513101374, 'num_boost_round': 81}. Best is trial 243 with value: 0.9243791055145523.\n"
     ]
    },
    {
     "name": "stdout",
     "output_type": "stream",
     "text": [
      "Fold 0, AUC-ROC: 0.87890\n",
      "Fold 1, AUC-ROC: 0.89964\n",
      "Fold 2, AUC-ROC: 0.90686\n",
      "Fold 3, AUC-ROC: 0.89387\n",
      "CV AUC-ROC: 0.89482\n"
     ]
    },
    {
     "name": "stderr",
     "output_type": "stream",
     "text": [
      "100%|██████████| 4/4 [03:13<00:00, 48.46s/it]\n",
      "[I 2025-03-13 15:55:17,110] Trial 267 finished with value: 0.9218807667111545 and parameters: {'learning_rate': 0.04328322419422067, 'feature_fraction': 0.40085563873559094, 'n_estimators': 2112, 'max_depth': 14, 'lambda_l1': 4.268467262309549, 'lambda_l2': 3.539555475581415, 'num_boost_round': 37}. Best is trial 243 with value: 0.9243791055145523.\n"
     ]
    },
    {
     "name": "stdout",
     "output_type": "stream",
     "text": [
      "Fold 0, AUC-ROC: 0.90727\n",
      "Fold 1, AUC-ROC: 0.93332\n",
      "Fold 2, AUC-ROC: 0.93494\n",
      "Fold 3, AUC-ROC: 0.91200\n",
      "CV AUC-ROC: 0.92188\n"
     ]
    },
    {
     "name": "stderr",
     "output_type": "stream",
     "text": [
      "100%|██████████| 4/4 [02:59<00:00, 44.84s/it]\n",
      "[I 2025-03-13 15:58:17,601] Trial 268 finished with value: 0.9235764716877971 and parameters: {'learning_rate': 0.04810725929236562, 'feature_fraction': 0.41477066732608253, 'n_estimators': 2180, 'max_depth': 14, 'lambda_l1': 5.003585397613392, 'lambda_l2': 0.08263441371884384, 'num_boost_round': 38}. Best is trial 243 with value: 0.9243791055145523.\n"
     ]
    },
    {
     "name": "stdout",
     "output_type": "stream",
     "text": [
      "Fold 0, AUC-ROC: 0.90919\n",
      "Fold 1, AUC-ROC: 0.93450\n",
      "Fold 2, AUC-ROC: 0.93666\n",
      "Fold 3, AUC-ROC: 0.91396\n",
      "CV AUC-ROC: 0.92358\n"
     ]
    },
    {
     "name": "stderr",
     "output_type": "stream",
     "text": [
      "100%|██████████| 4/4 [03:06<00:00, 46.71s/it]\n",
      "[I 2025-03-13 16:01:25,337] Trial 269 finished with value: 0.9229387743951469 and parameters: {'learning_rate': 0.04928487482140546, 'feature_fraction': 0.4128682615398881, 'n_estimators': 2246, 'max_depth': 14, 'lambda_l1': 6.311078820726051, 'lambda_l2': 2.168506528259752, 'num_boost_round': 35}. Best is trial 243 with value: 0.9243791055145523.\n"
     ]
    },
    {
     "name": "stdout",
     "output_type": "stream",
     "text": [
      "Fold 0, AUC-ROC: 0.90790\n",
      "Fold 1, AUC-ROC: 0.93598\n",
      "Fold 2, AUC-ROC: 0.93443\n",
      "Fold 3, AUC-ROC: 0.91345\n",
      "CV AUC-ROC: 0.92294\n"
     ]
    },
    {
     "name": "stderr",
     "output_type": "stream",
     "text": [
      "100%|██████████| 4/4 [03:47<00:00, 56.77s/it]\n",
      "[I 2025-03-13 16:05:13,450] Trial 270 finished with value: 0.9219892503097395 and parameters: {'learning_rate': 0.03956785304811263, 'feature_fraction': 0.4189120803117705, 'n_estimators': 2191, 'max_depth': 14, 'lambda_l1': 8.528896991169898, 'lambda_l2': 5.444531353679072, 'num_boost_round': 33}. Best is trial 243 with value: 0.9243791055145523.\n"
     ]
    },
    {
     "name": "stdout",
     "output_type": "stream",
     "text": [
      "Fold 0, AUC-ROC: 0.90630\n",
      "Fold 1, AUC-ROC: 0.93419\n",
      "Fold 2, AUC-ROC: 0.93511\n",
      "Fold 3, AUC-ROC: 0.91235\n",
      "CV AUC-ROC: 0.92199\n"
     ]
    },
    {
     "name": "stderr",
     "output_type": "stream",
     "text": [
      "100%|██████████| 4/4 [02:59<00:00, 44.95s/it]\n",
      "[I 2025-03-13 16:08:14,276] Trial 271 finished with value: 0.923144373278918 and parameters: {'learning_rate': 0.04611150797169871, 'feature_fraction': 0.41129823039163954, 'n_estimators': 2126, 'max_depth': 14, 'lambda_l1': 4.378619477430886, 'lambda_l2': 0.0521190591228441, 'num_boost_round': 38}. Best is trial 243 with value: 0.9243791055145523.\n"
     ]
    },
    {
     "name": "stdout",
     "output_type": "stream",
     "text": [
      "Fold 0, AUC-ROC: 0.90935\n",
      "Fold 1, AUC-ROC: 0.93578\n",
      "Fold 2, AUC-ROC: 0.93535\n",
      "Fold 3, AUC-ROC: 0.91209\n",
      "CV AUC-ROC: 0.92314\n"
     ]
    },
    {
     "name": "stderr",
     "output_type": "stream",
     "text": [
      "100%|██████████| 4/4 [02:46<00:00, 41.72s/it]\n",
      "[I 2025-03-13 16:11:02,133] Trial 272 finished with value: 0.9225919989674016 and parameters: {'learning_rate': 0.05405141321900207, 'feature_fraction': 0.421688192031585, 'n_estimators': 2254, 'max_depth': 13, 'lambda_l1': 4.780698341184659, 'lambda_l2': 3.7619944201579, 'num_boost_round': 38}. Best is trial 243 with value: 0.9243791055145523.\n"
     ]
    },
    {
     "name": "stdout",
     "output_type": "stream",
     "text": [
      "Fold 0, AUC-ROC: 0.90771\n",
      "Fold 1, AUC-ROC: 0.93546\n",
      "Fold 2, AUC-ROC: 0.93404\n",
      "Fold 3, AUC-ROC: 0.91316\n",
      "CV AUC-ROC: 0.92259\n"
     ]
    },
    {
     "name": "stderr",
     "output_type": "stream",
     "text": [
      "100%|██████████| 4/4 [03:29<00:00, 52.36s/it]\n",
      "[I 2025-03-13 16:14:32,485] Trial 273 finished with value: 0.9224715268779375 and parameters: {'learning_rate': 0.042234779753932604, 'feature_fraction': 0.41415610603384007, 'n_estimators': 2181, 'max_depth': 14, 'lambda_l1': 6.821741046770558, 'lambda_l2': 0.07004955459930723, 'num_boost_round': 36}. Best is trial 243 with value: 0.9243791055145523.\n"
     ]
    },
    {
     "name": "stdout",
     "output_type": "stream",
     "text": [
      "Fold 0, AUC-ROC: 0.90716\n",
      "Fold 1, AUC-ROC: 0.93379\n",
      "Fold 2, AUC-ROC: 0.93561\n",
      "Fold 3, AUC-ROC: 0.91333\n",
      "CV AUC-ROC: 0.92247\n"
     ]
    },
    {
     "name": "stderr",
     "output_type": "stream",
     "text": [
      "100%|██████████| 4/4 [03:59<00:00, 59.88s/it]\n",
      "[I 2025-03-13 16:18:32,968] Trial 274 finished with value: 0.9199164295065133 and parameters: {'learning_rate': 0.03380873672890517, 'feature_fraction': 0.4255475710823551, 'n_estimators': 2117, 'max_depth': 14, 'lambda_l1': 10.724882861891857, 'lambda_l2': 20.407775399563494, 'num_boost_round': 39}. Best is trial 243 with value: 0.9243791055145523.\n"
     ]
    },
    {
     "name": "stdout",
     "output_type": "stream",
     "text": [
      "Fold 0, AUC-ROC: 0.90459\n",
      "Fold 1, AUC-ROC: 0.93280\n",
      "Fold 2, AUC-ROC: 0.93197\n",
      "Fold 3, AUC-ROC: 0.91030\n",
      "CV AUC-ROC: 0.91992\n"
     ]
    },
    {
     "name": "stderr",
     "output_type": "stream",
     "text": [
      "100%|██████████| 4/4 [03:34<00:00, 53.61s/it]\n",
      "[I 2025-03-13 16:22:08,346] Trial 275 finished with value: 0.9239996884267828 and parameters: {'learning_rate': 0.037660214087048234, 'feature_fraction': 0.40819735707614696, 'n_estimators': 2349, 'max_depth': 12, 'lambda_l1': 3.5080802921721204, 'lambda_l2': 1.72323173215918, 'num_boost_round': 32}. Best is trial 243 with value: 0.9243791055145523.\n"
     ]
    },
    {
     "name": "stdout",
     "output_type": "stream",
     "text": [
      "Fold 0, AUC-ROC: 0.91079\n",
      "Fold 1, AUC-ROC: 0.93661\n",
      "Fold 2, AUC-ROC: 0.93554\n",
      "Fold 3, AUC-ROC: 0.91305\n",
      "CV AUC-ROC: 0.92400\n"
     ]
    },
    {
     "name": "stderr",
     "output_type": "stream",
     "text": [
      "100%|██████████| 4/4 [03:26<00:00, 51.67s/it]\n",
      "[I 2025-03-13 16:25:35,975] Trial 276 finished with value: 0.9222785847278621 and parameters: {'learning_rate': 0.04346941744989607, 'feature_fraction': 0.40958002961985507, 'n_estimators': 2363, 'max_depth': 13, 'lambda_l1': 3.8817800671753266, 'lambda_l2': 7.326030412801876, 'num_boost_round': 32}. Best is trial 243 with value: 0.9243791055145523.\n"
     ]
    },
    {
     "name": "stdout",
     "output_type": "stream",
     "text": [
      "Fold 0, AUC-ROC: 0.90808\n",
      "Fold 1, AUC-ROC: 0.93528\n",
      "Fold 2, AUC-ROC: 0.93347\n",
      "Fold 3, AUC-ROC: 0.91228\n",
      "CV AUC-ROC: 0.92228\n"
     ]
    },
    {
     "name": "stderr",
     "output_type": "stream",
     "text": [
      "100%|██████████| 4/4 [03:44<00:00, 56.04s/it]\n",
      "[I 2025-03-13 16:29:21,090] Trial 277 finished with value: 0.9231190163874645 and parameters: {'learning_rate': 0.03162531244319307, 'feature_fraction': 0.41716577648348907, 'n_estimators': 2310, 'max_depth': 14, 'lambda_l1': 3.735485212866756, 'lambda_l2': 3.297025376445238, 'num_boost_round': 38}. Best is trial 243 with value: 0.9243791055145523.\n"
     ]
    },
    {
     "name": "stdout",
     "output_type": "stream",
     "text": [
      "Fold 0, AUC-ROC: 0.90783\n",
      "Fold 1, AUC-ROC: 0.93693\n",
      "Fold 2, AUC-ROC: 0.93426\n",
      "Fold 3, AUC-ROC: 0.91345\n",
      "CV AUC-ROC: 0.92312\n"
     ]
    },
    {
     "name": "stderr",
     "output_type": "stream",
     "text": [
      "100%|██████████| 4/4 [02:31<00:00, 37.78s/it]\n",
      "[I 2025-03-13 16:31:53,203] Trial 278 finished with value: 0.9236004887514173 and parameters: {'learning_rate': 0.06285583837312314, 'feature_fraction': 0.4249349676358778, 'n_estimators': 2420, 'max_depth': 14, 'lambda_l1': 1.4628134553741026, 'lambda_l2': 2.0891703300403557, 'num_boost_round': 39}. Best is trial 243 with value: 0.9243791055145523.\n"
     ]
    },
    {
     "name": "stdout",
     "output_type": "stream",
     "text": [
      "Fold 0, AUC-ROC: 0.91044\n",
      "Fold 1, AUC-ROC: 0.93570\n",
      "Fold 2, AUC-ROC: 0.93556\n",
      "Fold 3, AUC-ROC: 0.91269\n",
      "CV AUC-ROC: 0.92360\n"
     ]
    },
    {
     "name": "stderr",
     "output_type": "stream",
     "text": [
      "100%|██████████| 4/4 [03:04<00:00, 46.21s/it]\n",
      "[I 2025-03-13 16:34:59,053] Trial 279 finished with value: 0.9217060337234049 and parameters: {'learning_rate': 0.05748550245384052, 'feature_fraction': 0.41071686653612105, 'n_estimators': 2606, 'max_depth': 14, 'lambda_l1': 0.9000046984812673, 'lambda_l2': 5.25217717717787, 'num_boost_round': 40}. Best is trial 243 with value: 0.9243791055145523.\n"
     ]
    },
    {
     "name": "stdout",
     "output_type": "stream",
     "text": [
      "Fold 0, AUC-ROC: 0.90833\n",
      "Fold 1, AUC-ROC: 0.93305\n",
      "Fold 2, AUC-ROC: 0.93390\n",
      "Fold 3, AUC-ROC: 0.91154\n",
      "CV AUC-ROC: 0.92171\n"
     ]
    },
    {
     "name": "stderr",
     "output_type": "stream",
     "text": [
      "100%|██████████| 4/4 [02:46<00:00, 41.71s/it]\n",
      "[I 2025-03-13 16:37:46,846] Trial 280 finished with value: 0.9229172470457658 and parameters: {'learning_rate': 0.05029832857876191, 'feature_fraction': 0.41857703252697753, 'n_estimators': 2425, 'max_depth': 14, 'lambda_l1': 0.16904547216269972, 'lambda_l2': 2.368134529655574, 'num_boost_round': 37}. Best is trial 243 with value: 0.9243791055145523.\n"
     ]
    },
    {
     "name": "stdout",
     "output_type": "stream",
     "text": [
      "Fold 0, AUC-ROC: 0.91057\n",
      "Fold 1, AUC-ROC: 0.93449\n",
      "Fold 2, AUC-ROC: 0.93324\n",
      "Fold 3, AUC-ROC: 0.91337\n",
      "CV AUC-ROC: 0.92292\n"
     ]
    },
    {
     "name": "stderr",
     "output_type": "stream",
     "text": [
      "100%|██████████| 4/4 [04:51<00:00, 72.76s/it]\n",
      "[I 2025-03-13 16:42:38,816] Trial 281 finished with value: 0.9124355735008611 and parameters: {'learning_rate': 0.005920815865083844, 'feature_fraction': 0.4090234658954, 'n_estimators': 2361, 'max_depth': 14, 'lambda_l1': 3.1331650019560793, 'lambda_l2': 2.0962678077494994, 'num_boost_round': 32}. Best is trial 243 with value: 0.9243791055145523.\n"
     ]
    },
    {
     "name": "stdout",
     "output_type": "stream",
     "text": [
      "Fold 0, AUC-ROC: 0.89880\n",
      "Fold 1, AUC-ROC: 0.92008\n",
      "Fold 2, AUC-ROC: 0.92317\n",
      "Fold 3, AUC-ROC: 0.90769\n",
      "CV AUC-ROC: 0.91244\n"
     ]
    },
    {
     "name": "stderr",
     "output_type": "stream",
     "text": [
      "100%|██████████| 4/4 [02:35<00:00, 38.84s/it]\n",
      "[I 2025-03-13 16:45:15,190] Trial 282 finished with value: 0.9207822206666963 and parameters: {'learning_rate': 0.060732503991515786, 'feature_fraction': 0.42766743851981, 'n_estimators': 2440, 'max_depth': 14, 'lambda_l1': 1.6678751411848531, 'lambda_l2': 4.547930109601195, 'num_boost_round': 39}. Best is trial 243 with value: 0.9243791055145523.\n"
     ]
    },
    {
     "name": "stdout",
     "output_type": "stream",
     "text": [
      "Fold 0, AUC-ROC: 0.90807\n",
      "Fold 1, AUC-ROC: 0.93372\n",
      "Fold 2, AUC-ROC: 0.93263\n",
      "Fold 3, AUC-ROC: 0.90871\n",
      "CV AUC-ROC: 0.92078\n"
     ]
    },
    {
     "name": "stderr",
     "output_type": "stream",
     "text": [
      "100%|██████████| 4/4 [03:44<00:00, 56.11s/it]\n",
      "[I 2025-03-13 16:49:00,600] Trial 283 finished with value: 0.9234569320583521 and parameters: {'learning_rate': 0.037314738344092775, 'feature_fraction': 0.4004138018794588, 'n_estimators': 2475, 'max_depth': 14, 'lambda_l1': 0.0642973948710246, 'lambda_l2': 2.130373514712309, 'num_boost_round': 34}. Best is trial 243 with value: 0.9243791055145523.\n"
     ]
    },
    {
     "name": "stdout",
     "output_type": "stream",
     "text": [
      "Fold 0, AUC-ROC: 0.91167\n",
      "Fold 1, AUC-ROC: 0.93456\n",
      "Fold 2, AUC-ROC: 0.93375\n",
      "Fold 3, AUC-ROC: 0.91385\n",
      "CV AUC-ROC: 0.92346\n"
     ]
    },
    {
     "name": "stderr",
     "output_type": "stream",
     "text": [
      "100%|██████████| 4/4 [03:43<00:00, 55.98s/it]\n",
      "[I 2025-03-13 16:52:45,522] Trial 284 finished with value: 0.9218739920571403 and parameters: {'learning_rate': 0.03715486569438333, 'feature_fraction': 0.4210304583375905, 'n_estimators': 2505, 'max_depth': 11, 'lambda_l1': 3.841084400681138, 'lambda_l2': 6.9157050999807135, 'num_boost_round': 41}. Best is trial 243 with value: 0.9243791055145523.\n"
     ]
    },
    {
     "name": "stdout",
     "output_type": "stream",
     "text": [
      "Fold 0, AUC-ROC: 0.90669\n",
      "Fold 1, AUC-ROC: 0.93483\n",
      "Fold 2, AUC-ROC: 0.93373\n",
      "Fold 3, AUC-ROC: 0.91224\n",
      "CV AUC-ROC: 0.92187\n"
     ]
    },
    {
     "name": "stderr",
     "output_type": "stream",
     "text": [
      "100%|██████████| 4/4 [02:18<00:00, 34.52s/it]\n",
      "[I 2025-03-13 16:55:04,636] Trial 285 finished with value: 0.9219483961913639 and parameters: {'learning_rate': 0.06465930818937803, 'feature_fraction': 0.4075297024801782, 'n_estimators': 2305, 'max_depth': 14, 'lambda_l1': 5.694035715632032, 'lambda_l2': 3.3245569511425215, 'num_boost_round': 37}. Best is trial 243 with value: 0.9243791055145523.\n"
     ]
    },
    {
     "name": "stdout",
     "output_type": "stream",
     "text": [
      "Fold 0, AUC-ROC: 0.90694\n",
      "Fold 1, AUC-ROC: 0.93476\n",
      "Fold 2, AUC-ROC: 0.93412\n",
      "Fold 3, AUC-ROC: 0.91197\n",
      "CV AUC-ROC: 0.92195\n"
     ]
    },
    {
     "name": "stderr",
     "output_type": "stream",
     "text": [
      "100%|██████████| 4/4 [03:47<00:00, 56.90s/it]\n",
      "[I 2025-03-13 16:58:53,316] Trial 286 finished with value: 0.9239084949009463 and parameters: {'learning_rate': 0.03154243062354605, 'feature_fraction': 0.4141019772656846, 'n_estimators': 2262, 'max_depth': 14, 'lambda_l1': 3.0331670729036264, 'lambda_l2': 1.6854883283887414, 'num_boost_round': 40}. Best is trial 243 with value: 0.9243791055145523.\n"
     ]
    },
    {
     "name": "stdout",
     "output_type": "stream",
     "text": [
      "Fold 0, AUC-ROC: 0.90905\n",
      "Fold 1, AUC-ROC: 0.93515\n",
      "Fold 2, AUC-ROC: 0.93661\n",
      "Fold 3, AUC-ROC: 0.91483\n",
      "CV AUC-ROC: 0.92391\n"
     ]
    },
    {
     "name": "stderr",
     "output_type": "stream",
     "text": [
      "100%|██████████| 4/4 [01:05<00:00, 16.25s/it]\n",
      "[I 2025-03-13 16:59:59,353] Trial 287 finished with value: 0.9005619923110015 and parameters: {'learning_rate': 0.04717876902927812, 'feature_fraction': 0.4134507811528828, 'n_estimators': 2271, 'max_depth': 14, 'lambda_l1': 66.30342738719938, 'lambda_l2': 5.552459850214269, 'num_boost_round': 41}. Best is trial 243 with value: 0.9243791055145523.\n"
     ]
    },
    {
     "name": "stdout",
     "output_type": "stream",
     "text": [
      "Fold 0, AUC-ROC: 0.88546\n",
      "Fold 1, AUC-ROC: 0.90661\n",
      "Fold 2, AUC-ROC: 0.91182\n",
      "Fold 3, AUC-ROC: 0.89836\n",
      "CV AUC-ROC: 0.90056\n"
     ]
    },
    {
     "name": "stderr",
     "output_type": "stream",
     "text": [
      "100%|██████████| 4/4 [04:06<00:00, 61.55s/it]\n",
      "[I 2025-03-13 17:04:06,580] Trial 288 finished with value: 0.9235393485913375 and parameters: {'learning_rate': 0.032253944996826156, 'feature_fraction': 0.4162916371499518, 'n_estimators': 2374, 'max_depth': 14, 'lambda_l1': 1.8214776585408243, 'lambda_l2': 1.973270838693295, 'num_boost_round': 37}. Best is trial 243 with value: 0.9243791055145523.\n"
     ]
    },
    {
     "name": "stdout",
     "output_type": "stream",
     "text": [
      "Fold 0, AUC-ROC: 0.91026\n",
      "Fold 1, AUC-ROC: 0.93622\n",
      "Fold 2, AUC-ROC: 0.93421\n",
      "Fold 3, AUC-ROC: 0.91347\n",
      "CV AUC-ROC: 0.92354\n"
     ]
    },
    {
     "name": "stderr",
     "output_type": "stream",
     "text": [
      "100%|██████████| 4/4 [01:15<00:00, 18.80s/it]\n",
      "[I 2025-03-13 17:05:22,756] Trial 289 finished with value: 0.9035281102053633 and parameters: {'learning_rate': 0.04233469498677852, 'feature_fraction': 0.40596226548551045, 'n_estimators': 2280, 'max_depth': 13, 'lambda_l1': 55.26144648846832, 'lambda_l2': 3.7362908633444682, 'num_boost_round': 40}. Best is trial 243 with value: 0.9243791055145523.\n"
     ]
    },
    {
     "name": "stdout",
     "output_type": "stream",
     "text": [
      "Fold 0, AUC-ROC: 0.88844\n",
      "Fold 1, AUC-ROC: 0.91015\n",
      "Fold 2, AUC-ROC: 0.91537\n",
      "Fold 3, AUC-ROC: 0.90015\n",
      "CV AUC-ROC: 0.90353\n"
     ]
    },
    {
     "name": "stderr",
     "output_type": "stream",
     "text": [
      "100%|██████████| 4/4 [04:29<00:00, 67.44s/it]\n",
      "[I 2025-03-13 17:09:53,457] Trial 290 finished with value: 0.905548316067467 and parameters: {'learning_rate': 0.0037200281452026388, 'feature_fraction': 0.41918517176908127, 'n_estimators': 2215, 'max_depth': 15, 'lambda_l1': 3.263045762176155, 'lambda_l2': 1.8565155283172208, 'num_boost_round': 35}. Best is trial 243 with value: 0.9243791055145523.\n"
     ]
    },
    {
     "name": "stdout",
     "output_type": "stream",
     "text": [
      "Fold 0, AUC-ROC: 0.89034\n",
      "Fold 1, AUC-ROC: 0.91195\n",
      "Fold 2, AUC-ROC: 0.91735\n",
      "Fold 3, AUC-ROC: 0.90256\n",
      "CV AUC-ROC: 0.90555\n"
     ]
    },
    {
     "name": "stderr",
     "output_type": "stream",
     "text": [
      "100%|██████████| 4/4 [03:41<00:00, 55.48s/it]\n",
      "[I 2025-03-13 17:13:36,465] Trial 291 finished with value: 0.9233553463396087 and parameters: {'learning_rate': 0.03535063828345366, 'feature_fraction': 0.4057578643455759, 'n_estimators': 2173, 'max_depth': 14, 'lambda_l1': 1.7790807488366327, 'lambda_l2': 1.9295590776053724, 'num_boost_round': 31}. Best is trial 243 with value: 0.9243791055145523.\n"
     ]
    },
    {
     "name": "stdout",
     "output_type": "stream",
     "text": [
      "Fold 0, AUC-ROC: 0.90976\n",
      "Fold 1, AUC-ROC: 0.93614\n",
      "Fold 2, AUC-ROC: 0.93451\n",
      "Fold 3, AUC-ROC: 0.91302\n",
      "CV AUC-ROC: 0.92336\n"
     ]
    },
    {
     "name": "stderr",
     "output_type": "stream",
     "text": [
      "100%|██████████| 4/4 [03:54<00:00, 58.61s/it]\n",
      "[I 2025-03-13 17:17:31,971] Trial 292 finished with value: 0.9227597578262696 and parameters: {'learning_rate': 0.030696173163895148, 'feature_fraction': 0.4126714673489287, 'n_estimators': 2059, 'max_depth': 15, 'lambda_l1': 3.5286341187459866, 'lambda_l2': 4.57583127531444, 'num_boost_round': 42}. Best is trial 243 with value: 0.9243791055145523.\n"
     ]
    },
    {
     "name": "stdout",
     "output_type": "stream",
     "text": [
      "Fold 0, AUC-ROC: 0.90863\n",
      "Fold 1, AUC-ROC: 0.93463\n",
      "Fold 2, AUC-ROC: 0.93421\n",
      "Fold 3, AUC-ROC: 0.91358\n",
      "CV AUC-ROC: 0.92276\n"
     ]
    },
    {
     "name": "stderr",
     "output_type": "stream",
     "text": [
      "100%|██████████| 4/4 [04:57<00:00, 74.37s/it]\n",
      "[I 2025-03-13 17:22:30,515] Trial 293 finished with value: 0.9224764490191336 and parameters: {'learning_rate': 0.017766392094195945, 'feature_fraction': 0.423559004038918, 'n_estimators': 2606, 'max_depth': 13, 'lambda_l1': 3.8157313195243105, 'lambda_l2': 1.7022423461671523, 'num_boost_round': 39}. Best is trial 243 with value: 0.9243791055145523.\n"
     ]
    },
    {
     "name": "stdout",
     "output_type": "stream",
     "text": [
      "Fold 0, AUC-ROC: 0.90915\n",
      "Fold 1, AUC-ROC: 0.93347\n",
      "Fold 2, AUC-ROC: 0.93349\n",
      "Fold 3, AUC-ROC: 0.91379\n",
      "CV AUC-ROC: 0.92248\n"
     ]
    },
    {
     "name": "stderr",
     "output_type": "stream",
     "text": [
      "100%|██████████| 4/4 [04:28<00:00, 67.02s/it]\n",
      "[I 2025-03-13 17:26:59,658] Trial 294 finished with value: 0.9218557659705106 and parameters: {'learning_rate': 0.028321358564000722, 'feature_fraction': 0.40001151385925166, 'n_estimators': 2399, 'max_depth': 14, 'lambda_l1': 0.15653449348175563, 'lambda_l2': 7.752170759375652, 'num_boost_round': 37}. Best is trial 243 with value: 0.9243791055145523.\n"
     ]
    },
    {
     "name": "stdout",
     "output_type": "stream",
     "text": [
      "Fold 0, AUC-ROC: 0.90884\n",
      "Fold 1, AUC-ROC: 0.93341\n",
      "Fold 2, AUC-ROC: 0.93259\n",
      "Fold 3, AUC-ROC: 0.91259\n",
      "CV AUC-ROC: 0.92186\n"
     ]
    },
    {
     "name": "stderr",
     "output_type": "stream",
     "text": [
      "100%|██████████| 4/4 [03:08<00:00, 47.17s/it]\n",
      "[I 2025-03-13 17:30:09,400] Trial 295 finished with value: 0.921952365830939 and parameters: {'learning_rate': 0.041316002663574714, 'feature_fraction': 0.4131957485283672, 'n_estimators': 2322, 'max_depth': 14, 'lambda_l1': 8.33323857459813, 'lambda_l2': 0.15601602454718172, 'num_boost_round': 41}. Best is trial 243 with value: 0.9243791055145523.\n"
     ]
    },
    {
     "name": "stdout",
     "output_type": "stream",
     "text": [
      "Fold 0, AUC-ROC: 0.90593\n",
      "Fold 1, AUC-ROC: 0.93566\n",
      "Fold 2, AUC-ROC: 0.93368\n",
      "Fold 3, AUC-ROC: 0.91253\n",
      "CV AUC-ROC: 0.92195\n"
     ]
    },
    {
     "name": "stderr",
     "output_type": "stream",
     "text": [
      "100%|██████████| 4/4 [03:47<00:00, 56.81s/it]\n",
      "[I 2025-03-13 17:33:57,691] Trial 296 finished with value: 0.9227497161196139 and parameters: {'learning_rate': 0.03297427727305525, 'feature_fraction': 0.4312912106902761, 'n_estimators': 2183, 'max_depth': 15, 'lambda_l1': 5.633425890469092, 'lambda_l2': 3.6515005623432923, 'num_boost_round': 34}. Best is trial 243 with value: 0.9243791055145523.\n"
     ]
    },
    {
     "name": "stdout",
     "output_type": "stream",
     "text": [
      "Fold 0, AUC-ROC: 0.90802\n",
      "Fold 1, AUC-ROC: 0.93605\n",
      "Fold 2, AUC-ROC: 0.93399\n",
      "Fold 3, AUC-ROC: 0.91293\n",
      "CV AUC-ROC: 0.92275\n"
     ]
    },
    {
     "name": "stderr",
     "output_type": "stream",
     "text": [
      "100%|██████████| 4/4 [02:49<00:00, 42.35s/it]\n",
      "[I 2025-03-13 17:36:48,023] Trial 297 finished with value: 0.9226003000217303 and parameters: {'learning_rate': 0.06475923712013976, 'feature_fraction': 0.40812250368552744, 'n_estimators': 2269, 'max_depth': 13, 'lambda_l1': 2.2454319834626326, 'lambda_l2': 5.96847552195721, 'num_boost_round': 39}. Best is trial 243 with value: 0.9243791055145523.\n"
     ]
    },
    {
     "name": "stdout",
     "output_type": "stream",
     "text": [
      "Fold 0, AUC-ROC: 0.91036\n",
      "Fold 1, AUC-ROC: 0.93474\n",
      "Fold 2, AUC-ROC: 0.93431\n",
      "Fold 3, AUC-ROC: 0.91099\n",
      "CV AUC-ROC: 0.92260\n"
     ]
    },
    {
     "name": "stderr",
     "output_type": "stream",
     "text": [
      "100%|██████████| 4/4 [03:50<00:00, 57.61s/it]\n",
      "[I 2025-03-13 17:40:39,482] Trial 298 finished with value: 0.9206101452258797 and parameters: {'learning_rate': 0.019922721194322087, 'feature_fraction': 0.4199766882677397, 'n_estimators': 2076, 'max_depth': 12, 'lambda_l1': 6.749575433105406, 'lambda_l2': 1.8444450824303862, 'num_boost_round': 41}. Best is trial 243 with value: 0.9243791055145523.\n"
     ]
    },
    {
     "name": "stdout",
     "output_type": "stream",
     "text": [
      "Fold 0, AUC-ROC: 0.90760\n",
      "Fold 1, AUC-ROC: 0.93166\n",
      "Fold 2, AUC-ROC: 0.93212\n",
      "Fold 3, AUC-ROC: 0.91106\n",
      "CV AUC-ROC: 0.92061\n"
     ]
    },
    {
     "name": "stderr",
     "output_type": "stream",
     "text": [
      "100%|██████████| 4/4 [03:40<00:00, 55.15s/it]\n",
      "[I 2025-03-13 17:44:21,108] Trial 299 finished with value: 0.9235785990195143 and parameters: {'learning_rate': 0.025516885985641457, 'feature_fraction': 0.4282365167660615, 'n_estimators': 2017, 'max_depth': 14, 'lambda_l1': 4.0530746451986435, 'lambda_l2': 0.07712768869220259, 'num_boost_round': 36}. Best is trial 243 with value: 0.9243791055145523.\n"
     ]
    },
    {
     "name": "stdout",
     "output_type": "stream",
     "text": [
      "Fold 0, AUC-ROC: 0.90927\n",
      "Fold 1, AUC-ROC: 0.93565\n",
      "Fold 2, AUC-ROC: 0.93530\n",
      "Fold 3, AUC-ROC: 0.91409\n",
      "CV AUC-ROC: 0.92358\n"
     ]
    },
    {
     "name": "stderr",
     "output_type": "stream",
     "text": [
      "100%|██████████| 4/4 [03:41<00:00, 55.42s/it]\n",
      "[I 2025-03-13 17:48:03,768] Trial 300 finished with value: 0.9221565208654152 and parameters: {'learning_rate': 0.02588943591584109, 'feature_fraction': 0.43008882954911515, 'n_estimators': 1995, 'max_depth': 14, 'lambda_l1': 4.958121415303308, 'lambda_l2': 3.5954483421410823, 'num_boost_round': 33}. Best is trial 243 with value: 0.9243791055145523.\n"
     ]
    },
    {
     "name": "stdout",
     "output_type": "stream",
     "text": [
      "Fold 0, AUC-ROC: 0.90862\n",
      "Fold 1, AUC-ROC: 0.93393\n",
      "Fold 2, AUC-ROC: 0.93401\n",
      "Fold 3, AUC-ROC: 0.91206\n",
      "CV AUC-ROC: 0.92216\n"
     ]
    },
    {
     "name": "stderr",
     "output_type": "stream",
     "text": [
      "100%|██████████| 4/4 [03:54<00:00, 58.50s/it]\n",
      "[I 2025-03-13 17:51:58,817] Trial 301 finished with value: 0.9214441989679484 and parameters: {'learning_rate': 0.02055084182446464, 'feature_fraction': 0.4000019552884882, 'n_estimators': 2134, 'max_depth': 14, 'lambda_l1': 8.767712941159072, 'lambda_l2': 0.03526425427625954, 'num_boost_round': 36}. Best is trial 243 with value: 0.9243791055145523.\n"
     ]
    },
    {
     "name": "stdout",
     "output_type": "stream",
     "text": [
      "Fold 0, AUC-ROC: 0.90662\n",
      "Fold 1, AUC-ROC: 0.93276\n",
      "Fold 2, AUC-ROC: 0.93334\n",
      "Fold 3, AUC-ROC: 0.91305\n",
      "CV AUC-ROC: 0.92144\n"
     ]
    },
    {
     "name": "stderr",
     "output_type": "stream",
     "text": [
      "100%|██████████| 4/4 [02:52<00:00, 43.24s/it]\n",
      "[I 2025-03-13 17:54:52,698] Trial 302 finished with value: 0.9241301063428203 and parameters: {'learning_rate': 0.0521817944381844, 'feature_fraction': 0.4225252357881971, 'n_estimators': 2029, 'max_depth': 14, 'lambda_l1': 1.8507637958740886, 'lambda_l2': 1.778442738903277, 'num_boost_round': 36}. Best is trial 243 with value: 0.9243791055145523.\n"
     ]
    },
    {
     "name": "stdout",
     "output_type": "stream",
     "text": [
      "Fold 0, AUC-ROC: 0.91083\n",
      "Fold 1, AUC-ROC: 0.93713\n",
      "Fold 2, AUC-ROC: 0.93548\n",
      "Fold 3, AUC-ROC: 0.91309\n",
      "CV AUC-ROC: 0.92413\n"
     ]
    },
    {
     "name": "stderr",
     "output_type": "stream",
     "text": [
      "100%|██████████| 4/4 [04:14<00:00, 63.68s/it]\n",
      "[I 2025-03-13 17:59:08,461] Trial 303 finished with value: 0.9228353448309968 and parameters: {'learning_rate': 0.025016451232560806, 'feature_fraction': 0.42238355623693985, 'n_estimators': 2540, 'max_depth': 13, 'lambda_l1': 1.4830658163189767, 'lambda_l2': 3.3746858557610513, 'num_boost_round': 100}. Best is trial 243 with value: 0.9243791055145523.\n"
     ]
    },
    {
     "name": "stdout",
     "output_type": "stream",
     "text": [
      "Fold 0, AUC-ROC: 0.91086\n",
      "Fold 1, AUC-ROC: 0.93429\n",
      "Fold 2, AUC-ROC: 0.93277\n",
      "Fold 3, AUC-ROC: 0.91341\n",
      "CV AUC-ROC: 0.92284\n"
     ]
    },
    {
     "name": "stderr",
     "output_type": "stream",
     "text": [
      "100%|██████████| 4/4 [02:23<00:00, 35.96s/it]\n",
      "[I 2025-03-13 18:01:33,334] Trial 304 finished with value: 0.9185280161632527 and parameters: {'learning_rate': 0.015906083148090878, 'feature_fraction': 0.7643598641445994, 'n_estimators': 1850, 'max_depth': 14, 'lambda_l1': 0.015308727442641334, 'lambda_l2': 1.904339575294398, 'num_boost_round': 31}. Best is trial 243 with value: 0.9243791055145523.\n"
     ]
    },
    {
     "name": "stdout",
     "output_type": "stream",
     "text": [
      "Fold 0, AUC-ROC: 0.90651\n",
      "Fold 1, AUC-ROC: 0.92728\n",
      "Fold 2, AUC-ROC: 0.92868\n",
      "Fold 3, AUC-ROC: 0.91164\n",
      "CV AUC-ROC: 0.91853\n"
     ]
    },
    {
     "name": "stderr",
     "output_type": "stream",
     "text": [
      "100%|██████████| 4/4 [03:47<00:00, 56.89s/it]\n",
      "[I 2025-03-13 18:05:21,852] Trial 305 finished with value: 0.9201351530911357 and parameters: {'learning_rate': 0.018375185305598653, 'feature_fraction': 0.4285935918576, 'n_estimators': 2009, 'max_depth': 13, 'lambda_l1': 2.7687939000476613, 'lambda_l2': 5.781862860925966, 'num_boost_round': 35}. Best is trial 243 with value: 0.9243791055145523.\n"
     ]
    },
    {
     "name": "stdout",
     "output_type": "stream",
     "text": [
      "Fold 0, AUC-ROC: 0.90754\n",
      "Fold 1, AUC-ROC: 0.93035\n",
      "Fold 2, AUC-ROC: 0.93027\n",
      "Fold 3, AUC-ROC: 0.91238\n",
      "CV AUC-ROC: 0.92014\n"
     ]
    },
    {
     "name": "stderr",
     "output_type": "stream",
     "text": [
      "100%|██████████| 4/4 [02:31<00:00, 37.92s/it]\n",
      "[I 2025-03-13 18:07:54,549] Trial 306 finished with value: 0.9226111408176165 and parameters: {'learning_rate': 0.05388565090619398, 'feature_fraction': 0.44369991844209133, 'n_estimators': 1958, 'max_depth': 14, 'lambda_l1': 0.007817162114760912, 'lambda_l2': 1.841750440592399, 'num_boost_round': 34}. Best is trial 243 with value: 0.9243791055145523.\n"
     ]
    },
    {
     "name": "stdout",
     "output_type": "stream",
     "text": [
      "Fold 0, AUC-ROC: 0.91101\n",
      "Fold 1, AUC-ROC: 0.93391\n",
      "Fold 2, AUC-ROC: 0.93266\n",
      "Fold 3, AUC-ROC: 0.91286\n",
      "CV AUC-ROC: 0.92261\n"
     ]
    },
    {
     "name": "stderr",
     "output_type": "stream",
     "text": [
      "100%|██████████| 4/4 [03:06<00:00, 46.66s/it]\n",
      "[I 2025-03-13 18:11:02,172] Trial 307 finished with value: 0.9239961810028083 and parameters: {'learning_rate': 0.03793517962670046, 'feature_fraction': 0.40613571736453247, 'n_estimators': 2033, 'max_depth': 14, 'lambda_l1': 3.5395508995333, 'lambda_l2': 0.12128420721004034, 'num_boost_round': 36}. Best is trial 243 with value: 0.9243791055145523.\n"
     ]
    },
    {
     "name": "stdout",
     "output_type": "stream",
     "text": [
      "Fold 0, AUC-ROC: 0.90958\n",
      "Fold 1, AUC-ROC: 0.93637\n",
      "Fold 2, AUC-ROC: 0.93565\n",
      "Fold 3, AUC-ROC: 0.91437\n",
      "CV AUC-ROC: 0.92400\n"
     ]
    },
    {
     "name": "stderr",
     "output_type": "stream",
     "text": [
      "100%|██████████| 4/4 [03:17<00:00, 49.47s/it]\n",
      "[I 2025-03-13 18:14:21,084] Trial 308 finished with value: 0.9230123911562453 and parameters: {'learning_rate': 0.039086698205446066, 'feature_fraction': 0.41066369927956065, 'n_estimators': 2091, 'max_depth': 14, 'lambda_l1': 2.1701308573874503, 'lambda_l2': 4.052658377747605, 'num_boost_round': 42}. Best is trial 243 with value: 0.9243791055145523.\n"
     ]
    },
    {
     "name": "stdout",
     "output_type": "stream",
     "text": [
      "Fold 0, AUC-ROC: 0.90909\n",
      "Fold 1, AUC-ROC: 0.93534\n",
      "Fold 2, AUC-ROC: 0.93511\n",
      "Fold 3, AUC-ROC: 0.91250\n",
      "CV AUC-ROC: 0.92301\n"
     ]
    },
    {
     "name": "stderr",
     "output_type": "stream",
     "text": [
      "100%|██████████| 4/4 [03:07<00:00, 46.78s/it]\n",
      "[I 2025-03-13 18:17:29,160] Trial 309 finished with value: 0.9223093494160193 and parameters: {'learning_rate': 0.037887524748275184, 'feature_fraction': 0.40639143527231036, 'n_estimators': 1910, 'max_depth': 14, 'lambda_l1': 7.013526801778036, 'lambda_l2': 1.9791408641674195, 'num_boost_round': 38}. Best is trial 243 with value: 0.9243791055145523.\n"
     ]
    },
    {
     "name": "stdout",
     "output_type": "stream",
     "text": [
      "Fold 0, AUC-ROC: 0.90711\n",
      "Fold 1, AUC-ROC: 0.93348\n",
      "Fold 2, AUC-ROC: 0.93512\n",
      "Fold 3, AUC-ROC: 0.91353\n",
      "CV AUC-ROC: 0.92231\n"
     ]
    },
    {
     "name": "stderr",
     "output_type": "stream",
     "text": [
      "100%|██████████| 4/4 [02:00<00:00, 30.15s/it]\n",
      "[I 2025-03-13 18:19:30,659] Trial 310 finished with value: 0.9124446376281952 and parameters: {'learning_rate': 0.04714211484467, 'feature_fraction': 0.4172384421643988, 'n_estimators': 2034, 'max_depth': 13, 'lambda_l1': 26.59292883533976, 'lambda_l2': 29.164990342721357, 'num_boost_round': 32}. Best is trial 243 with value: 0.9243791055145523.\n"
     ]
    },
    {
     "name": "stdout",
     "output_type": "stream",
     "text": [
      "Fold 0, AUC-ROC: 0.89679\n",
      "Fold 1, AUC-ROC: 0.92391\n",
      "Fold 2, AUC-ROC: 0.92414\n",
      "Fold 3, AUC-ROC: 0.90494\n",
      "CV AUC-ROC: 0.91244\n"
     ]
    },
    {
     "name": "stderr",
     "output_type": "stream",
     "text": [
      "100%|██████████| 4/4 [03:49<00:00, 57.31s/it]\n",
      "[I 2025-03-13 18:23:20,876] Trial 311 finished with value: 0.8774907321190749 and parameters: {'learning_rate': 0.0011824029628947526, 'feature_fraction': 0.40010228220801036, 'n_estimators': 1967, 'max_depth': 15, 'lambda_l1': 3.726012536890985, 'lambda_l2': 37.26408011989053, 'num_boost_round': 40}. Best is trial 243 with value: 0.9243791055145523.\n"
     ]
    },
    {
     "name": "stdout",
     "output_type": "stream",
     "text": [
      "Fold 0, AUC-ROC: 0.85602\n",
      "Fold 1, AUC-ROC: 0.88328\n",
      "Fold 2, AUC-ROC: 0.89201\n",
      "Fold 3, AUC-ROC: 0.87866\n",
      "CV AUC-ROC: 0.87749\n"
     ]
    },
    {
     "name": "stderr",
     "output_type": "stream",
     "text": [
      "100%|██████████| 4/4 [03:10<00:00, 47.64s/it]\n",
      "[I 2025-03-13 18:26:32,424] Trial 312 finished with value: 0.9244682009352734 and parameters: {'learning_rate': 0.034474628440798454, 'feature_fraction': 0.40732557768110894, 'n_estimators': 2101, 'max_depth': 14, 'lambda_l1': 2.0153175976273947, 'lambda_l2': 0.05960676271959717, 'num_boost_round': 37}. Best is trial 312 with value: 0.9244682009352734.\n"
     ]
    },
    {
     "name": "stdout",
     "output_type": "stream",
     "text": [
      "Fold 0, AUC-ROC: 0.91042\n",
      "Fold 1, AUC-ROC: 0.93584\n",
      "Fold 2, AUC-ROC: 0.93694\n",
      "Fold 3, AUC-ROC: 0.91467\n",
      "CV AUC-ROC: 0.92447\n"
     ]
    },
    {
     "name": "stderr",
     "output_type": "stream",
     "text": [
      "100%|██████████| 4/4 [01:58<00:00, 29.58s/it]\n",
      "[I 2025-03-13 18:28:31,749] Trial 313 finished with value: 0.9223478586264774 and parameters: {'learning_rate': 0.03568773935120206, 'feature_fraction': 0.8231473231195994, 'n_estimators': 2110, 'max_depth': 12, 'lambda_l1': 5.828530661309522, 'lambda_l2': 0.12064139861180183, 'num_boost_round': 29}. Best is trial 312 with value: 0.9244682009352734.\n"
     ]
    },
    {
     "name": "stdout",
     "output_type": "stream",
     "text": [
      "Fold 0, AUC-ROC: 0.90603\n",
      "Fold 1, AUC-ROC: 0.93586\n",
      "Fold 2, AUC-ROC: 0.93679\n",
      "Fold 3, AUC-ROC: 0.91072\n",
      "CV AUC-ROC: 0.92235\n"
     ]
    },
    {
     "name": "stderr",
     "output_type": "stream",
     "text": [
      "100%|██████████| 4/4 [03:36<00:00, 54.11s/it]\n",
      "[I 2025-03-13 18:32:09,159] Trial 314 finished with value: 0.9238970216263866 and parameters: {'learning_rate': 0.03242108797279615, 'feature_fraction': 0.40653493324509704, 'n_estimators': 2076, 'max_depth': 11, 'lambda_l1': 4.051594944296716, 'lambda_l2': 0.05791338667923513, 'num_boost_round': 36}. Best is trial 312 with value: 0.9244682009352734.\n"
     ]
    },
    {
     "name": "stdout",
     "output_type": "stream",
     "text": [
      "Fold 0, AUC-ROC: 0.91075\n",
      "Fold 1, AUC-ROC: 0.93485\n",
      "Fold 2, AUC-ROC: 0.93656\n",
      "Fold 3, AUC-ROC: 0.91343\n",
      "CV AUC-ROC: 0.92390\n"
     ]
    },
    {
     "name": "stderr",
     "output_type": "stream",
     "text": [
      "100%|██████████| 4/4 [03:42<00:00, 55.51s/it]\n",
      "[I 2025-03-13 18:35:52,135] Trial 315 finished with value: 0.9229769590253288 and parameters: {'learning_rate': 0.03293395479173556, 'feature_fraction': 0.40868098211987214, 'n_estimators': 2039, 'max_depth': 11, 'lambda_l1': 3.248100205012623, 'lambda_l2': 4.404179359600065, 'num_boost_round': 35}. Best is trial 312 with value: 0.9244682009352734.\n"
     ]
    },
    {
     "name": "stdout",
     "output_type": "stream",
     "text": [
      "Fold 0, AUC-ROC: 0.90916\n",
      "Fold 1, AUC-ROC: 0.93550\n",
      "Fold 2, AUC-ROC: 0.93423\n",
      "Fold 3, AUC-ROC: 0.91302\n",
      "CV AUC-ROC: 0.92298\n"
     ]
    },
    {
     "name": "stderr",
     "output_type": "stream",
     "text": [
      "100%|██████████| 4/4 [03:13<00:00, 48.38s/it]\n",
      "[I 2025-03-13 18:39:06,760] Trial 316 finished with value: 0.9218125866407412 and parameters: {'learning_rate': 0.030714500575799074, 'feature_fraction': 0.4138009190202532, 'n_estimators': 1806, 'max_depth': 12, 'lambda_l1': 0.018360927619017087, 'lambda_l2': 3.302112067938144, 'num_boost_round': 33}. Best is trial 312 with value: 0.9244682009352734.\n"
     ]
    },
    {
     "name": "stdout",
     "output_type": "stream",
     "text": [
      "Fold 0, AUC-ROC: 0.91044\n",
      "Fold 1, AUC-ROC: 0.93101\n",
      "Fold 2, AUC-ROC: 0.93290\n",
      "Fold 3, AUC-ROC: 0.91290\n",
      "CV AUC-ROC: 0.92181\n"
     ]
    },
    {
     "name": "stderr",
     "output_type": "stream",
     "text": [
      "100%|██████████| 4/4 [03:32<00:00, 53.21s/it]\n",
      "[I 2025-03-13 18:42:40,784] Trial 317 finished with value: 0.921230227673705 and parameters: {'learning_rate': 0.028782844861658982, 'feature_fraction': 0.4082855068456971, 'n_estimators': 1905, 'max_depth': 11, 'lambda_l1': 3.5654490164832553, 'lambda_l2': 8.044233861203406, 'num_boost_round': 43}. Best is trial 312 with value: 0.9244682009352734.\n"
     ]
    },
    {
     "name": "stdout",
     "output_type": "stream",
     "text": [
      "Fold 0, AUC-ROC: 0.90747\n",
      "Fold 1, AUC-ROC: 0.93246\n",
      "Fold 2, AUC-ROC: 0.93246\n",
      "Fold 3, AUC-ROC: 0.91253\n",
      "CV AUC-ROC: 0.92123\n"
     ]
    },
    {
     "name": "stderr",
     "output_type": "stream",
     "text": [
      "100%|██████████| 4/4 [03:35<00:00, 53.76s/it]\n",
      "[I 2025-03-13 18:46:16,825] Trial 318 finished with value: 0.9236778875307852 and parameters: {'learning_rate': 0.03466114058474759, 'feature_fraction': 0.41937052618370174, 'n_estimators': 2213, 'max_depth': 12, 'lambda_l1': 2.490787195466762, 'lambda_l2': 1.85187176704555, 'num_boost_round': 64}. Best is trial 312 with value: 0.9244682009352734.\n"
     ]
    },
    {
     "name": "stdout",
     "output_type": "stream",
     "text": [
      "Fold 0, AUC-ROC: 0.90993\n",
      "Fold 1, AUC-ROC: 0.93645\n",
      "Fold 2, AUC-ROC: 0.93538\n",
      "Fold 3, AUC-ROC: 0.91295\n",
      "CV AUC-ROC: 0.92368\n"
     ]
    },
    {
     "name": "stderr",
     "output_type": "stream",
     "text": [
      "100%|██████████| 4/4 [03:38<00:00, 54.59s/it]\n",
      "[I 2025-03-13 18:49:56,270] Trial 319 finished with value: 0.9224443958421791 and parameters: {'learning_rate': 0.03355954560640466, 'feature_fraction': 0.4163206062388413, 'n_estimators': 2240, 'max_depth': 12, 'lambda_l1': 1.8511799458547102, 'lambda_l2': 5.790517855744289, 'num_boost_round': 64}. Best is trial 312 with value: 0.9244682009352734.\n"
     ]
    },
    {
     "name": "stdout",
     "output_type": "stream",
     "text": [
      "Fold 0, AUC-ROC: 0.90924\n",
      "Fold 1, AUC-ROC: 0.93460\n",
      "Fold 2, AUC-ROC: 0.93382\n",
      "Fold 3, AUC-ROC: 0.91211\n",
      "CV AUC-ROC: 0.92244\n"
     ]
    },
    {
     "name": "stderr",
     "output_type": "stream",
     "text": [
      "100%|██████████| 4/4 [03:45<00:00, 56.34s/it]\n",
      "[I 2025-03-13 18:53:42,691] Trial 320 finished with value: 0.9232009197075404 and parameters: {'learning_rate': 0.03526245925549585, 'feature_fraction': 0.4059751371791803, 'n_estimators': 2194, 'max_depth': 12, 'lambda_l1': 2.0670080818639867, 'lambda_l2': 2.097803352360059, 'num_boost_round': 70}. Best is trial 312 with value: 0.9244682009352734.\n"
     ]
    },
    {
     "name": "stdout",
     "output_type": "stream",
     "text": [
      "Fold 0, AUC-ROC: 0.90936\n",
      "Fold 1, AUC-ROC: 0.93576\n",
      "Fold 2, AUC-ROC: 0.93436\n",
      "Fold 3, AUC-ROC: 0.91333\n",
      "CV AUC-ROC: 0.92320\n"
     ]
    },
    {
     "name": "stderr",
     "output_type": "stream",
     "text": [
      "100%|██████████| 4/4 [03:32<00:00, 53.19s/it]\n",
      "[I 2025-03-13 18:57:16,532] Trial 321 finished with value: 0.9220514422490502 and parameters: {'learning_rate': 0.037189130272154404, 'feature_fraction': 0.4177984763740568, 'n_estimators': 2170, 'max_depth': 11, 'lambda_l1': 4.480970647621517, 'lambda_l2': 3.624352864554537, 'num_boost_round': 36}. Best is trial 312 with value: 0.9244682009352734.\n"
     ]
    },
    {
     "name": "stdout",
     "output_type": "stream",
     "text": [
      "Fold 0, AUC-ROC: 0.90838\n",
      "Fold 1, AUC-ROC: 0.93510\n",
      "Fold 2, AUC-ROC: 0.93365\n",
      "Fold 3, AUC-ROC: 0.91108\n",
      "CV AUC-ROC: 0.92205\n"
     ]
    },
    {
     "name": "stderr",
     "output_type": "stream",
     "text": [
      "100%|██████████| 4/4 [03:25<00:00, 51.33s/it]\n",
      "[I 2025-03-13 19:00:42,912] Trial 322 finished with value: 0.9240365701185433 and parameters: {'learning_rate': 0.030466344658475093, 'feature_fraction': 0.4076694122520861, 'n_estimators': 1979, 'max_depth': 12, 'lambda_l1': 1.9066410125408197, 'lambda_l2': 0.005140056300572182, 'num_boost_round': 63}. Best is trial 312 with value: 0.9244682009352734.\n"
     ]
    },
    {
     "name": "stdout",
     "output_type": "stream",
     "text": [
      "Fold 0, AUC-ROC: 0.91081\n",
      "Fold 1, AUC-ROC: 0.93619\n",
      "Fold 2, AUC-ROC: 0.93434\n",
      "Fold 3, AUC-ROC: 0.91480\n",
      "CV AUC-ROC: 0.92404\n"
     ]
    },
    {
     "name": "stderr",
     "output_type": "stream",
     "text": [
      "100%|██████████| 4/4 [01:16<00:00, 19.01s/it]\n",
      "[I 2025-03-13 19:01:59,847] Trial 323 finished with value: 0.8968149839795508 and parameters: {'learning_rate': 0.02976202648660462, 'feature_fraction': 0.4070716471392172, 'n_estimators': 1971, 'max_depth': 11, 'lambda_l1': 83.1439016568077, 'lambda_l2': 1.4870902589900228, 'num_boost_round': 76}. Best is trial 312 with value: 0.9244682009352734.\n"
     ]
    },
    {
     "name": "stdout",
     "output_type": "stream",
     "text": [
      "Fold 0, AUC-ROC: 0.88130\n",
      "Fold 1, AUC-ROC: 0.90213\n",
      "Fold 2, AUC-ROC: 0.90846\n",
      "Fold 3, AUC-ROC: 0.89537\n",
      "CV AUC-ROC: 0.89681\n"
     ]
    },
    {
     "name": "stderr",
     "output_type": "stream",
     "text": [
      "100%|██████████| 4/4 [03:26<00:00, 51.54s/it]\n",
      "[I 2025-03-13 19:05:27,112] Trial 324 finished with value: 0.9205164178962412 and parameters: {'learning_rate': 0.028752124566333567, 'feature_fraction': 0.4070538301911377, 'n_estimators': 1896, 'max_depth': 7, 'lambda_l1': 7.860181198520069, 'lambda_l2': 4.2368971574551555, 'num_boost_round': 34}. Best is trial 312 with value: 0.9244682009352734.\n"
     ]
    },
    {
     "name": "stdout",
     "output_type": "stream",
     "text": [
      "Fold 0, AUC-ROC: 0.90687\n",
      "Fold 1, AUC-ROC: 0.93291\n",
      "Fold 2, AUC-ROC: 0.93125\n",
      "Fold 3, AUC-ROC: 0.91104\n",
      "CV AUC-ROC: 0.92052\n"
     ]
    },
    {
     "name": "stderr",
     "output_type": "stream",
     "text": [
      "100%|██████████| 4/4 [03:37<00:00, 54.42s/it]\n",
      "[I 2025-03-13 19:09:05,852] Trial 325 finished with value: 0.9237792787529429 and parameters: {'learning_rate': 0.02200554175211313, 'feature_fraction': 0.41296208104350224, 'n_estimators': 2032, 'max_depth': 12, 'lambda_l1': 1.7788259748479123, 'lambda_l2': 0.13684024758767738, 'num_boost_round': 42}. Best is trial 312 with value: 0.9244682009352734.\n"
     ]
    },
    {
     "name": "stdout",
     "output_type": "stream",
     "text": [
      "Fold 0, AUC-ROC: 0.91009\n",
      "Fold 1, AUC-ROC: 0.93335\n",
      "Fold 2, AUC-ROC: 0.93599\n",
      "Fold 3, AUC-ROC: 0.91569\n",
      "CV AUC-ROC: 0.92378\n"
     ]
    },
    {
     "name": "stderr",
     "output_type": "stream",
     "text": [
      "100%|██████████| 4/4 [03:37<00:00, 54.48s/it]\n",
      "[I 2025-03-13 19:12:44,822] Trial 326 finished with value: 0.9234997895959518 and parameters: {'learning_rate': 0.021498811431017208, 'feature_fraction': 0.4137401270377642, 'n_estimators': 1977, 'max_depth': 12, 'lambda_l1': 1.4497849204971605, 'lambda_l2': 0.0795142965829818, 'num_boost_round': 58}. Best is trial 312 with value: 0.9244682009352734.\n"
     ]
    },
    {
     "name": "stdout",
     "output_type": "stream",
     "text": [
      "Fold 0, AUC-ROC: 0.91014\n",
      "Fold 1, AUC-ROC: 0.93356\n",
      "Fold 2, AUC-ROC: 0.93472\n",
      "Fold 3, AUC-ROC: 0.91558\n",
      "CV AUC-ROC: 0.92350\n"
     ]
    },
    {
     "name": "stderr",
     "output_type": "stream",
     "text": [
      "100%|██████████| 4/4 [02:38<00:00, 39.57s/it]\n",
      "[I 2025-03-13 19:15:24,033] Trial 327 finished with value: 0.9040385758016871 and parameters: {'learning_rate': 0.019660827327940177, 'feature_fraction': 0.40513906659884086, 'n_estimators': 2034, 'max_depth': 4, 'lambda_l1': 0.043009624979612804, 'lambda_l2': 1.8857746504662862, 'num_boost_round': 45}. Best is trial 312 with value: 0.9244682009352734.\n"
     ]
    },
    {
     "name": "stdout",
     "output_type": "stream",
     "text": [
      "Fold 0, AUC-ROC: 0.89445\n",
      "Fold 1, AUC-ROC: 0.90935\n",
      "Fold 2, AUC-ROC: 0.91170\n",
      "Fold 3, AUC-ROC: 0.90065\n",
      "CV AUC-ROC: 0.90404\n"
     ]
    },
    {
     "name": "stderr",
     "output_type": "stream",
     "text": [
      "100%|██████████| 4/4 [03:21<00:00, 50.43s/it]\n",
      "[I 2025-03-13 19:18:46,684] Trial 328 finished with value: 0.9205482170686193 and parameters: {'learning_rate': 0.022214382257853195, 'feature_fraction': 0.41218026068196634, 'n_estimators': 1832, 'max_depth': 12, 'lambda_l1': 1.8656687748632936, 'lambda_l2': 5.46940306588733, 'num_boost_round': 61}. Best is trial 312 with value: 0.9244682009352734.\n"
     ]
    },
    {
     "name": "stdout",
     "output_type": "stream",
     "text": [
      "Fold 0, AUC-ROC: 0.90707\n",
      "Fold 1, AUC-ROC: 0.93141\n",
      "Fold 2, AUC-ROC: 0.93160\n",
      "Fold 3, AUC-ROC: 0.91212\n",
      "CV AUC-ROC: 0.92055\n"
     ]
    },
    {
     "name": "stderr",
     "output_type": "stream",
     "text": [
      "100%|██████████| 4/4 [03:31<00:00, 52.89s/it]\n",
      "[I 2025-03-13 19:22:19,254] Trial 329 finished with value: 0.9214032624232527 and parameters: {'learning_rate': 0.01671007692595368, 'feature_fraction': 0.40043704508461697, 'n_estimators': 1923, 'max_depth': 12, 'lambda_l1': 3.6006253836098474, 'lambda_l2': 0.051995049099036794, 'num_boost_round': 69}. Best is trial 312 with value: 0.9244682009352734.\n"
     ]
    },
    {
     "name": "stdout",
     "output_type": "stream",
     "text": [
      "Fold 0, AUC-ROC: 0.90772\n",
      "Fold 1, AUC-ROC: 0.93151\n",
      "Fold 2, AUC-ROC: 0.93270\n",
      "Fold 3, AUC-ROC: 0.91368\n",
      "CV AUC-ROC: 0.92140\n"
     ]
    },
    {
     "name": "stderr",
     "output_type": "stream",
     "text": [
      "100%|██████████| 4/4 [03:41<00:00, 55.27s/it]\n",
      "[I 2025-03-13 19:26:01,251] Trial 330 finished with value: 0.9221257385732985 and parameters: {'learning_rate': 0.023758717959322485, 'feature_fraction': 0.4002666721677691, 'n_estimators': 2026, 'max_depth': 12, 'lambda_l1': 1.7878650496177093, 'lambda_l2': 3.2767203958760605, 'num_boost_round': 31}. Best is trial 312 with value: 0.9244682009352734.\n"
     ]
    },
    {
     "name": "stdout",
     "output_type": "stream",
     "text": [
      "Fold 0, AUC-ROC: 0.90897\n",
      "Fold 1, AUC-ROC: 0.93251\n",
      "Fold 2, AUC-ROC: 0.93359\n",
      "Fold 3, AUC-ROC: 0.91344\n",
      "CV AUC-ROC: 0.92213\n"
     ]
    },
    {
     "name": "stderr",
     "output_type": "stream",
     "text": [
      "100%|██████████| 4/4 [03:41<00:00, 55.42s/it]\n",
      "[I 2025-03-13 19:29:43,872] Trial 331 finished with value: 0.9232983801420765 and parameters: {'learning_rate': 0.02701367643788221, 'feature_fraction': 0.41272992332581115, 'n_estimators': 2059, 'max_depth': 11, 'lambda_l1': 5.974658445542016, 'lambda_l2': 0.016346565861943718, 'num_boost_round': 42}. Best is trial 312 with value: 0.9244682009352734.\n"
     ]
    },
    {
     "name": "stdout",
     "output_type": "stream",
     "text": [
      "Fold 0, AUC-ROC: 0.90853\n",
      "Fold 1, AUC-ROC: 0.93421\n",
      "Fold 2, AUC-ROC: 0.93568\n",
      "Fold 3, AUC-ROC: 0.91477\n",
      "CV AUC-ROC: 0.92330\n"
     ]
    },
    {
     "name": "stderr",
     "output_type": "stream",
     "text": [
      "100%|██████████| 4/4 [03:20<00:00, 50.22s/it]\n",
      "[I 2025-03-13 19:33:05,791] Trial 332 finished with value: 0.921936838409042 and parameters: {'learning_rate': 0.02647818976757703, 'feature_fraction': 0.42019688596334026, 'n_estimators': 1958, 'max_depth': 11, 'lambda_l1': 0.11835547035485217, 'lambda_l2': 2.813032325982709, 'num_boost_round': 37}. Best is trial 312 with value: 0.9244682009352734.\n"
     ]
    },
    {
     "name": "stdout",
     "output_type": "stream",
     "text": [
      "Fold 0, AUC-ROC: 0.91009\n",
      "Fold 1, AUC-ROC: 0.93293\n",
      "Fold 2, AUC-ROC: 0.93296\n",
      "Fold 3, AUC-ROC: 0.91177\n",
      "CV AUC-ROC: 0.92194\n"
     ]
    },
    {
     "name": "stderr",
     "output_type": "stream",
     "text": [
      "100%|██████████| 4/4 [01:21<00:00, 20.29s/it]\n",
      "[I 2025-03-13 19:34:27,891] Trial 333 finished with value: 0.9059462715737533 and parameters: {'learning_rate': 0.043377214114253604, 'feature_fraction': 0.40768927893188917, 'n_estimators': 2097, 'max_depth': 12, 'lambda_l1': 47.19799354129277, 'lambda_l2': 6.34072828768135, 'num_boost_round': 38}. Best is trial 312 with value: 0.9244682009352734.\n"
     ]
    },
    {
     "name": "stdout",
     "output_type": "stream",
     "text": [
      "Fold 0, AUC-ROC: 0.89128\n",
      "Fold 1, AUC-ROC: 0.91378\n",
      "Fold 2, AUC-ROC: 0.91708\n",
      "Fold 3, AUC-ROC: 0.90165\n",
      "CV AUC-ROC: 0.90595\n"
     ]
    },
    {
     "name": "stderr",
     "output_type": "stream",
     "text": [
      "100%|██████████| 4/4 [03:35<00:00, 53.87s/it]\n",
      "[I 2025-03-13 19:38:04,391] Trial 334 finished with value: 0.9212191455082495 and parameters: {'learning_rate': 0.020846379769799403, 'feature_fraction': 0.4151472124572611, 'n_estimators': 1988, 'max_depth': 10, 'lambda_l1': 3.345145215712773, 'lambda_l2': 2.1471259790999246, 'num_boost_round': 43}. Best is trial 312 with value: 0.9244682009352734.\n"
     ]
    },
    {
     "name": "stdout",
     "output_type": "stream",
     "text": [
      "Fold 0, AUC-ROC: 0.90785\n",
      "Fold 1, AUC-ROC: 0.93232\n",
      "Fold 2, AUC-ROC: 0.93155\n",
      "Fold 3, AUC-ROC: 0.91316\n",
      "CV AUC-ROC: 0.92122\n"
     ]
    },
    {
     "name": "stderr",
     "output_type": "stream",
     "text": [
      "100%|██████████| 4/4 [03:34<00:00, 53.65s/it]\n",
      "[I 2025-03-13 19:41:40,016] Trial 335 finished with value: 0.9186405800821097 and parameters: {'learning_rate': 0.018281292891034775, 'feature_fraction': 0.4078934615677984, 'n_estimators': 1877, 'max_depth': 15, 'lambda_l1': 5.039465284145416, 'lambda_l2': 9.258290723482848, 'num_boost_round': 34}. Best is trial 312 with value: 0.9244682009352734.\n"
     ]
    },
    {
     "name": "stdout",
     "output_type": "stream",
     "text": [
      "Fold 0, AUC-ROC: 0.90547\n",
      "Fold 1, AUC-ROC: 0.92862\n",
      "Fold 2, AUC-ROC: 0.92995\n",
      "Fold 3, AUC-ROC: 0.91052\n",
      "CV AUC-ROC: 0.91864\n"
     ]
    },
    {
     "name": "stderr",
     "output_type": "stream",
     "text": [
      "100%|██████████| 4/4 [03:52<00:00, 58.24s/it]\n",
      "[I 2025-03-13 19:45:33,944] Trial 336 finished with value: 0.9224605218313183 and parameters: {'learning_rate': 0.023590976680416317, 'feature_fraction': 0.4219348213417062, 'n_estimators': 2137, 'max_depth': 13, 'lambda_l1': 7.131055723762351, 'lambda_l2': 0.01284088904514595, 'num_boost_round': 45}. Best is trial 312 with value: 0.9244682009352734.\n"
     ]
    },
    {
     "name": "stdout",
     "output_type": "stream",
     "text": [
      "Fold 0, AUC-ROC: 0.90800\n",
      "Fold 1, AUC-ROC: 0.93416\n",
      "Fold 2, AUC-ROC: 0.93466\n",
      "Fold 3, AUC-ROC: 0.91302\n",
      "CV AUC-ROC: 0.92246\n"
     ]
    },
    {
     "name": "stderr",
     "output_type": "stream",
     "text": [
      "100%|██████████| 4/4 [04:35<00:00, 68.94s/it]\n",
      "[I 2025-03-13 19:50:10,633] Trial 337 finished with value: 0.923379547412281 and parameters: {'learning_rate': 0.030624524665552686, 'feature_fraction': 0.412662489038632, 'n_estimators': 2715, 'max_depth': 12, 'lambda_l1': 3.304690190692287, 'lambda_l2': 4.385942022177916, 'num_boost_round': 38}. Best is trial 312 with value: 0.9244682009352734.\n"
     ]
    },
    {
     "name": "stdout",
     "output_type": "stream",
     "text": [
      "Fold 0, AUC-ROC: 0.90897\n",
      "Fold 1, AUC-ROC: 0.93535\n",
      "Fold 2, AUC-ROC: 0.93572\n",
      "Fold 3, AUC-ROC: 0.91348\n",
      "CV AUC-ROC: 0.92338\n"
     ]
    },
    {
     "name": "stderr",
     "output_type": "stream",
     "text": [
      "100%|██████████| 4/4 [02:41<00:00, 40.40s/it]\n",
      "[I 2025-03-13 19:52:53,137] Trial 338 finished with value: 0.9104474798391138 and parameters: {'learning_rate': 0.021624705549800453, 'feature_fraction': 0.40540499122633544, 'n_estimators': 1778, 'max_depth': 13, 'lambda_l1': 35.73874341093393, 'lambda_l2': 2.0489916800418926, 'num_boost_round': 42}. Best is trial 312 with value: 0.9244682009352734.\n"
     ]
    },
    {
     "name": "stdout",
     "output_type": "stream",
     "text": [
      "Fold 0, AUC-ROC: 0.89426\n",
      "Fold 1, AUC-ROC: 0.92038\n",
      "Fold 2, AUC-ROC: 0.92243\n",
      "Fold 3, AUC-ROC: 0.90472\n",
      "CV AUC-ROC: 0.91045\n"
     ]
    },
    {
     "name": "stderr",
     "output_type": "stream",
     "text": [
      "100%|██████████| 4/4 [03:44<00:00, 56.14s/it]\n",
      "[I 2025-03-13 19:56:38,705] Trial 339 finished with value: 0.9224687626432868 and parameters: {'learning_rate': 0.027166185220076123, 'feature_fraction': 0.41983090552066565, 'n_estimators': 2060, 'max_depth': 11, 'lambda_l1': 1.7799526821953777, 'lambda_l2': 3.299056812665711, 'num_boost_round': 36}. Best is trial 312 with value: 0.9244682009352734.\n"
     ]
    },
    {
     "name": "stdout",
     "output_type": "stream",
     "text": [
      "Fold 0, AUC-ROC: 0.90991\n",
      "Fold 1, AUC-ROC: 0.93517\n",
      "Fold 2, AUC-ROC: 0.93276\n",
      "Fold 3, AUC-ROC: 0.91204\n",
      "CV AUC-ROC: 0.92247\n"
     ]
    },
    {
     "name": "stderr",
     "output_type": "stream",
     "text": [
      "100%|██████████| 4/4 [02:31<00:00, 37.94s/it]\n",
      "[I 2025-03-13 19:59:11,522] Trial 340 finished with value: 0.9208819252641591 and parameters: {'learning_rate': 0.024079093670305807, 'feature_fraction': 0.9811857851703558, 'n_estimators': 1955, 'max_depth': 15, 'lambda_l1': 4.846523317806, 'lambda_l2': 1.828409754057748, 'num_boost_round': 39}. Best is trial 312 with value: 0.9244682009352734.\n"
     ]
    },
    {
     "name": "stdout",
     "output_type": "stream",
     "text": [
      "Fold 0, AUC-ROC: 0.90589\n",
      "Fold 1, AUC-ROC: 0.93362\n",
      "Fold 2, AUC-ROC: 0.93296\n",
      "Fold 3, AUC-ROC: 0.91105\n",
      "CV AUC-ROC: 0.92088\n"
     ]
    },
    {
     "name": "stderr",
     "output_type": "stream",
     "text": [
      "100%|██████████| 4/4 [03:45<00:00, 56.42s/it]\n",
      "[I 2025-03-13 20:02:58,091] Trial 341 finished with value: 0.9193197510649161 and parameters: {'learning_rate': 0.03875119265397429, 'feature_fraction': 0.436000421132854, 'n_estimators': 2025, 'max_depth': 14, 'lambda_l1': 9.121483811784016, 'lambda_l2': 32.61143162319393, 'num_boost_round': 32}. Best is trial 312 with value: 0.9244682009352734.\n"
     ]
    },
    {
     "name": "stdout",
     "output_type": "stream",
     "text": [
      "Fold 0, AUC-ROC: 0.90392\n",
      "Fold 1, AUC-ROC: 0.93315\n",
      "Fold 2, AUC-ROC: 0.93141\n",
      "Fold 3, AUC-ROC: 0.90880\n",
      "CV AUC-ROC: 0.91932\n"
     ]
    },
    {
     "name": "stderr",
     "output_type": "stream",
     "text": [
      "100%|██████████| 4/4 [03:43<00:00, 55.76s/it]\n",
      "[I 2025-03-13 20:06:42,159] Trial 342 finished with value: 0.9229113401542245 and parameters: {'learning_rate': 0.03166770761470956, 'feature_fraction': 0.4068159619698911, 'n_estimators': 2109, 'max_depth': 14, 'lambda_l1': 3.6252211711986155, 'lambda_l2': 4.802668771241755, 'num_boost_round': 41}. Best is trial 312 with value: 0.9244682009352734.\n"
     ]
    },
    {
     "name": "stdout",
     "output_type": "stream",
     "text": [
      "Fold 0, AUC-ROC: 0.90938\n",
      "Fold 1, AUC-ROC: 0.93560\n",
      "Fold 2, AUC-ROC: 0.93414\n",
      "Fold 3, AUC-ROC: 0.91253\n",
      "CV AUC-ROC: 0.92291\n"
     ]
    },
    {
     "name": "stderr",
     "output_type": "stream",
     "text": [
      "100%|██████████| 4/4 [04:05<00:00, 61.42s/it]\n",
      "[I 2025-03-13 20:10:48,847] Trial 343 finished with value: 0.9237349092076741 and parameters: {'learning_rate': 0.018775076457399384, 'feature_fraction': 0.4158958841003141, 'n_estimators': 2326, 'max_depth': 13, 'lambda_l1': 0.12864424676354047, 'lambda_l2': 0.10730776536202548, 'num_boost_round': 44}. Best is trial 312 with value: 0.9244682009352734.\n"
     ]
    },
    {
     "name": "stdout",
     "output_type": "stream",
     "text": [
      "Fold 0, AUC-ROC: 0.91144\n",
      "Fold 1, AUC-ROC: 0.93392\n",
      "Fold 2, AUC-ROC: 0.93333\n",
      "Fold 3, AUC-ROC: 0.91625\n",
      "CV AUC-ROC: 0.92373\n"
     ]
    },
    {
     "name": "stderr",
     "output_type": "stream",
     "text": [
      "100%|██████████| 4/4 [04:14<00:00, 63.60s/it]\n",
      "[I 2025-03-13 20:15:04,241] Trial 344 finished with value: 0.9212284674380888 and parameters: {'learning_rate': 0.016268978109330045, 'feature_fraction': 0.423585084420223, 'n_estimators': 2334, 'max_depth': 13, 'lambda_l1': 0.13501318312300747, 'lambda_l2': 1.8208258057007833, 'num_boost_round': 36}. Best is trial 312 with value: 0.9244682009352734.\n"
     ]
    },
    {
     "name": "stdout",
     "output_type": "stream",
     "text": [
      "Fold 0, AUC-ROC: 0.90996\n",
      "Fold 1, AUC-ROC: 0.93076\n",
      "Fold 2, AUC-ROC: 0.93165\n",
      "Fold 3, AUC-ROC: 0.91253\n",
      "CV AUC-ROC: 0.92123\n"
     ]
    },
    {
     "name": "stderr",
     "output_type": "stream",
     "text": [
      "100%|██████████| 4/4 [04:00<00:00, 60.13s/it]\n",
      "[I 2025-03-13 20:19:05,806] Trial 345 finished with value: 0.9213301209765279 and parameters: {'learning_rate': 0.02028710333812321, 'feature_fraction': 0.4170337692844327, 'n_estimators': 2222, 'max_depth': 13, 'lambda_l1': 1.7707540825888517, 'lambda_l2': 3.537977432412564, 'num_boost_round': 45}. Best is trial 312 with value: 0.9244682009352734.\n"
     ]
    },
    {
     "name": "stdout",
     "output_type": "stream",
     "text": [
      "Fold 0, AUC-ROC: 0.90902\n",
      "Fold 1, AUC-ROC: 0.93176\n",
      "Fold 2, AUC-ROC: 0.93196\n",
      "Fold 3, AUC-ROC: 0.91258\n",
      "CV AUC-ROC: 0.92133\n"
     ]
    },
    {
     "name": "stderr",
     "output_type": "stream",
     "text": [
      "100%|██████████| 4/4 [01:45<00:00, 26.48s/it]\n",
      "[I 2025-03-13 20:20:52,645] Trial 346 finished with value: 0.9162630104909307 and parameters: {'learning_rate': 0.018219945011162163, 'feature_fraction': 0.4002565328429483, 'n_estimators': 908, 'max_depth': 12, 'lambda_l1': 0.02264984188925223, 'lambda_l2': 0.032707036547542645, 'num_boost_round': 27}. Best is trial 312 with value: 0.9244682009352734.\n"
     ]
    },
    {
     "name": "stdout",
     "output_type": "stream",
     "text": [
      "Fold 0, AUC-ROC: 0.90331\n",
      "Fold 1, AUC-ROC: 0.92271\n",
      "Fold 2, AUC-ROC: 0.92773\n",
      "Fold 3, AUC-ROC: 0.91130\n",
      "CV AUC-ROC: 0.91626\n"
     ]
    },
    {
     "name": "stderr",
     "output_type": "stream",
     "text": [
      "100%|██████████| 4/4 [01:11<00:00, 17.91s/it]\n",
      "[I 2025-03-13 20:22:05,292] Trial 347 finished with value: 0.9165811785791246 and parameters: {'learning_rate': 0.2266824872562461, 'feature_fraction': 0.41262412401388654, 'n_estimators': 2335, 'max_depth': 13, 'lambda_l1': 6.27712670648281, 'lambda_l2': 7.124832458121129, 'num_boost_round': 40}. Best is trial 312 with value: 0.9244682009352734.\n"
     ]
    },
    {
     "name": "stdout",
     "output_type": "stream",
     "text": [
      "Fold 0, AUC-ROC: 0.90171\n",
      "Fold 1, AUC-ROC: 0.92831\n",
      "Fold 2, AUC-ROC: 0.93064\n",
      "Fold 3, AUC-ROC: 0.90566\n",
      "CV AUC-ROC: 0.91658\n"
     ]
    },
    {
     "name": "stderr",
     "output_type": "stream",
     "text": [
      "100%|██████████| 4/4 [01:03<00:00, 15.93s/it]\n",
      "[I 2025-03-13 20:23:10,064] Trial 348 finished with value: 0.8990636587020486 and parameters: {'learning_rate': 0.04287307003139932, 'feature_fraction': 0.42914939742240865, 'n_estimators': 2356, 'max_depth': 13, 'lambda_l1': 72.07865074066422, 'lambda_l2': 2.209979560945654, 'num_boost_round': 74}. Best is trial 312 with value: 0.9244682009352734.\n"
     ]
    },
    {
     "name": "stdout",
     "output_type": "stream",
     "text": [
      "Fold 0, AUC-ROC: 0.88326\n",
      "Fold 1, AUC-ROC: 0.90526\n",
      "Fold 2, AUC-ROC: 0.91100\n",
      "Fold 3, AUC-ROC: 0.89674\n",
      "CV AUC-ROC: 0.89906\n"
     ]
    },
    {
     "name": "stderr",
     "output_type": "stream",
     "text": [
      "100%|██████████| 4/4 [04:26<00:00, 66.72s/it]\n",
      "[I 2025-03-13 20:27:37,867] Trial 349 finished with value: 0.9232952166920088 and parameters: {'learning_rate': 0.02902524342211932, 'feature_fraction': 0.42254744742877093, 'n_estimators': 2863, 'max_depth': 12, 'lambda_l1': 3.6658041407303172, 'lambda_l2': 5.417481483516412, 'num_boost_round': 34}. Best is trial 312 with value: 0.9244682009352734.\n"
     ]
    },
    {
     "name": "stdout",
     "output_type": "stream",
     "text": [
      "Fold 0, AUC-ROC: 0.90842\n",
      "Fold 1, AUC-ROC: 0.93671\n",
      "Fold 2, AUC-ROC: 0.93497\n",
      "Fold 3, AUC-ROC: 0.91308\n",
      "CV AUC-ROC: 0.92330\n"
     ]
    },
    {
     "name": "stderr",
     "output_type": "stream",
     "text": [
      "100%|██████████| 4/4 [01:37<00:00, 24.50s/it]\n",
      "[I 2025-03-13 20:29:16,802] Trial 350 finished with value: 0.9015451237098582 and parameters: {'learning_rate': 0.026157500301011917, 'feature_fraction': 0.43493262446929387, 'n_estimators': 2307, 'max_depth': 13, 'lambda_l1': 61.27483092126225, 'lambda_l2': 1.7587541723507452, 'num_boost_round': 39}. Best is trial 312 with value: 0.9244682009352734.\n"
     ]
    },
    {
     "name": "stdout",
     "output_type": "stream",
     "text": [
      "Fold 0, AUC-ROC: 0.88486\n",
      "Fold 1, AUC-ROC: 0.90807\n",
      "Fold 2, AUC-ROC: 0.91356\n",
      "Fold 3, AUC-ROC: 0.89968\n",
      "CV AUC-ROC: 0.90155\n"
     ]
    },
    {
     "name": "stderr",
     "output_type": "stream",
     "text": [
      "100%|██████████| 4/4 [04:10<00:00, 62.69s/it]\n",
      "[I 2025-03-13 20:33:28,654] Trial 351 finished with value: 0.9210864701878163 and parameters: {'learning_rate': 0.01988144667339939, 'feature_fraction': 0.4128844638026429, 'n_estimators': 2262, 'max_depth': 12, 'lambda_l1': 6.965918441823545, 'lambda_l2': 3.623916662921397, 'num_boost_round': 44}. Best is trial 312 with value: 0.9244682009352734.\n"
     ]
    },
    {
     "name": "stdout",
     "output_type": "stream",
     "text": [
      "Fold 0, AUC-ROC: 0.90703\n",
      "Fold 1, AUC-ROC: 0.93256\n",
      "Fold 2, AUC-ROC: 0.93236\n",
      "Fold 3, AUC-ROC: 0.91239\n",
      "CV AUC-ROC: 0.92109\n"
     ]
    },
    {
     "name": "stderr",
     "output_type": "stream",
     "text": [
      "100%|██████████| 4/4 [03:36<00:00, 54.14s/it]\n",
      "[I 2025-03-13 20:37:06,274] Trial 352 finished with value: 0.9198858870555092 and parameters: {'learning_rate': 0.015153325001117553, 'feature_fraction': 0.4004952486348742, 'n_estimators': 1936, 'max_depth': 14, 'lambda_l1': 2.0202212359189557, 'lambda_l2': 1.287993851403018, 'num_boost_round': 37}. Best is trial 312 with value: 0.9244682009352734.\n"
     ]
    },
    {
     "name": "stdout",
     "output_type": "stream",
     "text": [
      "Fold 0, AUC-ROC: 0.90650\n",
      "Fold 1, AUC-ROC: 0.92997\n",
      "Fold 2, AUC-ROC: 0.93054\n",
      "Fold 3, AUC-ROC: 0.91254\n",
      "CV AUC-ROC: 0.91989\n"
     ]
    },
    {
     "name": "stderr",
     "output_type": "stream",
     "text": [
      "100%|██████████| 4/4 [03:13<00:00, 48.41s/it]\n",
      "[I 2025-03-13 20:40:20,823] Trial 353 finished with value: 0.9228742840862028 and parameters: {'learning_rate': 0.03710503092221757, 'feature_fraction': 0.4201597002460867, 'n_estimators': 1855, 'max_depth': 15, 'lambda_l1': 5.209300999438775, 'lambda_l2': 3.4878180141287363, 'num_boost_round': 30}. Best is trial 312 with value: 0.9244682009352734.\n"
     ]
    },
    {
     "name": "stdout",
     "output_type": "stream",
     "text": [
      "Fold 0, AUC-ROC: 0.90796\n",
      "Fold 1, AUC-ROC: 0.93530\n",
      "Fold 2, AUC-ROC: 0.93436\n",
      "Fold 3, AUC-ROC: 0.91387\n",
      "CV AUC-ROC: 0.92287\n"
     ]
    },
    {
     "name": "stderr",
     "output_type": "stream",
     "text": [
      "100%|██████████| 4/4 [03:24<00:00, 51.22s/it]\n",
      "[I 2025-03-13 20:43:46,588] Trial 354 finished with value: 0.9235293114154153 and parameters: {'learning_rate': 0.03249469176471754, 'feature_fraction': 0.41205707925179264, 'n_estimators': 2022, 'max_depth': 13, 'lambda_l1': 3.4102201891829136, 'lambda_l2': 0.0567632321457593, 'num_boost_round': 42}. Best is trial 312 with value: 0.9244682009352734.\n"
     ]
    },
    {
     "name": "stdout",
     "output_type": "stream",
     "text": [
      "Fold 0, AUC-ROC: 0.90848\n",
      "Fold 1, AUC-ROC: 0.93524\n",
      "Fold 2, AUC-ROC: 0.93588\n",
      "Fold 3, AUC-ROC: 0.91451\n",
      "CV AUC-ROC: 0.92353\n"
     ]
    },
    {
     "name": "stderr",
     "output_type": "stream",
     "text": [
      "100%|██████████| 4/4 [03:53<00:00, 58.36s/it]\n",
      "[I 2025-03-13 20:47:41,083] Trial 355 finished with value: 0.9203437280619634 and parameters: {'learning_rate': 0.022890970102802576, 'feature_fraction': 0.4076828953769664, 'n_estimators': 2162, 'max_depth': 14, 'lambda_l1': 12.886332296113576, 'lambda_l2': 0.10193559529421206, 'num_boost_round': 35}. Best is trial 312 with value: 0.9244682009352734.\n"
     ]
    },
    {
     "name": "stdout",
     "output_type": "stream",
     "text": [
      "Fold 0, AUC-ROC: 0.90507\n",
      "Fold 1, AUC-ROC: 0.93244\n",
      "Fold 2, AUC-ROC: 0.93294\n",
      "Fold 3, AUC-ROC: 0.91093\n",
      "CV AUC-ROC: 0.92034\n"
     ]
    },
    {
     "name": "stderr",
     "output_type": "stream",
     "text": [
      "100%|██████████| 4/4 [01:58<00:00, 29.52s/it]\n",
      "[I 2025-03-13 20:49:40,240] Trial 356 finished with value: 0.9080989742042412 and parameters: {'learning_rate': 0.027563855859908344, 'feature_fraction': 0.40017870425190105, 'n_estimators': 2269, 'max_depth': 15, 'lambda_l1': 42.18466109639697, 'lambda_l2': 1.9356171409357668, 'num_boost_round': 40}. Best is trial 312 with value: 0.9244682009352734.\n"
     ]
    },
    {
     "name": "stdout",
     "output_type": "stream",
     "text": [
      "Fold 0, AUC-ROC: 0.89271\n",
      "Fold 1, AUC-ROC: 0.91605\n",
      "Fold 2, AUC-ROC: 0.92035\n",
      "Fold 3, AUC-ROC: 0.90328\n",
      "CV AUC-ROC: 0.90810\n"
     ]
    },
    {
     "name": "stderr",
     "output_type": "stream",
     "text": [
      "100%|██████████| 4/4 [02:52<00:00, 43.14s/it]\n",
      "[I 2025-03-13 20:52:33,718] Trial 357 finished with value: 0.9230308728207568 and parameters: {'learning_rate': 0.051751398831563766, 'feature_fraction': 0.42709957937504583, 'n_estimators': 2076, 'max_depth': 14, 'lambda_l1': 1.748237040826278, 'lambda_l2': 4.752694418836235, 'num_boost_round': 38}. Best is trial 312 with value: 0.9244682009352734.\n"
     ]
    },
    {
     "name": "stdout",
     "output_type": "stream",
     "text": [
      "Fold 0, AUC-ROC: 0.90980\n",
      "Fold 1, AUC-ROC: 0.93584\n",
      "Fold 2, AUC-ROC: 0.93390\n",
      "Fold 3, AUC-ROC: 0.91259\n",
      "CV AUC-ROC: 0.92303\n"
     ]
    },
    {
     "name": "stderr",
     "output_type": "stream",
     "text": [
      "100%|██████████| 4/4 [03:08<00:00, 47.09s/it]\n",
      "[I 2025-03-13 20:55:43,026] Trial 358 finished with value: 0.9217004462983589 and parameters: {'learning_rate': 0.040087844443790197, 'feature_fraction': 0.4162099091525858, 'n_estimators': 1991, 'max_depth': 14, 'lambda_l1': 0.013603161760260774, 'lambda_l2': 1.8283582398762528, 'num_boost_round': 46}. Best is trial 312 with value: 0.9244682009352734.\n"
     ]
    },
    {
     "name": "stdout",
     "output_type": "stream",
     "text": [
      "Fold 0, AUC-ROC: 0.90970\n",
      "Fold 1, AUC-ROC: 0.93206\n",
      "Fold 2, AUC-ROC: 0.93267\n",
      "Fold 3, AUC-ROC: 0.91237\n",
      "CV AUC-ROC: 0.92170\n"
     ]
    },
    {
     "name": "stderr",
     "output_type": "stream",
     "text": [
      "100%|██████████| 4/4 [03:42<00:00, 55.72s/it]\n",
      "[I 2025-03-13 20:59:26,888] Trial 359 finished with value: 0.9146460465182864 and parameters: {'learning_rate': 0.01806669620063229, 'feature_fraction': 0.44216079487980087, 'n_estimators': 1915, 'max_depth': 12, 'lambda_l1': 22.321809108935497, 'lambda_l2': 6.158983824541842, 'num_boost_round': 33}. Best is trial 312 with value: 0.9244682009352734.\n"
     ]
    },
    {
     "name": "stdout",
     "output_type": "stream",
     "text": [
      "Fold 0, AUC-ROC: 0.89954\n",
      "Fold 1, AUC-ROC: 0.92549\n",
      "Fold 2, AUC-ROC: 0.92630\n",
      "Fold 3, AUC-ROC: 0.90726\n",
      "CV AUC-ROC: 0.91465\n"
     ]
    },
    {
     "name": "stderr",
     "output_type": "stream",
     "text": [
      "100%|██████████| 4/4 [03:24<00:00, 51.08s/it]\n",
      "[I 2025-03-13 21:02:52,143] Trial 360 finished with value: 0.922389946033416 and parameters: {'learning_rate': 0.046419035800358596, 'feature_fraction': 0.4066835360977228, 'n_estimators': 2502, 'max_depth': 13, 'lambda_l1': 10.343329906784653, 'lambda_l2': 0.15356777641602407, 'num_boost_round': 67}. Best is trial 312 with value: 0.9244682009352734.\n"
     ]
    },
    {
     "name": "stdout",
     "output_type": "stream",
     "text": [
      "Fold 0, AUC-ROC: 0.90784\n",
      "Fold 1, AUC-ROC: 0.93335\n",
      "Fold 2, AUC-ROC: 0.93491\n",
      "Fold 3, AUC-ROC: 0.91346\n",
      "CV AUC-ROC: 0.92239\n"
     ]
    },
    {
     "name": "stderr",
     "output_type": "stream",
     "text": [
      "100%|██████████| 4/4 [03:40<00:00, 55.21s/it]\n",
      "[I 2025-03-13 21:06:33,915] Trial 361 finished with value: 0.9223953696994078 and parameters: {'learning_rate': 0.03499329327862607, 'feature_fraction': 0.4333262580456927, 'n_estimators': 2169, 'max_depth': 14, 'lambda_l1': 5.172471200499068, 'lambda_l2': 3.4505917385967257, 'num_boost_round': 42}. Best is trial 312 with value: 0.9244682009352734.\n"
     ]
    },
    {
     "name": "stdout",
     "output_type": "stream",
     "text": [
      "Fold 0, AUC-ROC: 0.90779\n",
      "Fold 1, AUC-ROC: 0.93510\n",
      "Fold 2, AUC-ROC: 0.93496\n",
      "Fold 3, AUC-ROC: 0.91173\n",
      "CV AUC-ROC: 0.92240\n"
     ]
    },
    {
     "name": "stderr",
     "output_type": "stream",
     "text": [
      "100%|██████████| 4/4 [03:43<00:00, 55.79s/it]\n",
      "[I 2025-03-13 21:10:18,130] Trial 362 finished with value: 0.9218669102735675 and parameters: {'learning_rate': 0.02491513127501711, 'feature_fraction': 0.4215842239088132, 'n_estimators': 2038, 'max_depth': 11, 'lambda_l1': 7.5897857695165865, 'lambda_l2': 1.9703791803847959, 'num_boost_round': 44}. Best is trial 312 with value: 0.9244682009352734.\n"
     ]
    },
    {
     "name": "stdout",
     "output_type": "stream",
     "text": [
      "Fold 0, AUC-ROC: 0.90769\n",
      "Fold 1, AUC-ROC: 0.93401\n",
      "Fold 2, AUC-ROC: 0.93304\n",
      "Fold 3, AUC-ROC: 0.91273\n",
      "CV AUC-ROC: 0.92187\n"
     ]
    },
    {
     "name": "stderr",
     "output_type": "stream",
     "text": [
      "100%|██████████| 4/4 [03:57<00:00, 59.49s/it]\n",
      "[I 2025-03-13 21:14:17,049] Trial 363 finished with value: 0.9228005232189438 and parameters: {'learning_rate': 0.030521443267175128, 'feature_fraction': 0.41359974629664853, 'n_estimators': 2410, 'max_depth': 15, 'lambda_l1': 3.521794827274889, 'lambda_l2': 3.5034428873417944, 'num_boost_round': 36}. Best is trial 312 with value: 0.9244682009352734.\n"
     ]
    },
    {
     "name": "stdout",
     "output_type": "stream",
     "text": [
      "Fold 0, AUC-ROC: 0.90830\n",
      "Fold 1, AUC-ROC: 0.93587\n",
      "Fold 2, AUC-ROC: 0.93451\n",
      "Fold 3, AUC-ROC: 0.91252\n",
      "CV AUC-ROC: 0.92280\n"
     ]
    },
    {
     "name": "stderr",
     "output_type": "stream",
     "text": [
      "100%|██████████| 4/4 [03:51<00:00, 57.84s/it]\n",
      "[I 2025-03-13 21:18:09,470] Trial 364 finished with value: 0.9223945384466061 and parameters: {'learning_rate': 0.0204923886813852, 'feature_fraction': 0.40759138130934297, 'n_estimators': 2106, 'max_depth': 14, 'lambda_l1': 5.6087410709872705, 'lambda_l2': 0.09131288586688113, 'num_boost_round': 39}. Best is trial 312 with value: 0.9244682009352734.\n"
     ]
    },
    {
     "name": "stdout",
     "output_type": "stream",
     "text": [
      "Fold 0, AUC-ROC: 0.90839\n",
      "Fold 1, AUC-ROC: 0.93316\n",
      "Fold 2, AUC-ROC: 0.93384\n",
      "Fold 3, AUC-ROC: 0.91419\n",
      "CV AUC-ROC: 0.92239\n"
     ]
    },
    {
     "name": "stderr",
     "output_type": "stream",
     "text": [
      "100%|██████████| 4/4 [03:27<00:00, 51.90s/it]\n",
      "[I 2025-03-13 21:21:38,050] Trial 365 finished with value: 0.9236202783886216 and parameters: {'learning_rate': 0.022661257190881568, 'feature_fraction': 0.42400274282201766, 'n_estimators': 1955, 'max_depth': 13, 'lambda_l1': 2.0361020120193736, 'lambda_l2': 0.06685008261859321, 'num_boost_round': 41}. Best is trial 312 with value: 0.9244682009352734.\n"
     ]
    },
    {
     "name": "stdout",
     "output_type": "stream",
     "text": [
      "Fold 0, AUC-ROC: 0.91002\n",
      "Fold 1, AUC-ROC: 0.93397\n",
      "Fold 2, AUC-ROC: 0.93622\n",
      "Fold 3, AUC-ROC: 0.91426\n",
      "CV AUC-ROC: 0.92362\n"
     ]
    },
    {
     "name": "stderr",
     "output_type": "stream",
     "text": [
      "100%|██████████| 4/4 [04:20<00:00, 65.13s/it]\n",
      "[I 2025-03-13 21:25:59,516] Trial 366 finished with value: 0.9168658799340252 and parameters: {'learning_rate': 0.027899345047979876, 'feature_fraction': 0.4142178074460666, 'n_estimators': 2257, 'max_depth': 10, 'lambda_l1': 4.175581765323862, 'lambda_l2': 83.69890131053955, 'num_boost_round': 37}. Best is trial 312 with value: 0.9244682009352734.\n"
     ]
    },
    {
     "name": "stdout",
     "output_type": "stream",
     "text": [
      "Fold 0, AUC-ROC: 0.90285\n",
      "Fold 1, AUC-ROC: 0.92883\n",
      "Fold 2, AUC-ROC: 0.92827\n",
      "Fold 3, AUC-ROC: 0.90751\n",
      "CV AUC-ROC: 0.91687\n"
     ]
    },
    {
     "name": "stderr",
     "output_type": "stream",
     "text": [
      "100%|██████████| 4/4 [03:47<00:00, 56.76s/it]\n",
      "[I 2025-03-13 21:29:47,649] Trial 367 finished with value: 0.921801623177605 and parameters: {'learning_rate': 0.032984946819198675, 'feature_fraction': 0.4001709899310627, 'n_estimators': 2190, 'max_depth': 14, 'lambda_l1': 8.09293925274103, 'lambda_l2': 5.141372614817756, 'num_boost_round': 32}. Best is trial 312 with value: 0.9244682009352734.\n"
     ]
    },
    {
     "name": "stdout",
     "output_type": "stream",
     "text": [
      "Fold 0, AUC-ROC: 0.90713\n",
      "Fold 1, AUC-ROC: 0.93436\n",
      "Fold 2, AUC-ROC: 0.93366\n",
      "Fold 3, AUC-ROC: 0.91206\n",
      "CV AUC-ROC: 0.92180\n"
     ]
    },
    {
     "name": "stderr",
     "output_type": "stream",
     "text": [
      "100%|██████████| 4/4 [03:35<00:00, 53.80s/it]\n",
      "[I 2025-03-13 21:33:23,884] Trial 368 finished with value: 0.9221323918467705 and parameters: {'learning_rate': 0.025753624670383925, 'feature_fraction': 0.4188976514957199, 'n_estimators': 2013, 'max_depth': 12, 'lambda_l1': 0.02577397462518327, 'lambda_l2': 2.0269922179736604, 'num_boost_round': 47}. Best is trial 312 with value: 0.9244682009352734.\n"
     ]
    },
    {
     "name": "stdout",
     "output_type": "stream",
     "text": [
      "Fold 0, AUC-ROC: 0.91064\n",
      "Fold 1, AUC-ROC: 0.93277\n",
      "Fold 2, AUC-ROC: 0.93206\n",
      "Fold 3, AUC-ROC: 0.91306\n",
      "CV AUC-ROC: 0.92213\n"
     ]
    },
    {
     "name": "stderr",
     "output_type": "stream",
     "text": [
      "100%|██████████| 4/4 [03:11<00:00, 47.86s/it]\n",
      "[I 2025-03-13 21:36:36,309] Trial 369 finished with value: 0.921584703064791 and parameters: {'learning_rate': 0.04095443453931583, 'feature_fraction': 0.4285497089056486, 'n_estimators': 1851, 'max_depth': 14, 'lambda_l1': 2.0942396775671055, 'lambda_l2': 7.609703483721421, 'num_boost_round': 50}. Best is trial 312 with value: 0.9244682009352734.\n"
     ]
    },
    {
     "name": "stdout",
     "output_type": "stream",
     "text": [
      "Fold 0, AUC-ROC: 0.90817\n",
      "Fold 1, AUC-ROC: 0.93358\n",
      "Fold 2, AUC-ROC: 0.93317\n",
      "Fold 3, AUC-ROC: 0.91141\n",
      "CV AUC-ROC: 0.92158\n"
     ]
    },
    {
     "name": "stderr",
     "output_type": "stream",
     "text": [
      "100%|██████████| 4/4 [03:57<00:00, 59.32s/it]\n",
      "[I 2025-03-13 21:40:34,620] Trial 370 finished with value: 0.9185253035033998 and parameters: {'learning_rate': 0.014067771610451103, 'feature_fraction': 0.4068989398880034, 'n_estimators': 2084, 'max_depth': 13, 'lambda_l1': 6.4648540053993395, 'lambda_l2': 3.472752520079684, 'num_boost_round': 43}. Best is trial 312 with value: 0.9244682009352734.\n"
     ]
    },
    {
     "name": "stdout",
     "output_type": "stream",
     "text": [
      "Fold 0, AUC-ROC: 0.90511\n",
      "Fold 1, AUC-ROC: 0.92873\n",
      "Fold 2, AUC-ROC: 0.92951\n",
      "Fold 3, AUC-ROC: 0.91075\n",
      "CV AUC-ROC: 0.91853\n"
     ]
    },
    {
     "name": "stderr",
     "output_type": "stream",
     "text": [
      "100%|██████████| 4/4 [03:59<00:00, 59.79s/it]\n",
      "[I 2025-03-13 21:44:34,715] Trial 371 finished with value: 0.921161283877808 and parameters: {'learning_rate': 0.016936882371820807, 'feature_fraction': 0.41249725008794935, 'n_estimators': 2146, 'max_depth': 15, 'lambda_l1': 3.3655423858334554, 'lambda_l2': 1.7276187385990254, 'num_boost_round': 40}. Best is trial 312 with value: 0.9244682009352734.\n"
     ]
    },
    {
     "name": "stdout",
     "output_type": "stream",
     "text": [
      "Fold 0, AUC-ROC: 0.90799\n",
      "Fold 1, AUC-ROC: 0.93144\n",
      "Fold 2, AUC-ROC: 0.93210\n",
      "Fold 3, AUC-ROC: 0.91311\n",
      "CV AUC-ROC: 0.92116\n"
     ]
    },
    {
     "name": "stderr",
     "output_type": "stream",
     "text": [
      "100%|██████████| 4/4 [03:27<00:00, 51.80s/it]\n",
      "[I 2025-03-13 21:48:02,977] Trial 372 finished with value: 0.9240595465662031 and parameters: {'learning_rate': 0.02960744736239274, 'feature_fraction': 0.4189660534743014, 'n_estimators': 1906, 'max_depth': 11, 'lambda_l1': 5.030487669639201, 'lambda_l2': 0.022764746931012974, 'num_boost_round': 59}. Best is trial 312 with value: 0.9244682009352734.\n"
     ]
    },
    {
     "name": "stdout",
     "output_type": "stream",
     "text": [
      "Fold 0, AUC-ROC: 0.90967\n",
      "Fold 1, AUC-ROC: 0.93538\n",
      "Fold 2, AUC-ROC: 0.93612\n",
      "Fold 3, AUC-ROC: 0.91508\n",
      "CV AUC-ROC: 0.92406\n"
     ]
    },
    {
     "name": "stderr",
     "output_type": "stream",
     "text": [
      "100%|██████████| 4/4 [03:18<00:00, 49.53s/it]\n",
      "[I 2025-03-13 21:51:22,059] Trial 373 finished with value: 0.9214003608233642 and parameters: {'learning_rate': 0.027869868552277778, 'feature_fraction': 0.4355795291476273, 'n_estimators': 1761, 'max_depth': 10, 'lambda_l1': 4.733557342352632, 'lambda_l2': 4.955202220837023, 'num_boost_round': 58}. Best is trial 312 with value: 0.9244682009352734.\n"
     ]
    },
    {
     "name": "stdout",
     "output_type": "stream",
     "text": [
      "Fold 0, AUC-ROC: 0.90745\n",
      "Fold 1, AUC-ROC: 0.93296\n",
      "Fold 2, AUC-ROC: 0.93252\n",
      "Fold 3, AUC-ROC: 0.91268\n",
      "CV AUC-ROC: 0.92140\n"
     ]
    },
    {
     "name": "stderr",
     "output_type": "stream",
     "text": [
      "100%|██████████| 4/4 [03:20<00:00, 50.20s/it]\n",
      "[I 2025-03-13 21:54:43,870] Trial 374 finished with value: 0.9233469855129715 and parameters: {'learning_rate': 0.030563747135145553, 'feature_fraction': 0.4257499630989789, 'n_estimators': 1890, 'max_depth': 14, 'lambda_l1': 1.8026255087176932, 'lambda_l2': 1.9340133601255587, 'num_boost_round': 63}. Best is trial 312 with value: 0.9244682009352734.\n"
     ]
    },
    {
     "name": "stdout",
     "output_type": "stream",
     "text": [
      "Fold 0, AUC-ROC: 0.90878\n",
      "Fold 1, AUC-ROC: 0.93657\n",
      "Fold 2, AUC-ROC: 0.93392\n",
      "Fold 3, AUC-ROC: 0.91412\n",
      "CV AUC-ROC: 0.92335\n"
     ]
    },
    {
     "name": "stderr",
     "output_type": "stream",
     "text": [
      "100%|██████████| 4/4 [02:11<00:00, 32.84s/it]\n",
      "[I 2025-03-13 21:56:56,280] Trial 375 finished with value: 0.9084114811619826 and parameters: {'learning_rate': 0.024528717919917106, 'feature_fraction': 0.4193912701534926, 'n_estimators': 1821, 'max_depth': 11, 'lambda_l1': 40.07298116198673, 'lambda_l2': 3.7654229259094145, 'num_boost_round': 53}. Best is trial 312 with value: 0.9244682009352734.\n"
     ]
    },
    {
     "name": "stdout",
     "output_type": "stream",
     "text": [
      "Fold 0, AUC-ROC: 0.89305\n",
      "Fold 1, AUC-ROC: 0.91730\n",
      "Fold 2, AUC-ROC: 0.92011\n",
      "Fold 3, AUC-ROC: 0.90318\n",
      "CV AUC-ROC: 0.90841\n"
     ]
    },
    {
     "name": "stderr",
     "output_type": "stream",
     "text": [
      "100%|██████████| 4/4 [03:33<00:00, 53.43s/it]\n",
      "[I 2025-03-13 22:00:31,079] Trial 376 finished with value: 0.9235186393168884 and parameters: {'learning_rate': 0.022383855778702846, 'feature_fraction': 0.43330673157681454, 'n_estimators': 1948, 'max_depth': 11, 'lambda_l1': 3.0760738300444794, 'lambda_l2': 0.020893857378221976, 'num_boost_round': 63}. Best is trial 312 with value: 0.9244682009352734.\n"
     ]
    },
    {
     "name": "stdout",
     "output_type": "stream",
     "text": [
      "Fold 0, AUC-ROC: 0.90862\n",
      "Fold 1, AUC-ROC: 0.93448\n",
      "Fold 2, AUC-ROC: 0.93579\n",
      "Fold 3, AUC-ROC: 0.91518\n",
      "CV AUC-ROC: 0.92352\n"
     ]
    },
    {
     "name": "stderr",
     "output_type": "stream",
     "text": [
      "100%|██████████| 4/4 [03:45<00:00, 56.38s/it]\n",
      "[I 2025-03-13 22:04:17,661] Trial 377 finished with value: 0.9214596906578686 and parameters: {'learning_rate': 0.019980425850570308, 'feature_fraction': 0.44362653061822854, 'n_estimators': 1987, 'max_depth': 14, 'lambda_l1': 4.904376541604107, 'lambda_l2': 2.1296524798452596, 'num_boost_round': 61}. Best is trial 312 with value: 0.9244682009352734.\n"
     ]
    },
    {
     "name": "stdout",
     "output_type": "stream",
     "text": [
      "Fold 0, AUC-ROC: 0.90839\n",
      "Fold 1, AUC-ROC: 0.93251\n",
      "Fold 2, AUC-ROC: 0.93248\n",
      "Fold 3, AUC-ROC: 0.91245\n",
      "CV AUC-ROC: 0.92146\n"
     ]
    },
    {
     "name": "stderr",
     "output_type": "stream",
     "text": [
      "100%|██████████| 4/4 [03:29<00:00, 52.42s/it]\n",
      "[I 2025-03-13 22:07:48,378] Trial 378 finished with value: 0.9228921456706449 and parameters: {'learning_rate': 0.03039445034381634, 'feature_fraction': 0.41736967240957756, 'n_estimators': 1908, 'max_depth': 13, 'lambda_l1': 9.283279662939897, 'lambda_l2': 0.0029287678037724085, 'num_boost_round': 58}. Best is trial 312 with value: 0.9244682009352734.\n"
     ]
    },
    {
     "name": "stdout",
     "output_type": "stream",
     "text": [
      "Fold 0, AUC-ROC: 0.90803\n",
      "Fold 1, AUC-ROC: 0.93609\n",
      "Fold 2, AUC-ROC: 0.93455\n",
      "Fold 3, AUC-ROC: 0.91290\n",
      "CV AUC-ROC: 0.92289\n"
     ]
    },
    {
     "name": "stderr",
     "output_type": "stream",
     "text": [
      "100%|██████████| 4/4 [02:55<00:00, 43.98s/it]\n",
      "[I 2025-03-13 22:10:45,178] Trial 379 finished with value: 0.9217833307008365 and parameters: {'learning_rate': 0.03498637307219574, 'feature_fraction': 0.4262758074722495, 'n_estimators': 1669, 'max_depth': 15, 'lambda_l1': 1.3918685600146374, 'lambda_l2': 6.5012421088752586, 'num_boost_round': 65}. Best is trial 312 with value: 0.9244682009352734.\n"
     ]
    },
    {
     "name": "stdout",
     "output_type": "stream",
     "text": [
      "Fold 0, AUC-ROC: 0.90907\n",
      "Fold 1, AUC-ROC: 0.93305\n",
      "Fold 2, AUC-ROC: 0.93287\n",
      "Fold 3, AUC-ROC: 0.91214\n",
      "CV AUC-ROC: 0.92178\n"
     ]
    },
    {
     "name": "stderr",
     "output_type": "stream",
     "text": [
      "100%|██████████| 4/4 [02:36<00:00, 39.25s/it]\n",
      "[I 2025-03-13 22:13:23,089] Trial 380 finished with value: 0.921839892761525 and parameters: {'learning_rate': 0.02590399065993659, 'feature_fraction': 0.6709004670893521, 'n_estimators': 2068, 'max_depth': 14, 'lambda_l1': 3.2211287277557137, 'lambda_l2': 3.329170425686372, 'num_boost_round': 60}. Best is trial 312 with value: 0.9244682009352734.\n"
     ]
    },
    {
     "name": "stdout",
     "output_type": "stream",
     "text": [
      "Fold 0, AUC-ROC: 0.90768\n",
      "Fold 1, AUC-ROC: 0.93393\n",
      "Fold 2, AUC-ROC: 0.93337\n",
      "Fold 3, AUC-ROC: 0.91239\n",
      "CV AUC-ROC: 0.92184\n"
     ]
    },
    {
     "name": "stderr",
     "output_type": "stream",
     "text": [
      "100%|██████████| 4/4 [02:52<00:00, 43.15s/it]\n",
      "[I 2025-03-13 22:16:16,815] Trial 381 finished with value: 0.9121617722475045 and parameters: {'learning_rate': 0.022321142206118978, 'feature_fraction': 0.41086737003477497, 'n_estimators': 2028, 'max_depth': 14, 'lambda_l1': 32.153573501099615, 'lambda_l2': 1.8922443736507506, 'num_boost_round': 59}. Best is trial 312 with value: 0.9244682009352734.\n"
     ]
    },
    {
     "name": "stdout",
     "output_type": "stream",
     "text": [
      "Fold 0, AUC-ROC: 0.89633\n",
      "Fold 1, AUC-ROC: 0.92252\n",
      "Fold 2, AUC-ROC: 0.92369\n",
      "Fold 3, AUC-ROC: 0.90611\n",
      "CV AUC-ROC: 0.91216\n"
     ]
    },
    {
     "name": "stderr",
     "output_type": "stream",
     "text": [
      "100%|██████████| 4/4 [02:53<00:00, 43.43s/it]\n",
      "[I 2025-03-13 22:19:11,425] Trial 382 finished with value: 0.91949902432907 and parameters: {'learning_rate': 0.018852717894053902, 'feature_fraction': 0.6951719894486769, 'n_estimators': 1973, 'max_depth': 15, 'lambda_l1': 6.001918330751504, 'lambda_l2': 4.237696397330409, 'num_boost_round': 44}. Best is trial 312 with value: 0.9244682009352734.\n"
     ]
    },
    {
     "name": "stdout",
     "output_type": "stream",
     "text": [
      "Fold 0, AUC-ROC: 0.90506\n",
      "Fold 1, AUC-ROC: 0.93142\n",
      "Fold 2, AUC-ROC: 0.93137\n",
      "Fold 3, AUC-ROC: 0.91015\n",
      "CV AUC-ROC: 0.91950\n"
     ]
    },
    {
     "name": "stderr",
     "output_type": "stream",
     "text": [
      "100%|██████████| 4/4 [03:11<00:00, 47.86s/it]\n",
      "[I 2025-03-13 22:22:23,913] Trial 383 finished with value: 0.924877181561377 and parameters: {'learning_rate': 0.029373762221601332, 'feature_fraction': 0.4204010574198618, 'n_estimators': 1820, 'max_depth': 14, 'lambda_l1': 1.345203650600308, 'lambda_l2': 0.0277483365130915, 'num_boost_round': 62}. Best is trial 383 with value: 0.924877181561377.\n"
     ]
    },
    {
     "name": "stdout",
     "output_type": "stream",
     "text": [
      "Fold 0, AUC-ROC: 0.90956\n",
      "Fold 1, AUC-ROC: 0.93598\n",
      "Fold 2, AUC-ROC: 0.93703\n",
      "Fold 3, AUC-ROC: 0.91693\n",
      "CV AUC-ROC: 0.92488\n"
     ]
    },
    {
     "name": "stderr",
     "output_type": "stream",
     "text": [
      "100%|██████████| 4/4 [03:39<00:00, 54.80s/it]\n",
      "[I 2025-03-13 22:26:04,140] Trial 384 finished with value: 0.8893364550050968 and parameters: {'learning_rate': 0.0018153321549675826, 'feature_fraction': 0.42336987798607306, 'n_estimators': 1874, 'max_depth': 14, 'lambda_l1': 4.2650895578038055, 'lambda_l2': 1.8804532129323135, 'num_boost_round': 62}. Best is trial 383 with value: 0.924877181561377.\n"
     ]
    },
    {
     "name": "stdout",
     "output_type": "stream",
     "text": [
      "Fold 0, AUC-ROC: 0.86811\n",
      "Fold 1, AUC-ROC: 0.89508\n",
      "Fold 2, AUC-ROC: 0.90472\n",
      "Fold 3, AUC-ROC: 0.88944\n",
      "CV AUC-ROC: 0.88934\n"
     ]
    },
    {
     "name": "stderr",
     "output_type": "stream",
     "text": [
      "100%|██████████| 4/4 [21:35<00:00, 323.94s/it]\n",
      "[I 2025-03-13 22:47:40,967] Trial 385 finished with value: 0.922178207379519 and parameters: {'learning_rate': 0.02973255965129417, 'feature_fraction': 0.43918666170445214, 'n_estimators': 1797, 'max_depth': 14, 'lambda_l1': 7.631067832134221, 'lambda_l2': 3.018670956547644, 'num_boost_round': 60}. Best is trial 383 with value: 0.924877181561377.\n"
     ]
    },
    {
     "name": "stdout",
     "output_type": "stream",
     "text": [
      "Fold 0, AUC-ROC: 0.90879\n",
      "Fold 1, AUC-ROC: 0.93454\n",
      "Fold 2, AUC-ROC: 0.93293\n",
      "Fold 3, AUC-ROC: 0.91245\n",
      "CV AUC-ROC: 0.92218\n"
     ]
    },
    {
     "name": "stderr",
     "output_type": "stream",
     "text": [
      "100%|██████████| 4/4 [02:42<00:00, 40.65s/it]\n",
      "[I 2025-03-13 22:50:24,672] Trial 386 finished with value: 0.9239110222839086 and parameters: {'learning_rate': 0.03311290514199496, 'feature_fraction': 0.6468992809193008, 'n_estimators': 1896, 'max_depth': 14, 'lambda_l1': 2.2814274016549296, 'lambda_l2': 0.07313309633780518, 'num_boost_round': 57}. Best is trial 383 with value: 0.924877181561377.\n"
     ]
    },
    {
     "name": "stdout",
     "output_type": "stream",
     "text": [
      "Fold 0, AUC-ROC: 0.90904\n",
      "Fold 1, AUC-ROC: 0.93628\n",
      "Fold 2, AUC-ROC: 0.93592\n",
      "Fold 3, AUC-ROC: 0.91441\n",
      "CV AUC-ROC: 0.92391\n"
     ]
    },
    {
     "name": "stderr",
     "output_type": "stream",
     "text": [
      "100%|██████████| 4/4 [02:25<00:00, 36.26s/it]\n",
      "[I 2025-03-13 22:52:50,709] Trial 387 finished with value: 0.9225795936834342 and parameters: {'learning_rate': 0.03725416884857972, 'feature_fraction': 0.6487389268007414, 'n_estimators': 1797, 'max_depth': 14, 'lambda_l1': 5.361076567161784, 'lambda_l2': 0.04642940228361957, 'num_boost_round': 58}. Best is trial 383 with value: 0.924877181561377.\n"
     ]
    },
    {
     "name": "stdout",
     "output_type": "stream",
     "text": [
      "Fold 0, AUC-ROC: 0.90702\n",
      "Fold 1, AUC-ROC: 0.93574\n",
      "Fold 2, AUC-ROC: 0.93526\n",
      "Fold 3, AUC-ROC: 0.91230\n",
      "CV AUC-ROC: 0.92258\n"
     ]
    },
    {
     "name": "stderr",
     "output_type": "stream",
     "text": [
      "100%|██████████| 4/4 [02:56<00:00, 44.09s/it]\n",
      "[I 2025-03-13 22:55:48,161] Trial 388 finished with value: 0.9209892497301131 and parameters: {'learning_rate': 0.03406858276667318, 'feature_fraction': 0.6141284223997636, 'n_estimators': 1860, 'max_depth': 14, 'lambda_l1': 3.0414477614810496, 'lambda_l2': 8.9716426795103, 'num_boost_round': 54}. Best is trial 383 with value: 0.924877181561377.\n"
     ]
    },
    {
     "name": "stdout",
     "output_type": "stream",
     "text": [
      "Fold 0, AUC-ROC: 0.90591\n",
      "Fold 1, AUC-ROC: 0.93440\n",
      "Fold 2, AUC-ROC: 0.93241\n",
      "Fold 3, AUC-ROC: 0.91123\n",
      "CV AUC-ROC: 0.92099\n"
     ]
    },
    {
     "name": "stderr",
     "output_type": "stream",
     "text": [
      "100%|██████████| 4/4 [02:27<00:00, 36.90s/it]\n",
      "[I 2025-03-13 22:58:16,833] Trial 389 finished with value: 0.9218233546482704 and parameters: {'learning_rate': 0.03169045978114714, 'feature_fraction': 0.6584713674043584, 'n_estimators': 1751, 'max_depth': 15, 'lambda_l1': 1.7510710723469707, 'lambda_l2': 5.821060052427641, 'num_boost_round': 62}. Best is trial 383 with value: 0.924877181561377.\n"
     ]
    },
    {
     "name": "stdout",
     "output_type": "stream",
     "text": [
      "Fold 0, AUC-ROC: 0.90822\n",
      "Fold 1, AUC-ROC: 0.93345\n",
      "Fold 2, AUC-ROC: 0.93234\n",
      "Fold 3, AUC-ROC: 0.91328\n",
      "CV AUC-ROC: 0.92182\n"
     ]
    },
    {
     "name": "stderr",
     "output_type": "stream",
     "text": [
      "100%|██████████| 4/4 [03:08<00:00, 47.17s/it]\n",
      "[I 2025-03-13 23:01:26,514] Trial 390 finished with value: 0.9224342866441367 and parameters: {'learning_rate': 0.034772472285342006, 'feature_fraction': 0.42877782414769927, 'n_estimators': 1731, 'max_depth': 14, 'lambda_l1': 6.584565863442387, 'lambda_l2': 1.9241965512595085, 'num_boost_round': 60}. Best is trial 383 with value: 0.924877181561377.\n"
     ]
    },
    {
     "name": "stdout",
     "output_type": "stream",
     "text": [
      "Fold 0, AUC-ROC: 0.90681\n",
      "Fold 1, AUC-ROC: 0.93567\n",
      "Fold 2, AUC-ROC: 0.93367\n",
      "Fold 3, AUC-ROC: 0.91359\n",
      "CV AUC-ROC: 0.92243\n"
     ]
    },
    {
     "name": "stderr",
     "output_type": "stream",
     "text": [
      "100%|██████████| 4/4 [02:07<00:00, 31.94s/it]\n",
      "[I 2025-03-13 23:03:35,316] Trial 391 finished with value: 0.9206722341615691 and parameters: {'learning_rate': 0.028637874185553004, 'feature_fraction': 0.6551225050187077, 'n_estimators': 1572, 'max_depth': 14, 'lambda_l1': 4.387818383900007, 'lambda_l2': 4.305759162990139, 'num_boost_round': 55}. Best is trial 383 with value: 0.924877181561377.\n"
     ]
    },
    {
     "name": "stdout",
     "output_type": "stream",
     "text": [
      "Fold 0, AUC-ROC: 0.90581\n",
      "Fold 1, AUC-ROC: 0.93372\n",
      "Fold 2, AUC-ROC: 0.93207\n",
      "Fold 3, AUC-ROC: 0.91108\n",
      "CV AUC-ROC: 0.92067\n"
     ]
    },
    {
     "name": "stderr",
     "output_type": "stream",
     "text": [
      "100%|██████████| 4/4 [02:35<00:00, 38.84s/it]\n",
      "[I 2025-03-13 23:06:11,608] Trial 392 finished with value: 0.9210763959660421 and parameters: {'learning_rate': 0.032191928795294304, 'feature_fraction': 0.6475618727037213, 'n_estimators': 1831, 'max_depth': 11, 'lambda_l1': 9.645928237527237, 'lambda_l2': 1.9180057985425807, 'num_boost_round': 56}. Best is trial 383 with value: 0.924877181561377.\n"
     ]
    },
    {
     "name": "stdout",
     "output_type": "stream",
     "text": [
      "Fold 0, AUC-ROC: 0.90494\n",
      "Fold 1, AUC-ROC: 0.93458\n",
      "Fold 2, AUC-ROC: 0.93318\n",
      "Fold 3, AUC-ROC: 0.91161\n",
      "CV AUC-ROC: 0.92108\n"
     ]
    },
    {
     "name": "stderr",
     "output_type": "stream",
     "text": [
      "100%|██████████| 4/4 [03:11<00:00, 47.96s/it]\n",
      "[I 2025-03-13 23:09:24,455] Trial 393 finished with value: 0.9201948644982246 and parameters: {'learning_rate': 0.038268788981328454, 'feature_fraction': 0.4206808134502649, 'n_estimators': 1916, 'max_depth': 6, 'lambda_l1': 1.6156673961863715, 'lambda_l2': 3.4026673758110015, 'num_boost_round': 63}. Best is trial 383 with value: 0.924877181561377.\n"
     ]
    },
    {
     "name": "stdout",
     "output_type": "stream",
     "text": [
      "Fold 0, AUC-ROC: 0.90978\n",
      "Fold 1, AUC-ROC: 0.93189\n",
      "Fold 2, AUC-ROC: 0.92979\n",
      "Fold 3, AUC-ROC: 0.90932\n",
      "CV AUC-ROC: 0.92019\n"
     ]
    },
    {
     "name": "stderr",
     "output_type": "stream",
     "text": [
      "100%|██████████| 4/4 [03:38<00:00, 54.53s/it]\n",
      "[I 2025-03-13 23:13:03,569] Trial 394 finished with value: 0.9222283458694199 and parameters: {'learning_rate': 0.02721923009162756, 'feature_fraction': 0.43130589739374076, 'n_estimators': 1967, 'max_depth': 9, 'lambda_l1': 3.856286878948789, 'lambda_l2': 1.9190759243504858, 'num_boost_round': 61}. Best is trial 383 with value: 0.924877181561377.\n"
     ]
    },
    {
     "name": "stdout",
     "output_type": "stream",
     "text": [
      "Fold 0, AUC-ROC: 0.90900\n",
      "Fold 1, AUC-ROC: 0.93433\n",
      "Fold 2, AUC-ROC: 0.93243\n",
      "Fold 3, AUC-ROC: 0.91315\n",
      "CV AUC-ROC: 0.92223\n"
     ]
    },
    {
     "name": "stderr",
     "output_type": "stream",
     "text": [
      "100%|██████████| 4/4 [03:31<00:00, 52.87s/it]\n",
      "[I 2025-03-13 23:16:35,993] Trial 395 finished with value: 0.9215136910785016 and parameters: {'learning_rate': 0.030404501917829656, 'feature_fraction': 0.41252008792948375, 'n_estimators': 1908, 'max_depth': 15, 'lambda_l1': 0.03479800695321966, 'lambda_l2': 5.069636093815527, 'num_boost_round': 66}. Best is trial 383 with value: 0.924877181561377.\n"
     ]
    },
    {
     "name": "stdout",
     "output_type": "stream",
     "text": [
      "Fold 0, AUC-ROC: 0.90912\n",
      "Fold 1, AUC-ROC: 0.93134\n",
      "Fold 2, AUC-ROC: 0.93214\n",
      "Fold 3, AUC-ROC: 0.91345\n",
      "CV AUC-ROC: 0.92151\n"
     ]
    },
    {
     "name": "stderr",
     "output_type": "stream",
     "text": [
      "100%|██████████| 4/4 [03:48<00:00, 57.15s/it]\n",
      "[I 2025-03-13 23:20:25,511] Trial 396 finished with value: 0.9219532210761158 and parameters: {'learning_rate': 0.025338891922192713, 'feature_fraction': 0.4073344113907868, 'n_estimators': 2043, 'max_depth': 10, 'lambda_l1': 7.532094754825625, 'lambda_l2': 1.5831925740972181, 'num_boost_round': 57}. Best is trial 383 with value: 0.924877181561377.\n"
     ]
    },
    {
     "name": "stdout",
     "output_type": "stream",
     "text": [
      "Fold 0, AUC-ROC: 0.90793\n",
      "Fold 1, AUC-ROC: 0.93455\n",
      "Fold 2, AUC-ROC: 0.93246\n",
      "Fold 3, AUC-ROC: 0.91287\n",
      "CV AUC-ROC: 0.92195\n"
     ]
    },
    {
     "name": "stderr",
     "output_type": "stream",
     "text": [
      "100%|██████████| 4/4 [04:12<00:00, 63.05s/it]\n",
      "[I 2025-03-13 23:24:38,640] Trial 397 finished with value: 0.9179241695715654 and parameters: {'learning_rate': 0.0363084935928607, 'feature_fraction': 0.42005227800403167, 'n_estimators': 2108, 'max_depth': 14, 'lambda_l1': 5.380170459176725, 'lambda_l2': 98.00230808962425, 'num_boost_round': 38}. Best is trial 383 with value: 0.924877181561377.\n"
     ]
    },
    {
     "name": "stdout",
     "output_type": "stream",
     "text": [
      "Fold 0, AUC-ROC: 0.90223\n",
      "Fold 1, AUC-ROC: 0.93086\n",
      "Fold 2, AUC-ROC: 0.92974\n",
      "Fold 3, AUC-ROC: 0.90887\n",
      "CV AUC-ROC: 0.91792\n"
     ]
    },
    {
     "name": "stderr",
     "output_type": "stream",
     "text": [
      "100%|██████████| 4/4 [01:14<00:00, 18.71s/it]\n",
      "[I 2025-03-13 23:25:54,498] Trial 398 finished with value: 0.8954297401720487 and parameters: {'learning_rate': 0.02931006087645438, 'feature_fraction': 0.44594054138157363, 'n_estimators': 1641, 'max_depth': 14, 'lambda_l1': 89.75320077437954, 'lambda_l2': 0.03583760346981818, 'num_boost_round': 52}. Best is trial 383 with value: 0.924877181561377.\n"
     ]
    },
    {
     "name": "stdout",
     "output_type": "stream",
     "text": [
      "Fold 0, AUC-ROC: 0.87924\n",
      "Fold 1, AUC-ROC: 0.90055\n",
      "Fold 2, AUC-ROC: 0.90724\n",
      "Fold 3, AUC-ROC: 0.89469\n",
      "CV AUC-ROC: 0.89543\n"
     ]
    },
    {
     "name": "stderr",
     "output_type": "stream",
     "text": [
      "100%|██████████| 4/4 [02:29<00:00, 37.29s/it]\n",
      "[I 2025-03-13 23:28:24,657] Trial 399 finished with value: 0.9185990847827934 and parameters: {'learning_rate': 0.045499897706378294, 'feature_fraction': 0.6342368387753401, 'n_estimators': 1876, 'max_depth': 14, 'lambda_l1': 3.0343821109419524, 'lambda_l2': 39.62466272850951, 'num_boost_round': 55}. Best is trial 383 with value: 0.924877181561377.\n"
     ]
    },
    {
     "name": "stdout",
     "output_type": "stream",
     "text": [
      "Fold 0, AUC-ROC: 0.90264\n",
      "Fold 1, AUC-ROC: 0.93292\n",
      "Fold 2, AUC-ROC: 0.93078\n",
      "Fold 3, AUC-ROC: 0.90806\n",
      "CV AUC-ROC: 0.91860\n"
     ]
    },
    {
     "name": "stderr",
     "output_type": "stream",
     "text": [
      "100%|██████████| 4/4 [03:36<00:00, 54.03s/it]\n",
      "[I 2025-03-13 23:32:01,844] Trial 400 finished with value: 0.9218475588699205 and parameters: {'learning_rate': 0.03321394116366635, 'feature_fraction': 0.41428275198987874, 'n_estimators': 2015, 'max_depth': 15, 'lambda_l1': 1.6855362326227046, 'lambda_l2': 7.026533770508736, 'num_boost_round': 56}. Best is trial 383 with value: 0.924877181561377.\n"
     ]
    },
    {
     "name": "stdout",
     "output_type": "stream",
     "text": [
      "Fold 0, AUC-ROC: 0.90940\n",
      "Fold 1, AUC-ROC: 0.93271\n",
      "Fold 2, AUC-ROC: 0.93345\n",
      "Fold 3, AUC-ROC: 0.91184\n",
      "CV AUC-ROC: 0.92185\n"
     ]
    },
    {
     "name": "stderr",
     "output_type": "stream",
     "text": [
      "100%|██████████| 4/4 [03:39<00:00, 54.93s/it]\n",
      "[I 2025-03-13 23:35:42,599] Trial 401 finished with value: 0.9222689898479541 and parameters: {'learning_rate': 0.02643619701199223, 'feature_fraction': 0.4306647031441523, 'n_estimators': 1922, 'max_depth': 14, 'lambda_l1': 5.466306982116777, 'lambda_l2': 3.6990621920592224, 'num_boost_round': 57}. Best is trial 383 with value: 0.924877181561377.\n"
     ]
    },
    {
     "name": "stdout",
     "output_type": "stream",
     "text": [
      "Fold 0, AUC-ROC: 0.90813\n",
      "Fold 1, AUC-ROC: 0.93370\n",
      "Fold 2, AUC-ROC: 0.93383\n",
      "Fold 3, AUC-ROC: 0.91342\n",
      "CV AUC-ROC: 0.92227\n"
     ]
    },
    {
     "name": "stderr",
     "output_type": "stream",
     "text": [
      "100%|██████████| 4/4 [03:07<00:00, 46.99s/it]\n",
      "[I 2025-03-13 23:38:51,572] Trial 402 finished with value: 0.9205277303011945 and parameters: {'learning_rate': 0.03905175376242695, 'feature_fraction': 0.6402533070552, 'n_estimators': 2087, 'max_depth': 16, 'lambda_l1': 3.4106294956791423, 'lambda_l2': 21.151335750516782, 'num_boost_round': 59}. Best is trial 383 with value: 0.924877181561377.\n"
     ]
    },
    {
     "name": "stdout",
     "output_type": "stream",
     "text": [
      "Fold 0, AUC-ROC: 0.90384\n",
      "Fold 1, AUC-ROC: 0.93393\n",
      "Fold 2, AUC-ROC: 0.93281\n",
      "Fold 3, AUC-ROC: 0.91154\n",
      "CV AUC-ROC: 0.92053\n"
     ]
    },
    {
     "name": "stderr",
     "output_type": "stream",
     "text": [
      "100%|██████████| 4/4 [03:05<00:00, 46.36s/it]\n",
      "[I 2025-03-13 23:41:58,151] Trial 403 finished with value: 0.9206372091343547 and parameters: {'learning_rate': 0.02428727004518063, 'feature_fraction': 0.6270734160464642, 'n_estimators': 1987, 'max_depth': 14, 'lambda_l1': 11.808582072662041, 'lambda_l2': 0.02135859427007776, 'num_boost_round': 35}. Best is trial 383 with value: 0.924877181561377.\n"
     ]
    },
    {
     "name": "stdout",
     "output_type": "stream",
     "text": [
      "Fold 0, AUC-ROC: 0.90500\n",
      "Fold 1, AUC-ROC: 0.93289\n",
      "Fold 2, AUC-ROC: 0.93267\n",
      "Fold 3, AUC-ROC: 0.91199\n",
      "CV AUC-ROC: 0.92064\n"
     ]
    },
    {
     "name": "stderr",
     "output_type": "stream",
     "text": [
      "100%|██████████| 4/4 [03:45<00:00, 56.44s/it]\n",
      "[I 2025-03-13 23:45:44,898] Trial 404 finished with value: 0.9227246138368178 and parameters: {'learning_rate': 0.03312388195041583, 'feature_fraction': 0.4089983396698457, 'n_estimators': 2150, 'max_depth': 15, 'lambda_l1': 6.75574837186596, 'lambda_l2': 1.9446851761950577, 'num_boost_round': 64}. Best is trial 383 with value: 0.924877181561377.\n"
     ]
    },
    {
     "name": "stdout",
     "output_type": "stream",
     "text": [
      "Fold 0, AUC-ROC: 0.90721\n",
      "Fold 1, AUC-ROC: 0.93436\n",
      "Fold 2, AUC-ROC: 0.93541\n",
      "Fold 3, AUC-ROC: 0.91391\n",
      "CV AUC-ROC: 0.92272\n"
     ]
    },
    {
     "name": "stderr",
     "output_type": "stream",
     "text": [
      "100%|██████████| 4/4 [03:23<00:00, 50.85s/it]\n",
      "[I 2025-03-13 23:49:09,315] Trial 405 finished with value: 0.9229059067612452 and parameters: {'learning_rate': 0.0272591756487002, 'feature_fraction': 0.41808187577878664, 'n_estimators': 1823, 'max_depth': 14, 'lambda_l1': 1.8184512606179937, 'lambda_l2': 3.221425817682096, 'num_boost_round': 37}. Best is trial 383 with value: 0.924877181561377.\n"
     ]
    },
    {
     "name": "stdout",
     "output_type": "stream",
     "text": [
      "Fold 0, AUC-ROC: 0.91024\n",
      "Fold 1, AUC-ROC: 0.93372\n",
      "Fold 2, AUC-ROC: 0.93377\n",
      "Fold 3, AUC-ROC: 0.91388\n",
      "CV AUC-ROC: 0.92291\n"
     ]
    },
    {
     "name": "stderr",
     "output_type": "stream",
     "text": [
      "100%|██████████| 4/4 [03:37<00:00, 54.28s/it]\n",
      "[I 2025-03-13 23:52:47,491] Trial 406 finished with value: 0.9211073676007773 and parameters: {'learning_rate': 0.029696117030865346, 'feature_fraction': 0.42339016226329484, 'n_estimators': 1937, 'max_depth': 13, 'lambda_l1': 8.512151913801492, 'lambda_l2': 5.313734287975372, 'num_boost_round': 41}. Best is trial 383 with value: 0.924877181561377.\n"
     ]
    },
    {
     "name": "stdout",
     "output_type": "stream",
     "text": [
      "Fold 0, AUC-ROC: 0.90674\n",
      "Fold 1, AUC-ROC: 0.93319\n",
      "Fold 2, AUC-ROC: 0.93318\n",
      "Fold 3, AUC-ROC: 0.91132\n",
      "CV AUC-ROC: 0.92111\n"
     ]
    },
    {
     "name": "stderr",
     "output_type": "stream",
     "text": [
      "100%|██████████| 4/4 [03:18<00:00, 49.71s/it]\n",
      "[I 2025-03-13 23:56:07,386] Trial 407 finished with value: 0.9237828453302949 and parameters: {'learning_rate': 0.03584784134381892, 'feature_fraction': 0.40688505336183206, 'n_estimators': 2059, 'max_depth': 14, 'lambda_l1': 3.9254896420773653, 'lambda_l2': 1.5545733424285704, 'num_boost_round': 67}. Best is trial 383 with value: 0.924877181561377.\n"
     ]
    },
    {
     "name": "stdout",
     "output_type": "stream",
     "text": [
      "Fold 0, AUC-ROC: 0.90807\n",
      "Fold 1, AUC-ROC: 0.93673\n",
      "Fold 2, AUC-ROC: 0.93634\n",
      "Fold 3, AUC-ROC: 0.91400\n",
      "CV AUC-ROC: 0.92378\n"
     ]
    },
    {
     "name": "stderr",
     "output_type": "stream",
     "text": [
      "100%|██████████| 4/4 [03:13<00:00, 48.30s/it]\n",
      "[I 2025-03-13 23:59:21,665] Trial 408 finished with value: 0.9234482900609297 and parameters: {'learning_rate': 0.04153085204820057, 'feature_fraction': 0.4059419795539613, 'n_estimators': 2093, 'max_depth': 14, 'lambda_l1': 4.507516414433784, 'lambda_l2': 0.04605473641880714, 'num_boost_round': 68}. Best is trial 383 with value: 0.924877181561377.\n"
     ]
    },
    {
     "name": "stdout",
     "output_type": "stream",
     "text": [
      "Fold 0, AUC-ROC: 0.90949\n",
      "Fold 1, AUC-ROC: 0.93542\n",
      "Fold 2, AUC-ROC: 0.93589\n",
      "Fold 3, AUC-ROC: 0.91298\n",
      "CV AUC-ROC: 0.92345\n"
     ]
    },
    {
     "name": "stderr",
     "output_type": "stream",
     "text": [
      "100%|██████████| 4/4 [03:36<00:00, 54.12s/it]\n",
      "[I 2025-03-14 00:02:59,226] Trial 409 finished with value: 0.922462076154299 and parameters: {'learning_rate': 0.03592192524271685, 'feature_fraction': 0.4063036256086979, 'n_estimators': 2148, 'max_depth': 14, 'lambda_l1': 6.738022349886528, 'lambda_l2': 2.857640237881514, 'num_boost_round': 65}. Best is trial 383 with value: 0.924877181561377.\n"
     ]
    },
    {
     "name": "stdout",
     "output_type": "stream",
     "text": [
      "Fold 0, AUC-ROC: 0.90634\n",
      "Fold 1, AUC-ROC: 0.93601\n",
      "Fold 2, AUC-ROC: 0.93406\n",
      "Fold 3, AUC-ROC: 0.91344\n",
      "CV AUC-ROC: 0.92246\n"
     ]
    },
    {
     "name": "stderr",
     "output_type": "stream",
     "text": [
      "100%|██████████| 4/4 [03:17<00:00, 49.41s/it]\n",
      "[I 2025-03-14 00:06:17,886] Trial 410 finished with value: 0.9227427688766717 and parameters: {'learning_rate': 0.04517088573723784, 'feature_fraction': 0.40033155320155084, 'n_estimators': 2055, 'max_depth': 14, 'lambda_l1': 4.958337144211544, 'lambda_l2': 4.669963103911378, 'num_boost_round': 62}. Best is trial 383 with value: 0.924877181561377.\n"
     ]
    },
    {
     "name": "stdout",
     "output_type": "stream",
     "text": [
      "Fold 0, AUC-ROC: 0.90758\n",
      "Fold 1, AUC-ROC: 0.93668\n",
      "Fold 2, AUC-ROC: 0.93382\n",
      "Fold 3, AUC-ROC: 0.91288\n",
      "CV AUC-ROC: 0.92274\n"
     ]
    },
    {
     "name": "stderr",
     "output_type": "stream",
     "text": [
      "100%|██████████| 4/4 [02:17<00:00, 34.43s/it]\n",
      "[I 2025-03-14 00:08:36,561] Trial 411 finished with value: 0.921448893188514 and parameters: {'learning_rate': 0.03826123954111757, 'feature_fraction': 0.6660944638135308, 'n_estimators': 2211, 'max_depth': 15, 'lambda_l1': 8.607834731966218, 'lambda_l2': 1.6669995102488961, 'num_boost_round': 65}. Best is trial 383 with value: 0.924877181561377.\n"
     ]
    },
    {
     "name": "stdout",
     "output_type": "stream",
     "text": [
      "Fold 0, AUC-ROC: 0.90464\n",
      "Fold 1, AUC-ROC: 0.93492\n",
      "Fold 2, AUC-ROC: 0.93403\n",
      "Fold 3, AUC-ROC: 0.91220\n",
      "CV AUC-ROC: 0.92145\n"
     ]
    },
    {
     "name": "stderr",
     "output_type": "stream",
     "text": [
      "100%|██████████| 4/4 [02:40<00:00, 40.24s/it]\n",
      "[I 2025-03-14 00:11:18,419] Trial 412 finished with value: 0.9212294257548845 and parameters: {'learning_rate': 0.03312723217063161, 'feature_fraction': 0.6831504785471822, 'n_estimators': 1981, 'max_depth': 14, 'lambda_l1': 3.47633612858172, 'lambda_l2': 6.90863251409112, 'num_boost_round': 71}. Best is trial 383 with value: 0.924877181561377.\n"
     ]
    },
    {
     "name": "stdout",
     "output_type": "stream",
     "text": [
      "Fold 0, AUC-ROC: 0.90588\n",
      "Fold 1, AUC-ROC: 0.93452\n",
      "Fold 2, AUC-ROC: 0.93256\n",
      "Fold 3, AUC-ROC: 0.91196\n",
      "CV AUC-ROC: 0.92123\n"
     ]
    },
    {
     "name": "stderr",
     "output_type": "stream",
     "text": [
      "100%|██████████| 4/4 [03:45<00:00, 56.31s/it]\n",
      "[I 2025-03-14 00:15:04,684] Trial 413 finished with value: 0.922896136964026 and parameters: {'learning_rate': 0.031409843996170785, 'feature_fraction': 0.4347826702504072, 'n_estimators': 2141, 'max_depth': 16, 'lambda_l1': 0.00013745858050917548, 'lambda_l2': 3.1702572038019117, 'num_boost_round': 35}. Best is trial 383 with value: 0.924877181561377.\n"
     ]
    },
    {
     "name": "stdout",
     "output_type": "stream",
     "text": [
      "Fold 0, AUC-ROC: 0.91062\n",
      "Fold 1, AUC-ROC: 0.93408\n",
      "Fold 2, AUC-ROC: 0.93326\n",
      "Fold 3, AUC-ROC: 0.91362\n",
      "CV AUC-ROC: 0.92290\n"
     ]
    },
    {
     "name": "stderr",
     "output_type": "stream",
     "text": [
      "100%|██████████| 4/4 [03:21<00:00, 50.43s/it]\n",
      "[I 2025-03-14 00:18:27,434] Trial 414 finished with value: 0.9192257146782008 and parameters: {'learning_rate': 0.05308875240725482, 'feature_fraction': 0.41445749118308256, 'n_estimators': 2059, 'max_depth': 14, 'lambda_l1': 5.7791904449369085, 'lambda_l2': 44.86881078828856, 'num_boost_round': 68}. Best is trial 383 with value: 0.924877181561377.\n"
     ]
    },
    {
     "name": "stdout",
     "output_type": "stream",
     "text": [
      "Fold 0, AUC-ROC: 0.90374\n",
      "Fold 1, AUC-ROC: 0.93290\n",
      "Fold 2, AUC-ROC: 0.93206\n",
      "Fold 3, AUC-ROC: 0.90821\n",
      "CV AUC-ROC: 0.91923\n"
     ]
    },
    {
     "name": "stderr",
     "output_type": "stream",
     "text": [
      "100%|██████████| 4/4 [03:29<00:00, 52.40s/it]\n",
      "[I 2025-03-14 00:21:57,944] Trial 415 finished with value: 0.9223058566933158 and parameters: {'learning_rate': 0.036485172711884624, 'feature_fraction': 0.42425098519867216, 'n_estimators': 1894, 'max_depth': 15, 'lambda_l1': 10.152383127551307, 'lambda_l2': 1.8522867297794368, 'num_boost_round': 67}. Best is trial 383 with value: 0.924877181561377.\n"
     ]
    },
    {
     "name": "stdout",
     "output_type": "stream",
     "text": [
      "Fold 0, AUC-ROC: 0.90670\n",
      "Fold 1, AUC-ROC: 0.93570\n",
      "Fold 2, AUC-ROC: 0.93435\n",
      "Fold 3, AUC-ROC: 0.91248\n",
      "CV AUC-ROC: 0.92231\n"
     ]
    },
    {
     "name": "stderr",
     "output_type": "stream",
     "text": [
      "100%|██████████| 4/4 [03:17<00:00, 49.26s/it]\n",
      "[I 2025-03-14 00:25:15,907] Trial 416 finished with value: 0.9224249293918478 and parameters: {'learning_rate': 0.027406728960713212, 'feature_fraction': 0.4095070574913735, 'n_estimators': 1793, 'max_depth': 14, 'lambda_l1': 3.3578166283774795, 'lambda_l2': 1.7475911019439858, 'num_boost_round': 38}. Best is trial 383 with value: 0.924877181561377.\n"
     ]
    },
    {
     "name": "stdout",
     "output_type": "stream",
     "text": [
      "Fold 0, AUC-ROC: 0.90942\n",
      "Fold 1, AUC-ROC: 0.93275\n",
      "Fold 2, AUC-ROC: 0.93439\n",
      "Fold 3, AUC-ROC: 0.91314\n",
      "CV AUC-ROC: 0.92242\n"
     ]
    },
    {
     "name": "stderr",
     "output_type": "stream",
     "text": [
      "100%|██████████| 4/4 [03:40<00:00, 55.06s/it]\n",
      "[I 2025-03-14 00:28:57,186] Trial 417 finished with value: 0.9205086626302782 and parameters: {'learning_rate': 0.04137726356737416, 'feature_fraction': 0.40011009726779995, 'n_estimators': 2014, 'max_depth': 14, 'lambda_l1': 1.8077082028456362, 'lambda_l2': 25.034326706243228, 'num_boost_round': 60}. Best is trial 383 with value: 0.924877181561377.\n"
     ]
    },
    {
     "name": "stdout",
     "output_type": "stream",
     "text": [
      "Fold 0, AUC-ROC: 0.90570\n",
      "Fold 1, AUC-ROC: 0.93315\n",
      "Fold 2, AUC-ROC: 0.93129\n",
      "Fold 3, AUC-ROC: 0.91190\n",
      "CV AUC-ROC: 0.92051\n"
     ]
    },
    {
     "name": "stderr",
     "output_type": "stream",
     "text": [
      "100%|██████████| 4/4 [03:30<00:00, 52.61s/it]\n",
      "[I 2025-03-14 00:32:28,649] Trial 418 finished with value: 0.9238222866731685 and parameters: {'learning_rate': 0.03282818796172981, 'feature_fraction': 0.418485843972207, 'n_estimators': 2176, 'max_depth': 13, 'lambda_l1': 4.521761088574918, 'lambda_l2': 0.007831099470266167, 'num_boost_round': 39}. Best is trial 383 with value: 0.924877181561377.\n"
     ]
    },
    {
     "name": "stdout",
     "output_type": "stream",
     "text": [
      "Fold 0, AUC-ROC: 0.90711\n",
      "Fold 1, AUC-ROC: 0.93745\n",
      "Fold 2, AUC-ROC: 0.93656\n",
      "Fold 3, AUC-ROC: 0.91417\n",
      "CV AUC-ROC: 0.92382\n"
     ]
    },
    {
     "name": "stderr",
     "output_type": "stream",
     "text": [
      "100%|██████████| 4/4 [03:55<00:00, 58.86s/it]\n",
      "[I 2025-03-14 00:36:25,007] Trial 419 finished with value: 0.921879701603881 and parameters: {'learning_rate': 0.029578691288215095, 'feature_fraction': 0.440586742580563, 'n_estimators': 2203, 'max_depth': 13, 'lambda_l1': 6.487577574842582, 'lambda_l2': 5.099373470919653, 'num_boost_round': 39}. Best is trial 383 with value: 0.924877181561377.\n"
     ]
    },
    {
     "name": "stdout",
     "output_type": "stream",
     "text": [
      "Fold 0, AUC-ROC: 0.90738\n",
      "Fold 1, AUC-ROC: 0.93409\n",
      "Fold 2, AUC-ROC: 0.93327\n",
      "Fold 3, AUC-ROC: 0.91278\n",
      "CV AUC-ROC: 0.92188\n"
     ]
    },
    {
     "name": "stderr",
     "output_type": "stream",
     "text": [
      "100%|██████████| 4/4 [03:45<00:00, 56.46s/it]\n",
      "[I 2025-03-14 00:40:11,801] Trial 420 finished with value: 0.9222658208501014 and parameters: {'learning_rate': 0.024598245402553988, 'feature_fraction': 0.4290164990762453, 'n_estimators': 2162, 'max_depth': 13, 'lambda_l1': 8.19426582773124, 'lambda_l2': 0.003784771845692381, 'num_boost_round': 37}. Best is trial 383 with value: 0.924877181561377.\n"
     ]
    },
    {
     "name": "stdout",
     "output_type": "stream",
     "text": [
      "Fold 0, AUC-ROC: 0.90728\n",
      "Fold 1, AUC-ROC: 0.93409\n",
      "Fold 2, AUC-ROC: 0.93478\n",
      "Fold 3, AUC-ROC: 0.91292\n",
      "CV AUC-ROC: 0.92227\n"
     ]
    },
    {
     "name": "stderr",
     "output_type": "stream",
     "text": [
      "100%|██████████| 4/4 [03:51<00:00, 57.83s/it]\n",
      "[I 2025-03-14 00:44:04,002] Trial 421 finished with value: 0.923301226575949 and parameters: {'learning_rate': 0.03241949101645804, 'feature_fraction': 0.42145058911524647, 'n_estimators': 2265, 'max_depth': 13, 'lambda_l1': 4.969150743336577, 'lambda_l2': 3.197406736402925, 'num_boost_round': 36}. Best is trial 383 with value: 0.924877181561377.\n"
     ]
    },
    {
     "name": "stdout",
     "output_type": "stream",
     "text": [
      "Fold 0, AUC-ROC: 0.90955\n",
      "Fold 1, AUC-ROC: 0.93603\n",
      "Fold 2, AUC-ROC: 0.93419\n",
      "Fold 3, AUC-ROC: 0.91343\n",
      "CV AUC-ROC: 0.92330\n"
     ]
    },
    {
     "name": "stderr",
     "output_type": "stream",
     "text": [
      "100%|██████████| 4/4 [03:39<00:00, 54.92s/it]\n",
      "[I 2025-03-14 00:47:44,720] Trial 422 finished with value: 0.922645625941535 and parameters: {'learning_rate': 0.027099709330675664, 'feature_fraction': 0.4185197220173033, 'n_estimators': 2121, 'max_depth': 13, 'lambda_l1': 0.04246105365261732, 'lambda_l2': 1.8882931145074973, 'num_boost_round': 40}. Best is trial 383 with value: 0.924877181561377.\n"
     ]
    },
    {
     "name": "stdout",
     "output_type": "stream",
     "text": [
      "Fold 0, AUC-ROC: 0.91055\n",
      "Fold 1, AUC-ROC: 0.93306\n",
      "Fold 2, AUC-ROC: 0.93319\n",
      "Fold 3, AUC-ROC: 0.91378\n",
      "CV AUC-ROC: 0.92265\n"
     ]
    },
    {
     "name": "stderr",
     "output_type": "stream",
     "text": [
      "100%|██████████| 4/4 [03:59<00:00, 59.80s/it]\n",
      "[I 2025-03-14 00:51:44,985] Trial 423 finished with value: 0.9249676408637224 and parameters: {'learning_rate': 0.0303834640120789, 'feature_fraction': 0.43608338385145307, 'n_estimators': 2593, 'max_depth': 13, 'lambda_l1': 3.055785901685941, 'lambda_l2': 0.015262479221168343, 'num_boost_round': 34}. Best is trial 423 with value: 0.9249676408637224.\n"
     ]
    },
    {
     "name": "stdout",
     "output_type": "stream",
     "text": [
      "Fold 0, AUC-ROC: 0.90952\n",
      "Fold 1, AUC-ROC: 0.93696\n",
      "Fold 2, AUC-ROC: 0.93753\n",
      "Fold 3, AUC-ROC: 0.91586\n",
      "CV AUC-ROC: 0.92497\n"
     ]
    },
    {
     "name": "stderr",
     "output_type": "stream",
     "text": [
      "100%|██████████| 4/4 [03:59<00:00, 59.87s/it]\n",
      "[I 2025-03-14 00:55:45,370] Trial 424 finished with value: 0.9231897408864236 and parameters: {'learning_rate': 0.03159375747716594, 'feature_fraction': 0.45046668626611214, 'n_estimators': 2628, 'max_depth': 13, 'lambda_l1': 7.030072444544424, 'lambda_l2': 0.021314798157025694, 'num_boost_round': 34}. Best is trial 423 with value: 0.9249676408637224.\n"
     ]
    },
    {
     "name": "stdout",
     "output_type": "stream",
     "text": [
      "Fold 0, AUC-ROC: 0.90786\n",
      "Fold 1, AUC-ROC: 0.93647\n",
      "Fold 2, AUC-ROC: 0.93565\n",
      "Fold 3, AUC-ROC: 0.91278\n",
      "CV AUC-ROC: 0.92319\n"
     ]
    },
    {
     "name": "stderr",
     "output_type": "stream",
     "text": [
      "100%|██████████| 4/4 [03:55<00:00, 58.83s/it]\n",
      "[I 2025-03-14 00:59:41,584] Trial 425 finished with value: 0.9227383197201482 and parameters: {'learning_rate': 0.036906629317682044, 'feature_fraction': 0.43608970246543655, 'n_estimators': 2623, 'max_depth': 13, 'lambda_l1': 3.378539387760471, 'lambda_l2': 3.804516379193072, 'num_boost_round': 31}. Best is trial 423 with value: 0.9249676408637224.\n"
     ]
    },
    {
     "name": "stdout",
     "output_type": "stream",
     "text": [
      "Fold 0, AUC-ROC: 0.90880\n",
      "Fold 1, AUC-ROC: 0.93516\n",
      "Fold 2, AUC-ROC: 0.93430\n",
      "Fold 3, AUC-ROC: 0.91270\n",
      "CV AUC-ROC: 0.92274\n"
     ]
    },
    {
     "name": "stderr",
     "output_type": "stream",
     "text": [
      "100%|██████████| 4/4 [01:43<00:00, 25.94s/it]\n",
      "[I 2025-03-14 01:01:26,347] Trial 426 finished with value: 0.9044192661898113 and parameters: {'learning_rate': 0.02918987424810769, 'feature_fraction': 0.43142379180865553, 'n_estimators': 2700, 'max_depth': 14, 'lambda_l1': 50.427315514382386, 'lambda_l2': 17.53363085945207, 'num_boost_round': 33}. Best is trial 423 with value: 0.9249676408637224.\n"
     ]
    },
    {
     "name": "stdout",
     "output_type": "stream",
     "text": [
      "Fold 0, AUC-ROC: 0.88899\n",
      "Fold 1, AUC-ROC: 0.91134\n",
      "Fold 2, AUC-ROC: 0.91682\n",
      "Fold 3, AUC-ROC: 0.90053\n",
      "CV AUC-ROC: 0.90442\n"
     ]
    },
    {
     "name": "stderr",
     "output_type": "stream",
     "text": [
      "100%|██████████| 4/4 [03:27<00:00, 51.76s/it]\n",
      "[I 2025-03-14 01:04:54,313] Trial 427 finished with value: 0.9231272520188524 and parameters: {'learning_rate': 0.034658268859150326, 'feature_fraction': 0.4258306402063648, 'n_estimators': 2649, 'max_depth': 15, 'lambda_l1': 5.215232839784688, 'lambda_l2': 0.03216868821360895, 'num_boost_round': 35}. Best is trial 423 with value: 0.9249676408637224.\n"
     ]
    },
    {
     "name": "stdout",
     "output_type": "stream",
     "text": [
      "Fold 0, AUC-ROC: 0.90831\n",
      "Fold 1, AUC-ROC: 0.93428\n",
      "Fold 2, AUC-ROC: 0.93648\n",
      "Fold 3, AUC-ROC: 0.91344\n",
      "CV AUC-ROC: 0.92313\n"
     ]
    },
    {
     "name": "stderr",
     "output_type": "stream",
     "text": [
      "100%|██████████| 4/4 [03:16<00:00, 49.24s/it]\n",
      "[I 2025-03-14 01:08:12,319] Trial 428 finished with value: 0.9219757117660213 and parameters: {'learning_rate': 0.04445637692927502, 'feature_fraction': 0.4404208163547836, 'n_estimators': 2381, 'max_depth': 13, 'lambda_l1': 2.63452823629882, 'lambda_l2': 5.630788965789283, 'num_boost_round': 32}. Best is trial 423 with value: 0.9249676408637224.\n"
     ]
    },
    {
     "name": "stdout",
     "output_type": "stream",
     "text": [
      "Fold 0, AUC-ROC: 0.90750\n",
      "Fold 1, AUC-ROC: 0.93389\n",
      "Fold 2, AUC-ROC: 0.93441\n",
      "Fold 3, AUC-ROC: 0.91210\n",
      "CV AUC-ROC: 0.92198\n"
     ]
    },
    {
     "name": "stderr",
     "output_type": "stream",
     "text": [
      "100%|██████████| 4/4 [02:35<00:00, 38.81s/it]\n",
      "[I 2025-03-14 01:10:48,489] Trial 429 finished with value: 0.9229091147206518 and parameters: {'learning_rate': 0.04876489704039598, 'feature_fraction': 0.41639530279793, 'n_estimators': 2762, 'max_depth': 14, 'lambda_l1': 5.289484441794563, 'lambda_l2': 0.034436842731011635, 'num_boost_round': 2}. Best is trial 423 with value: 0.9249676408637224.\n"
     ]
    },
    {
     "name": "stdout",
     "output_type": "stream",
     "text": [
      "Fold 0, AUC-ROC: 0.90793\n",
      "Fold 1, AUC-ROC: 0.93511\n",
      "Fold 2, AUC-ROC: 0.93488\n",
      "Fold 3, AUC-ROC: 0.91371\n",
      "CV AUC-ROC: 0.92291\n"
     ]
    },
    {
     "name": "stderr",
     "output_type": "stream",
     "text": [
      "100%|██████████| 4/4 [03:29<00:00, 52.37s/it]\n",
      "[I 2025-03-14 01:14:18,906] Trial 430 finished with value: 0.9206330430457744 and parameters: {'learning_rate': 0.03172905617050124, 'feature_fraction': 0.41260442119124313, 'n_estimators': 1947, 'max_depth': 15, 'lambda_l1': 10.239491863467428, 'lambda_l2': 9.88624714741735, 'num_boost_round': 51}. Best is trial 423 with value: 0.9249676408637224.\n"
     ]
    },
    {
     "name": "stdout",
     "output_type": "stream",
     "text": [
      "Fold 0, AUC-ROC: 0.90548\n",
      "Fold 1, AUC-ROC: 0.93398\n",
      "Fold 2, AUC-ROC: 0.93209\n",
      "Fold 3, AUC-ROC: 0.91098\n",
      "CV AUC-ROC: 0.92063\n"
     ]
    },
    {
     "name": "stderr",
     "output_type": "stream",
     "text": [
      "100%|██████████| 4/4 [03:33<00:00, 53.44s/it]\n",
      "[I 2025-03-14 01:17:53,707] Trial 431 finished with value: 0.9228158088602068 and parameters: {'learning_rate': 0.040493964179480986, 'feature_fraction': 0.448229147753006, 'n_estimators': 2499, 'max_depth': 14, 'lambda_l1': 1.767027029957037, 'lambda_l2': 3.3570901730954303, 'num_boost_round': 36}. Best is trial 423 with value: 0.9249676408637224.\n"
     ]
    },
    {
     "name": "stdout",
     "output_type": "stream",
     "text": [
      "Fold 0, AUC-ROC: 0.90827\n",
      "Fold 1, AUC-ROC: 0.93606\n",
      "Fold 2, AUC-ROC: 0.93466\n",
      "Fold 3, AUC-ROC: 0.91227\n",
      "CV AUC-ROC: 0.92282\n"
     ]
    },
    {
     "name": "stderr",
     "output_type": "stream",
     "text": [
      "100%|██████████| 4/4 [03:57<00:00, 59.47s/it]\n",
      "[I 2025-03-14 01:21:52,629] Trial 432 finished with value: 0.9223078255039846 and parameters: {'learning_rate': 0.02907607228444705, 'feature_fraction': 0.43163868968567903, 'n_estimators': 2593, 'max_depth': 11, 'lambda_l1': 7.906588444934007, 'lambda_l2': 1.8516095426599626, 'num_boost_round': 30}. Best is trial 423 with value: 0.9249676408637224.\n"
     ]
    },
    {
     "name": "stdout",
     "output_type": "stream",
     "text": [
      "Fold 0, AUC-ROC: 0.90678\n",
      "Fold 1, AUC-ROC: 0.93596\n",
      "Fold 2, AUC-ROC: 0.93474\n",
      "Fold 3, AUC-ROC: 0.91175\n",
      "CV AUC-ROC: 0.92231\n"
     ]
    },
    {
     "name": "stderr",
     "output_type": "stream",
     "text": [
      "100%|██████████| 4/4 [03:00<00:00, 45.06s/it]\n",
      "[I 2025-03-14 01:24:53,959] Trial 433 finished with value: 0.9219726563330841 and parameters: {'learning_rate': 0.026085315738736493, 'feature_fraction': 0.871629703730968, 'n_estimators': 2500, 'max_depth': 16, 'lambda_l1': 3.716393514423695, 'lambda_l2': 3.4162532036478903, 'num_boost_round': 28}. Best is trial 423 with value: 0.9249676408637224.\n"
     ]
    },
    {
     "name": "stdout",
     "output_type": "stream",
     "text": [
      "Fold 0, AUC-ROC: 0.90715\n",
      "Fold 1, AUC-ROC: 0.93452\n",
      "Fold 2, AUC-ROC: 0.93494\n",
      "Fold 3, AUC-ROC: 0.91128\n",
      "CV AUC-ROC: 0.92197\n"
     ]
    },
    {
     "name": "stderr",
     "output_type": "stream",
     "text": [
      "100%|██████████| 4/4 [03:23<00:00, 50.85s/it]\n",
      "[I 2025-03-14 01:28:18,318] Trial 434 finished with value: 0.9212037501404189 and parameters: {'learning_rate': 0.032454657120183084, 'feature_fraction': 0.4233221563653033, 'n_estimators': 1851, 'max_depth': 14, 'lambda_l1': 0.07225245367652722, 'lambda_l2': 8.077392911882988, 'num_boost_round': 38}. Best is trial 423 with value: 0.9249676408637224.\n"
     ]
    },
    {
     "name": "stdout",
     "output_type": "stream",
     "text": [
      "Fold 0, AUC-ROC: 0.90964\n",
      "Fold 1, AUC-ROC: 0.93212\n",
      "Fold 2, AUC-ROC: 0.93128\n",
      "Fold 3, AUC-ROC: 0.91177\n",
      "CV AUC-ROC: 0.92120\n"
     ]
    },
    {
     "name": "stderr",
     "output_type": "stream",
     "text": [
      "100%|██████████| 4/4 [04:44<00:00, 71.10s/it]\n",
      "[I 2025-03-14 01:33:03,780] Trial 435 finished with value: 0.918991569191488 and parameters: {'learning_rate': 0.03690995774109773, 'feature_fraction': 0.4066091787753381, 'n_estimators': 2577, 'max_depth': 10, 'lambda_l1': 6.282036073036224, 'lambda_l2': 57.29838995220882, 'num_boost_round': 95}. Best is trial 423 with value: 0.9249676408637224.\n"
     ]
    },
    {
     "name": "stdout",
     "output_type": "stream",
     "text": [
      "Fold 0, AUC-ROC: 0.90415\n",
      "Fold 1, AUC-ROC: 0.93146\n",
      "Fold 2, AUC-ROC: 0.93033\n",
      "Fold 3, AUC-ROC: 0.91003\n",
      "CV AUC-ROC: 0.91899\n"
     ]
    },
    {
     "name": "stderr",
     "output_type": "stream",
     "text": [
      "100%|██████████| 4/4 [03:10<00:00, 47.59s/it]\n",
      "[I 2025-03-14 01:36:15,144] Trial 436 finished with value: 0.9232329290364178 and parameters: {'learning_rate': 0.02860126342669009, 'feature_fraction': 0.4138859913377256, 'n_estimators': 1744, 'max_depth': 13, 'lambda_l1': 3.291100888954399, 'lambda_l2': 1.7669022978320341, 'num_boost_round': 35}. Best is trial 423 with value: 0.9249676408637224.\n"
     ]
    },
    {
     "name": "stdout",
     "output_type": "stream",
     "text": [
      "Fold 0, AUC-ROC: 0.90980\n",
      "Fold 1, AUC-ROC: 0.93261\n",
      "Fold 2, AUC-ROC: 0.93493\n",
      "Fold 3, AUC-ROC: 0.91559\n",
      "CV AUC-ROC: 0.92323\n"
     ]
    },
    {
     "name": "stderr",
     "output_type": "stream",
     "text": [
      "100%|██████████| 4/4 [04:14<00:00, 63.60s/it]\n",
      "[I 2025-03-14 01:40:30,466] Trial 437 finished with value: 0.9223318339015203 and parameters: {'learning_rate': 0.024748408386999193, 'feature_fraction': 0.4394919991692604, 'n_estimators': 2446, 'max_depth': 14, 'lambda_l1': 1.7851253018886009, 'lambda_l2': 5.324854439118898, 'num_boost_round': 42}. Best is trial 423 with value: 0.9249676408637224.\n"
     ]
    },
    {
     "name": "stdout",
     "output_type": "stream",
     "text": [
      "Fold 0, AUC-ROC: 0.90933\n",
      "Fold 1, AUC-ROC: 0.93383\n",
      "Fold 2, AUC-ROC: 0.93298\n",
      "Fold 3, AUC-ROC: 0.91319\n",
      "CV AUC-ROC: 0.92233\n"
     ]
    },
    {
     "name": "stderr",
     "output_type": "stream",
     "text": [
      "100%|██████████| 4/4 [04:30<00:00, 67.70s/it]\n",
      "[I 2025-03-14 01:45:02,224] Trial 438 finished with value: 0.9190867577938487 and parameters: {'learning_rate': 0.0401690422634974, 'feature_fraction': 0.4256629786781048, 'n_estimators': 2535, 'max_depth': 14, 'lambda_l1': 4.54325414873135, 'lambda_l2': 74.21810040010207, 'num_boost_round': 59}. Best is trial 423 with value: 0.9249676408637224.\n"
     ]
    },
    {
     "name": "stdout",
     "output_type": "stream",
     "text": [
      "Fold 0, AUC-ROC: 0.90368\n",
      "Fold 1, AUC-ROC: 0.93284\n",
      "Fold 2, AUC-ROC: 0.93072\n",
      "Fold 3, AUC-ROC: 0.90912\n",
      "CV AUC-ROC: 0.91909\n"
     ]
    },
    {
     "name": "stderr",
     "output_type": "stream",
     "text": [
      "100%|██████████| 4/4 [03:26<00:00, 51.59s/it]\n",
      "[I 2025-03-14 01:48:29,592] Trial 439 finished with value: 0.9225329599115895 and parameters: {'learning_rate': 0.03358506325990532, 'feature_fraction': 0.40607922124849766, 'n_estimators': 1934, 'max_depth': 15, 'lambda_l1': 7.517848521032425, 'lambda_l2': 1.9161391562959273, 'num_boost_round': 25}. Best is trial 423 with value: 0.9249676408637224.\n"
     ]
    },
    {
     "name": "stdout",
     "output_type": "stream",
     "text": [
      "Fold 0, AUC-ROC: 0.90779\n",
      "Fold 1, AUC-ROC: 0.93514\n",
      "Fold 2, AUC-ROC: 0.93402\n",
      "Fold 3, AUC-ROC: 0.91319\n",
      "CV AUC-ROC: 0.92253\n"
     ]
    },
    {
     "name": "stderr",
     "output_type": "stream",
     "text": [
      "100%|██████████| 4/4 [02:34<00:00, 38.61s/it]\n",
      "[I 2025-03-14 01:51:05,040] Trial 440 finished with value: 0.8953853656933017 and parameters: {'learning_rate': 0.0036468905161426706, 'feature_fraction': 0.41758370314043575, 'n_estimators': 1314, 'max_depth': 13, 'lambda_l1': 1.8951944082065433, 'lambda_l2': 3.695932700689815, 'num_boost_round': 46}. Best is trial 423 with value: 0.9249676408637224.\n"
     ]
    },
    {
     "name": "stdout",
     "output_type": "stream",
     "text": [
      "Fold 0, AUC-ROC: 0.87618\n",
      "Fold 1, AUC-ROC: 0.90167\n",
      "Fold 2, AUC-ROC: 0.90919\n",
      "Fold 3, AUC-ROC: 0.89450\n",
      "CV AUC-ROC: 0.89539\n"
     ]
    },
    {
     "name": "stderr",
     "output_type": "stream",
     "text": [
      "100%|██████████| 4/4 [04:02<00:00, 60.57s/it]\n",
      "[I 2025-03-14 01:55:08,306] Trial 441 finished with value: 0.9234920185113893 and parameters: {'learning_rate': 0.02230660619797561, 'feature_fraction': 0.41221491765964713, 'n_estimators': 2227, 'max_depth': 14, 'lambda_l1': 4.9119225776087605, 'lambda_l2': 0.08360934215561577, 'num_boost_round': 33}. Best is trial 423 with value: 0.9249676408637224.\n"
     ]
    },
    {
     "name": "stdout",
     "output_type": "stream",
     "text": [
      "Fold 0, AUC-ROC: 0.90895\n",
      "Fold 1, AUC-ROC: 0.93483\n",
      "Fold 2, AUC-ROC: 0.93512\n",
      "Fold 3, AUC-ROC: 0.91507\n",
      "CV AUC-ROC: 0.92349\n"
     ]
    },
    {
     "name": "stderr",
     "output_type": "stream",
     "text": [
      "100%|██████████| 4/4 [00:54<00:00, 13.64s/it]\n",
      "[I 2025-03-14 01:56:03,890] Trial 442 finished with value: 0.9098178984030814 and parameters: {'learning_rate': 0.29920937044907137, 'feature_fraction': 0.4001309234885559, 'n_estimators': 1868, 'max_depth': 14, 'lambda_l1': 3.3602373433344743, 'lambda_l2': 1.7611812475914002, 'num_boost_round': 39}. Best is trial 423 with value: 0.9249676408637224.\n"
     ]
    },
    {
     "name": "stdout",
     "output_type": "stream",
     "text": [
      "Fold 0, AUC-ROC: 0.90143\n",
      "Fold 1, AUC-ROC: 0.92007\n",
      "Fold 2, AUC-ROC: 0.92477\n",
      "Fold 3, AUC-ROC: 0.89301\n",
      "CV AUC-ROC: 0.90982\n"
     ]
    },
    {
     "name": "stderr",
     "output_type": "stream",
     "text": [
      "100%|██████████| 4/4 [02:16<00:00, 34.04s/it]\n",
      "[I 2025-03-14 01:58:21,096] Trial 443 finished with value: 0.9226075907429383 and parameters: {'learning_rate': 0.0571935301663951, 'feature_fraction': 0.4238519619147889, 'n_estimators': 2002, 'max_depth': 15, 'lambda_l1': 6.079640021283195, 'lambda_l2': 0.03718299801484942, 'num_boost_round': 37}. Best is trial 423 with value: 0.9249676408637224.\n"
     ]
    },
    {
     "name": "stdout",
     "output_type": "stream",
     "text": [
      "Fold 0, AUC-ROC: 0.90883\n",
      "Fold 1, AUC-ROC: 0.93439\n",
      "Fold 2, AUC-ROC: 0.93454\n",
      "Fold 3, AUC-ROC: 0.91268\n",
      "CV AUC-ROC: 0.92261\n"
     ]
    },
    {
     "name": "stderr",
     "output_type": "stream",
     "text": [
      "100%|██████████| 4/4 [02:31<00:00, 37.86s/it]\n",
      "[I 2025-03-14 02:00:53,430] Trial 444 finished with value: 0.8997343599782097 and parameters: {'learning_rate': 0.028609494022658933, 'feature_fraction': 0.43409726722694564, 'n_estimators': 2096, 'max_depth': 3, 'lambda_l1': 0.07011736889597397, 'lambda_l2': 3.7973127763119363, 'num_boost_round': 48}. Best is trial 423 with value: 0.9249676408637224.\n"
     ]
    },
    {
     "name": "stdout",
     "output_type": "stream",
     "text": [
      "Fold 0, AUC-ROC: 0.89055\n",
      "Fold 1, AUC-ROC: 0.90458\n",
      "Fold 2, AUC-ROC: 0.90726\n",
      "Fold 3, AUC-ROC: 0.89654\n",
      "CV AUC-ROC: 0.89973\n"
     ]
    },
    {
     "name": "stderr",
     "output_type": "stream",
     "text": [
      "100%|██████████| 4/4 [03:47<00:00, 56.91s/it]\n",
      "[I 2025-03-14 02:04:42,008] Trial 445 finished with value: 0.9199313068463397 and parameters: {'learning_rate': 0.03514734694157389, 'feature_fraction': 0.4087805043689723, 'n_estimators': 2290, 'max_depth': 13, 'lambda_l1': 14.804194386104164, 'lambda_l2': 5.959719282958632, 'num_boost_round': 41}. Best is trial 423 with value: 0.9249676408637224.\n"
     ]
    },
    {
     "name": "stdout",
     "output_type": "stream",
     "text": [
      "Fold 0, AUC-ROC: 0.90474\n",
      "Fold 1, AUC-ROC: 0.93286\n",
      "Fold 2, AUC-ROC: 0.93191\n",
      "Fold 3, AUC-ROC: 0.91021\n",
      "CV AUC-ROC: 0.91993\n"
     ]
    },
    {
     "name": "stderr",
     "output_type": "stream",
     "text": [
      "100%|██████████| 4/4 [03:34<00:00, 53.69s/it]\n",
      "[I 2025-03-14 02:08:17,754] Trial 446 finished with value: 0.9210411147788986 and parameters: {'learning_rate': 0.025273592961691425, 'feature_fraction': 0.4175861467483002, 'n_estimators': 1975, 'max_depth': 14, 'lambda_l1': 9.373682208560052, 'lambda_l2': 1.9251288414309444, 'num_boost_round': 34}. Best is trial 423 with value: 0.9249676408637224.\n"
     ]
    },
    {
     "name": "stdout",
     "output_type": "stream",
     "text": [
      "Fold 0, AUC-ROC: 0.90671\n",
      "Fold 1, AUC-ROC: 0.93260\n",
      "Fold 2, AUC-ROC: 0.93221\n",
      "Fold 3, AUC-ROC: 0.91264\n",
      "CV AUC-ROC: 0.92104\n"
     ]
    },
    {
     "name": "stderr",
     "output_type": "stream",
     "text": [
      "100%|██████████| 4/4 [03:53<00:00, 58.32s/it]\n",
      "[I 2025-03-14 02:12:12,026] Trial 447 finished with value: 0.9237241749628684 and parameters: {'learning_rate': 0.031000286392906518, 'feature_fraction': 0.42815074905727424, 'n_estimators': 2202, 'max_depth': 15, 'lambda_l1': 2.9742073796915456, 'lambda_l2': 1.9975816368764518, 'num_boost_round': 57}. Best is trial 423 with value: 0.9249676408637224.\n"
     ]
    },
    {
     "name": "stdout",
     "output_type": "stream",
     "text": [
      "Fold 0, AUC-ROC: 0.91059\n",
      "Fold 1, AUC-ROC: 0.93569\n",
      "Fold 2, AUC-ROC: 0.93492\n",
      "Fold 3, AUC-ROC: 0.91370\n",
      "CV AUC-ROC: 0.92372\n"
     ]
    },
    {
     "name": "stderr",
     "output_type": "stream",
     "text": [
      "100%|██████████| 4/4 [03:49<00:00, 57.30s/it]\n",
      "[I 2025-03-14 02:16:02,244] Trial 448 finished with value: 0.919403516802485 and parameters: {'learning_rate': 0.02164880008863654, 'feature_fraction': 0.40693144839113154, 'n_estimators': 2061, 'max_depth': 16, 'lambda_l1': 11.878922512808021, 'lambda_l2': 4.175770129746972, 'num_boost_round': 39}. Best is trial 423 with value: 0.9249676408637224.\n"
     ]
    },
    {
     "name": "stdout",
     "output_type": "stream",
     "text": [
      "Fold 0, AUC-ROC: 0.90479\n",
      "Fold 1, AUC-ROC: 0.93117\n",
      "Fold 2, AUC-ROC: 0.93086\n",
      "Fold 3, AUC-ROC: 0.91080\n",
      "CV AUC-ROC: 0.91940\n"
     ]
    },
    {
     "name": "stderr",
     "output_type": "stream",
     "text": [
      "100%|██████████| 4/4 [02:31<00:00, 37.89s/it]\n",
      "[I 2025-03-14 02:18:34,841] Trial 449 finished with value: 0.9228392831218892 and parameters: {'learning_rate': 0.04697976790753231, 'feature_fraction': 0.41691932190268866, 'n_estimators': 1921, 'max_depth': 14, 'lambda_l1': 4.9432700750862875, 'lambda_l2': 0.0881757621081482, 'num_boost_round': 43}. Best is trial 423 with value: 0.9249676408637224.\n"
     ]
    },
    {
     "name": "stdout",
     "output_type": "stream",
     "text": [
      "Fold 0, AUC-ROC: 0.90809\n",
      "Fold 1, AUC-ROC: 0.93584\n",
      "Fold 2, AUC-ROC: 0.93474\n",
      "Fold 3, AUC-ROC: 0.91269\n",
      "CV AUC-ROC: 0.92284\n"
     ]
    },
    {
     "name": "stderr",
     "output_type": "stream",
     "text": [
      "100%|██████████| 4/4 [02:37<00:00, 39.38s/it]\n",
      "[I 2025-03-14 02:21:13,295] Trial 450 finished with value: 0.9183290143282641 and parameters: {'learning_rate': 0.0386233005092266, 'feature_fraction': 0.4000327436973076, 'n_estimators': 1696, 'max_depth': 5, 'lambda_l1': 2.1715782800841734, 'lambda_l2': 0.04329377081646527, 'num_boost_round': 37}. Best is trial 423 with value: 0.9249676408637224.\n"
     ]
    },
    {
     "name": "stdout",
     "output_type": "stream",
     "text": [
      "Fold 0, AUC-ROC: 0.90765\n",
      "Fold 1, AUC-ROC: 0.92710\n",
      "Fold 2, AUC-ROC: 0.92840\n",
      "Fold 3, AUC-ROC: 0.91017\n",
      "CV AUC-ROC: 0.91833\n"
     ]
    },
    {
     "name": "stderr",
     "output_type": "stream",
     "text": [
      "100%|██████████| 4/4 [04:40<00:00, 70.25s/it]\n",
      "[I 2025-03-14 02:25:55,224] Trial 451 finished with value: 0.9231230392429504 and parameters: {'learning_rate': 0.026442494451758822, 'feature_fraction': 0.4457442158431104, 'n_estimators': 2787, 'max_depth': 11, 'lambda_l1': 6.513410783864682, 'lambda_l2': 3.2467706221468253, 'num_boost_round': 41}. Best is trial 423 with value: 0.9249676408637224.\n"
     ]
    },
    {
     "name": "stdout",
     "output_type": "stream",
     "text": [
      "Fold 0, AUC-ROC: 0.90843\n",
      "Fold 1, AUC-ROC: 0.93568\n",
      "Fold 2, AUC-ROC: 0.93505\n",
      "Fold 3, AUC-ROC: 0.91333\n",
      "CV AUC-ROC: 0.92312\n"
     ]
    },
    {
     "name": "stderr",
     "output_type": "stream",
     "text": [
      "100%|██████████| 4/4 [03:30<00:00, 52.57s/it]\n",
      "[I 2025-03-14 02:29:26,523] Trial 452 finished with value: 0.9256627859438993 and parameters: {'learning_rate': 0.03073775816915715, 'feature_fraction': 0.4113379114637828, 'n_estimators': 2168, 'max_depth': 13, 'lambda_l1': 1.7393414529389066, 'lambda_l2': 0.02428271022480627, 'num_boost_round': 45}. Best is trial 452 with value: 0.9256627859438993.\n"
     ]
    },
    {
     "name": "stdout",
     "output_type": "stream",
     "text": [
      "Fold 0, AUC-ROC: 0.91174\n",
      "Fold 1, AUC-ROC: 0.93653\n",
      "Fold 2, AUC-ROC: 0.93656\n",
      "Fold 3, AUC-ROC: 0.91782\n",
      "CV AUC-ROC: 0.92566\n"
     ]
    },
    {
     "name": "stderr",
     "output_type": "stream",
     "text": [
      "100%|██████████| 4/4 [03:18<00:00, 49.67s/it]\n",
      "[I 2025-03-14 02:32:46,108] Trial 453 finished with value: 0.9200574736679706 and parameters: {'learning_rate': 0.02337223880995887, 'feature_fraction': 0.4070156504353266, 'n_estimators': 1825, 'max_depth': 14, 'lambda_l1': 0.04342743080596412, 'lambda_l2': 6.657773495935402, 'num_boost_round': 46}. Best is trial 452 with value: 0.9256627859438993.\n"
     ]
    },
    {
     "name": "stdout",
     "output_type": "stream",
     "text": [
      "Fold 0, AUC-ROC: 0.90691\n",
      "Fold 1, AUC-ROC: 0.92976\n",
      "Fold 2, AUC-ROC: 0.93068\n",
      "Fold 3, AUC-ROC: 0.91288\n",
      "CV AUC-ROC: 0.92006\n"
     ]
    },
    {
     "name": "stderr",
     "output_type": "stream",
     "text": [
      "100%|██████████| 4/4 [03:32<00:00, 53.05s/it]\n",
      "[I 2025-03-14 02:36:19,167] Trial 454 finished with value: 0.9236441191016733 and parameters: {'learning_rate': 0.02788716331210727, 'feature_fraction': 0.4120161489826708, 'n_estimators': 2005, 'max_depth': 14, 'lambda_l1': 1.3944211400919442, 'lambda_l2': 2.2143316259483123, 'num_boost_round': 45}. Best is trial 452 with value: 0.9256627859438993.\n"
     ]
    },
    {
     "name": "stdout",
     "output_type": "stream",
     "text": [
      "Fold 0, AUC-ROC: 0.91005\n",
      "Fold 1, AUC-ROC: 0.93455\n",
      "Fold 2, AUC-ROC: 0.93492\n",
      "Fold 3, AUC-ROC: 0.91505\n",
      "CV AUC-ROC: 0.92364\n"
     ]
    },
    {
     "name": "stderr",
     "output_type": "stream",
     "text": [
      "100%|██████████| 4/4 [03:41<00:00, 55.44s/it]\n",
      "[I 2025-03-14 02:40:01,916] Trial 455 finished with value: 0.9227521904557412 and parameters: {'learning_rate': 0.029395457514844184, 'feature_fraction': 0.42625590042282535, 'n_estimators': 2114, 'max_depth': 13, 'lambda_l1': 2.968971495906914, 'lambda_l2': 4.67543495055941, 'num_boost_round': 50}. Best is trial 452 with value: 0.9256627859438993.\n"
     ]
    },
    {
     "name": "stdout",
     "output_type": "stream",
     "text": [
      "Fold 0, AUC-ROC: 0.91025\n",
      "Fold 1, AUC-ROC: 0.93489\n",
      "Fold 2, AUC-ROC: 0.93371\n",
      "Fold 3, AUC-ROC: 0.91215\n",
      "CV AUC-ROC: 0.92275\n"
     ]
    },
    {
     "name": "stderr",
     "output_type": "stream",
     "text": [
      "100%|██████████| 4/4 [03:53<00:00, 58.42s/it]\n",
      "[I 2025-03-14 02:43:56,613] Trial 456 finished with value: 0.9224356833378848 and parameters: {'learning_rate': 0.021157024859981218, 'feature_fraction': 0.40774211116522036, 'n_estimators': 2376, 'max_depth': 14, 'lambda_l1': 1.7753166893169947, 'lambda_l2': 2.0513572933553927, 'num_boost_round': 49}. Best is trial 452 with value: 0.9256627859438993.\n"
     ]
    },
    {
     "name": "stdout",
     "output_type": "stream",
     "text": [
      "Fold 0, AUC-ROC: 0.90962\n",
      "Fold 1, AUC-ROC: 0.93388\n",
      "Fold 2, AUC-ROC: 0.93394\n",
      "Fold 3, AUC-ROC: 0.91231\n",
      "CV AUC-ROC: 0.92244\n"
     ]
    },
    {
     "name": "stderr",
     "output_type": "stream",
     "text": [
      "100%|██████████| 4/4 [03:08<00:00, 47.06s/it]\n",
      "[I 2025-03-14 02:47:05,870] Trial 457 finished with value: 0.9156290110734948 and parameters: {'learning_rate': 0.024340626149652912, 'feature_fraction': 0.41253426048743413, 'n_estimators': 2037, 'max_depth': 14, 'lambda_l1': 24.685127226947134, 'lambda_l2': 2.074137787335095, 'num_boost_round': 47}. Best is trial 452 with value: 0.9256627859438993.\n"
     ]
    },
    {
     "name": "stdout",
     "output_type": "stream",
     "text": [
      "Fold 0, AUC-ROC: 0.90016\n",
      "Fold 1, AUC-ROC: 0.92639\n",
      "Fold 2, AUC-ROC: 0.92807\n",
      "Fold 3, AUC-ROC: 0.90790\n",
      "CV AUC-ROC: 0.91563\n"
     ]
    },
    {
     "name": "stderr",
     "output_type": "stream",
     "text": [
      "100%|██████████| 4/4 [03:17<00:00, 49.37s/it]\n",
      "[I 2025-03-14 02:50:24,342] Trial 458 finished with value: 0.9228534639579536 and parameters: {'learning_rate': 0.03477928911051383, 'feature_fraction': 0.40024677381272394, 'n_estimators': 1883, 'max_depth': 15, 'lambda_l1': 3.6377133200028067, 'lambda_l2': 3.7858184288646597, 'num_boost_round': 54}. Best is trial 452 with value: 0.9256627859438993.\n"
     ]
    },
    {
     "name": "stdout",
     "output_type": "stream",
     "text": [
      "Fold 0, AUC-ROC: 0.90943\n",
      "Fold 1, AUC-ROC: 0.93503\n",
      "Fold 2, AUC-ROC: 0.93428\n",
      "Fold 3, AUC-ROC: 0.91268\n",
      "CV AUC-ROC: 0.92285\n"
     ]
    },
    {
     "name": "stderr",
     "output_type": "stream",
     "text": [
      "100%|██████████| 4/4 [02:16<00:00, 34.19s/it]\n",
      "[I 2025-03-14 02:52:42,077] Trial 459 finished with value: 0.912701644722511 and parameters: {'learning_rate': 0.031285554467660605, 'feature_fraction': 0.4203345554013429, 'n_estimators': 1965, 'max_depth': 14, 'lambda_l1': 29.6442316262773, 'lambda_l2': 1.8414827172884125, 'num_boost_round': 87}. Best is trial 452 with value: 0.9256627859438993.\n"
     ]
    },
    {
     "name": "stdout",
     "output_type": "stream",
     "text": [
      "Fold 0, AUC-ROC: 0.89720\n",
      "Fold 1, AUC-ROC: 0.92330\n",
      "Fold 2, AUC-ROC: 0.92421\n",
      "Fold 3, AUC-ROC: 0.90609\n",
      "CV AUC-ROC: 0.91270\n"
     ]
    },
    {
     "name": "stderr",
     "output_type": "stream",
     "text": [
      "100%|██████████| 4/4 [01:15<00:00, 18.88s/it]\n",
      "[I 2025-03-14 02:53:58,699] Trial 460 finished with value: 0.9036030730521503 and parameters: {'learning_rate': 0.040227441594668664, 'feature_fraction': 0.43105582663767694, 'n_estimators': 2073, 'max_depth': 13, 'lambda_l1': 53.320153372533866, 'lambda_l2': 4.9269450295269, 'num_boost_round': 44}. Best is trial 452 with value: 0.9256627859438993.\n"
     ]
    },
    {
     "name": "stdout",
     "output_type": "stream",
     "text": [
      "Fold 0, AUC-ROC: 0.88788\n",
      "Fold 1, AUC-ROC: 0.90959\n",
      "Fold 2, AUC-ROC: 0.91622\n",
      "Fold 3, AUC-ROC: 0.90073\n",
      "CV AUC-ROC: 0.90360\n"
     ]
    },
    {
     "name": "stderr",
     "output_type": "stream",
     "text": [
      "100%|██████████| 4/4 [03:46<00:00, 56.50s/it]\n",
      "[I 2025-03-14 02:57:45,712] Trial 461 finished with value: 0.9237388191297049 and parameters: {'learning_rate': 0.027267639316200576, 'feature_fraction': 0.4121232952682989, 'n_estimators': 2150, 'max_depth': 14, 'lambda_l1': 1.710986609837325, 'lambda_l2': 1.7307698363645396, 'num_boost_round': 61}. Best is trial 452 with value: 0.9256627859438993.\n"
     ]
    },
    {
     "name": "stdout",
     "output_type": "stream",
     "text": [
      "Fold 0, AUC-ROC: 0.90983\n",
      "Fold 1, AUC-ROC: 0.93483\n",
      "Fold 2, AUC-ROC: 0.93554\n",
      "Fold 3, AUC-ROC: 0.91476\n",
      "CV AUC-ROC: 0.92374\n"
     ]
    },
    {
     "name": "stderr",
     "output_type": "stream",
     "text": [
      "100%|██████████| 4/4 [04:01<00:00, 60.49s/it]\n",
      "[I 2025-03-14 03:01:48,658] Trial 462 finished with value: 0.915780000471997 and parameters: {'learning_rate': 0.023746427969172267, 'feature_fraction': 0.6376348326645939, 'n_estimators': 2311, 'max_depth': 13, 'lambda_l1': 7.657386328531507, 'lambda_l2': 80.0711412800758, 'num_boost_round': 52}. Best is trial 452 with value: 0.9256627859438993.\n"
     ]
    },
    {
     "name": "stdout",
     "output_type": "stream",
     "text": [
      "Fold 0, AUC-ROC: 0.90040\n",
      "Fold 1, AUC-ROC: 0.92759\n",
      "Fold 2, AUC-ROC: 0.92792\n",
      "Fold 3, AUC-ROC: 0.90721\n",
      "CV AUC-ROC: 0.91578\n"
     ]
    },
    {
     "name": "stderr",
     "output_type": "stream",
     "text": [
      "100%|██████████| 4/4 [03:07<00:00, 46.96s/it]\n",
      "[I 2025-03-14 03:04:57,481] Trial 463 finished with value: 0.9239218932563574 and parameters: {'learning_rate': 0.03575720028112448, 'feature_fraction': 0.4375532512842862, 'n_estimators': 2243, 'max_depth': 16, 'lambda_l1': 5.071936856357331, 'lambda_l2': 0.10151378252517457, 'num_boost_round': 43}. Best is trial 452 with value: 0.9256627859438993.\n"
     ]
    },
    {
     "name": "stdout",
     "output_type": "stream",
     "text": [
      "Fold 0, AUC-ROC: 0.90883\n",
      "Fold 1, AUC-ROC: 0.93662\n",
      "Fold 2, AUC-ROC: 0.93600\n",
      "Fold 3, AUC-ROC: 0.91424\n",
      "CV AUC-ROC: 0.92392\n"
     ]
    },
    {
     "name": "stderr",
     "output_type": "stream",
     "text": [
      "100%|██████████| 4/4 [03:21<00:00, 50.50s/it]\n",
      "[I 2025-03-14 03:08:20,450] Trial 464 finished with value: 0.9239442526233255 and parameters: {'learning_rate': 0.03682304719172031, 'feature_fraction': 0.44020123524490296, 'n_estimators': 2256, 'max_depth': 14, 'lambda_l1': 4.113955590792144, 'lambda_l2': 0.013678067598015722, 'num_boost_round': 44}. Best is trial 452 with value: 0.9256627859438993.\n"
     ]
    },
    {
     "name": "stdout",
     "output_type": "stream",
     "text": [
      "Fold 0, AUC-ROC: 0.91022\n",
      "Fold 1, AUC-ROC: 0.93485\n",
      "Fold 2, AUC-ROC: 0.93604\n",
      "Fold 3, AUC-ROC: 0.91466\n",
      "CV AUC-ROC: 0.92394\n"
     ]
    },
    {
     "name": "stderr",
     "output_type": "stream",
     "text": [
      "100%|██████████| 4/4 [03:20<00:00, 50.10s/it]\n",
      "[I 2025-03-14 03:11:41,925] Trial 465 finished with value: 0.9229612357898479 and parameters: {'learning_rate': 0.04610456655627337, 'feature_fraction': 0.43818841223735694, 'n_estimators': 2216, 'max_depth': 14, 'lambda_l1': 1.5145908979851865, 'lambda_l2': 7.507194351337903, 'num_boost_round': 41}. Best is trial 452 with value: 0.9256627859438993.\n"
     ]
    },
    {
     "name": "stdout",
     "output_type": "stream",
     "text": [
      "Fold 0, AUC-ROC: 0.91176\n",
      "Fold 1, AUC-ROC: 0.93467\n",
      "Fold 2, AUC-ROC: 0.93391\n",
      "Fold 3, AUC-ROC: 0.91150\n",
      "CV AUC-ROC: 0.92296\n"
     ]
    },
    {
     "name": "stderr",
     "output_type": "stream",
     "text": [
      "100%|██████████| 4/4 [03:06<00:00, 46.62s/it]\n",
      "[I 2025-03-14 03:14:49,438] Trial 466 finished with value: 0.924464589580119 and parameters: {'learning_rate': 0.040681490340506055, 'feature_fraction': 0.4464150320585229, 'n_estimators': 2207, 'max_depth': 14, 'lambda_l1': 3.795247515025115, 'lambda_l2': 0.0836323319534534, 'num_boost_round': 43}. Best is trial 452 with value: 0.9256627859438993.\n"
     ]
    },
    {
     "name": "stdout",
     "output_type": "stream",
     "text": [
      "Fold 0, AUC-ROC: 0.90958\n",
      "Fold 1, AUC-ROC: 0.93663\n",
      "Fold 2, AUC-ROC: 0.93752\n",
      "Fold 3, AUC-ROC: 0.91412\n",
      "CV AUC-ROC: 0.92446\n"
     ]
    },
    {
     "name": "stderr",
     "output_type": "stream",
     "text": [
      "100%|██████████| 4/4 [03:12<00:00, 48.18s/it]\n",
      "[I 2025-03-14 03:18:03,158] Trial 467 finished with value: 0.9229492345611853 and parameters: {'learning_rate': 0.04150982620169637, 'feature_fraction': 0.44550168175589955, 'n_estimators': 2292, 'max_depth': 14, 'lambda_l1': 0.08863052749027078, 'lambda_l2': 3.2403813920956157, 'num_boost_round': 44}. Best is trial 452 with value: 0.9256627859438993.\n"
     ]
    },
    {
     "name": "stdout",
     "output_type": "stream",
     "text": [
      "Fold 0, AUC-ROC: 0.91080\n",
      "Fold 1, AUC-ROC: 0.93347\n",
      "Fold 2, AUC-ROC: 0.93347\n",
      "Fold 3, AUC-ROC: 0.91406\n",
      "CV AUC-ROC: 0.92295\n"
     ]
    },
    {
     "name": "stderr",
     "output_type": "stream",
     "text": [
      "100%|██████████| 4/4 [03:08<00:00, 47.21s/it]\n",
      "[I 2025-03-14 03:21:13,023] Trial 468 finished with value: 0.9227031055308719 and parameters: {'learning_rate': 0.04544519154941578, 'feature_fraction': 0.45053717870722154, 'n_estimators': 2249, 'max_depth': 14, 'lambda_l1': 6.049822888482035, 'lambda_l2': 1.8231929683229455, 'num_boost_round': 43}. Best is trial 452 with value: 0.9256627859438993.\n"
     ]
    },
    {
     "name": "stdout",
     "output_type": "stream",
     "text": [
      "Fold 0, AUC-ROC: 0.90776\n",
      "Fold 1, AUC-ROC: 0.93593\n",
      "Fold 2, AUC-ROC: 0.93448\n",
      "Fold 3, AUC-ROC: 0.91263\n",
      "CV AUC-ROC: 0.92270\n"
     ]
    },
    {
     "name": "stderr",
     "output_type": "stream",
     "text": [
      "100%|██████████| 4/4 [01:43<00:00, 25.85s/it]\n",
      "[I 2025-03-14 03:22:57,355] Trial 469 finished with value: 0.9225041872919988 and parameters: {'learning_rate': 0.05206974101149196, 'feature_fraction': 0.7898002453682972, 'n_estimators': 2232, 'max_depth': 13, 'lambda_l1': 3.235303215521101, 'lambda_l2': 0.005276820541897598, 'num_boost_round': 46}. Best is trial 452 with value: 0.9256627859438993.\n"
     ]
    },
    {
     "name": "stdout",
     "output_type": "stream",
     "text": [
      "Fold 0, AUC-ROC: 0.90654\n",
      "Fold 1, AUC-ROC: 0.93535\n",
      "Fold 2, AUC-ROC: 0.93471\n",
      "Fold 3, AUC-ROC: 0.91342\n",
      "CV AUC-ROC: 0.92250\n"
     ]
    },
    {
     "name": "stderr",
     "output_type": "stream",
     "text": [
      "100%|██████████| 4/4 [03:35<00:00, 53.80s/it]\n",
      "[I 2025-03-14 03:26:33,573] Trial 470 finished with value: 0.9224940301558088 and parameters: {'learning_rate': 0.0375052547292666, 'feature_fraction': 0.43989588246257133, 'n_estimators': 2177, 'max_depth': 14, 'lambda_l1': 4.691837383915956, 'lambda_l2': 5.020561875997047, 'num_boost_round': 43}. Best is trial 452 with value: 0.9256627859438993.\n"
     ]
    },
    {
     "name": "stdout",
     "output_type": "stream",
     "text": [
      "Fold 0, AUC-ROC: 0.90762\n",
      "Fold 1, AUC-ROC: 0.93531\n",
      "Fold 2, AUC-ROC: 0.93466\n",
      "Fold 3, AUC-ROC: 0.91238\n",
      "CV AUC-ROC: 0.92249\n"
     ]
    },
    {
     "name": "stderr",
     "output_type": "stream",
     "text": [
      "100%|██████████| 4/4 [02:03<00:00, 30.76s/it]\n",
      "[I 2025-03-14 03:28:37,759] Trial 471 finished with value: 0.9217021685662644 and parameters: {'learning_rate': 0.039758866204683, 'feature_fraction': 0.7196636161259645, 'n_estimators': 2356, 'max_depth': 14, 'lambda_l1': 0.024124328634160808, 'lambda_l2': 3.227718477448678, 'num_boost_round': 29}. Best is trial 452 with value: 0.9256627859438993.\n"
     ]
    },
    {
     "name": "stdout",
     "output_type": "stream",
     "text": [
      "Fold 0, AUC-ROC: 0.90830\n",
      "Fold 1, AUC-ROC: 0.93383\n",
      "Fold 2, AUC-ROC: 0.93316\n",
      "Fold 3, AUC-ROC: 0.91152\n",
      "CV AUC-ROC: 0.92170\n"
     ]
    },
    {
     "name": "stderr",
     "output_type": "stream",
     "text": [
      "100%|██████████| 4/4 [03:04<00:00, 46.04s/it]\n",
      "[I 2025-03-14 03:31:42,949] Trial 472 finished with value: 0.9238329926770257 and parameters: {'learning_rate': 0.042881317300137486, 'feature_fraction': 0.4367496690450586, 'n_estimators': 2155, 'max_depth': 15, 'lambda_l1': 3.2677724818121585, 'lambda_l2': 1.5676897788636832, 'num_boost_round': 41}. Best is trial 452 with value: 0.9256627859438993.\n"
     ]
    },
    {
     "name": "stdout",
     "output_type": "stream",
     "text": [
      "Fold 0, AUC-ROC: 0.91018\n",
      "Fold 1, AUC-ROC: 0.93621\n",
      "Fold 2, AUC-ROC: 0.93518\n",
      "Fold 3, AUC-ROC: 0.91377\n",
      "CV AUC-ROC: 0.92383\n"
     ]
    },
    {
     "name": "stderr",
     "output_type": "stream",
     "text": [
      "100%|██████████| 4/4 [04:16<00:00, 64.11s/it]\n",
      "[I 2025-03-14 03:36:00,382] Trial 473 finished with value: 0.9188026974289834 and parameters: {'learning_rate': 0.03602851195995195, 'feature_fraction': 0.4252747696149348, 'n_estimators': 2268, 'max_depth': 11, 'lambda_l1': 7.078664531882035, 'lambda_l2': 64.38743437617836, 'num_boost_round': 45}. Best is trial 452 with value: 0.9256627859438993.\n"
     ]
    },
    {
     "name": "stdout",
     "output_type": "stream",
     "text": [
      "Fold 0, AUC-ROC: 0.90410\n",
      "Fold 1, AUC-ROC: 0.93109\n",
      "Fold 2, AUC-ROC: 0.93057\n",
      "Fold 3, AUC-ROC: 0.90945\n",
      "CV AUC-ROC: 0.91880\n"
     ]
    },
    {
     "name": "stderr",
     "output_type": "stream",
     "text": [
      "100%|██████████| 4/4 [03:13<00:00, 48.30s/it]\n",
      "[I 2025-03-14 03:39:14,642] Trial 474 finished with value: 0.9231943549221264 and parameters: {'learning_rate': 0.04910332812175941, 'feature_fraction': 0.4528698165419662, 'n_estimators': 2186, 'max_depth': 12, 'lambda_l1': 2.2277158150934664, 'lambda_l2': 3.545700589838068, 'num_boost_round': 35}. Best is trial 452 with value: 0.9256627859438993.\n"
     ]
    },
    {
     "name": "stdout",
     "output_type": "stream",
     "text": [
      "Fold 0, AUC-ROC: 0.91010\n",
      "Fold 1, AUC-ROC: 0.93603\n",
      "Fold 2, AUC-ROC: 0.93357\n",
      "Fold 3, AUC-ROC: 0.91308\n",
      "CV AUC-ROC: 0.92319\n"
     ]
    },
    {
     "name": "stderr",
     "output_type": "stream",
     "text": [
      "100%|██████████| 4/4 [03:44<00:00, 56.11s/it]\n",
      "[I 2025-03-14 03:42:59,969] Trial 475 finished with value: 0.9234037057521464 and parameters: {'learning_rate': 0.03549713330792467, 'feature_fraction': 0.42988184760146925, 'n_estimators': 2113, 'max_depth': 13, 'lambda_l1': 8.631564023883794, 'lambda_l2': 0.033256908297941666, 'num_boost_round': 38}. Best is trial 452 with value: 0.9256627859438993.\n"
     ]
    },
    {
     "name": "stdout",
     "output_type": "stream",
     "text": [
      "Fold 0, AUC-ROC: 0.90830\n",
      "Fold 1, AUC-ROC: 0.93639\n",
      "Fold 2, AUC-ROC: 0.93572\n",
      "Fold 3, AUC-ROC: 0.91321\n",
      "CV AUC-ROC: 0.92340\n"
     ]
    },
    {
     "name": "stderr",
     "output_type": "stream",
     "text": [
      "100%|██████████| 4/4 [03:10<00:00, 47.50s/it]\n",
      "[I 2025-03-14 03:46:10,863] Trial 476 finished with value: 0.9215444361004241 and parameters: {'learning_rate': 0.04089571055724401, 'feature_fraction': 0.42009032632162036, 'n_estimators': 2249, 'max_depth': 10, 'lambda_l1': 5.29222993231552, 'lambda_l2': 6.286178635482297, 'num_boost_round': 40}. Best is trial 452 with value: 0.9256627859438993.\n"
     ]
    },
    {
     "name": "stdout",
     "output_type": "stream",
     "text": [
      "Fold 0, AUC-ROC: 0.90558\n",
      "Fold 1, AUC-ROC: 0.93528\n",
      "Fold 2, AUC-ROC: 0.93417\n",
      "Fold 3, AUC-ROC: 0.91115\n",
      "CV AUC-ROC: 0.92154\n"
     ]
    },
    {
     "name": "stderr",
     "output_type": "stream",
     "text": [
      "100%|██████████| 4/4 [01:48<00:00, 27.11s/it]\n",
      "[I 2025-03-14 03:48:00,237] Trial 477 finished with value: 0.9222113816766326 and parameters: {'learning_rate': 0.03532132555753539, 'feature_fraction': 0.9000564780347614, 'n_estimators': 1791, 'max_depth': 14, 'lambda_l1': 1.773758879130223, 'lambda_l2': 0.06718848244954247, 'num_boost_round': 31}. Best is trial 452 with value: 0.9256627859438993.\n"
     ]
    },
    {
     "name": "stdout",
     "output_type": "stream",
     "text": [
      "Fold 0, AUC-ROC: 0.90642\n",
      "Fold 1, AUC-ROC: 0.93569\n",
      "Fold 2, AUC-ROC: 0.93353\n",
      "Fold 3, AUC-ROC: 0.91321\n",
      "CV AUC-ROC: 0.92221\n"
     ]
    },
    {
     "name": "stderr",
     "output_type": "stream",
     "text": [
      "100%|██████████| 4/4 [01:21<00:00, 20.42s/it]\n",
      "[I 2025-03-14 03:49:22,977] Trial 478 finished with value: 0.901862870676946 and parameters: {'learning_rate': 0.03278643835861867, 'feature_fraction': 0.40742706391290817, 'n_estimators': 2331, 'max_depth': 15, 'lambda_l1': 60.69493476791362, 'lambda_l2': 2.1773240919207493, 'num_boost_round': 42}. Best is trial 452 with value: 0.9256627859438993.\n"
     ]
    },
    {
     "name": "stdout",
     "output_type": "stream",
     "text": [
      "Fold 0, AUC-ROC: 0.88565\n",
      "Fold 1, AUC-ROC: 0.90849\n",
      "Fold 2, AUC-ROC: 0.91363\n",
      "Fold 3, AUC-ROC: 0.89969\n",
      "CV AUC-ROC: 0.90186\n"
     ]
    },
    {
     "name": "stderr",
     "output_type": "stream",
     "text": [
      "100%|██████████| 4/4 [02:50<00:00, 42.56s/it]\n",
      "[I 2025-03-14 03:52:14,199] Trial 479 finished with value: 0.9231925156549222 and parameters: {'learning_rate': 0.04333135150050631, 'feature_fraction': 0.4226380056979225, 'n_estimators': 2110, 'max_depth': 14, 'lambda_l1': 4.373890183585918, 'lambda_l2': 0.0050595444096254195, 'num_boost_round': 36}. Best is trial 452 with value: 0.9256627859438993.\n"
     ]
    },
    {
     "name": "stdout",
     "output_type": "stream",
     "text": [
      "Fold 0, AUC-ROC: 0.90932\n",
      "Fold 1, AUC-ROC: 0.93412\n",
      "Fold 2, AUC-ROC: 0.93544\n",
      "Fold 3, AUC-ROC: 0.91390\n",
      "CV AUC-ROC: 0.92319\n"
     ]
    },
    {
     "name": "stderr",
     "output_type": "stream",
     "text": [
      "100%|██████████| 4/4 [02:53<00:00, 43.36s/it]\n",
      "[I 2025-03-14 03:55:08,565] Trial 480 finished with value: 0.9224186952849036 and parameters: {'learning_rate': 0.05550686120555254, 'feature_fraction': 0.4354740757382113, 'n_estimators': 2192, 'max_depth': 14, 'lambda_l1': 6.363328939176885, 'lambda_l2': 4.758460865808146, 'num_boost_round': 33}. Best is trial 452 with value: 0.9256627859438993.\n"
     ]
    },
    {
     "name": "stdout",
     "output_type": "stream",
     "text": [
      "Fold 0, AUC-ROC: 0.90712\n",
      "Fold 1, AUC-ROC: 0.93484\n",
      "Fold 2, AUC-ROC: 0.93449\n",
      "Fold 3, AUC-ROC: 0.91323\n",
      "CV AUC-ROC: 0.92242\n"
     ]
    },
    {
     "name": "stderr",
     "output_type": "stream",
     "text": [
      "100%|██████████| 4/4 [03:01<00:00, 45.46s/it]\n",
      "[I 2025-03-14 03:58:11,271] Trial 481 finished with value: 0.9224120197372816 and parameters: {'learning_rate': 0.03763950818428388, 'feature_fraction': 0.41254646950070795, 'n_estimators': 1926, 'max_depth': 13, 'lambda_l1': 3.5869405232215454, 'lambda_l2': 3.2180734028333036, 'num_boost_round': 43}. Best is trial 452 with value: 0.9256627859438993.\n"
     ]
    },
    {
     "name": "stdout",
     "output_type": "stream",
     "text": [
      "Fold 0, AUC-ROC: 0.90745\n",
      "Fold 1, AUC-ROC: 0.93513\n",
      "Fold 2, AUC-ROC: 0.93501\n",
      "Fold 3, AUC-ROC: 0.91206\n",
      "CV AUC-ROC: 0.92241\n"
     ]
    },
    {
     "name": "stderr",
     "output_type": "stream",
     "text": [
      "100%|██████████| 4/4 [03:13<00:00, 48.46s/it]\n",
      "[I 2025-03-14 04:01:26,032] Trial 482 finished with value: 0.9192055114084103 and parameters: {'learning_rate': 0.032633654941954436, 'feature_fraction': 0.4002829003343505, 'n_estimators': 2013, 'max_depth': 14, 'lambda_l1': 17.98117234511, 'lambda_l2': 1.839505777740529, 'num_boost_round': 63}. Best is trial 452 with value: 0.9256627859438993.\n"
     ]
    },
    {
     "name": "stdout",
     "output_type": "stream",
     "text": [
      "Fold 0, AUC-ROC: 0.90446\n",
      "Fold 1, AUC-ROC: 0.93159\n",
      "Fold 2, AUC-ROC: 0.93025\n",
      "Fold 3, AUC-ROC: 0.91052\n",
      "CV AUC-ROC: 0.91921\n"
     ]
    },
    {
     "name": "stderr",
     "output_type": "stream",
     "text": [
      "100%|██████████| 4/4 [03:18<00:00, 49.71s/it]\n",
      "[I 2025-03-14 04:04:45,777] Trial 483 finished with value: 0.9234723841274498 and parameters: {'learning_rate': 0.03916062942066952, 'feature_fraction': 0.4163266891338218, 'n_estimators': 2096, 'max_depth': 15, 'lambda_l1': 1.7117382767541076, 'lambda_l2': 2.000253245369424, 'num_boost_round': 38}. Best is trial 452 with value: 0.9256627859438993.\n"
     ]
    },
    {
     "name": "stdout",
     "output_type": "stream",
     "text": [
      "Fold 0, AUC-ROC: 0.90934\n",
      "Fold 1, AUC-ROC: 0.93644\n",
      "Fold 2, AUC-ROC: 0.93402\n",
      "Fold 3, AUC-ROC: 0.91409\n",
      "CV AUC-ROC: 0.92347\n"
     ]
    },
    {
     "name": "stderr",
     "output_type": "stream",
     "text": [
      "100%|██████████| 4/4 [03:14<00:00, 48.64s/it]\n",
      "[I 2025-03-14 04:08:01,349] Trial 484 finished with value: 0.9220370332376332 and parameters: {'learning_rate': 0.03096535356699757, 'feature_fraction': 0.4280286272332893, 'n_estimators': 1855, 'max_depth': 12, 'lambda_l1': 8.90555548503136, 'lambda_l2': 0.0544726590839461, 'num_boost_round': 41}. Best is trial 452 with value: 0.9256627859438993.\n"
     ]
    },
    {
     "name": "stdout",
     "output_type": "stream",
     "text": [
      "Fold 0, AUC-ROC: 0.90688\n",
      "Fold 1, AUC-ROC: 0.93419\n",
      "Fold 2, AUC-ROC: 0.93399\n",
      "Fold 3, AUC-ROC: 0.91308\n",
      "CV AUC-ROC: 0.92204\n"
     ]
    },
    {
     "name": "stderr",
     "output_type": "stream",
     "text": [
      "100%|██████████| 4/4 [02:50<00:00, 42.63s/it]\n",
      "[I 2025-03-14 04:10:52,846] Trial 485 finished with value: 0.9207228916586153 and parameters: {'learning_rate': 0.050389414266414925, 'feature_fraction': 0.4080859900864488, 'n_estimators': 2155, 'max_depth': 14, 'lambda_l1': 0.04586221436298232, 'lambda_l2': 8.653636707509095, 'num_boost_round': 48}. Best is trial 452 with value: 0.9256627859438993.\n"
     ]
    },
    {
     "name": "stdout",
     "output_type": "stream",
     "text": [
      "Fold 0, AUC-ROC: 0.90763\n",
      "Fold 1, AUC-ROC: 0.93349\n",
      "Fold 2, AUC-ROC: 0.93128\n",
      "Fold 3, AUC-ROC: 0.91050\n",
      "CV AUC-ROC: 0.92072\n"
     ]
    },
    {
     "name": "stderr",
     "output_type": "stream",
     "text": [
      "100%|██████████| 4/4 [03:48<00:00, 57.01s/it]\n",
      "[I 2025-03-14 04:14:41,891] Trial 486 finished with value: 0.9218511882739615 and parameters: {'learning_rate': 0.034263836559351835, 'feature_fraction': 0.4417062724953315, 'n_estimators': 2283, 'max_depth': 8, 'lambda_l1': 5.5559509801065285, 'lambda_l2': 4.754837519653792, 'num_boost_round': 45}. Best is trial 452 with value: 0.9256627859438993.\n"
     ]
    },
    {
     "name": "stdout",
     "output_type": "stream",
     "text": [
      "Fold 0, AUC-ROC: 0.90855\n",
      "Fold 1, AUC-ROC: 0.93571\n",
      "Fold 2, AUC-ROC: 0.93264\n",
      "Fold 3, AUC-ROC: 0.91051\n",
      "CV AUC-ROC: 0.92185\n"
     ]
    },
    {
     "name": "stderr",
     "output_type": "stream",
     "text": [
      "100%|██████████| 4/4 [02:55<00:00, 43.82s/it]\n",
      "[I 2025-03-14 04:17:38,082] Trial 487 finished with value: 0.9238917061242625 and parameters: {'learning_rate': 0.045273682417325406, 'feature_fraction': 0.4188006248810947, 'n_estimators': 2025, 'max_depth': 13, 'lambda_l1': 3.785170842024265, 'lambda_l2': 0.014455238916158186, 'num_boost_round': 36}. Best is trial 452 with value: 0.9256627859438993.\n"
     ]
    },
    {
     "name": "stdout",
     "output_type": "stream",
     "text": [
      "Fold 0, AUC-ROC: 0.91043\n",
      "Fold 1, AUC-ROC: 0.93625\n",
      "Fold 2, AUC-ROC: 0.93650\n",
      "Fold 3, AUC-ROC: 0.91238\n",
      "CV AUC-ROC: 0.92389\n"
     ]
    },
    {
     "name": "stderr",
     "output_type": "stream",
     "text": [
      "100%|██████████| 4/4 [03:03<00:00, 45.76s/it]\n",
      "[I 2025-03-14 04:20:42,004] Trial 488 finished with value: 0.9217640333361518 and parameters: {'learning_rate': 0.04489288439832801, 'feature_fraction': 0.4168852265909824, 'n_estimators': 1979, 'max_depth': 13, 'lambda_l1': 10.451486373714978, 'lambda_l2': 3.2360839927376506, 'num_boost_round': 34}. Best is trial 452 with value: 0.9256627859438993.\n"
     ]
    },
    {
     "name": "stdout",
     "output_type": "stream",
     "text": [
      "Fold 0, AUC-ROC: 0.90657\n",
      "Fold 1, AUC-ROC: 0.93522\n",
      "Fold 2, AUC-ROC: 0.93428\n",
      "Fold 3, AUC-ROC: 0.91098\n",
      "CV AUC-ROC: 0.92176\n"
     ]
    },
    {
     "name": "stderr",
     "output_type": "stream",
     "text": [
      "100%|██████████| 4/4 [02:54<00:00, 43.53s/it]\n",
      "[I 2025-03-14 04:23:37,163] Trial 489 finished with value: 0.9212236905033402 and parameters: {'learning_rate': 0.0580956983281583, 'feature_fraction': 0.4061000881173188, 'n_estimators': 1912, 'max_depth': 13, 'lambda_l1': 6.702370112372182, 'lambda_l2': 6.3775698434205745, 'num_boost_round': 36}. Best is trial 452 with value: 0.9256627859438993.\n"
     ]
    },
    {
     "name": "stdout",
     "output_type": "stream",
     "text": [
      "Fold 0, AUC-ROC: 0.90664\n",
      "Fold 1, AUC-ROC: 0.93406\n",
      "Fold 2, AUC-ROC: 0.93344\n",
      "Fold 3, AUC-ROC: 0.91075\n",
      "CV AUC-ROC: 0.92122\n"
     ]
    },
    {
     "name": "stderr",
     "output_type": "stream",
     "text": [
      "100%|██████████| 4/4 [02:53<00:00, 43.39s/it]\n",
      "[I 2025-03-14 04:26:31,677] Trial 490 finished with value: 0.9230634731250144 and parameters: {'learning_rate': 0.04800644226497561, 'feature_fraction': 0.4239275510502689, 'n_estimators': 2415, 'max_depth': 13, 'lambda_l1': 3.805137889585719, 'lambda_l2': 1.7239531691645182, 'num_boost_round': 32}. Best is trial 452 with value: 0.9256627859438993.\n"
     ]
    },
    {
     "name": "stdout",
     "output_type": "stream",
     "text": [
      "Fold 0, AUC-ROC: 0.91058\n",
      "Fold 1, AUC-ROC: 0.93508\n",
      "Fold 2, AUC-ROC: 0.93473\n",
      "Fold 3, AUC-ROC: 0.91186\n",
      "CV AUC-ROC: 0.92306\n"
     ]
    },
    {
     "name": "stderr",
     "output_type": "stream",
     "text": [
      "100%|██████████| 4/4 [03:23<00:00, 50.89s/it]\n",
      "[I 2025-03-14 04:29:56,125] Trial 491 finished with value: 0.9230596025978514 and parameters: {'learning_rate': 0.040198968023996105, 'feature_fraction': 0.41307634242862945, 'n_estimators': 2038, 'max_depth': 13, 'lambda_l1': 4.6856866018514465, 'lambda_l2': 1.8777624398048545, 'num_boost_round': 35}. Best is trial 452 with value: 0.9256627859438993.\n"
     ]
    },
    {
     "name": "stdout",
     "output_type": "stream",
     "text": [
      "Fold 0, AUC-ROC: 0.90840\n",
      "Fold 1, AUC-ROC: 0.93532\n",
      "Fold 2, AUC-ROC: 0.93540\n",
      "Fold 3, AUC-ROC: 0.91313\n",
      "CV AUC-ROC: 0.92306\n"
     ]
    },
    {
     "name": "stderr",
     "output_type": "stream",
     "text": [
      "100%|██████████| 4/4 [02:26<00:00, 36.69s/it]\n",
      "[I 2025-03-14 04:32:23,871] Trial 492 finished with value: 0.9226377459989243 and parameters: {'learning_rate': 0.0670203424160684, 'feature_fraction': 0.40015457987429104, 'n_estimators': 2212, 'max_depth': 11, 'lambda_l1': 7.852839145375775, 'lambda_l2': 0.036653799235869255, 'num_boost_round': 37}. Best is trial 452 with value: 0.9256627859438993.\n"
     ]
    },
    {
     "name": "stdout",
     "output_type": "stream",
     "text": [
      "Fold 0, AUC-ROC: 0.90718\n",
      "Fold 1, AUC-ROC: 0.93607\n",
      "Fold 2, AUC-ROC: 0.93477\n",
      "Fold 3, AUC-ROC: 0.91253\n",
      "CV AUC-ROC: 0.92264\n"
     ]
    },
    {
     "name": "stderr",
     "output_type": "stream",
     "text": [
      "100%|██████████| 4/4 [02:05<00:00, 31.30s/it]\n",
      "[I 2025-03-14 04:34:30,109] Trial 493 finished with value: 0.9220143642699672 and parameters: {'learning_rate': 0.04516596510149687, 'feature_fraction': 0.6199321506869867, 'n_estimators': 2079, 'max_depth': 12, 'lambda_l1': 2.9269238975296226, 'lambda_l2': 3.93829396491301, 'num_boost_round': 34}. Best is trial 452 with value: 0.9256627859438993.\n"
     ]
    },
    {
     "name": "stdout",
     "output_type": "stream",
     "text": [
      "Fold 0, AUC-ROC: 0.90595\n",
      "Fold 1, AUC-ROC: 0.93561\n",
      "Fold 2, AUC-ROC: 0.93389\n",
      "Fold 3, AUC-ROC: 0.91261\n",
      "CV AUC-ROC: 0.92201\n"
     ]
    },
    {
     "name": "stderr",
     "output_type": "stream",
     "text": [
      "100%|██████████| 4/4 [02:54<00:00, 43.53s/it]\n",
      "[I 2025-03-14 04:37:25,156] Trial 494 finished with value: 0.9242196911907131 and parameters: {'learning_rate': 0.037177243478223175, 'feature_fraction': 0.41339959763650996, 'n_estimators': 1947, 'max_depth': 13, 'lambda_l1': 1.6738001535534432, 'lambda_l2': 0.017074171987603068, 'num_boost_round': 39}. Best is trial 452 with value: 0.9256627859438993.\n"
     ]
    },
    {
     "name": "stdout",
     "output_type": "stream",
     "text": [
      "Fold 0, AUC-ROC: 0.90973\n",
      "Fold 1, AUC-ROC: 0.93607\n",
      "Fold 2, AUC-ROC: 0.93606\n",
      "Fold 3, AUC-ROC: 0.91502\n",
      "CV AUC-ROC: 0.92422\n"
     ]
    },
    {
     "name": "stderr",
     "output_type": "stream",
     "text": [
      "100%|██████████| 4/4 [03:11<00:00, 47.75s/it]\n",
      "[I 2025-03-14 04:40:37,167] Trial 495 finished with value: 0.9225391471038045 and parameters: {'learning_rate': 0.03716968693510111, 'feature_fraction': 0.40703158738853373, 'n_estimators': 1831, 'max_depth': 13, 'lambda_l1': 1.7220073586855156, 'lambda_l2': 3.2702582769169437, 'num_boost_round': 39}. Best is trial 452 with value: 0.9256627859438993.\n"
     ]
    },
    {
     "name": "stdout",
     "output_type": "stream",
     "text": [
      "Fold 0, AUC-ROC: 0.91028\n",
      "Fold 1, AUC-ROC: 0.93443\n",
      "Fold 2, AUC-ROC: 0.93381\n",
      "Fold 3, AUC-ROC: 0.91164\n",
      "CV AUC-ROC: 0.92254\n"
     ]
    },
    {
     "name": "stderr",
     "output_type": "stream",
     "text": [
      "100%|██████████| 4/4 [02:57<00:00, 44.34s/it]\n",
      "[I 2025-03-14 04:43:35,547] Trial 496 finished with value: 0.9216911466692066 and parameters: {'learning_rate': 0.0340724696449253, 'feature_fraction': 0.4125163387022314, 'n_estimators': 1716, 'max_depth': 12, 'lambda_l1': 1.6937922658262723, 'lambda_l2': 5.367629291742229, 'num_boost_round': 43}. Best is trial 452 with value: 0.9256627859438993.\n"
     ]
    },
    {
     "name": "stdout",
     "output_type": "stream",
     "text": [
      "Fold 0, AUC-ROC: 0.90926\n",
      "Fold 1, AUC-ROC: 0.93246\n",
      "Fold 2, AUC-ROC: 0.93223\n",
      "Fold 3, AUC-ROC: 0.91281\n",
      "CV AUC-ROC: 0.92169\n"
     ]
    },
    {
     "name": "stderr",
     "output_type": "stream",
     "text": [
      "100%|██████████| 4/4 [03:08<00:00, 47.02s/it]\n",
      "[I 2025-03-14 04:46:44,655] Trial 497 finished with value: 0.9224689247957203 and parameters: {'learning_rate': 0.03140491066838437, 'feature_fraction': 0.4320045529678654, 'n_estimators': 1772, 'max_depth': 13, 'lambda_l1': 0.17731386445312625, 'lambda_l2': 1.9982665770296693, 'num_boost_round': 40}. Best is trial 452 with value: 0.9256627859438993.\n"
     ]
    },
    {
     "name": "stdout",
     "output_type": "stream",
     "text": [
      "Fold 0, AUC-ROC: 0.91192\n",
      "Fold 1, AUC-ROC: 0.93238\n",
      "Fold 2, AUC-ROC: 0.93269\n",
      "Fold 3, AUC-ROC: 0.91288\n",
      "CV AUC-ROC: 0.92247\n"
     ]
    },
    {
     "name": "stderr",
     "output_type": "stream",
     "text": [
      "100%|██████████| 4/4 [03:05<00:00, 46.42s/it]\n",
      "[I 2025-03-14 04:49:51,238] Trial 498 finished with value: 0.9222434379885818 and parameters: {'learning_rate': 0.037753268937009296, 'feature_fraction': 0.4091208217620358, 'n_estimators': 1913, 'max_depth': 14, 'lambda_l1': 6.005236547044152, 'lambda_l2': 1.8001292346747897, 'num_boost_round': 45}. Best is trial 452 with value: 0.9256627859438993.\n"
     ]
    },
    {
     "name": "stdout",
     "output_type": "stream",
     "text": [
      "Fold 0, AUC-ROC: 0.90794\n",
      "Fold 1, AUC-ROC: 0.93381\n",
      "Fold 2, AUC-ROC: 0.93411\n",
      "Fold 3, AUC-ROC: 0.91311\n",
      "CV AUC-ROC: 0.92224\n"
     ]
    },
    {
     "name": "stderr",
     "output_type": "stream",
     "text": [
      "100%|██████████| 4/4 [03:20<00:00, 50.03s/it]\n",
      "[I 2025-03-14 04:53:12,369] Trial 499 finished with value: 0.9225167484732583 and parameters: {'learning_rate': 0.03012282659966281, 'feature_fraction': 0.4061660575523601, 'n_estimators': 1878, 'max_depth': 13, 'lambda_l1': 3.5573191514829827, 'lambda_l2': 3.844250259062087, 'num_boost_round': 38}. Best is trial 452 with value: 0.9256627859438993.\n"
     ]
    },
    {
     "name": "stdout",
     "output_type": "stream",
     "text": [
      "Fold 0, AUC-ROC: 0.90911\n",
      "Fold 1, AUC-ROC: 0.93448\n",
      "Fold 2, AUC-ROC: 0.93458\n",
      "Fold 3, AUC-ROC: 0.91190\n",
      "CV AUC-ROC: 0.92252\n"
     ]
    },
    {
     "data": {
      "text/plain": [
       "({'learning_rate': 0.03073775816915715,\n",
       "  'feature_fraction': 0.4113379114637828,\n",
       "  'n_estimators': 2168,\n",
       "  'max_depth': 13,\n",
       "  'lambda_l1': 1.7393414529389066,\n",
       "  'lambda_l2': 0.02428271022480627,\n",
       "  'num_boost_round': 45},\n",
       " 0.9256627859438993)"
      ]
     },
     "execution_count": 52,
     "metadata": {},
     "output_type": "execute_result"
    }
   ],
   "source": [
    "import optuna\n",
    "study = optuna.create_study(direction=\"maximize\")\n",
    "study.optimize(objective_lightgbm, n_trials=500)\n",
    "study.best_params, study.best_value"
   ]
  },
  {
   "cell_type": "code",
   "execution_count": 53,
   "metadata": {},
   "outputs": [
    {
     "data": {
      "text/plain": [
       "({'learning_rate': 0.03073775816915715,\n",
       "  'feature_fraction': 0.4113379114637828,\n",
       "  'n_estimators': 2168,\n",
       "  'max_depth': 13,\n",
       "  'lambda_l1': 1.7393414529389066,\n",
       "  'lambda_l2': 0.02428271022480627,\n",
       "  'num_boost_round': 45},\n",
       " 0.9256627859438993)"
      ]
     },
     "execution_count": 53,
     "metadata": {},
     "output_type": "execute_result"
    }
   ],
   "source": [
    "study.best_params, study.best_value"
   ]
  },
  {
   "cell_type": "code",
   "execution_count": null,
   "metadata": {},
   "outputs": [
    {
     "name": "stderr",
     "output_type": "stream",
     "text": [
      "100%|██████████| 4/4 [03:13<00:00, 48.40s/it]"
     ]
    },
    {
     "name": "stdout",
     "output_type": "stream",
     "text": [
      "Fold 0, AUC-ROC: 0.89485\n",
      "Fold 1, AUC-ROC: 0.92254\n",
      "Fold 2, AUC-ROC: 0.92355\n",
      "Fold 3, AUC-ROC: 0.89915\n",
      "CV AUC-ROC: 0.91002\n"
     ]
    },
    {
     "name": "stderr",
     "output_type": "stream",
     "text": [
      "\n"
     ]
    }
   ],
   "source": [
    "best_params = {'learning_rate': 0.03073775816915715,\n",
    "  'feature_fraction': 0.4113379114637828,\n",
    "  'n_estimators': 2168,\n",
    "  'max_depth': 13,\n",
    "  'lambda_l1': 1.7393414529389066,\n",
    "  'lambda_l2': 0.02428271022480627,\n",
    "  'num_boost_round': 45}\n",
    "\n",
    "\n",
    "\n",
    "pipe = LightGBMpipe(df_train=df_train, df_test=df_test, model_params=best_params)\n",
    "pipe.fit()\n",
    "pipe.save_predict('best_params_lightGBM_33hours')"
   ]
  },
  {
   "cell_type": "code",
   "execution_count": 55,
   "metadata": {},
   "outputs": [
    {
     "name": "stderr",
     "output_type": "stream",
     "text": [
      "100%|██████████| 4/4 [02:55<00:00, 43.91s/it]"
     ]
    },
    {
     "name": "stdout",
     "output_type": "stream",
     "text": [
      "Fold 0, AUC-ROC: 0.89277\n",
      "Fold 1, AUC-ROC: 0.92144\n",
      "Fold 2, AUC-ROC: 0.92317\n",
      "Fold 3, AUC-ROC: 0.90048\n",
      "CV AUC-ROC: 0.90946\n"
     ]
    },
    {
     "name": "stderr",
     "output_type": "stream",
     "text": [
      "\n"
     ]
    }
   ],
   "source": [
    "best_params2 = {'learning_rate': 0.028302997383156236, 'feature_fraction': 0.41520061626400007, 'n_estimators': 1910, 'max_depth': 14, 'lambda_l1': 3.965000680369279, 'lambda_l2': 0.05169416536383464, 'num_boost_round': 43}\n",
    "pipe = LightGBMpipe(df_train=df_train, df_test=df_test, model_params=best_params2)\n",
    "pipe.fit()\n",
    "pipe.save_predict('best_params_lightGBM_33hours_2')"
   ]
  },
  {
   "cell_type": "code",
   "execution_count": 6,
   "metadata": {},
   "outputs": [],
   "source": [
    "# baseline: 0.92094\n",
    "params = {\n",
    "            'objective': 'binary',\n",
    "            'boosting_type': 'gbdt',\n",
    "            'metric': 'auc',\n",
    "            'n_jobs': -1,\n",
    "            'n_estimators': 2200,\n",
    "            'seed': 13,\n",
    "            'early_stopping_rounds': 200,\n",
    "            'verbosity': -1,\n",
    "            # 'num_boost_round': 43\n",
    "        }\n",
    "# pipe = LightGBMpipe(df_train=df_train, df_test=df_test, model_params=params)\n",
    "# pipe.fit()\n",
    "pipe.save_predict('default__')"
   ]
  },
  {
   "cell_type": "code",
   "execution_count": null,
   "metadata": {},
   "outputs": [],
   "source": []
  },
  {
   "cell_type": "code",
   "execution_count": null,
   "metadata": {},
   "outputs": [],
   "source": []
  },
  {
   "cell_type": "code",
   "execution_count": null,
   "metadata": {},
   "outputs": [],
   "source": []
  },
  {
   "cell_type": "code",
   "execution_count": null,
   "metadata": {},
   "outputs": [],
   "source": []
  },
  {
   "cell_type": "code",
   "execution_count": null,
   "metadata": {},
   "outputs": [],
   "source": []
  }
 ],
 "metadata": {
  "kernelspec": {
   "display_name": "venv",
   "language": "python",
   "name": "python3"
  },
  "language_info": {
   "codemirror_mode": {
    "name": "ipython",
    "version": 3
   },
   "file_extension": ".py",
   "mimetype": "text/x-python",
   "name": "python",
   "nbconvert_exporter": "python",
   "pygments_lexer": "ipython3",
   "version": "3.10.15"
  }
 },
 "nbformat": 4,
 "nbformat_minor": 2
}
